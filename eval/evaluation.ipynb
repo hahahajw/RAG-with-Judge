{
 "cells": [
  {
   "cell_type": "code",
   "execution_count": 1,
   "id": "f9e875dd",
   "metadata": {},
   "outputs": [],
   "source": [
    "from metrics.em_f1 import evaluation as em_f1_eval\n",
    "from run_qa import get_qa_pair"
   ]
  },
  {
   "cell_type": "code",
   "execution_count": 2,
   "id": "159ea06f",
   "metadata": {},
   "outputs": [],
   "source": [
    "from langchain_openai import ChatOpenAI, OpenAIEmbeddings\n",
    "from dotenv import load_dotenv\n",
    "import os\n",
    "\n",
    "load_dotenv()\n",
    "\n",
    "llm = ChatOpenAI(\n",
    "    api_key=os.getenv(\"BL_API_KEY\"),\n",
    "    base_url=os.getenv(\"BL_BASE_URL\"),\n",
    "    model='qwen-max-latest',\n",
    "    # model='qwen-max-2025-01-25',\n",
    "    # model='qwen2.5-7b-instruct',  # 小模型会有同样的效果吗  ->  不太好\n",
    "    temperature=0.0\n",
    ")\n",
    "\n",
    "embed_model = OpenAIEmbeddings(\n",
    "    api_key=os.getenv(\"BL_API_KEY\"),\n",
    "    base_url=os.getenv(\"BL_BASE_URL\"),\n",
    "    model=\"text-embedding-v3\",\n",
    "    dimensions=1024,\n",
    "    check_embedding_ctx_length=False\n",
    ")"
   ]
  },
  {
   "cell_type": "code",
   "execution_count": 3,
   "id": "c42ac89b",
   "metadata": {},
   "outputs": [],
   "source": [
    "# 定义向量数据库\n",
    "from langchain_milvus import Milvus, BM25BuiltInFunction\n",
    "\n",
    "vector_store = Milvus(\n",
    "    collection_name='hybrid_hotpotqa500_hnsw',\n",
    "    embedding_function=embed_model,\n",
    "    builtin_function=BM25BuiltInFunction(output_field_names='sparse'),\n",
    "    vector_field=['dense', 'sparse']\n",
    ")"
   ]
  },
  {
   "cell_type": "markdown",
   "id": "bc98387d",
   "metadata": {},
   "source": [
    "# 测试 LLM only\n",
    "\n",
    "测试数据为 ../data/hotpotqa_test_data_500.json 中的前 100 个问题"
   ]
  },
  {
   "cell_type": "code",
   "execution_count": 8,
   "id": "b59b2bd6",
   "metadata": {},
   "outputs": [
    {
     "name": "stderr",
     "output_type": "stream",
     "text": [
      "\u001b[32m2025-08-04 11:06:00.370\u001b[0m | \u001b[1mINFO    \u001b[0m | \u001b[36mrun_qa\u001b[0m:\u001b[36mextract_questions\u001b[0m:\u001b[36m161\u001b[0m - \u001b[1m加载问题的索引为 [20:100]，共 80 个\u001b[0m\n",
      "回答问题: 100%|██████████| 80/80 [00:52<00:00,  1.51it/s]\n"
     ]
    }
   ],
   "source": [
    "get_qa_pair(\n",
    "    qa_system=llm,\n",
    "    config={},\n",
    "    question_path='../data/hotpotqa_test_data_500.json',\n",
    "    test_size=80,\n",
    "    test_type='continue',\n",
    "    # test_type='new',\n",
    "    qa_res_path='./hotpotqa/llm_only/qa_result_qwen2.5-7b.json'\n",
    ")"
   ]
  },
  {
   "cell_type": "code",
   "execution_count": 9,
   "id": "b906b192",
   "metadata": {},
   "outputs": [
    {
     "name": "stderr",
     "output_type": "stream",
     "text": [
      "\u001b[32m2025-08-04 11:06:54.303\u001b[0m | \u001b[1mINFO    \u001b[0m | \u001b[36mmetrics.em_f1\u001b[0m:\u001b[36mevaluation\u001b[0m:\u001b[36m127\u001b[0m - \u001b[1m加载了 100 个问答对\u001b[0m\n",
      "处理问答对: 100%|██████████| 100/100 [00:00<00:00, 311.74it/s]\n",
      "\u001b[32m2025-08-04 11:06:54.627\u001b[0m | \u001b[1mINFO    \u001b[0m | \u001b[36mmetrics.em_f1\u001b[0m:\u001b[36mevaluation\u001b[0m:\u001b[36m169\u001b[0m - \u001b[1m\n",
      " EM: 0.14 \n",
      " f1: 0.22479761904761905 \n",
      " precision: 0.2312808857808858 \n",
      " recall: 0.23777380952380953\u001b[0m\n"
     ]
    }
   ],
   "source": [
    "em_f1_eval(\n",
    "    qa_res_path='./hotpotqa/llm_only/qa_result_qwen2.5-7b.json',\n",
    "    eval_res_path='./hotpotqa/llm_only/eval_result_qwen2.5-7b.json'\n",
    ")"
   ]
  },
  {
   "cell_type": "markdown",
   "id": "733ccc04",
   "metadata": {},
   "source": [
    "# 测试 Naive RAG\n",
    "\n",
    "测试数据为 ../data/hotpotqa_test_data_500.json 中的前 100 个问题\n",
    "\n",
    "使用单密集检索"
   ]
  },
  {
   "cell_type": "code",
   "execution_count": 8,
   "id": "7a6c4adb",
   "metadata": {},
   "outputs": [],
   "source": [
    "import sys\n",
    "\n",
    "sys.path.append('../')"
   ]
  },
  {
   "cell_type": "code",
   "execution_count": 9,
   "id": "c296a98c",
   "metadata": {},
   "outputs": [],
   "source": [
    "# 获得 Naive RAG 图\n",
    "from naive_rag.workflow import get_naive_rag_workflow\n",
    "from modules.retriever import Retriever\n",
    "\n",
    "from langgraph.checkpoint.memory import MemorySaver\n",
    "\n",
    "# 获得带有短期记忆的 Naive RAG 图\n",
    "memory = MemorySaver()\n",
    "naive_rag_wf = get_naive_rag_workflow()\n",
    "naive_rag = naive_rag_wf.compile(checkpointer=memory)\n",
    "\n",
    "# 定义检索器\n",
    "dense_retriever = Retriever(\n",
    "    vector_store=vector_store,\n",
    "    topk=3,\n",
    "    search_fields=['dense'],\n",
    "    search_type='dense',\n",
    "    search_params=[{'metric_type': 'L2', 'params': {'ef': 21}}],\n",
    ")\n",
    "\n",
    "# 定义运行时配置\n",
    "config = {\n",
    "    'configurable': {\n",
    "        'retriever': dense_retriever,\n",
    "        'llm': llm,\n",
    "        'thread_id': '-1'\n",
    "    }\n",
    "}"
   ]
  },
  {
   "cell_type": "code",
   "execution_count": 14,
   "id": "035f8660",
   "metadata": {},
   "outputs": [
    {
     "name": "stderr",
     "output_type": "stream",
     "text": [
      "\u001b[32m2025-08-04 11:08:30.937\u001b[0m | \u001b[1mINFO    \u001b[0m | \u001b[36mrun_qa\u001b[0m:\u001b[36mextract_questions\u001b[0m:\u001b[36m161\u001b[0m - \u001b[1m加载问题的索引为 [10:100]，共 90 个\u001b[0m\n",
      "回答问题: 100%|██████████| 90/90 [01:15<00:00,  1.18it/s]\n"
     ]
    }
   ],
   "source": [
    "get_qa_pair(\n",
    "    qa_system=naive_rag,\n",
    "    config=config,\n",
    "    question_path='../data/hotpotqa_test_data_500.json',\n",
    "    test_size=90,\n",
    "    test_type='continue',\n",
    "    # test_type='new',\n",
    "    qa_res_path='./hotpotqa/naive_rag/qa_result_qwen2.5-7b.json'\n",
    ")"
   ]
  },
  {
   "cell_type": "code",
   "execution_count": 15,
   "id": "35f47d4a",
   "metadata": {},
   "outputs": [
    {
     "name": "stderr",
     "output_type": "stream",
     "text": [
      "\u001b[32m2025-08-04 11:09:51.657\u001b[0m | \u001b[1mINFO    \u001b[0m | \u001b[36mmetrics.em_f1\u001b[0m:\u001b[36mevaluation\u001b[0m:\u001b[36m127\u001b[0m - \u001b[1m加载了 100 个问答对\u001b[0m\n",
      "处理问答对: 100%|██████████| 100/100 [00:00<00:00, 271.85it/s]\n",
      "\u001b[32m2025-08-04 11:09:52.033\u001b[0m | \u001b[1mINFO    \u001b[0m | \u001b[36mmetrics.em_f1\u001b[0m:\u001b[36mevaluation\u001b[0m:\u001b[36m169\u001b[0m - \u001b[1m\n",
      " EM: 0.29 \n",
      " f1: 0.4253795093795094 \n",
      " precision: 0.4441308674985146 \n",
      " recall: 0.43885714285714283\u001b[0m\n"
     ]
    }
   ],
   "source": [
    "em_f1_eval(\n",
    "    qa_res_path='./hotpotqa/naive_rag/qa_result_qwen2.5-7b.json',\n",
    "    eval_res_path='./hotpotqa/naive_rag/eval_result_qwen2.5-7b.json'\n",
    ")"
   ]
  },
  {
   "cell_type": "markdown",
   "id": "71dff604",
   "metadata": {},
   "source": [
    "测试使用 rerank model 的 Naive RAG\n",
    "\n",
    "测试数据为 ../data/hotpotqa_test_data_500.json 中的前 100 个问题"
   ]
  },
  {
   "cell_type": "code",
   "execution_count": 4,
   "id": "b20a8f3f",
   "metadata": {},
   "outputs": [],
   "source": [
    "import sys\n",
    "\n",
    "sys.path.append('../')"
   ]
  },
  {
   "cell_type": "code",
   "execution_count": 5,
   "id": "7af97231",
   "metadata": {},
   "outputs": [],
   "source": [
    "# 获得 Naive RAG 图\n",
    "from naive_rag.workflow import get_naive_rag_workflow\n",
    "from modules.retriever import Retriever\n",
    "\n",
    "from langgraph.checkpoint.memory import MemorySaver\n",
    "\n",
    "# 获得带有短期记忆的 Naive RAG 图\n",
    "memory = MemorySaver()\n",
    "naive_rag_wf = get_naive_rag_workflow()\n",
    "naive_rag = naive_rag_wf.compile(checkpointer=memory)\n",
    "\n",
    "# 定义检索器\n",
    "rerank_model_retriever = Retriever(\n",
    "    vector_store=vector_store,\n",
    "    topk=3,\n",
    "    search_fields=['dense', 'sparse'],\n",
    "    search_type='hybrid',\n",
    "    search_params=[\n",
    "        {'metric_type': 'L2', 'params': {'ef': 21}},\n",
    "        {'params': {'drop_ratio_search': 0.2}}\n",
    "    ],\n",
    "    ranker_type='model',\n",
    "    ranker_params={\n",
    "        'model_name': 'gte-rerank-v2',\n",
    "        'pre_topk': 10,\n",
    "        'pre_ranker_type': 'rrf',\n",
    "        'pre_ranker_params': {'k': 60}  # 定义粗排所使用的重排序参数，粗排只能使用 weighted 或 rrf\n",
    "    }\n",
    ")\n",
    "\n",
    "# 定义运行时配置\n",
    "config = {\n",
    "    'configurable': {\n",
    "        'retriever': rerank_model_retriever,\n",
    "        'llm': llm,\n",
    "        'thread_id': '-1'\n",
    "    }\n",
    "}"
   ]
  },
  {
   "cell_type": "code",
   "execution_count": 20,
   "id": "e1fe7e61",
   "metadata": {},
   "outputs": [
    {
     "name": "stderr",
     "output_type": "stream",
     "text": [
      "\u001b[32m2025-08-04 11:10:42.583\u001b[0m | \u001b[1mINFO    \u001b[0m | \u001b[36mrun_qa\u001b[0m:\u001b[36mextract_questions\u001b[0m:\u001b[36m161\u001b[0m - \u001b[1m加载问题的索引为 [10:100]，共 90 个\u001b[0m\n",
      "回答问题: 100%|██████████| 90/90 [01:38<00:00,  1.10s/it]\n"
     ]
    }
   ],
   "source": [
    "get_qa_pair(\n",
    "    qa_system=naive_rag,\n",
    "    config=config,\n",
    "    question_path='../data/hotpotqa_test_data_500.json',\n",
    "    test_size=90,\n",
    "    test_type='continue',\n",
    "    # test_type='new',\n",
    "    qa_res_path='./hotpotqa/naive_rag/qa_result_rerank_model_qwen2.5-7b.json'\n",
    ")"
   ]
  },
  {
   "cell_type": "code",
   "execution_count": 21,
   "id": "05b91351",
   "metadata": {},
   "outputs": [
    {
     "name": "stderr",
     "output_type": "stream",
     "text": [
      "\u001b[32m2025-08-04 11:12:21.321\u001b[0m | \u001b[1mINFO    \u001b[0m | \u001b[36mmetrics.em_f1\u001b[0m:\u001b[36mevaluation\u001b[0m:\u001b[36m127\u001b[0m - \u001b[1m加载了 100 个问答对\u001b[0m\n",
      "处理问答对: 100%|██████████| 100/100 [00:00<00:00, 295.13it/s]\n",
      "\u001b[32m2025-08-04 11:12:21.666\u001b[0m | \u001b[1mINFO    \u001b[0m | \u001b[36mmetrics.em_f1\u001b[0m:\u001b[36mevaluation\u001b[0m:\u001b[36m169\u001b[0m - \u001b[1m\n",
      " EM: 0.35 \n",
      " f1: 0.48476479076479073 \n",
      " precision: 0.508361111111111 \n",
      " recall: 0.4945238095238095\u001b[0m\n"
     ]
    }
   ],
   "source": [
    "em_f1_eval(\n",
    "    qa_res_path='./hotpotqa/naive_rag/qa_result_rerank_model_qwen2.5-7b.json',\n",
    "    eval_res_path='./hotpotqa/naive_rag/eval_result_rerank_model_qwen2.5-7b.json'\n",
    ")"
   ]
  },
  {
   "cell_type": "markdown",
   "id": "988b2efe",
   "metadata": {},
   "source": [
    "测试使用 rerank model 的 Naive RAG\n",
    "\n",
    "测试数据为 ../data/hotpotqa_test_data_500.json 中的前 500 个问题"
   ]
  },
  {
   "cell_type": "code",
   "execution_count": 8,
   "id": "ca5d9dda",
   "metadata": {},
   "outputs": [
    {
     "name": "stderr",
     "output_type": "stream",
     "text": [
      "\u001b[32m2025-08-04 16:01:05.724\u001b[0m | \u001b[1mINFO    \u001b[0m | \u001b[36mrun_qa\u001b[0m:\u001b[36mextract_questions\u001b[0m:\u001b[36m161\u001b[0m - \u001b[1m加载问题的索引为 [400:500]，共 100 个\u001b[0m\n",
      "回答问题: 100%|██████████| 100/100 [01:52<00:00,  1.13s/it]\n"
     ]
    }
   ],
   "source": [
    "get_qa_pair(\n",
    "    qa_system=naive_rag,\n",
    "    config=config,\n",
    "    question_path='../data/hotpotqa_test_data_500.json',\n",
    "    test_size=100,\n",
    "    test_type='continue',\n",
    "    # test_type='new',\n",
    "    qa_res_path='./hotpotqa/naive_rag/qa_result_rerank_model_qwenmax0125.json'\n",
    ")"
   ]
  },
  {
   "cell_type": "code",
   "execution_count": 9,
   "id": "e36d1a5d",
   "metadata": {},
   "outputs": [
    {
     "name": "stderr",
     "output_type": "stream",
     "text": [
      "\u001b[32m2025-08-04 16:03:01.457\u001b[0m | \u001b[1mINFO    \u001b[0m | \u001b[36mmetrics.em_f1\u001b[0m:\u001b[36mevaluation\u001b[0m:\u001b[36m127\u001b[0m - \u001b[1m加载了 500 个问答对\u001b[0m\n",
      "处理问答对: 100%|██████████| 500/500 [00:01<00:00, 321.86it/s]\n",
      "\u001b[32m2025-08-04 16:03:03.013\u001b[0m | \u001b[1mINFO    \u001b[0m | \u001b[36mmetrics.em_f1\u001b[0m:\u001b[36mevaluation\u001b[0m:\u001b[36m169\u001b[0m - \u001b[1m\n",
      " EM: 0.492 \n",
      " f1: 0.6454396762107288 \n",
      " precision: 0.6421265215176979 \n",
      " recall: 0.6948523809523809\u001b[0m\n"
     ]
    }
   ],
   "source": [
    "em_f1_eval(\n",
    "    qa_res_path='./hotpotqa/naive_rag/qa_result_rerank_model_qwenmax0125.json',\n",
    "    eval_res_path='./hotpotqa/naive_rag/eval_result_rerank_model_qwenmax0125.json'\n",
    ")"
   ]
  },
  {
   "cell_type": "markdown",
   "id": "6f1cc69d",
   "metadata": {},
   "source": [
    "# 测试 RAG with Judge\n",
    "\n",
    "测试数据为 ../data/hotpotqa_test_data_500.json 中的前 100 个问题\n",
    "\n",
    "使用 rerank model 重排"
   ]
  },
  {
   "cell_type": "code",
   "execution_count": 4,
   "id": "97ffd158",
   "metadata": {},
   "outputs": [],
   "source": [
    "import sys\n",
    "\n",
    "sys.path.append('../')"
   ]
  },
  {
   "cell_type": "code",
   "execution_count": 5,
   "id": "53c346f8",
   "metadata": {},
   "outputs": [],
   "source": [
    "# 获得 RAG with Judge 图\n",
    "from rag_with_judge.workflow import get_rag_with_judge_workflow\n",
    "from modules.retriever import Retriever\n",
    "\n",
    "from langgraph.checkpoint.memory import MemorySaver\n",
    "\n",
    "# 获得带有短期记忆的 RAG with Judge 图\n",
    "memory = MemorySaver()\n",
    "rag_with_judge_wf = get_rag_with_judge_workflow()\n",
    "rag_with_judge = rag_with_judge_wf.compile(checkpointer=memory)\n",
    "\n",
    "# 定义检索器\n",
    "rerank_model_retriever = Retriever(\n",
    "    vector_store=vector_store,\n",
    "    topk=3,\n",
    "    search_fields=['dense', 'sparse'],\n",
    "    search_type='hybrid',\n",
    "    search_params=[\n",
    "        {'metric_type': 'L2', 'params': {'ef': 21}},\n",
    "        {'params': {'drop_ratio_search': 0.2}}\n",
    "    ],\n",
    "    ranker_type='model',\n",
    "    ranker_params={\n",
    "        'model_name': 'gte-rerank-v2',\n",
    "        'pre_topk': 10,\n",
    "        'pre_ranker_type': 'rrf',\n",
    "        'pre_ranker_params': {'k': 60}  # 定义粗排所使用的重排序参数，粗排只能使用 weighted 或 rrf\n",
    "    }\n",
    ")\n",
    "\n",
    "# 定义运行时配置\n",
    "config = {\n",
    "    'configurable': {\n",
    "        'retriever': rerank_model_retriever,\n",
    "        'llm': llm,\n",
    "        'thread_id': '-1',\n",
    "        'graph': rag_with_judge,\n",
    "        'recursion_depth': 0,\n",
    "        'max_rec_depth': 5\n",
    "    }\n",
    "}"
   ]
  },
  {
   "cell_type": "code",
   "execution_count": 39,
   "id": "59a453e2",
   "metadata": {},
   "outputs": [
    {
     "name": "stderr",
     "output_type": "stream",
     "text": [
      "\u001b[32m2025-08-04 12:36:51.952\u001b[0m | \u001b[1mINFO    \u001b[0m | \u001b[36mrun_qa\u001b[0m:\u001b[36mextract_questions\u001b[0m:\u001b[36m161\u001b[0m - \u001b[1m加载问题的索引为 [90:100]，共 10 个\u001b[0m\n",
      "回答问题:   0%|          | 0/10 [00:00<?, ?it/s]"
     ]
    },
    {
     "name": "stderr",
     "output_type": "stream",
     "text": [
      "回答问题:  90%|█████████ | 9/10 [00:26<00:03,  3.00s/it]"
     ]
    },
    {
     "name": "stdout",
     "output_type": "stream",
     "text": [
      "使用 f389b71d-f658-43e5-950a-866ca9f4cbd7 调用 RAG，问题为 迈克尔的祖父作为国王出生在什么日期和哪一年？，当前递归深度为 1\n"
     ]
    },
    {
     "name": "stderr",
     "output_type": "stream",
     "text": [
      "回答问题: 100%|██████████| 10/10 [00:34<00:00,  3.49s/it]\n"
     ]
    }
   ],
   "source": [
    "# 实际使用的是 qwen-max-latest，不然总是容易达到 limit_requests\n",
    "# 两个模型的实际性能也差不多\n",
    "get_qa_pair(\n",
    "    qa_system=rag_with_judge,\n",
    "    config=config,\n",
    "    question_path='../data/hotpotqa_test_data_500.json',\n",
    "    test_size=10,\n",
    "    test_type='continue',\n",
    "    # test_type='new',\n",
    "    qa_res_path='./hotpotqa/rag_with_judge/qa_result_rerank_model_qwen2.5-7b.json'\n",
    ")"
   ]
  },
  {
   "cell_type": "code",
   "execution_count": 6,
   "id": "08b5e2a1",
   "metadata": {},
   "outputs": [
    {
     "name": "stdout",
     "output_type": "stream",
     "text": [
      "使用 b30595c6-babe-4e28-b4a5-9f9e2ff122a2 调用 RAG，问题为 Which Mac OS X version stopped using sparse images for FileVault?，当前递归深度为 1\n",
      "使用 2afcbbc8-c31c-4456-9252-d82b42666daf 调用 RAG，问题为 Which Mac OS X version first used a sparse image with FileVault?，当前递归深度为 1\n",
      "使用 fe1ddb51-55c5-49cd-a05f-07244f1d121e 调用 RAG，问题为 Which Mac OS X version first introduced FileVault with sparse image?，当前递归深度为 2\n",
      "使用 80795283-ac62-4112-bfc0-07dd0a22c67b 调用 RAG，问题为 What Mac OS X version introduced FileVault with sparse image?，当前递归深度为 2\n",
      "使用 1dd66fdc-010d-4790-b629-7ad0a1045a30 调用 RAG，问题为 Which Mac OS X version changed FileVault's storage method?，当前递归深度为 2\n",
      "使用 d3155de7-1ef2-4bf2-8876-0b4d3b761ca5 调用 RAG，问题为 Which Mac OS X version first replaced sparse images with a new FileVault approach?，当前递归深度为 2\n",
      "使用 8ec53a97-7c52-45ff-a874-dfddeacceec8 调用 RAG，问题为 Which Mac OS X version first introduced FileVault with sparse image?，当前递归深度为 3\n",
      "使用 82698748-9620-4d91-acb7-c53aa313ae9c 调用 RAG，问题为 Which Mac OS X version first introduced FileVault with sparse image?，当前递归深度为 3\n",
      "使用 3e8155a0-f485-4dc5-9ccd-c6f55c23396c 调用 RAG，问题为 Which Mac OS X version first used FileVault with sparse image?，当前递归深度为 3\n",
      "使用 07ec3ca9-1a5f-4ff2-88ab-f8c79318ca52 调用 RAG，问题为 Which Mac OS X version introduced FileVault with sparse image?，当前递归深度为 3\n",
      "使用 f18a9b99-07ed-4bd0-935c-1f89d77c9108 调用 RAG，问题为 Which Mac OS X version first used FileVault with sparse image?，当前递归深度为 4\n",
      "使用 85c7933a-84b4-42da-8c2d-fdbc240e8c4a 调用 RAG，问题为 Which Mac OS X version introduced FileVault with sparse image?，当前递归深度为 4\n",
      "使用 c2c5ea2a-8f7d-47b2-bf0e-aec505cb6828 调用 RAG，问题为 Which Mac OS X version first introduced FileVault with sparse image?，当前递归深度为 4\n",
      "使用 9bf1748a-b8cf-48d8-aba0-fdabb7bc53aa 调用 RAG，问题为 What is the first Mac OS X version that introduced FileVault with sparse image?，当前递归深度为 4\n",
      "使用 d4c14e86-5c97-4ebf-8817-dae2b0889736 调用 RAG，问题为 What Mac OS X version introduced changes to FileVault's storage method?，当前递归深度为 3\n",
      "使用 52c90576-ac97-4e25-896d-3633846602d7 调用 RAG，问题为 Which Mac OS X version changed FileVault to use full-disk encryption instead of sparse images?，当前递归深度为 3\n",
      "使用 963dba81-3152-470d-9dd1-4039a3ebd75f 调用 RAG，问题为 Which Mac OS X version introduced the new FileVault approach?，当前递归深度为 3\n",
      "使用 4037a453-c845-4789-9545-9aa3dd30616f 调用 RAG，问题为 What Mac OS X version introduced the change from sparse images to the new FileVault?，当前递归深度为 3\n",
      "使用 828f3aae-7acc-4a2e-a3d2-9b3b9cf9f7bc 调用 RAG，问题为 Which Mac OS X version first used FileVault with sparse image?，当前递归深度为 4\n",
      "使用 a1986beb-2bb9-4e80-8f86-66fd7341b141 调用 RAG，问题为 Which Mac OS X version first used FileVault with sparse image?，当前递归深度为 4\n",
      "使用 2ca74ba6-1083-4217-a637-63399c1fe5a5 调用 RAG，问题为 Which Mac OS X version first used FileVault with sparse images?，当前递归深度为 4使用 410fd3f5-411f-43d5-a5bc-fe132b7625d5 调用 RAG，问题为 Which Mac OS X version introduced FileVault with sparse image?，当前递归深度为 4\n",
      "\n",
      "使用 9c4490ca-11b9-4549-95df-09b0801a6105 调用 RAG，问题为 Which Mac OS X version first used FileVault with sparse images?，当前递归深度为 5\n",
      "使用 b5858e52-2db8-4558-a064-98ac7ea192d7 调用 RAG，问题为 Which Mac OS X version first used FileVault with sparse image?，当前递归深度为 5\n",
      "使用 8f2efc54-086c-405f-a177-8f2886b978bb 调用 RAG，问题为 Which Mac OS X version first introduced FileVault with sparse image?，当前递归深度为 5使用 366cf807-ec56-4b78-9060-3d5e46740888 调用 RAG，问题为 What Mac OS X version first used FileVault with sparse image?，当前递归深度为 5\n",
      "\n",
      "使用 5761f9f6-301e-494d-9376-5d78356d8c35 调用 RAG，问题为 Which Mac OS X version changed FileVault's storage method?，当前递归深度为 4\n",
      "使用 5da1436a-8915-4f18-bdee-9c8889f2eaae 调用 RAG，问题为 Which Mac OS X version first used FileVault with sparse images?，当前递归深度为 5使用 5c3918f4-332e-4e4f-ac70-56fb34adba48 调用 RAG，问题为 Which Mac OS X version first used FileVault with sparse image?，当前递归深度为 5\n",
      "\n",
      "使用 5d2f72ed-cc13-48d4-97e6-226c1c13c35b 调用 RAG，问题为 Which Mac OS X version introduced full-disk encryption in FileVault?，当前递归深度为 4\n",
      "使用 cee283a5-f566-4a6b-a747-867000f0332b 调用 RAG，问题为 Which Mac OS X version introduced full-disk encryption in FileVault?，当前递归深度为 4\n",
      "使用 0a2ee5cb-6b67-4e22-b55f-2fd57803973d 调用 RAG，问题为 Which Mac OS X version first introduced FileVault with sparse image?，当前递归深度为 5\n",
      "使用 630aec28-60f9-4e3e-9b77-340acdaf9342 调用 RAG，问题为 What is the first Mac OS X version that used FileVault with a sparse image?，当前递归深度为 5\n",
      "使用 82f980e9-be96-412c-a954-3bbc88a89d68 调用 RAG，问题为 Which Mac OS X version replaced sparse images with the new FileVault?，当前递归深度为 4\n",
      "使用 aea146b7-a747-4888-96be-8f0e63712e74 调用 RAG，问题为 Which Mac OS X version changed FileVault from sparse images?，当前递归深度为 4\n",
      "使用 9e9d742f-93fe-4b13-b848-36da82ff4406 调用 RAG，问题为 Which Mac OS X version first introduced FileVault with sparse images?，当前递归深度为 5使用 866d0971-7b41-4fc8-ab76-d8e6ffbb3b41 调用 RAG，问题为 Which Mac OS X version introduced FileVault with sparse images?，当前递归深度为 5\n",
      "\n",
      "使用 8c4d283b-2372-4dc0-b5d5-0ed8b9b73a71 调用 RAG，问题为 Which Mac OS X version first used FileVault with sparse image?，当前递归深度为 5\n",
      "使用 81850cdf-bc27-41ab-9af0-33217197a862 调用 RAG，问题为 Which Mac OS X version first used FileVault with sparse image?，当前递归深度为 5\n",
      "使用 2dea8843-a5a3-4d86-b84a-ed60032e20fe 调用 RAG，问题为 Which Mac OS X version first introduced FileVault using sparse image?，当前递归深度为 5\n",
      "使用 baf9a716-0268-4414-bb9c-4c9905e1de40 调用 RAG，问题为 What is the first Mac OS X version using FileVault with sparse image?，当前递归深度为 5\n",
      "使用 0222b206-895a-4f13-9db1-8b9989fe0aa1 调用 RAG，问题为 What Mac OS X version introduced changes to FileVault's storage method?，当前递归深度为 5使用 683f2ee9-8d33-449f-971e-9fb5f5c58b01 调用 RAG，问题为 Which Mac OS X version replaced FileVault's sparse image storage with a new method?，当前递归深度为 5\n",
      "\n",
      "使用 d4be2224-7412-4907-b132-00b74db76904 调用 RAG，问题为 Which Mac OS X version first introduced FileVault using sparse images?，当前递归深度为 5\n",
      "使用 f8c5796d-0da1-4b35-8985-7bf4cfad8332 调用 RAG，问题为 Which Mac OS X version introduced FileVault with sparse image?，当前递归深度为 5\n",
      "使用 1a79a2fb-03ee-4fa2-87ae-50d83816c090 调用 RAG，问题为 Which Mac OS X version replaced sparse images in FileVault?，当前递归深度为 5\n",
      "使用 23b5dd8a-a365-4c84-89b9-0cf4c6b8ef32 调用 RAG，问题为 Which Mac OS X version introduced changes to FileVault from sparse images?，当前递归深度为 5\n"
     ]
    },
    {
     "data": {
      "text/plain": [
       "{'messages': [SystemMessage(content='You are a RAG Q&A assistant that operates strictly according to the following rules:\\n1. Use only the knowledge provided by the user to answer questions, including the retrieved raw knowledge snippets and the added Q&A pairs (the **answer part is considered supplementary knowledge**, and only the content of the answer should be used). Do not use any external knowledge.\\n2. If there is no information in all the knowledge (raw snippets + answers from Q&A pairs) that can answer the question, you must respond with \"I cannot answer this question.\"\\n3. The response must be concise and direct: output only the final answer, without explanations, references to the knowledge, or polite language.\\n4. If the knowledge is irrelevant to the question, immediately trigger rule 2.', additional_kwargs={}, response_metadata={}, id='346f621f-b60b-43cd-b3f0-961e1b1d289b'),\n",
       "  HumanMessage(content=\"[Knowledge]\\nknowledge 0: A sparse image is a type of disk image file used on macOS that grows in size as the user adds data to the image, taking up only as much disk space as stored in it. Encrypted sparse image files are used to secure a user's home directory by the FileVault feature in Mac OS X Snow Leopard and earlier. Sparse images can be created using Disk Utility.\\n[question]: Which Mac OS X version stopped using sparse images for FileVault?\\n[answer]: Mac OS X 10.7 (Lion)\\n\\nknowledge 1: FileVault is a disk encryption program in Mac OS X 10.3 and later. It performs on-the-fly encryption with volumes on Mac computers.\\n[question]: Which Mac OS X version first used a sparse image with FileVault?\\n[answer]: Mac OS X 10.3\\n\\nknowledge 2: Mac OS X version 10.1, code named Puma, is the second major release of Mac OS X (now named macOS), Apple's desktop and server operating system. It superseded Mac OS X 10.0 and preceded Mac OS X 10.2. Version 10.1 was released on September 25, 2001 as a free update for Mac OS X 10.0 users.\\n\\n[question]\\nA sparse image is used by the FileVault feature in Mac OS X in versions later than which?\", additional_kwargs={}, response_metadata={}, id='411b3259-1c05-443b-832a-5c285cbff6b2'),\n",
       "  AIMessage(content='Mac OS X 10.2', additional_kwargs={'refusal': None}, response_metadata={'token_usage': {'completion_tokens': 8, 'prompt_tokens': 464, 'total_tokens': 472, 'completion_tokens_details': None, 'prompt_tokens_details': None}, 'model_name': 'qwen-max-latest', 'system_fingerprint': None, 'finish_reason': 'stop', 'logprobs': None}, id='run-facd106f-415b-4974-bf1b-286c9e553fec-0', usage_metadata={'input_tokens': 464, 'output_tokens': 8, 'total_tokens': 472, 'input_token_details': {}, 'output_token_details': {}})],\n",
       " 'query': 'A sparse image is used by the FileVault feature in Mac OS X in versions later than which?',\n",
       " 'similar_chunks': [Document(metadata={'page': 0, 'source': 'HotpotQA_Sparse image_5ae72c7d5542991e8301cb91', 'question': 'A sparse image is used by the FileVault feature in Mac OS X in versions later than which?', 'title': 'Sparse image', 'dataset': 'HotpotQA', 'pk': '321002cd-0039-49f1-a57b-84828ff24c20', 'start_index': 0, 'hotpotqa_id': '5ae72c7d5542991e8301cb91', 'recursion_depth': 0, 'next_rag_thread_id': 'b30595c6-babe-4e28-b4a5-9f9e2ff122a2', 'score': 1, 'reason': 'Knowledge misses version details.', 'next_query': 'Which Mac OS X version stopped using sparse images for FileVault?'}, page_content=\"A sparse image is a type of disk image file used on macOS that grows in size as the user adds data to the image, taking up only as much disk space as stored in it. Encrypted sparse image files are used to secure a user's home directory by the FileVault feature in Mac OS X Snow Leopard and earlier. Sparse images can be created using Disk Utility.\\n[question]: Which Mac OS X version stopped using sparse images for FileVault?\\n[answer]: Mac OS X 10.7 (Lion)\\n\"),\n",
       "  Document(metadata={'page': 0, 'source': 'HotpotQA_FileVault_5ae72c7d5542991e8301cb91', 'question': 'A sparse image is used by the FileVault feature in Mac OS X in versions later than which?', 'title': 'FileVault', 'dataset': 'HotpotQA', 'pk': '1e461e37-a0ad-4d8f-b6dd-0fbad47e78b6', 'start_index': 0, 'hotpotqa_id': '5ae72c7d5542991e8301cb91', 'recursion_depth': 0, 'next_rag_thread_id': '2afcbbc8-c31c-4456-9252-d82b42666daf', 'score': 1, 'reason': 'Knowledge lacks version details.', 'next_query': 'Which Mac OS X version first used a sparse image with FileVault?'}, page_content='FileVault is a disk encryption program in Mac OS X 10.3 and later. It performs on-the-fly encryption with volumes on Mac computers.\\n[question]: Which Mac OS X version first used a sparse image with FileVault?\\n[answer]: Mac OS X 10.3\\n'),\n",
       "  Document(metadata={'page': 0, 'source': 'HotpotQA_Mac OS X 10.1_5ae72c7d5542991e8301cb91', 'question': 'A sparse image is used by the FileVault feature in Mac OS X in versions later than which?', 'title': 'Mac OS X 10.1', 'dataset': 'HotpotQA', 'pk': 'a8dd2c4e-25f3-412d-af9d-a94b25d16043', 'start_index': 0, 'hotpotqa_id': '5ae72c7d5542991e8301cb91', 'recursion_depth': 0, 'next_rag_thread_id': '', 'score': 0, 'reason': 'Knowledge unrelated to FileVault versions', 'next_query': ''}, page_content=\"Mac OS X version 10.1, code named Puma, is the second major release of Mac OS X (now named macOS), Apple's desktop and server operating system. It superseded Mac OS X 10.0 and preceded Mac OS X 10.2. Version 10.1 was released on September 25, 2001 as a free update for Mac OS X 10.0 users.\")],\n",
       " 'answer': 'Mac OS X 10.2'}"
      ]
     },
     "execution_count": 6,
     "metadata": {},
     "output_type": "execute_result"
    }
   ],
   "source": [
    "rag_with_judge.invoke(\n",
    "    input={'query': 'A sparse image is used by the FileVault feature in Mac OS X in versions later than which?'},\n",
    "    config=config\n",
    ")"
   ]
  },
  {
   "cell_type": "code",
   "execution_count": 7,
   "id": "ccaec470",
   "metadata": {},
   "outputs": [
    {
     "name": "stderr",
     "output_type": "stream",
     "text": [
      "\u001b[32m2025-08-04 15:02:11.431\u001b[0m | \u001b[1mINFO    \u001b[0m | \u001b[36mmetrics.em_f1\u001b[0m:\u001b[36mevaluation\u001b[0m:\u001b[36m127\u001b[0m - \u001b[1m加载了 100 个问答对\u001b[0m\n",
      "处理问答对: 100%|██████████| 100/100 [00:00<00:00, 275.53it/s]\n",
      "\u001b[32m2025-08-04 15:02:11.831\u001b[0m | \u001b[1mINFO    \u001b[0m | \u001b[36mmetrics.em_f1\u001b[0m:\u001b[36mevaluation\u001b[0m:\u001b[36m169\u001b[0m - \u001b[1m\n",
      " EM: 0.31 \n",
      " f1: 0.4824747442100383 \n",
      " precision: 0.48235914085914083 \n",
      " recall: 0.5470238095238095\u001b[0m\n"
     ]
    }
   ],
   "source": [
    "em_f1_eval(\n",
    "    qa_res_path='./hotpotqa/rag_with_judge/qa_result_rerank_model_qwen2.5-7b.json',\n",
    "    eval_res_path='./hotpotqa/rag_with_judge/eval_result_rerank_model_qwen2.5-7b.json'\n",
    ")"
   ]
  },
  {
   "cell_type": "markdown",
   "id": "d0394d1c",
   "metadata": {},
   "source": [
    "小模型不能：\n",
    "\n",
    "1. 很好的发挥 Judge 的作用，无法准确的判断当前文档对回答问题的帮助程度\n",
    "\n",
    "2. 很好的提出新问题。所提的问题中有很多指代类型的词（比如他、那本书）\n",
    "\n",
    "对于小模型来说，如果不能微调的话，需要好好的设计对应的提示词"
   ]
  },
  {
   "cell_type": "markdown",
   "id": "12e04559",
   "metadata": {},
   "source": [
    "测试数据为 ../data/hotpotqa_test_data_500.json 中的前 500 个问题\n",
    "\n",
    "使用 rerank model 重排"
   ]
  },
  {
   "cell_type": "code",
   "execution_count": 30,
   "id": "16009ac7",
   "metadata": {},
   "outputs": [
    {
     "name": "stderr",
     "output_type": "stream",
     "text": [
      "\u001b[32m2025-08-04 16:26:01.206\u001b[0m | \u001b[1mINFO    \u001b[0m | \u001b[36mrun_qa\u001b[0m:\u001b[36mextract_questions\u001b[0m:\u001b[36m161\u001b[0m - \u001b[1m加载问题的索引为 [450:500]，共 50 个\u001b[0m\n",
      "回答问题:   0%|          | 0/50 [00:00<?, ?it/s]"
     ]
    },
    {
     "name": "stderr",
     "output_type": "stream",
     "text": [
      "回答问题:   4%|▍         | 2/50 [00:07<02:42,  3.38s/it]"
     ]
    },
    {
     "name": "stdout",
     "output_type": "stream",
     "text": [
      "使用 5e6942c9-b3ee-46fd-823f-36a1b9a3b038 调用 RAG，问题为 When was 2PM's DVD 'Take Off' released?，当前递归深度为 1\n"
     ]
    },
    {
     "name": "stderr",
     "output_type": "stream",
     "text": [
      "回答问题:  14%|█▍        | 7/50 [00:33<04:00,  5.60s/it]"
     ]
    },
    {
     "name": "stdout",
     "output_type": "stream",
     "text": [
      "使用 e5771ed5-8511-4c0a-9318-6a374c73cbaf 调用 RAG，问题为 Was Life magazine published monthly in 1998?，当前递归深度为 1\n",
      "使用 c21c744c-e5fb-43ec-8797-670d3a40d29b 调用 RAG，问题为 Was Strictly Slots magazine published monthly in 1998?，当前递归深度为 1\n"
     ]
    },
    {
     "name": "stderr",
     "output_type": "stream",
     "text": [
      "回答问题:  18%|█▊        | 9/50 [00:48<04:19,  6.34s/it]"
     ]
    },
    {
     "name": "stdout",
     "output_type": "stream",
     "text": [
      "使用 02aa0c75-0026-4de8-9440-4d7052d129a2 调用 RAG，问题为 When did the Salmita Mine begin operations?，当前递归深度为 1使用 66a8b54e-9d4e-489f-9a9c-94a4ab9168a5 调用 RAG，问题为 When was the Salmita Mine in service?，当前递归深度为 1\n",
      "\n"
     ]
    },
    {
     "name": "stderr",
     "output_type": "stream",
     "text": [
      "回答问题:  20%|██        | 10/50 [00:55<04:17,  6.44s/it]"
     ]
    },
    {
     "name": "stdout",
     "output_type": "stream",
     "text": [
      "使用 1c539595-4b6c-4f29-827d-234887206961 调用 RAG，问题为 What audience does Alice Hoffman's writing target?，当前递归深度为 1\n",
      "使用 3dfa0939-9e0e-44da-b1cb-fb235f916828 调用 RAG，问题为 What are the primary themes and audience of Alice Hoffman's writing?，当前递归深度为 1\n",
      "使用 7519c516-4c0c-4030-9b01-a85d80e2d2da 调用 RAG，问题为 Who is Maurice Level and what audience does his work target?，当前递归深度为 1\n",
      "使用 e1656861-bc1d-47dc-93d9-8d70c1ec725b 调用 RAG，问题为 What audience does Maurice Level's work target?，当前递归深度为 2\n",
      "使用 6a8f4c68-00f1-422b-b044-e96bd0b1f369 调用 RAG，问题为 What audience does Maurice Level's work target?，当前递归深度为 2\n",
      "使用 a2c1b976-a363-433a-82f9-e9c97f18abc3 调用 RAG，问题为 Who is the target audience of Alice Hoffman's works?，当前递归深度为 2\n",
      "使用 b3592572-6234-4791-bf49-0862502ac3ce 调用 RAG，问题为 What are the primary themes in Alice Hoffman's other works and her target audience?，当前递归深度为 2\n",
      "使用 e447a275-7e31-4f09-8c59-1bdc1cd11c24 调用 RAG，问题为 What age groups or demographics does Alice Hoffman focus on?，当前递归深度为 2\n",
      "使用 d9192987-3127-4fde-b990-7d950fc97900 调用 RAG，问题为 What specific age group or demographic does Alice Hoffman's 'Green Angel' target?，当前递归深度为 2\n",
      "使用 860cb57f-2a5d-47a0-a2e1-01589e39935a 调用 RAG，问题为 What are the characteristics of the audience that appreciated macabre stories in Paris newspapers and Grand-Guignol productions?，当前递归深度为 3\n",
      "使用 a4df5fa6-becb-46dd-9e3a-7ba18ee57e89 调用 RAG，问题为 What type of audience enjoys macabre stories and melodramatic productions?，当前递归深度为 3\n",
      "使用 1a21f98d-8d97-48c3-adf0-64d4ed316ec3 调用 RAG，问题为 What is the target age group of 'Green Angel'?，当前递归深度为 3使用 9a5f92c8-91ba-4d6f-950c-9171c1c813a8 调用 RAG，问题为 What age group is 'Green Angel' written for?，当前递归深度为 3\n",
      "\n",
      "使用 1122adac-7d16-42e6-96c2-59e12dabdda4 调用 RAG，问题为 What age groups read Alice Hoffman's books?，当前递归深度为 3使用 4dc9064e-2e0e-407a-a500-ebaf7842a235 调用 RAG，问题为 What age groups or demographics are the Green Angel series targeted at?，当前递归深度为 3\n",
      "\n",
      "使用 2cdb86c5-45ae-471b-b100-2432d39e8b63 调用 RAG，问题为 What age groups or demographics does Alice Hoffman write for?，当前递归深度为 3\n",
      "使用 10fedd9c-c260-4eda-84d8-e4fc776f531d 调用 RAG，问题为 What age group or demographic does Alice Hoffman primarily write for?，当前递归深度为 3\n",
      "使用 470dcb2c-4219-4ad1-bfe4-a68e9a3613fb 调用 RAG，问题为 What are the characteristics of the audience that appreciated macabre stories in Paris newspapers and Grand-Guignol productions?，当前递归深度为 3\n",
      "使用 0fb2c0d9-ed44-4ad4-8ea3-d2474bf8404f 调用 RAG，问题为 What are the characteristics of the audience that appreciated macabre stories in Paris newspapers and Grand-Guignol productions?，当前递归深度为 3\n",
      "使用 5dbe90bd-6236-49bd-84ed-f26cf112a1c4 调用 RAG，问题为 What are the primary themes in Alice Hoffman's works and her target audience?，当前递归深度为 3\n",
      "使用 3cd11790-0fea-401d-b554-99546bbc4b8d 调用 RAG，问题为 What are the primary themes in Alice Hoffman's other works?，当前递归深度为 3\n",
      "使用 c717b15d-0ed4-4a77-95bb-0ae5c7994ffb 调用 RAG，问题为 What age groups are targeted by Alice Hoffman's genres?，当前递归深度为 4\n",
      "使用 1d6e97d9-b504-47d7-96b6-49519183c1c2 调用 RAG，问题为 What is the target audience for young adult novels?，当前递归深度为 4\n",
      "使用 2c162621-6dc9-4ade-8857-f0470dd0ee8f 调用 RAG，问题为 What are specific recurring themes in Alice Hoffman's magic realism novels?，当前递归深度为 4\n",
      "使用 133e3f4f-e07f-4bdb-a651-06add704c02d 调用 RAG，问题为 What are the central themes in Alice Hoffman's magic realism novels and who is her primary audience?，当前递归深度为 4使用 2a8ef265-2714-4698-8554-13c582b9db16 调用 RAG，问题为 Who is Alice Hoffman's target audience?，当前递归深度为 4\n",
      "\n",
      "使用 9394c9af-73b9-4b4d-babf-bd060a0fb529 调用 RAG，问题为 What are the primary themes in Indigo and who is the target audience?，当前递归深度为 4\n",
      "使用 6c543ce0-31d8-483d-8d31-2a152c8a48e3 调用 RAG，问题为 What age groups are associated with magic realism and young-adult literature?，当前递归深度为 5使用 f61c6cee-e39a-4f5d-bc47-008951c51eee 调用 RAG，问题为 What are the target age groups for Alice Hoffman's books?，当前递归深度为 5\n",
      "\n",
      "使用 6a7e1171-fdcd-4819-9e33-b10ad64480da 调用 RAG，问题为 What age group or demographic are Alice Hoffman's novels typically aimed at?，当前递归深度为 4使用 a3b25c80-8ab2-424b-ad29-d2bba3c1f1bc 调用 RAG，问题为 What age group is 'Green Angel' targeted at?，当前递归深度为 4\n",
      "\n",
      "使用 fd3dce80-fca3-4ea8-a352-dbeba6533a52 调用 RAG，问题为 What are the primary themes and target audience of Indigo?，当前递归深度为 5使用 1d2a82fb-fb3c-4f7f-aa9d-94ffab666e31 调用 RAG，问题为 Who is the target audience of Indigo?，当前递归深度为 5\n",
      "\n",
      "使用 9ce482ab-fb78-4872-8a8a-038821121caf 调用 RAG，问题为 What are the main educational themes in 'Indigo' and who is it intended for?，当前递归深度为 5\n",
      "使用 55160878-fd73-4fdc-b24d-e2f65f95853a 调用 RAG，问题为 What are the central themes in Alice Hoffman's novels and who is her target audience?，当前递归深度为 5\n",
      "使用 1e333fd2-898f-4f90-8fbe-27c4330563c6 调用 RAG，问题为 Who is the primary audience of Alice Hoffman's novels?，当前递归深度为 5\n",
      "使用 4defc59a-473b-49a4-a3e1-86dfe7a209e9 调用 RAG，问题为 What are the central themes in Alice Hoffman's magic realism novels?，当前递归深度为 5\n",
      "使用 c49390b0-dad3-4e2c-a595-97d4800d2b93 调用 RAG，问题为 What age group or demographic does Alice Hoffman write for?，当前递归深度为 5\n",
      "使用 5c39ecb7-8962-4732-9a2f-ae59575dcd20 调用 RAG，问题为 What audience is typical for young adult novels?，当前递归深度为 5\n",
      "使用 d2fe39dc-493d-4c7f-97ff-6f2f3e166e76 调用 RAG，问题为 What are specific recurring themes like love, loss, or identity in Alice Hoffman's novels?，当前递归深度为 5\n",
      "使用 111cb26d-f00f-4ecc-bfde-6dee05477f05 调用 RAG，问题为 What are recurring themes in Alice Hoffman's novels featuring magic realism?，当前递归深度为 5\n",
      "使用 1a7d8a68-683e-4d4f-aa09-2429ae009e47 调用 RAG，问题为 What specific elements of magic realism does Hoffman use?，当前递归深度为 5\n",
      "使用 9ec947e6-9bbf-45b4-a6f4-c9cf665eb3ab 调用 RAG，问题为 What age groups read Alice Hoffman's magic realism novels?，当前递归深度为 5\n",
      "使用 dff069a3-6ecc-4fca-9bed-05a558ef4a64 调用 RAG，问题为 What age group is 'Green Angel' targeting?，当前递归深度为 5\n"
     ]
    },
    {
     "name": "stderr",
     "output_type": "stream",
     "text": [
      "回答问题:  22%|██▏       | 11/50 [01:30<09:53, 15.21s/it]"
     ]
    },
    {
     "name": "stdout",
     "output_type": "stream",
     "text": [
      "使用 5024f8f3-7083-4b1c-94ce-e350848fca29 调用 RAG，问题为 Who were the spouses of the main actors in Marcus Welby, M.D.?，当前递归深度为 1\n",
      "使用 5b6173f7-3b87-428a-be90-03486df851eb 调用 RAG，问题为 Who was John F. Nolan married to?，当前递归深度为 1\n",
      "使用 3d20b6d3-0569-4b40-9179-feef70193d56 调用 RAG，问题为 Who were the main actors in Marcus Welby, M.D. and their spouses?，当前递归深度为 2\n",
      "使用 cb381399-085f-4e0c-8db9-9dc73f845adc 调用 RAG，问题为 Who were the spouses of Robert Young, James Brolin, and Elena Verdugo?，当前递归深度为 3\n",
      "使用 ca8d29e5-2be7-414c-b0e8-5f04d99aa50a 调用 RAG，问题为 Who were the other main actors in Marcus Welby, M.D. and their spouses?，当前递归深度为 3\n",
      "使用 90ae3edc-105e-4ade-b39f-ed2736a3212c 调用 RAG，问题为 Who were the main actors in Marcus Welby, M.D. and their spouses?，当前递归深度为 3\n",
      "使用 f76b74cf-45b7-4669-84a0-55278e2c8c07 调用 RAG，问题为 Who were the spouses of Robert Young and Elena Verdugo?，当前递归深度为 4\n",
      "使用 a133b07d-f1ac-4515-a84f-63d623bcea41 调用 RAG，问题为 Who were the spouses of Robert Young, James Brolin, and Elena Verdugo?，当前递归深度为 4\n",
      "使用 55db6b9d-e296-4e00-a930-a4724fbdbd36 调用 RAG，问题为 Who were the other main actors in Marcus Welby, M.D. and their spouses?，当前递归深度为 4\n",
      "使用 73fd4d19-39bf-4578-8d6a-5a24701e8865 调用 RAG，问题为 Who were the main actors in 'Marcus Welby, M.D.' and who did they marry?，当前递归深度为 4\n",
      "使用 e4cd0dc9-c342-481b-aade-4e587dc6889b 调用 RAG，问题为 Who did the main actors in 'Marcus Welby, M.D.' marry?，当前递归深度为 5\n",
      "使用 4fd521b0-41c6-468d-b396-470dc70114c4 调用 RAG，问题为 Who were the other main actors in 'Marcus Welby, M.D.' and who did they marry?，当前递归深度为 5\n",
      "使用 16ffb435-55fd-4aad-8ee1-5a8680d9b6a7 调用 RAG，问题为 Who were the main actors in 'Marcus Welby, M.D.'?，当前递归深度为 5\n",
      "使用 2a47a3d2-1960-49f6-85bd-7411648a8873 调用 RAG，问题为 Who were the spouses of the main actors in Marcus Welby, M.D.?，当前递归深度为 4\n",
      "使用 13b4d4c6-eb11-4265-94a4-9bb724b80db9 调用 RAG，问题为 Who were the other main actors in Marcus Welby, M.D. and their spouses?，当前递归深度为 4\n",
      "使用 ae9af253-efc1-4eac-aca2-36b83a6427a3 调用 RAG，问题为 Who were the other main actors in 'Marcus Welby, M.D.' besides Consuelo Lopez, and who were their spouses?，当前递归深度为 4\n",
      "使用 c082ecf0-fe11-44c4-88a2-d4516458bad0 调用 RAG，问题为 Who were the spouses of Robert Young and Elena Verdugo?，当前递归深度为 5\n",
      "使用 7e9f5156-808c-415f-948b-38600f8629cb 调用 RAG，问题为 Who were the spouses of James Brolin and Elena Verdugo?，当前递归深度为 5\n",
      "使用 6a2a8f79-c948-444f-9955-d961f11f98b4 调用 RAG，问题为 Who were the spouses of James Brolin and Elena Verdugo?，当前递归深度为 5\n",
      "使用 0f742921-b12f-49e5-a655-b40dc425e05b 调用 RAG，问题为 Who were the other main actors in Marcus Welby, M.D. and their spouses?，当前递归深度为 5\n",
      "使用 4bf8d911-2a9e-473a-bae5-35643b35e42d 调用 RAG，问题为 Who were the spouses of the main actors in 'Marcus Welby, M.D.'?，当前递归深度为 5\n",
      "使用 367773d5-29aa-4ce0-a9e6-f86b48f2d021 调用 RAG，问题为 Who were the spouses of Robert Young and James Brolin?，当前递归深度为 5\n",
      "使用 a8525538-3507-42cf-954f-db7bea106860 调用 RAG，问题为 Who were the other main actors in 'Marcus Welby, M.D.' besides Consuelo Lopez?，当前递归深度为 5\n",
      "使用 176660cb-abe6-4dfd-a298-9b4dcd9ed969 调用 RAG，问题为 Who were the spouses of James Brolin and Elena Verdugo?，当前递归深度为 5\n",
      "使用 2e3d4746-5dc9-47f0-8ed0-5fd53b9484c0 调用 RAG，问题为 Who were the other main actors in Marcus Welby, M.D. and their spouses?，当前递归深度为 5\n",
      "使用 fa2518a9-2be2-4d8a-b81e-df42290a8116 调用 RAG，问题为 Who were the spouses of the main actors in 'Marcus Welby, M.D.'?，当前递归深度为 5\n"
     ]
    },
    {
     "name": "stderr",
     "output_type": "stream",
     "text": [
      "回答问题:  26%|██▌       | 13/50 [02:11<10:10, 16.49s/it]"
     ]
    },
    {
     "name": "stdout",
     "output_type": "stream",
     "text": [
      "使用 38fe139f-aff7-4c36-88e9-b6d999a25835 调用 RAG，问题为 What is the noted aspect of the band addressed by Brad Elterman?，当前递归深度为 1\n",
      "使用 8b1ce0d0-66ba-4e5a-a877-3674a285442b 调用 RAG，问题为 What specific aspect of the rock 'n' roll lifestyle did Brad Elterman focus on in his photography?，当前递归深度为 2\n",
      "使用 11bcbd98-c8c2-4bd7-b95b-a76be8d13b37 调用 RAG，问题为 What themes or elements of rock 'n' roll lifestyle did Brad Elterman emphasize in his photos?，当前递归深度为 3\n",
      "使用 38a2c591-f2f7-477f-86ad-18ae561f1b52 调用 RAG，问题为 What specific themes did Elterman focus on in his photography?，当前递归深度为 4\n"
     ]
    },
    {
     "name": "stderr",
     "output_type": "stream",
     "text": [
      "回答问题:  28%|██▊       | 14/50 [02:32<10:41, 17.82s/it]"
     ]
    },
    {
     "name": "stdout",
     "output_type": "stream",
     "text": [
      "使用 4cc25646-ff2d-4683-b24c-85131ec4e4ec 调用 RAG，问题为 Who voiced Bugs Bunny in the 1946 cartoon?，当前递归深度为 1使用 12d5f37c-d1dd-45df-8751-efc25d04c406 调用 RAG，问题为 Who voiced Bugs Bunny in 'Baseball Bugs'?，当前递归深度为 1\n",
      "\n",
      "使用 94f02d9d-8ce7-4154-b316-d5314fbbd1c5 调用 RAG，问题为 Who was the voice actor for Bugs Bunny in 1946?，当前递归深度为 2\n",
      "使用 fad4afb6-afaa-42d6-809c-a4f83f47bbb3 调用 RAG，问题为 Who voiced Bugs Bunny in the 1946 short 'Baseball Bugs'?，当前递归深度为 2\n"
     ]
    },
    {
     "name": "stderr",
     "output_type": "stream",
     "text": [
      "回答问题:  30%|███       | 15/50 [02:43<09:07, 15.64s/it]"
     ]
    },
    {
     "name": "stdout",
     "output_type": "stream",
     "text": [
      "使用 3c6e90e7-5de0-4ae0-a105-be4bdb2ed49f 调用 RAG，问题为 Who is the actress joining the DCEU after starring in other franchises?，当前递归深度为 1\n",
      "使用 43b7e974-34c4-4d07-8e84-2ac011686afb 调用 RAG，问题为 Who is the actress joining the DCEU after Gadot?，当前递归深度为 1\n",
      "使用 c69105c7-30e3-4356-80bf-ce89340417ab 调用 RAG，问题为 Who is the next actress after Gadot in DCEU?，当前递归深度为 2\n",
      "使用 f287cb22-37cd-418e-93fe-e0819f50f647 调用 RAG，问题为 Which franchises did Gal Gadot star in before joining the DCEU?，当前递归深度为 2\n",
      "使用 c064c87a-7384-4617-b7e1-26876cd6b63d 调用 RAG，问题为 Which actress in the cast of Batman v Superman: Dawn of Justice has starred in other franchises?，当前递归深度为 2\n",
      "使用 9224d9ef-514f-4bd6-94f1-89b02e1be7f9 调用 RAG，问题为 Which franchises have the actresses in Batman v Superman: Dawn of Justice starred in?，当前递归深度为 3\n",
      "使用 d73d7dd9-35af-4dab-8da5-71691d5d8765 调用 RAG，问题为 Which franchises have Holly Hunter and Gal Gadot starred in?，当前递归深度为 3\n",
      "使用 c2d69b9f-02c6-4be2-9224-c6e25c3ea71f 调用 RAG，问题为 Did Gal Gadot-Varsano star in Batman v Superman: Dawn of Justice?，当前递归深度为 3\n",
      "使用 429ec576-cfe4-41bf-bf83-8a35764a5fbd 调用 RAG，问题为 Which franchises has Holly Hunter starred in?，当前递归深度为 4\n",
      "使用 db1a8c54-f520-4773-9457-d72b200f5af1 调用 RAG，问题为 What are the major franchises Holly Hunter and Gal Gadot are known for?，当前递归深度为 4\n",
      "使用 4a970e4c-302f-4935-ba1a-4a5345300ea8 调用 RAG，问题为 Which franchises has Holly Hunter starred in?，当前递归深度为 4\n",
      "使用 d1166ddb-7fd6-4c20-8582-f357b7732f73 调用 RAG，问题为 What franchises have the actresses Amy Adams and Diane Lane starred in?，当前递归深度为 4\n",
      "使用 3b536ea6-c108-4c29-afb2-54967149b244 调用 RAG，问题为 What major franchises have Holly Hunter and Gal Gadot starred in?，当前递归深度为 4\n",
      "使用 0dfcb46c-d1df-4830-ae2f-2448024a1d65 调用 RAG，问题为 Which other actresses starred in Batman v Superman: Dawn of Justice and what franchises have they been in?，当前递归深度为 4\n",
      "使用 cb9779df-f730-4384-b9ef-ea314366539e 调用 RAG，问题为 What major franchises is Holly Hunter known for?，当前递归深度为 5\n",
      "使用 b6e6a982-7b2b-4b51-87a9-3e5764065c86 调用 RAG，问题为 What major franchise is Holly Hunter known for?，当前递归深度为 5\n",
      "使用 b8ea90a9-dac1-4f80-931e-a99d5cdce013 调用 RAG，问题为 What major franchises is Holly Hunter known for?，当前递归深度为 5\n",
      "使用 3772e394-cc56-4078-82b1-da8a7e3d53c9 调用 RAG，问题为 Which other actresses starred in Batman v Superman besides Amy Adams?，当前递归深度为 5\n",
      "使用 af1f7c4e-955c-45af-acfc-6ef61a32be9a 调用 RAG，问题为 What major franchises have Holly Hunter and Gal Gadot been in?，当前递归深度为 5\n",
      "使用 dad47f86-5e21-4bbe-998f-a770b73ac5b4 调用 RAG，问题为 What major franchises has Holly Hunter starred in?，当前递归深度为 5\n",
      "使用 9d457ca1-7641-47a4-b2c0-80b57113cc38 调用 RAG，问题为 What are the major franchises associated with Batman, Superman, Wonder Woman, Aquaman, Flash, and Cyborg?，当前递归深度为 5\n",
      "使用 5fd76b39-984d-40d9-bcf6-0583f3194f4e 调用 RAG，问题为 What major franchises has Holly Hunter starred in?，当前递归深度为 5\n",
      "使用 db0cbb08-63a4-42c7-8b2b-b23bd189c31c 调用 RAG，问题为 What other major franchises have Amy Adams and Diane Lane been part of?，当前递归深度为 5\n",
      "使用 f5f8d5cd-f3cb-408e-b7ea-d4bda9a32fd9 调用 RAG，问题为 What other major franchises have Amy Adams and Diane Lane been part of?，当前递归深度为 5\n"
     ]
    },
    {
     "name": "stderr",
     "output_type": "stream",
     "text": [
      "回答问题:  32%|███▏      | 16/50 [03:13<11:22, 20.09s/it]"
     ]
    },
    {
     "name": "stdout",
     "output_type": "stream",
     "text": [
      "使用 6b3972ef-80bc-4bb7-9b90-3eeef1399c06 调用 RAG，问题为 Which film festival did Il divo premiere at?，当前递归深度为 1使用 759f7ef4-b5f6-492a-8663-2c7922a41eee 调用 RAG，问题为 Which movie did Carlo Buccirosso act in that premiered at a film festival?，当前递归深度为 1\n",
      "\n",
      "使用 d577b7ea-8725-4480-87b2-0cf2113c5369 调用 RAG，问题为 What is the name of the film festival in Santa Monica?，当前递归深度为 2\n",
      "使用 49fcaf93-1f96-4eaf-862c-12acaa145e50 调用 RAG，问题为 Which of Carlo Buccirosso's movies premiered at a film festival?，当前递归深度为 2\n",
      "使用 16d4617e-0093-4319-a334-d538ce008649 调用 RAG，问题为 What role did Carlo Buccirosso play in The Great Beauty?，当前递归深度为 2\n",
      "使用 4822a74d-adee-46b5-8852-04e03458f446 调用 RAG，问题为 Which film festival did 'Un'estate ai Caraibi' premiere at?，当前递归深度为 2\n",
      "使用 54262df0-56b0-4367-95d3-f1bd135111c8 调用 RAG，问题为 Which of Carlo Buccirosso's movies premiered at a film festival?，当前递归深度为 3\n",
      "使用 32d8dd88-9e28-48c1-990f-62b939988a59 调用 RAG，问题为 What role did Carlo Buccirosso play in The Great Beauty?，当前递归深度为 3\n",
      "使用 98d16265-abe1-413d-80d5-e85bdb4c63a3 调用 RAG，问题为 What character did Carlo Buccirosso portray in The Great Beauty?，当前递归深度为 4\n",
      "使用 c20d8b74-3f28-4710-9e65-23a120f2c14f 调用 RAG，问题为 Which film festivals featured Carlo Buccirosso's movies?，当前递归深度为 4\n",
      "使用 a1636fff-a00e-4363-b625-488282253d32 调用 RAG，问题为 Which movie did Carlo Buccirosso act in that premiered at a film festival?，当前递归深度为 4\n",
      "使用 bc51a23f-3569-47ee-9114-4f66d6340b2f 调用 RAG，问题为 Which movies of Carlo Buccirosso were featured in these festivals?，当前递归深度为 5\n",
      "使用 769d0a4d-7dfd-4b1c-9979-274caf80d57b 调用 RAG，问题为 Which other film festivals featured Carlo Buccirosso's movies?，当前递归深度为 5\n",
      "使用 3dcd7bd5-61fa-46a8-994b-445fec3a8dc7 调用 RAG，问题为 Which of Carlo Buccirosso's movies premiered at a film festival?，当前递归深度为 5\n",
      "使用 e05a6dae-649c-4ef2-8b6b-089a8147af4e 调用 RAG，问题为 Which movie did Carlo Buccirosso act in?，当前递归深度为 5\n",
      "使用 d774396c-d9b9-4c2c-92ea-01c4c7d68803 调用 RAG，问题为 Which film festival did 'Un'estate ai Caraibi' premiere at?，当前递归深度为 5\n"
     ]
    },
    {
     "name": "stderr",
     "output_type": "stream",
     "text": [
      "回答问题:  46%|████▌     | 23/50 [03:56<02:15,  5.01s/it]"
     ]
    },
    {
     "name": "stdout",
     "output_type": "stream",
     "text": [
      "使用 7f1594a9-aa67-4050-a323-894c0d3e7e87 调用 RAG，问题为 Who is the creator or author of Johnny Tremain?，当前递归深度为 1\n",
      "使用 5e869db0-2101-4592-b02f-3b7e39308a31 调用 RAG，问题为 Who founded Walt Disney Productions and contributed to the Magic Kingdom?，当前递归深度为 1\n"
     ]
    },
    {
     "name": "stderr",
     "output_type": "stream",
     "text": [
      "回答问题:  48%|████▊     | 24/50 [04:05<02:38,  6.08s/it]"
     ]
    },
    {
     "name": "stdout",
     "output_type": "stream",
     "text": [
      "使用 fa811baa-b72d-4610-8add-9a2d6fb093f0 调用 RAG，问题为 What did the Bangor Daily News say about Sawin Millett's political influence?，当前递归深度为 1\n"
     ]
    },
    {
     "name": "stderr",
     "output_type": "stream",
     "text": [
      "回答问题:  52%|█████▏    | 26/50 [04:18<02:27,  6.14s/it]"
     ]
    },
    {
     "name": "stdout",
     "output_type": "stream",
     "text": [
      "使用 213fca3f-e72b-4c4e-9d20-68e0b2220cbe 调用 RAG，问题为 What is the name of the helmet discovered in 1939 that is well preserved and associated with the Coppergate Helmet?，当前递归深度为 1\n",
      "使用 83e7787f-ebc3-4acf-aa3f-e84b6ce44430 调用 RAG，问题为 What is the Coppergate Helmet and how is it related to the Sutton Hoo helmet?，当前递归深度为 1\n",
      "使用 a5f6ab01-e991-4f0d-bca2-0cab8053b722 调用 RAG，问题为 What helmet was discovered in 1939 and is often mentioned alongside the Coppergate Helmet?，当前递归深度为 1\n",
      "使用 d759da16-902b-4e3c-8231-23389697892f 调用 RAG，问题为 How does the Coppergate Helmet compare to the Sutton Hoo helmet in terms of design and historical significance?，当前递归深度为 2\n",
      "使用 82dab87a-0089-4b4f-9dea-289479efb54b 调用 RAG，问题为 What are the key features and historical significance of the Coppergate Helmet?，当前递归深度为 2\n",
      "使用 3ba133e9-8729-497d-8913-40872a324515 调用 RAG，问题为 What is the name of the helmet found in 1939?，当前递归深度为 2\n",
      "使用 6becb743-7f5e-4f14-85d6-da2e4c80da39 调用 RAG，问题为 How is the Sutton Hoo helmet related to the Coppergate Helmet?，当前递归深度为 2\n",
      "使用 d1c7b0ff-f1c5-4f77-a0fd-53c59fc6e286 调用 RAG，问题为 What is the name of the helmet found in 1939?，当前递归深度为 2\n",
      "使用 e77f0091-fb63-4cbd-ae83-0a81a0c8c121 调用 RAG，问题为 What are the design and historical significance differences between the Coppergate Helmet and the Sutton Hoo helmet?，当前递归深度为 3\n",
      "使用 94e90aea-b049-488d-8088-7178735c7055 调用 RAG，问题为 What are the design and historical significance of the Coppergate Helmet?，当前递归深度为 3\n",
      "使用 75e42d65-1eac-4808-bb0d-f602cf1f7b89 调用 RAG，问题为 What are the similarities and differences between the Sutton Hoo and Coppergate helmets?，当前递归深度为 3\n",
      "使用 c3ffbcf6-27cc-467c-af56-cd0688aeeb64 调用 RAG，问题为 What are the distinctive features (e.g., design, decoration) of the Coppergate Helmet and how do they reflect its historical importance?，当前递归深度为 3\n",
      "使用 3d67d85e-7008-4194-88ea-335dabefeaf5 调用 RAG，问题为 What are the key features and historical significance of the Pioneer Helmet?，当前递归深度为 3\n",
      "使用 bb479841-169a-40fa-8d43-b3edbae68012 调用 RAG，问题为 What are the unique decorative elements and cultural influences of the Coppergate Helmet?，当前递归深度为 3\n",
      "使用 8ad645b6-0d64-481d-9598-a51145412322 调用 RAG，问题为 What are the design features and historical significance of the Coppergate Helmet and the Sutton Hoo helmet?，当前递归深度为 4\n",
      "使用 0ab822c0-5b33-4f57-a4ea-80d214371bfa 调用 RAG，问题为 What are the design and historical significance of the Coppergate Helmet?，当前递归深度为 4\n",
      "使用 cb763373-f77d-462d-b144-377491557d23 调用 RAG，问题为 What are the design and historical significance of the Sutton Hoo helmet?，当前递归深度为 4\n",
      "使用 bf839a4f-6098-4e07-adf1-5f90c8f691d4 调用 RAG，问题为 What are the key features and historical context of the Coppergate helmet?，当前递归深度为 4\n",
      "使用 9a0f779a-f39c-41f1-8af6-adcadd376019 调用 RAG，问题为 What are the design and historical differences between Sutton Hoo and Coppergate helmets?，当前递归深度为 4\n",
      "使用 de4378a4-9e1c-4528-a999-a00a81b403f5 调用 RAG，问题为 What are the distinctive decorative features of the Coppergate Helmet?，当前递归深度为 4使用 2e190869-a8e4-40a1-9824-572fe71bcef4 调用 RAG，问题为 What other decorative elements are present on the Coppergate Helmet?，当前递归深度为 4\n",
      "\n",
      "使用 6085a51e-0cbe-4307-953d-54f39214ca4d 调用 RAG，问题为 What is the historical significance of the Pioneer Helmet?，当前递归深度为 4\n",
      "使用 bf9345a6-139e-461e-9397-775f5522c5ea 调用 RAG，问题为 What is the Pioneer Helmet's connection to Cabirol's diving suit?，当前递归深度为 4\n",
      "使用 587cf729-214f-47d5-abca-59b62cc32bdb 调用 RAG，问题为 What are the unique design features and historical importance of the Coppergate Helmet?，当前递归深度为 4使用 bada2a63-df2c-4245-8b2e-d74157d8ccbe 调用 RAG，问题为 What are the design and historical significance of the Coppergate Helmet?，当前递归深度为 4\n",
      "\n",
      "使用 2f641fae-b9c3-4886-a03e-5050e9ea3562 调用 RAG，问题为 What are the design features and historical significance of the Coppergate Helmet and the Sutton Hoo helmet?，当前递归深度为 5\n",
      "使用 4bf3ffd2-f77f-4a63-b1eb-e42cd61e3d2d 调用 RAG，问题为 What are the design features and historical significance of the Coppergate Helmet?，当前递归深度为 5\n",
      "使用 0535fd9e-f26f-4e99-b298-8d0998597e27 调用 RAG，问题为 What are the design features of the Coppergate Helmet?，当前递归深度为 5\n",
      "使用 95424ee8-93e9-41df-8b43-380fc5bee852 调用 RAG，问题为 What are the distinctive features and historical background of the Coppergate Helmet?，当前递归深度为 5\n",
      "使用 9a4ddd0c-327c-40f6-8c37-98c75e45e7e0 调用 RAG，问题为 What are the key features and historical context of the Coppergate helmet?，当前递归深度为 5\n",
      "使用 c47af165-c20c-4098-9f04-526193c33f4c 调用 RAG，问题为 What is the historical significance and period of the Coppergate helmet?，当前递归深度为 5\n",
      "使用 f5198cd7-5319-4405-8e4e-e0ea2f5b441e 调用 RAG，问题为 What are the unique design features and historical importance of the Coppergate Helmet?，当前递归深度为 5\n",
      "使用 4a7c5d8e-1723-4436-a062-0db5e0111336 调用 RAG，问题为 What are the design and historical significance of the Pioneer Helmet?，当前递归深度为 5\n",
      "使用 0a824221-c56f-45a6-8442-be3678138e30 调用 RAG，问题为 What is the historical significance of the Sutton Hoo helmet?，当前递归深度为 5\n",
      "使用 601b65b1-8b4f-4e50-ab55-9d4ff62b90ba 调用 RAG，问题为 What are the unique design features and historical importance of the Sutton Hoo helmet?，当前递归深度为 5\n",
      "使用 689727e3-8c80-443c-9b5b-640e68b5a756 调用 RAG，问题为 What are the specific decorative features or patterns on the Coppergate Helmet?，当前递归深度为 5\n",
      "使用 bfab31e3-9105-4147-9907-7fd1702b5939 调用 RAG，问题为 Are there additional decorative features on the Coppergate Helmet besides the boar crest?，当前递归深度为 5\n",
      "使用 e6efbca3-68ba-4a74-9310-18870f4bee24 调用 RAG，问题为 What are the design and historical details of the Coppergate helmet?，当前递归深度为 5\n",
      "使用 39d0a00f-9e28-4908-9b82-74ea7988a8d5 调用 RAG，问题为 What are the design features and historical context of the Sutton Hoo helmet?，当前递归深度为 5\n",
      "使用 df610f1c-8810-4849-98fb-d6fe6e53c1b2 调用 RAG，问题为 What are the unique design features and historical context of the Sutton Hoo and Coppergate helmets?，当前递归深度为 5\n",
      "使用 7c9c882c-3aa3-4dcc-96a7-9a1ea90e1d93 调用 RAG，问题为 What are the unique decorative elements of the Coppergate Helmet?，当前递归深度为 5\n",
      "使用 064a5b8d-e33b-44a9-ae8a-80f1d2a0d737 调用 RAG，问题为 What other decorative elements are present on the Coppergate Helmet?，当前递归深度为 5\n",
      "使用 c8567dfc-f507-42ef-b23a-41506a43e5aa 调用 RAG，问题为 What cultural or military role did the Pioneer Helmet play in 7th-century Anglo-Saxon society?，当前递归深度为 5\n",
      "使用 efddd7b8-0d14-4bc6-99c3-68179d45f935 调用 RAG，问题为 What cultural or military role did helmets with boar crests play in the period of the Pioneer Helmet?，当前递归深度为 5\n",
      "使用 7d1190e3-af0e-4cfd-9c01-7f1350ab5a81 调用 RAG，问题为 What are the design and decoration details of the Coppergate Helmet?，当前递归深度为 4\n",
      "使用 d3352f74-532a-450a-9af9-369b3ed6b1fc 调用 RAG，问题为 What are the unique design and decorative elements of the Coppergate Helmet?，当前递归深度为 4\n",
      "使用 d7b18699-084e-4e68-b315-57cb4f79c1b0 调用 RAG，问题为 How do the Coppergate Helmet's features connect to its cultural and historical significance?，当前递归深度为 4\n",
      "使用 8aafc3eb-b39e-4e27-8f3f-c593ab2aabb4 调用 RAG，问题为 What are the unique design features of the Coppergate Helmet and its historical significance?，当前递归深度为 5\n",
      "使用 1b2c3dda-955d-4e39-8860-600071a54f93 调用 RAG，问题为 What are the unique design features and historical importance of the Pioneer Helmet?，当前递归深度为 5\n",
      "使用 15fd048e-2d5d-4910-8cfc-ce3b8ac29f1f 调用 RAG，问题为 What are the unique design features and specific historical importance of the Coppergate Helmet?，当前递归深度为 5\n",
      "使用 c460d51e-62c5-4275-b1cb-5c6fd0002129 调用 RAG，问题为 What are the unique features and historical significance of the Coppergate Helmet?，当前递归深度为 5\n",
      "使用 f71bb31f-4158-409b-aa2f-55f13153c4f1 调用 RAG，问题为 What are the specific design features and decorative elements of the Coppergate Helmet?，当前递归深度为 5\n",
      "使用 92f6a72b-8566-4661-bf6a-c7456b5d7543 调用 RAG，问题为 What are the specific decorative elements and inscriptions on the Coppergate Helmet?，当前递归深度为 5\n",
      "使用 cf9aaf80-687e-4474-916b-57159e6386e1 调用 RAG，问题为 What cultural and historical significance does the Coppergate Helmet hold?，当前递归深度为 5\n",
      "使用 1567c5a5-5070-4e4d-adcc-a084847a66a6 调用 RAG，问题为 What is the cultural significance of the boar crest and cheek plates in Anglo-Saxon society?，当前递归深度为 5\n",
      "使用 0d7d3fcc-f33d-40b9-ae5a-813129ee2c79 调用 RAG，问题为 What are the distinctive features and decorations of the Coppergate Helmet?，当前递归深度为 5\n",
      "使用 12db7946-e3e8-4510-adf6-fe1a3e75d385 调用 RAG，问题为 What specific decorative features distinguish the Coppergate Helmet from others of the same period?，当前递归深度为 5\n"
     ]
    },
    {
     "name": "stderr",
     "output_type": "stream",
     "text": [
      "\u001b[32m2025-08-04 16:31:08.550\u001b[0m | \u001b[31m\u001b[1mERROR   \u001b[0m | \u001b[36mrun_qa\u001b[0m:\u001b[36mget_qa_pair\u001b[0m:\u001b[36m116\u001b[0m - \u001b[31m\u001b[1mWhose helmet is it discovered in 1939 which is well preserved and together with the Coppergate Helmet? 出现错误 Error code: 429 - {'error': {'message': 'You exceeded your current requests list.', 'type': 'limit_requests', 'param': None, 'code': 'limit_requests'}, 'request_id': '6cf131ab-2121-95bd-82c3-ec33ccd83831'}\u001b[0m\n",
      "回答问题:  58%|█████▊    | 29/50 [05:14<03:52, 11.07s/it]"
     ]
    },
    {
     "name": "stdout",
     "output_type": "stream",
     "text": [
      "使用 22a39963-aade-4c05-a3bc-c0eb7cc65ca2 调用 RAG，问题为 What school of work did Heinrich Marschner's predecessor belong to?，当前递归深度为 1使用 e6a8b8b2-7d81-4864-842c-c225ac10164c 调用 RAG，问题为 What school of music did Heinrich Marschner belong to?，当前递归深度为 1\n",
      "使用 50492195-640c-4a8e-884d-5bcdd8c8bbb4 调用 RAG，问题为 What school of work did Heinrich Marschner belong to?，当前递归深度为 1\n",
      "\n",
      "使用 3d35fbed-c586-4578-885f-679beffce521 调用 RAG，问题为 What school of work did Carl Maria von Weber belong to?，当前递归深度为 2\n",
      "使用 a392b06d-ba89-481d-92b7-d8149eb1d64f 调用 RAG，问题为 What are the defining characteristics of the German opera school between Weber and Wagner?，当前递归深度为 2\n",
      "使用 f6878277-84de-4df1-b62b-2ebe5c76188a 调用 RAG，问题为 What is the specific school of work associated with German Romantic opera?，当前递归深度为 2\n",
      "使用 7a3c8498-379c-42a9-a3e5-49668a967c41 调用 RAG，问题为 What defines the German Romantic opera school?，当前递归深度为 3\n",
      "使用 a7beb76e-2cfd-4c00-b250-7cd9c3bde61f 调用 RAG，问题为 What defines German Romantic opera?，当前递归深度为 3\n",
      "使用 c90c1258-2f19-4f01-84ef-4bc20c4cce45 调用 RAG，问题为 What are the key features of operas by other composers between Weber and Wagner?，当前递归深度为 3\n",
      "使用 5d1a52b4-9416-4f6b-9c77-019e7d6e3e1c 调用 RAG，问题为 What are the key features of German opera between Weber and Wagner?，当前递归深度为 3\n",
      "使用 ccc763e7-0491-4863-943b-04a370cf304d 调用 RAG，问题为 What are the musical and thematic characteristics of operas by Weber and Wagner?，当前递归深度为 3\n",
      "使用 1311a192-11f5-4514-8e83-22c5df446734 调用 RAG，问题为 What are the key characteristics of German Romantic opera?，当前递归深度为 4\n",
      "使用 2118a17c-7c4f-40c3-9f09-a8ec68d86db8 调用 RAG，问题为 What are the key characteristics of German Romantic opera school?，当前递归深度为 4\n",
      "使用 a39f5dc5-a723-4b29-a6bc-32e6d4780e0d 调用 RAG，问题为 What are the musical and thematic characteristics of German Romantic opera?，当前递归深度为 4\n",
      "使用 59f46df6-dfa3-4173-b4d8-d6b5b97771ee 调用 RAG，问题为 Who were other composers between Weber and Wagner, and what characterized their operas?，当前递归深度为 4\n",
      "使用 5d92d10d-7bce-43bf-ae27-9473ab7c4a95 调用 RAG，问题为 What characterized German opera's development between Weber and Wagner?，当前递归深度为 4\n",
      "使用 5133def2-85f1-4ba8-9b64-e4fcf167fdb7 调用 RAG，问题为 What are the key characteristics of German opera between Weber and Wagner?，当前递归深度为 4\n",
      "使用 211b0a61-9db1-43d5-b963-086533a8cea6 调用 RAG，问题为 What are common themes and musical styles in German Romantic operas?，当前递归深度为 5\n",
      "使用 0ada9908-c535-4799-906d-a5809610486b 调用 RAG，问题为 What are the musical and thematic characteristics of German Romantic opera?，当前递归深度为 5\n",
      "使用 ea7c219f-ea8e-402f-aec1-410169d1b76b 调用 RAG，问题为 What are the musical and thematic characteristics of German Romantic opera?，当前递归深度为 5\n",
      "使用 1d91be41-6369-49ab-a304-78a48451c899 调用 RAG，问题为 What are the general characteristics and styles of German Romantic opera?，当前递归深度为 5\n",
      "使用 f0f365f3-8db6-4f44-8032-d5328f30a198 调用 RAG，问题为 What are the musical and thematic characteristics of Hans Heiling?，当前递归深度为 5\n",
      "使用 33727ae0-82ab-4f24-93f2-6a498fd83c49 调用 RAG，问题为 What are the musical and thematic traits of operas by Marschner?，当前递归深度为 5\n",
      "使用 9bf42938-0f22-400b-aa90-e1d7f4f70e18 调用 RAG，问题为 What are the key developments in German opera between Weber and Wagner?，当前递归深度为 5\n",
      "使用 062e501a-91da-44c4-bbda-c4753787889b 调用 RAG，问题为 What are the stylistic and thematic features of German operas between Weber and Wagner?，当前递归深度为 5\n",
      "使用 dc4087da-d442-4b1f-97fd-ea0d32d9ce68 调用 RAG，问题为 Who were other composers between Weber and Wagner?，当前递归深度为 5\n",
      "使用 7cde65a7-c975-4202-91d4-86b7b4fb26a7 调用 RAG，问题为 Who were notable composers between Weber and Wagner?，当前递归深度为 5\n",
      "使用 1446a7b8-3a8e-420b-a485-30de2553c3bc 调用 RAG，问题为 What were Marschner's contributions to German opera?，当前递归深度为 5\n",
      "使用 23060b5d-c4f4-4bec-9085-d06ae1e87b94 调用 RAG，问题为 What were the key developments in German opera between Weber and Wagner?，当前递归深度为 5\n",
      "使用 73cd1575-f554-42cb-a305-f31edf167526 调用 RAG，问题为 What were the key developments in German opera post-Weber and pre-Wagner?，当前递归深度为 5\n"
     ]
    },
    {
     "name": "stderr",
     "output_type": "stream",
     "text": [
      "回答问题:  60%|██████    | 30/50 [05:48<06:03, 18.15s/it]"
     ]
    },
    {
     "name": "stdout",
     "output_type": "stream",
     "text": [
      "使用 7dd9943c-dcf2-45cb-b47c-4c55ab23c61d 调用 RAG，问题为 What city is associated with Albany County?，当前递归深度为 1\n",
      "使用 8a57dc3a-d172-4e84-b8a9-b292ef117f87 调用 RAG，问题为 Where is Paul Clyne from?，当前递归深度为 1\n",
      "使用 76f53395-1bc6-4c40-8345-868737b475f2 调用 RAG，问题为 Is Paul Clyne originally from Albany, New York?，当前递归深度为 2\n"
     ]
    },
    {
     "name": "stderr",
     "output_type": "stream",
     "text": [
      "回答问题:  62%|██████▏   | 31/50 [05:59<05:00, 15.80s/it]"
     ]
    },
    {
     "name": "stdout",
     "output_type": "stream",
     "text": [
      "使用 d3062d38-4f98-4b0f-87eb-fefff1de8819 调用 RAG，问题为 Who was the second-year head coach of the Oregon Ducks during the 2014 season?，当前递归深度为 1使用 ba122932-1ae6-4379-b32f-8374740f12d7 调用 RAG，问题为 Did the 2014 Oregon Ducks win the Pac-12 Conference title?，当前递归深度为 1\n",
      "\n"
     ]
    },
    {
     "name": "stderr",
     "output_type": "stream",
     "text": [
      "回答问题:  68%|██████▊   | 34/50 [06:13<02:10,  8.15s/it]"
     ]
    },
    {
     "name": "stdout",
     "output_type": "stream",
     "text": [
      "使用 8e845e8f-0afb-499b-9286-c50a9ec978d9 调用 RAG，问题为 How many members are in World Party?，当前递归深度为 1使用 7661ac7d-eb1e-4096-be41-cb512d5da971 调用 RAG，问题为 How many members are in Dashboard Confessional?，当前递归深度为 1\n",
      "\n"
     ]
    },
    {
     "name": "stderr",
     "output_type": "stream",
     "text": [
      "回答问题:  70%|███████   | 35/50 [06:21<02:00,  8.05s/it]"
     ]
    },
    {
     "name": "stdout",
     "output_type": "stream",
     "text": [
      "使用 c8bc2aee-4f92-484b-9afa-c46532b82960 调用 RAG，问题为 Is Izze an artificially flavored soft drink?，当前递归深度为 1使用 9f2c793c-99f5-480a-90b8-0ab72c68d6e7 调用 RAG，问题为 Is Grapico artificially flavored?，当前递归深度为 1\n",
      "\n"
     ]
    },
    {
     "name": "stderr",
     "output_type": "stream",
     "text": [
      "回答问题:  72%|███████▏  | 36/50 [06:29<01:54,  8.20s/it]"
     ]
    },
    {
     "name": "stdout",
     "output_type": "stream",
     "text": [
      "使用 f679a1dd-2b18-42f8-8fe5-e03b321b07b2 调用 RAG，问题为 Who else is represented by Amal Clooney besides Assange, Tymoshenko, and Fahmy?，当前递归深度为 1\n",
      "使用 a8369405-81c4-4212-b78a-18c75b5f7364 调用 RAG，问题为 Who are other notable clients represented by Amal Clooney?，当前递归深度为 2\n",
      "使用 6e7c1f51-51e8-47da-84cd-7252352283bc 调用 RAG，问题为 Who are other high-profile individuals Amal Clooney has represented?，当前递归深度为 3\n",
      "使用 e6a0bc32-bdfd-40d7-8079-6b218f7a7698 调用 RAG，问题为 What other notable clients has Amal Clooney represented besides Julian Assange, Yulia Tymoshenko, and Mohamed Fahmy?，当前递归深度为 4\n"
     ]
    },
    {
     "name": "stderr",
     "output_type": "stream",
     "text": [
      "回答问题:  74%|███████▍  | 37/50 [06:46<02:18, 10.67s/it]"
     ]
    },
    {
     "name": "stdout",
     "output_type": "stream",
     "text": [
      "使用 2b2197eb-d675-41a4-9ac3-78dc7f041806 调用 RAG，问题为 Where is Audioslave from?，当前递归深度为 1\n",
      "使用 6b60be1a-7787-409c-9e6b-fc7c84e9c4a8 调用 RAG，问题为 Where is Halestorm from?，当前递归深度为 1\n",
      "使用 7b26bed5-f161-41a5-a976-0bbde08c730e 调用 RAG，问题为 Where is Halestorm from?，当前递归深度为 1\n"
     ]
    },
    {
     "name": "stderr",
     "output_type": "stream",
     "text": [
      "回答问题:  80%|████████  | 40/50 [07:00<01:05,  6.57s/it]"
     ]
    },
    {
     "name": "stdout",
     "output_type": "stream",
     "text": [
      "使用 841b9ce4-df71-4ce7-8a12-10538e517c24 调用 RAG，问题为 Who is the captain of MLS club Colorado Rapids?，当前递归深度为 1\n"
     ]
    },
    {
     "name": "stderr",
     "output_type": "stream",
     "text": [
      "回答问题:  82%|████████▏ | 41/50 [07:05<00:55,  6.22s/it]"
     ]
    },
    {
     "name": "stdout",
     "output_type": "stream",
     "text": [
      "使用 3f57f035-a680-4484-9595-ee046adeb404 调用 RAG，问题为 When did the fifteenth season of The Simpsons begin?，当前递归深度为 1\n",
      "使用 9b409d23-d284-4572-b1b9-c75766c65d88 调用 RAG，问题为 When did the season containing 'Co-Dependents' Day' start?，当前递归深度为 1\n",
      "使用 299b566d-6925-4d84-b914-103fb40c8ef9 调用 RAG，问题为 When did the fifteenth season of 'The Simpsons' start?，当前递归深度为 2\n",
      "使用 fc27f0f6-5de6-448d-937b-fe1902e41308 调用 RAG，问题为 Which season does 'Co-Dependents' Day' belong to?，当前递归深度为 2\n"
     ]
    },
    {
     "name": "stderr",
     "output_type": "stream",
     "text": [
      "回答问题:  86%|████████▌ | 43/50 [07:20<00:46,  6.59s/it]"
     ]
    },
    {
     "name": "stdout",
     "output_type": "stream",
     "text": [
      "使用 ddf33dd2-3cc1-47de-aeeb-8571e7a1cf16 调用 RAG，问题为 Which suburb of Adelaide in the City of Norwood Payneham St Peters is included in the electoral district of Dunstan?，当前递归深度为 1使用 ad2a66b2-12be-4d8d-98e5-3717de5892fb 调用 RAG，问题为 Which electoral district includes the suburb of St Peters in the City of Norwood Payneham St Peters?，当前递归深度为 1\n",
      "使用 3f002186-04d3-439d-a9e0-e611ba52588e 调用 RAG，问题为 Which suburb is included in the electoral district of Dunstan?，当前递归深度为 1\n",
      "\n",
      "使用 b5de5d7a-a3b8-4482-86fb-3d3826471b4b 调用 RAG，问题为 Which suburbs in the City of Norwood Payneham St Peters are part of Dunstan?，当前递归深度为 2\n",
      "使用 feb31f7f-5d5a-47ed-a6e1-46933f29b15f 调用 RAG，问题为 Which electoral district includes the suburb of St Peters?，当前递归深度为 2\n",
      "使用 73b2e40f-c49f-4e43-8d84-ef04bb26d037 调用 RAG，问题为 Which suburbs are in the electoral district of Dunstan?，当前递归深度为 2\n",
      "使用 79696be5-e6b9-470b-bb99-8e0d7cef8035 调用 RAG，问题为 Which suburbs are in both Dunstan and the City of Norwood Payneham St Peters?，当前递归深度为 3\n",
      "使用 6f4e26e6-5774-4d59-b62f-c7c0300adc8f 调用 RAG，问题为 Which suburbs overlap between Dunstan and City of Norwood Payneham St Peters?，当前递归深度为 4\n",
      "使用 d466ea77-4374-4ac6-9e87-3cb218b27ae1 调用 RAG，问题为 Which suburbs are included in both Dunstan and City of Norwood Payneham St Peters?，当前递归深度为 5\n"
     ]
    },
    {
     "name": "stderr",
     "output_type": "stream",
     "text": [
      "回答问题:  88%|████████▊ | 44/50 [07:53<01:26, 14.48s/it]"
     ]
    },
    {
     "name": "stdout",
     "output_type": "stream",
     "text": [
      "使用 0ee4bcfc-a90c-48cf-ad99-05ed2635a53d 调用 RAG，问题为 Who wrote the song 'Always and Forever'?，当前递归深度为 1\n",
      "使用 8731b0c0-2eac-4ce3-8b9b-cc7fe795f0b4 调用 RAG，问题为 Who wrote the song 'Always and Forever' which became a No. 1 hit?，当前递归深度为 1\n"
     ]
    },
    {
     "name": "stderr",
     "output_type": "stream",
     "text": [
      "回答问题:  98%|█████████▊| 49/50 [08:11<00:05,  5.13s/it]"
     ]
    },
    {
     "name": "stdout",
     "output_type": "stream",
     "text": [
      "使用 8398c1d3-47e9-4304-8c5d-4e2af2a9ce83 调用 RAG，问题为 Who co-wrote the 2011 American Romantic comedy film directed by Dennis Dugan?，当前递归深度为 1使用 297f596c-ba31-4720-8e6c-eca4fa4d92a3 调用 RAG，问题为 Who co-wrote the 2011 film 'Just Go with It' alongside Allan Loeb?，当前递归深度为 1\n",
      "\n",
      "使用 d7865d30-42ae-4db3-8618-0f59a589623d 调用 RAG，问题为 Who co-wrote the 2011 film Jack and Jill with Allan Loeb?，当前递归深度为 1\n"
     ]
    },
    {
     "name": "stderr",
     "output_type": "stream",
     "text": [
      "回答问题: 100%|██████████| 50/50 [08:22<00:00, 10.04s/it]\n"
     ]
    }
   ],
   "source": [
    "# 实际使用的是 qwen-max-latest，不然总是容易达到 limit_requests\n",
    "# 两个模型的实际性能也差不多\n",
    "get_qa_pair(\n",
    "    qa_system=rag_with_judge,\n",
    "    config=config,\n",
    "    question_path='../data/hotpotqa_test_data_500.json',\n",
    "    test_size=50,\n",
    "    test_type='continue',\n",
    "    # test_type='new',\n",
    "    qa_res_path='./hotpotqa/rag_with_judge/qa_result_rerank_model_qwenmax0125.json'\n",
    ")"
   ]
  },
  {
   "cell_type": "code",
   "execution_count": 31,
   "id": "eb11a69a",
   "metadata": {},
   "outputs": [
    {
     "name": "stderr",
     "output_type": "stream",
     "text": [
      "\u001b[32m2025-08-04 16:34:27.955\u001b[0m | \u001b[1mINFO    \u001b[0m | \u001b[36mmetrics.em_f1\u001b[0m:\u001b[36mevaluation\u001b[0m:\u001b[36m127\u001b[0m - \u001b[1m加载了 500 个问答对\u001b[0m\n",
      "处理问答对: 100%|██████████| 500/500 [00:01<00:00, 309.32it/s]\n",
      "\u001b[32m2025-08-04 16:34:29.591\u001b[0m | \u001b[1mINFO    \u001b[0m | \u001b[36mmetrics.em_f1\u001b[0m:\u001b[36mevaluation\u001b[0m:\u001b[36m169\u001b[0m - \u001b[1m\n",
      " EM: 0.524 \n",
      " f1: 0.679591142326462 \n",
      " precision: 0.6745345256738445 \n",
      " recall: 0.7423285714285714\u001b[0m\n"
     ]
    }
   ],
   "source": [
    "em_f1_eval(\n",
    "    qa_res_path='./hotpotqa/rag_with_judge/qa_result_rerank_model_qwenmax0125.json',\n",
    "    eval_res_path='./hotpotqa/rag_with_judge/eval_result_rerank_model_qwenmax0125.json'\n",
    ")"
   ]
  },
  {
   "cell_type": "markdown",
   "id": "58c7627d",
   "metadata": {},
   "source": [
    "# 结果汇总\n"
   ]
  },
  {
   "cell_type": "markdown",
   "id": "25c26a3e",
   "metadata": {},
   "source": [
    "### 仅使用 LLM 回答"
   ]
  },
  {
   "cell_type": "code",
   "execution_count": null,
   "id": "f921a305",
   "metadata": {},
   "outputs": [
    {
     "name": "stderr",
     "output_type": "stream",
     "text": [
      "\u001b[32m2025-08-04 18:56:44.585\u001b[0m | \u001b[1mINFO    \u001b[0m | \u001b[36mmetrics.em_f1\u001b[0m:\u001b[36mevaluation\u001b[0m:\u001b[36m127\u001b[0m - \u001b[1m加载了 100 个问答对\u001b[0m\n",
      "处理问答对: 100%|██████████| 100/100 [00:00<00:00, 304.24it/s]\n",
      "\u001b[32m2025-08-04 18:56:44.919\u001b[0m | \u001b[1mINFO    \u001b[0m | \u001b[36mmetrics.em_f1\u001b[0m:\u001b[36mevaluation\u001b[0m:\u001b[36m169\u001b[0m - \u001b[1m\n",
      " EM: 0.2 \n",
      " f1: 0.36665614673864316 \n",
      " precision: 0.3669081289081289 \n",
      " recall: 0.4380238095238095\u001b[0m\n"
     ]
    }
   ],
   "source": [
    "# 使用 qwen-max-2025-01-25，共 100 个问题\n",
    "em_f1_eval(\n",
    "    qa_res_path='./hotpotqa/llm_only/qa_result_qwenmax0125.json',\n",
    "    eval_res_path='./hotpotqa/llm_only/eval_result_qwenmax0125.json'\n",
    ")"
   ]
  },
  {
   "cell_type": "code",
   "execution_count": 33,
   "id": "57b112fc",
   "metadata": {},
   "outputs": [
    {
     "name": "stderr",
     "output_type": "stream",
     "text": [
      "\u001b[32m2025-08-04 18:57:44.677\u001b[0m | \u001b[1mINFO    \u001b[0m | \u001b[36mmetrics.em_f1\u001b[0m:\u001b[36mevaluation\u001b[0m:\u001b[36m127\u001b[0m - \u001b[1m加载了 100 个问答对\u001b[0m\n",
      "处理问答对: 100%|██████████| 100/100 [00:00<00:00, 306.00it/s]\n",
      "\u001b[32m2025-08-04 18:57:45.010\u001b[0m | \u001b[1mINFO    \u001b[0m | \u001b[36mmetrics.em_f1\u001b[0m:\u001b[36mevaluation\u001b[0m:\u001b[36m169\u001b[0m - \u001b[1m\n",
      " EM: 0.14 \n",
      " f1: 0.22479761904761905 \n",
      " precision: 0.2312808857808858 \n",
      " recall: 0.23777380952380953\u001b[0m\n"
     ]
    }
   ],
   "source": [
    "# 使用 qwen2.5-7b-instruct，共 100 个问题\n",
    "em_f1_eval(\n",
    "    qa_res_path='./hotpotqa/llm_only/qa_result_qwen2.5-7b.json',\n",
    "    eval_res_path='./hotpotqa/llm_only/eval_result_qwen2.5-7b.json'\n",
    ")"
   ]
  },
  {
   "cell_type": "markdown",
   "id": "cbda5fce",
   "metadata": {},
   "source": [
    "### Naive RAG 使用单密集检索器"
   ]
  },
  {
   "cell_type": "code",
   "execution_count": 34,
   "id": "5dc8a8e2",
   "metadata": {},
   "outputs": [
    {
     "name": "stderr",
     "output_type": "stream",
     "text": [
      "\u001b[32m2025-08-04 19:00:31.370\u001b[0m | \u001b[1mINFO    \u001b[0m | \u001b[36mmetrics.em_f1\u001b[0m:\u001b[36mevaluation\u001b[0m:\u001b[36m127\u001b[0m - \u001b[1m加载了 100 个问答对\u001b[0m\n",
      "处理问答对: 100%|██████████| 100/100 [00:00<00:00, 284.39it/s]\n",
      "\u001b[32m2025-08-04 19:00:31.723\u001b[0m | \u001b[1mINFO    \u001b[0m | \u001b[36mmetrics.em_f1\u001b[0m:\u001b[36mevaluation\u001b[0m:\u001b[36m169\u001b[0m - \u001b[1m\n",
      " EM: 0.35 \n",
      " f1: 0.5544801587301587 \n",
      " precision: 0.562153743315508 \n",
      " recall: 0.5913571428571429\u001b[0m\n"
     ]
    }
   ],
   "source": [
    "# 使用 qwen-max-2025-01-25，共 100 个问题\n",
    "em_f1_eval(\n",
    "    qa_res_path='./hotpotqa/naive_rag/qa_result_qwenmax0125.json',\n",
    "    eval_res_path='./hotpotqa/naive_rag/eval_result_qwenmax0125.json'\n",
    ")"
   ]
  },
  {
   "cell_type": "code",
   "execution_count": 35,
   "id": "c2e31390",
   "metadata": {},
   "outputs": [
    {
     "name": "stderr",
     "output_type": "stream",
     "text": [
      "\u001b[32m2025-08-04 19:01:08.689\u001b[0m | \u001b[1mINFO    \u001b[0m | \u001b[36mmetrics.em_f1\u001b[0m:\u001b[36mevaluation\u001b[0m:\u001b[36m127\u001b[0m - \u001b[1m加载了 100 个问答对\u001b[0m\n",
      "处理问答对: 100%|██████████| 100/100 [00:00<00:00, 303.51it/s]\n",
      "\u001b[32m2025-08-04 19:01:09.020\u001b[0m | \u001b[1mINFO    \u001b[0m | \u001b[36mmetrics.em_f1\u001b[0m:\u001b[36mevaluation\u001b[0m:\u001b[36m169\u001b[0m - \u001b[1m\n",
      " EM: 0.29 \n",
      " f1: 0.4253795093795094 \n",
      " precision: 0.4441308674985146 \n",
      " recall: 0.43885714285714283\u001b[0m\n"
     ]
    }
   ],
   "source": [
    "# 使用 qwen2.5-7b-instruct，共 100 个问题\n",
    "em_f1_eval(\n",
    "    qa_res_path='./hotpotqa/naive_rag/qa_result_qwen2.5-7b.json',\n",
    "    eval_res_path='./hotpotqa/naive_rag/eval_result_qwen2.5-7b.json'\n",
    ")"
   ]
  },
  {
   "cell_type": "markdown",
   "id": "8b764ac0",
   "metadata": {},
   "source": [
    "### Naive RAG 使用 rerank model"
   ]
  },
  {
   "cell_type": "code",
   "execution_count": 36,
   "id": "6af05803",
   "metadata": {},
   "outputs": [
    {
     "name": "stderr",
     "output_type": "stream",
     "text": [
      "\u001b[32m2025-08-04 19:02:17.712\u001b[0m | \u001b[1mINFO    \u001b[0m | \u001b[36mmetrics.em_f1\u001b[0m:\u001b[36mevaluation\u001b[0m:\u001b[36m127\u001b[0m - \u001b[1m加载了 500 个问答对\u001b[0m\n",
      "处理问答对: 100%|██████████| 500/500 [00:01<00:00, 300.27it/s]\n",
      "\u001b[32m2025-08-04 19:02:19.378\u001b[0m | \u001b[1mINFO    \u001b[0m | \u001b[36mmetrics.em_f1\u001b[0m:\u001b[36mevaluation\u001b[0m:\u001b[36m169\u001b[0m - \u001b[1m\n",
      " EM: 0.492 \n",
      " f1: 0.6454396762107288 \n",
      " precision: 0.6421265215176979 \n",
      " recall: 0.6948523809523809\u001b[0m\n"
     ]
    }
   ],
   "source": [
    "# 使用 qwen-max-2025-01-25，共 500 个问题\n",
    "em_f1_eval(\n",
    "    qa_res_path='./hotpotqa/naive_rag/qa_result_rerank_model_qwenmax0125.json',\n",
    "    eval_res_path='./hotpotqa/naive_rag/eval_result_rerank_model_qwenmax0125.json'\n",
    ")"
   ]
  },
  {
   "cell_type": "code",
   "execution_count": 37,
   "id": "1e8739b6",
   "metadata": {},
   "outputs": [
    {
     "name": "stderr",
     "output_type": "stream",
     "text": [
      "\u001b[32m2025-08-04 19:03:20.943\u001b[0m | \u001b[1mINFO    \u001b[0m | \u001b[36mmetrics.em_f1\u001b[0m:\u001b[36mevaluation\u001b[0m:\u001b[36m127\u001b[0m - \u001b[1m加载了 100 个问答对\u001b[0m\n",
      "处理问答对: 100%|██████████| 100/100 [00:00<00:00, 275.28it/s]\n",
      "\u001b[32m2025-08-04 19:03:21.313\u001b[0m | \u001b[1mINFO    \u001b[0m | \u001b[36mmetrics.em_f1\u001b[0m:\u001b[36mevaluation\u001b[0m:\u001b[36m169\u001b[0m - \u001b[1m\n",
      " EM: 0.35 \n",
      " f1: 0.48476479076479073 \n",
      " precision: 0.508361111111111 \n",
      " recall: 0.4945238095238095\u001b[0m\n"
     ]
    }
   ],
   "source": [
    "# 使用 qwen2.5-7b-instruct，共 100 个问题\n",
    "em_f1_eval(\n",
    "    qa_res_path='./hotpotqa/naive_rag/qa_result_rerank_model_qwen2.5-7b.json',\n",
    "    eval_res_path='./hotpotqa/naive_rag/eval_result_rerank_model_qwen2.5-7b.json'\n",
    ")"
   ]
  },
  {
   "cell_type": "markdown",
   "id": "a9751648",
   "metadata": {},
   "source": [
    "### RAG with Judge 使用 rerank model"
   ]
  },
  {
   "cell_type": "code",
   "execution_count": 38,
   "id": "2de1d92c",
   "metadata": {},
   "outputs": [
    {
     "name": "stderr",
     "output_type": "stream",
     "text": [
      "\u001b[32m2025-08-04 19:05:14.103\u001b[0m | \u001b[1mINFO    \u001b[0m | \u001b[36mmetrics.em_f1\u001b[0m:\u001b[36mevaluation\u001b[0m:\u001b[36m127\u001b[0m - \u001b[1m加载了 500 个问答对\u001b[0m\n",
      "处理问答对: 100%|██████████| 500/500 [00:01<00:00, 291.34it/s]\n",
      "\u001b[32m2025-08-04 19:05:15.819\u001b[0m | \u001b[1mINFO    \u001b[0m | \u001b[36mmetrics.em_f1\u001b[0m:\u001b[36mevaluation\u001b[0m:\u001b[36m169\u001b[0m - \u001b[1m\n",
      " EM: 0.524 \n",
      " f1: 0.679591142326462 \n",
      " precision: 0.6745345256738445 \n",
      " recall: 0.7423285714285714\u001b[0m\n"
     ]
    }
   ],
   "source": [
    "# 使用 qwen-max-latest，共 500 个问题\n",
    "em_f1_eval(\n",
    "    qa_res_path='./hotpotqa/rag_with_judge/qa_result_rerank_model_qwenmax0125.json',\n",
    "    eval_res_path='./hotpotqa/rag_with_judge/eval_result_rerank_model_qwenmax0125.json'\n",
    ")"
   ]
  },
  {
   "cell_type": "code",
   "execution_count": 39,
   "id": "5ef67812",
   "metadata": {},
   "outputs": [
    {
     "name": "stderr",
     "output_type": "stream",
     "text": [
      "\u001b[32m2025-08-04 19:05:48.363\u001b[0m | \u001b[1mINFO    \u001b[0m | \u001b[36mmetrics.em_f1\u001b[0m:\u001b[36mevaluation\u001b[0m:\u001b[36m127\u001b[0m - \u001b[1m加载了 100 个问答对\u001b[0m\n",
      "处理问答对: 100%|██████████| 100/100 [00:00<00:00, 311.54it/s]\n",
      "\u001b[32m2025-08-04 19:05:48.686\u001b[0m | \u001b[1mINFO    \u001b[0m | \u001b[36mmetrics.em_f1\u001b[0m:\u001b[36mevaluation\u001b[0m:\u001b[36m169\u001b[0m - \u001b[1m\n",
      " EM: 0.31 \n",
      " f1: 0.4824747442100383 \n",
      " precision: 0.48235914085914083 \n",
      " recall: 0.5470238095238095\u001b[0m\n"
     ]
    }
   ],
   "source": [
    "# 使用 qwen2.5-7b-instruct，共 100 个问题\n",
    "em_f1_eval(\n",
    "    qa_res_path='./hotpotqa/rag_with_judge/qa_result_rerank_model_qwen2.5-7b.json',\n",
    "    eval_res_path='./hotpotqa/rag_with_judge/eval_result_rerank_model_qwen2.5-7b.json'\n",
    ")"
   ]
  },
  {
   "cell_type": "code",
   "execution_count": null,
   "id": "5804e526",
   "metadata": {},
   "outputs": [],
   "source": []
  },
  {
   "cell_type": "code",
   "execution_count": null,
   "id": "317e39c0",
   "metadata": {},
   "outputs": [],
   "source": []
  },
  {
   "cell_type": "code",
   "execution_count": null,
   "id": "18c11fdf",
   "metadata": {},
   "outputs": [],
   "source": []
  },
  {
   "cell_type": "code",
   "execution_count": null,
   "id": "98d132a0",
   "metadata": {},
   "outputs": [],
   "source": []
  },
  {
   "cell_type": "code",
   "execution_count": null,
   "id": "aa58c576",
   "metadata": {},
   "outputs": [],
   "source": []
  },
  {
   "cell_type": "code",
   "execution_count": null,
   "id": "1b18f4de",
   "metadata": {},
   "outputs": [],
   "source": []
  },
  {
   "cell_type": "code",
   "execution_count": null,
   "id": "3701ca6b",
   "metadata": {},
   "outputs": [],
   "source": []
  },
  {
   "cell_type": "code",
   "execution_count": 13,
   "id": "5f1d6909",
   "metadata": {},
   "outputs": [],
   "source": [
    "from loguru import logger as log\n",
    "from typing import TypedDict, List, Literal\n",
    "\n",
    "from langgraph.graph import START, StateGraph, END\n",
    "from langgraph.types import Send\n",
    "\n",
    "\n",
    "class aState(TypedDict):\n",
    "    a: List[List[str]]\n",
    "\n",
    "class bState(TypedDict):\n",
    "    b: List[str]\n",
    "\n",
    "\n",
    "def node1(state: aState) -> aState:\n",
    "    log.info(f'node1: {state}')\n",
    "    state['a'].append(['node1 1'])\n",
    "    state['a'].append(['node1 2'])\n",
    "    \n",
    "    return \n",
    "\n",
    "def node1_to_node2(state: aState):\n",
    "    log.info(f'node1_to_node2: {state}')\n",
    "\n",
    "    return [\n",
    "        Send(\n",
    "            'node2',\n",
    "            {\n",
    "                'b': con\n",
    "            }\n",
    "        )\n",
    "        for con in state['a']\n",
    "    ]\n",
    "\n",
    "\n",
    "def node2(state: bState):\n",
    "    log.info(f'node2: {state}')\n",
    "    state['b'].append(1)\n",
    "\n",
    "    return \n",
    "\n",
    "\n",
    "def tmp(state: aState):\n",
    "    return \n",
    "\n",
    "\n",
    "def is_1_in_a(state: aState) -> Literal['1 in a', '1 not in a']:\n",
    "    log.info(f'is_1_in_a: {state}')\n",
    "\n",
    "    for con in state['a']:\n",
    "        if '1' in con:\n",
    "            return '1 in a'\n",
    "    \n",
    "    return '1 not in a'\n",
    "\n",
    "def node3(state: aState):\n",
    "    log.info(f'node3: {state}')\n",
    "\n",
    "    return"
   ]
  },
  {
   "cell_type": "code",
   "execution_count": 14,
   "id": "b65bdaa9",
   "metadata": {},
   "outputs": [],
   "source": [
    "wf1 = StateGraph(aState)\n",
    "\n",
    "# 不加 tmp 节点\n",
    "wf1.add_node('node1', node1)\n",
    "wf1.add_node('node2', node2)\n",
    "wf1.add_node('node3', node3)\n",
    "\n",
    "wf1.add_edge(START, 'node1')\n",
    "wf1.add_conditional_edges(\n",
    "    'node1',\n",
    "    node1_to_node2,\n",
    "    ['node2']\n",
    ")\n",
    "wf1.add_conditional_edges(\n",
    "    'node2',\n",
    "    is_1_in_a,\n",
    "    {\n",
    "        '1 in a': 'node3',\n",
    "        '1 not in a': END\n",
    "    }\n",
    ")\n",
    "wf1.add_edge('node3', END)\n",
    "\n",
    "g_wo_tmp = wf1.compile()"
   ]
  },
  {
   "cell_type": "code",
   "execution_count": 15,
   "id": "8a278fe9",
   "metadata": {},
   "outputs": [],
   "source": [
    "wf = StateGraph(aState)\n",
    "\n",
    "# 加 tmp 节点\n",
    "wf.add_node('node1', node1)\n",
    "wf.add_node('node2', node2)\n",
    "wf.add_node('tmp', tmp)\n",
    "wf.add_node('node3', node3)\n",
    "\n",
    "wf.add_edge(START, 'node1')\n",
    "wf.add_conditional_edges(\n",
    "    'node1',\n",
    "    node1_to_node2,\n",
    "    ['node2']\n",
    ")\n",
    "wf.add_edge('node2', 'tmp')\n",
    "wf.add_conditional_edges(\n",
    "    'tmp',\n",
    "    is_1_in_a,\n",
    "    {\n",
    "        '1 in a': 'node3',\n",
    "        '1 not in a': END\n",
    "    }\n",
    ")\n",
    "wf.add_edge('node3', END)\n",
    "\n",
    "g_w_tmp = wf.compile()"
   ]
  },
  {
   "cell_type": "code",
   "execution_count": 16,
   "id": "8b6b0c9a",
   "metadata": {},
   "outputs": [
    {
     "data": {
      "image/png": "[encoded data removed]",
      "text/plain": [
       "<IPython.core.display.Image object>"
      ]
     },
     "metadata": {},
     "output_type": "display_data"
    }
   ],
   "source": [
    "from IPython.display import Image, display\n",
    "\n",
    "display(Image(g_wo_tmp.get_graph().draw_mermaid_png()))"
   ]
  },
  {
   "cell_type": "code",
   "execution_count": 17,
   "id": "3e095edc",
   "metadata": {},
   "outputs": [
    {
     "data": {
      "image/png": "[encoded data removed]",
      "text/plain": [
       "<IPython.core.display.Image object>"
      ]
     },
     "metadata": {},
     "output_type": "display_data"
    }
   ],
   "source": [
    "display(Image(g_w_tmp.get_graph().draw_mermaid_png()))"
   ]
  },
  {
   "cell_type": "code",
   "execution_count": 7,
   "id": "7047f568",
   "metadata": {},
   "outputs": [
    {
     "data": {
      "image/png": "[encoded data removed]",
      "text/plain": [
       "<IPython.core.display.Image object>"
      ]
     },
     "metadata": {},
     "output_type": "display_data"
    }
   ],
   "source": [
    "from IPython.display import Image, display\n",
    "\n",
    "display(Image(rag_with_judge.get_graph().draw_mermaid_png()))"
   ]
  },
  {
   "cell_type": "code",
   "execution_count": 18,
   "id": "42600563",
   "metadata": {},
   "outputs": [
    {
     "name": "stderr",
     "output_type": "stream",
     "text": [
      "\u001b[32m2025-08-01 13:54:10.082\u001b[0m | \u001b[1mINFO    \u001b[0m | \u001b[36m__main__\u001b[0m:\u001b[36mnode1\u001b[0m:\u001b[36m16\u001b[0m - \u001b[1mnode1: {'a': []}\u001b[0m\n",
      "\u001b[32m2025-08-01 13:54:10.085\u001b[0m | \u001b[1mINFO    \u001b[0m | \u001b[36m__main__\u001b[0m:\u001b[36mnode1_to_node2\u001b[0m:\u001b[36m23\u001b[0m - \u001b[1mnode1_to_node2: {'a': [['node1 1'], ['node1 2']]}\u001b[0m\n",
      "\u001b[32m2025-08-01 13:54:10.088\u001b[0m | \u001b[1mINFO    \u001b[0m | \u001b[36m__main__\u001b[0m:\u001b[36mnode2\u001b[0m:\u001b[36m37\u001b[0m - \u001b[1mnode2: {'b': ['node1 1']}\u001b[0m\n",
      "\u001b[32m2025-08-01 13:54:10.093\u001b[0m | \u001b[1mINFO    \u001b[0m | \u001b[36m__main__\u001b[0m:\u001b[36mnode2\u001b[0m:\u001b[36m37\u001b[0m - \u001b[1mnode2: {'b': ['node1 2']}\u001b[0m\n",
      "\u001b[32m2025-08-01 13:54:10.094\u001b[0m | \u001b[1mINFO    \u001b[0m | \u001b[36m__main__\u001b[0m:\u001b[36mis_1_in_a\u001b[0m:\u001b[36m48\u001b[0m - \u001b[1mis_1_in_a: {}\u001b[0m\n",
      "\u001b[32m2025-08-01 13:54:10.100\u001b[0m | \u001b[1mINFO    \u001b[0m | \u001b[36m__main__\u001b[0m:\u001b[36mis_1_in_a\u001b[0m:\u001b[36m48\u001b[0m - \u001b[1mis_1_in_a: {}\u001b[0m\n"
     ]
    },
    {
     "ename": "KeyError",
     "evalue": "'a'",
     "output_type": "error",
     "traceback": [
      "\u001b[1;31m---------------------------------------------------------------------------\u001b[0m",
      "\u001b[1;31mKeyError\u001b[0m                                  Traceback (most recent call last)",
      "Cell \u001b[1;32mIn[18], line 1\u001b[0m\n\u001b[1;32m----> 1\u001b[0m \u001b[43mg_wo_tmp\u001b[49m\u001b[38;5;241;43m.\u001b[39;49m\u001b[43minvoke\u001b[49m\u001b[43m(\u001b[49m\u001b[38;5;28;43minput\u001b[39;49m\u001b[38;5;241;43m=\u001b[39;49m\u001b[43m{\u001b[49m\u001b[38;5;124;43m'\u001b[39;49m\u001b[38;5;124;43ma\u001b[39;49m\u001b[38;5;124;43m'\u001b[39;49m\u001b[43m:\u001b[49m\u001b[43m \u001b[49m\u001b[43m[\u001b[49m\u001b[43m]\u001b[49m\u001b[43m}\u001b[49m\u001b[43m)\u001b[49m\n",
      "File \u001b[1;32md:\\NMK\\Anaconda\\envs\\llm\\Lib\\site-packages\\langgraph\\pregel\\__init__.py:2069\u001b[0m, in \u001b[0;36mPregel.invoke\u001b[1;34m(self, input, config, stream_mode, output_keys, interrupt_before, interrupt_after, debug, **kwargs)\u001b[0m\n\u001b[0;32m   2067\u001b[0m \u001b[38;5;28;01melse\u001b[39;00m:\n\u001b[0;32m   2068\u001b[0m     chunks \u001b[38;5;241m=\u001b[39m []\n\u001b[1;32m-> 2069\u001b[0m \u001b[43m\u001b[49m\u001b[38;5;28;43;01mfor\u001b[39;49;00m\u001b[43m \u001b[49m\u001b[43mchunk\u001b[49m\u001b[43m \u001b[49m\u001b[38;5;129;43;01min\u001b[39;49;00m\u001b[43m \u001b[49m\u001b[38;5;28;43mself\u001b[39;49m\u001b[38;5;241;43m.\u001b[39;49m\u001b[43mstream\u001b[49m\u001b[43m(\u001b[49m\n\u001b[0;32m   2070\u001b[0m \u001b[43m    \u001b[49m\u001b[38;5;28;43minput\u001b[39;49m\u001b[43m,\u001b[49m\n\u001b[0;32m   2071\u001b[0m \u001b[43m    \u001b[49m\u001b[43mconfig\u001b[49m\u001b[43m,\u001b[49m\n\u001b[0;32m   2072\u001b[0m \u001b[43m    \u001b[49m\u001b[43mstream_mode\u001b[49m\u001b[38;5;241;43m=\u001b[39;49m\u001b[43mstream_mode\u001b[49m\u001b[43m,\u001b[49m\n\u001b[0;32m   2073\u001b[0m \u001b[43m    \u001b[49m\u001b[43moutput_keys\u001b[49m\u001b[38;5;241;43m=\u001b[39;49m\u001b[43moutput_keys\u001b[49m\u001b[43m,\u001b[49m\n\u001b[0;32m   2074\u001b[0m \u001b[43m    \u001b[49m\u001b[43minterrupt_before\u001b[49m\u001b[38;5;241;43m=\u001b[39;49m\u001b[43minterrupt_before\u001b[49m\u001b[43m,\u001b[49m\n\u001b[0;32m   2075\u001b[0m \u001b[43m    \u001b[49m\u001b[43minterrupt_after\u001b[49m\u001b[38;5;241;43m=\u001b[39;49m\u001b[43minterrupt_after\u001b[49m\u001b[43m,\u001b[49m\n\u001b[0;32m   2076\u001b[0m \u001b[43m    \u001b[49m\u001b[43mdebug\u001b[49m\u001b[38;5;241;43m=\u001b[39;49m\u001b[43mdebug\u001b[49m\u001b[43m,\u001b[49m\n\u001b[0;32m   2077\u001b[0m \u001b[43m    \u001b[49m\u001b[38;5;241;43m*\u001b[39;49m\u001b[38;5;241;43m*\u001b[39;49m\u001b[43mkwargs\u001b[49m\u001b[43m,\u001b[49m\n\u001b[0;32m   2078\u001b[0m \u001b[43m\u001b[49m\u001b[43m)\u001b[49m\u001b[43m:\u001b[49m\n\u001b[0;32m   2079\u001b[0m \u001b[43m    \u001b[49m\u001b[38;5;28;43;01mif\u001b[39;49;00m\u001b[43m \u001b[49m\u001b[43mstream_mode\u001b[49m\u001b[43m \u001b[49m\u001b[38;5;241;43m==\u001b[39;49m\u001b[43m \u001b[49m\u001b[38;5;124;43m\"\u001b[39;49m\u001b[38;5;124;43mvalues\u001b[39;49m\u001b[38;5;124;43m\"\u001b[39;49m\u001b[43m:\u001b[49m\n\u001b[0;32m   2080\u001b[0m \u001b[43m        \u001b[49m\u001b[43mlatest\u001b[49m\u001b[43m \u001b[49m\u001b[38;5;241;43m=\u001b[39;49m\u001b[43m \u001b[49m\u001b[43mchunk\u001b[49m\n",
      "File \u001b[1;32md:\\NMK\\Anaconda\\envs\\llm\\Lib\\site-packages\\langgraph\\pregel\\__init__.py:1724\u001b[0m, in \u001b[0;36mPregel.stream\u001b[1;34m(self, input, config, stream_mode, output_keys, interrupt_before, interrupt_after, debug, subgraphs)\u001b[0m\n\u001b[0;32m   1718\u001b[0m     \u001b[38;5;66;03m# Similarly to Bulk Synchronous Parallel / Pregel model\u001b[39;00m\n\u001b[0;32m   1719\u001b[0m     \u001b[38;5;66;03m# computation proceeds in steps, while there are channel updates.\u001b[39;00m\n\u001b[0;32m   1720\u001b[0m     \u001b[38;5;66;03m# Channel updates from step N are only visible in step N+1\u001b[39;00m\n\u001b[0;32m   1721\u001b[0m     \u001b[38;5;66;03m# channels are guaranteed to be immutable for the duration of the step,\u001b[39;00m\n\u001b[0;32m   1722\u001b[0m     \u001b[38;5;66;03m# with channel updates applied only at the transition between steps.\u001b[39;00m\n\u001b[0;32m   1723\u001b[0m     \u001b[38;5;28;01mwhile\u001b[39;00m loop\u001b[38;5;241m.\u001b[39mtick(input_keys\u001b[38;5;241m=\u001b[39m\u001b[38;5;28mself\u001b[39m\u001b[38;5;241m.\u001b[39minput_channels):\n\u001b[1;32m-> 1724\u001b[0m \u001b[43m        \u001b[49m\u001b[38;5;28;43;01mfor\u001b[39;49;00m\u001b[43m \u001b[49m\u001b[43m_\u001b[49m\u001b[43m \u001b[49m\u001b[38;5;129;43;01min\u001b[39;49;00m\u001b[43m \u001b[49m\u001b[43mrunner\u001b[49m\u001b[38;5;241;43m.\u001b[39;49m\u001b[43mtick\u001b[49m\u001b[43m(\u001b[49m\n\u001b[0;32m   1725\u001b[0m \u001b[43m            \u001b[49m\u001b[43mloop\u001b[49m\u001b[38;5;241;43m.\u001b[39;49m\u001b[43mtasks\u001b[49m\u001b[38;5;241;43m.\u001b[39;49m\u001b[43mvalues\u001b[49m\u001b[43m(\u001b[49m\u001b[43m)\u001b[49m\u001b[43m,\u001b[49m\n\u001b[0;32m   1726\u001b[0m \u001b[43m            \u001b[49m\u001b[43mtimeout\u001b[49m\u001b[38;5;241;43m=\u001b[39;49m\u001b[38;5;28;43mself\u001b[39;49m\u001b[38;5;241;43m.\u001b[39;49m\u001b[43mstep_timeout\u001b[49m\u001b[43m,\u001b[49m\n\u001b[0;32m   1727\u001b[0m \u001b[43m            \u001b[49m\u001b[43mretry_policy\u001b[49m\u001b[38;5;241;43m=\u001b[39;49m\u001b[38;5;28;43mself\u001b[39;49m\u001b[38;5;241;43m.\u001b[39;49m\u001b[43mretry_policy\u001b[49m\u001b[43m,\u001b[49m\n\u001b[0;32m   1728\u001b[0m \u001b[43m            \u001b[49m\u001b[43mget_waiter\u001b[49m\u001b[38;5;241;43m=\u001b[39;49m\u001b[43mget_waiter\u001b[49m\u001b[43m,\u001b[49m\n\u001b[0;32m   1729\u001b[0m \u001b[43m        \u001b[49m\u001b[43m)\u001b[49m\u001b[43m:\u001b[49m\n\u001b[0;32m   1730\u001b[0m \u001b[43m            \u001b[49m\u001b[38;5;66;43;03m# emit output\u001b[39;49;00m\n\u001b[0;32m   1731\u001b[0m \u001b[43m            \u001b[49m\u001b[38;5;28;43;01myield from\u001b[39;49;00m\u001b[43m \u001b[49m\u001b[43moutput\u001b[49m\u001b[43m(\u001b[49m\u001b[43m)\u001b[49m\n\u001b[0;32m   1732\u001b[0m \u001b[38;5;66;03m# emit output\u001b[39;00m\n",
      "File \u001b[1;32md:\\NMK\\Anaconda\\envs\\llm\\Lib\\site-packages\\langgraph\\pregel\\runner.py:302\u001b[0m, in \u001b[0;36mPregelRunner.tick\u001b[1;34m(self, tasks, reraise, timeout, retry_policy, get_waiter)\u001b[0m\n\u001b[0;32m    300\u001b[0m \u001b[38;5;28;01myield\u001b[39;00m\n\u001b[0;32m    301\u001b[0m \u001b[38;5;66;03m# panic on failure or timeout\u001b[39;00m\n\u001b[1;32m--> 302\u001b[0m \u001b[43m_panic_or_proceed\u001b[49m\u001b[43m(\u001b[49m\n\u001b[0;32m    303\u001b[0m \u001b[43m    \u001b[49m\u001b[43mfutures\u001b[49m\u001b[38;5;241;43m.\u001b[39;49m\u001b[43mdone\u001b[49m\u001b[38;5;241;43m.\u001b[39;49m\u001b[43munion\u001b[49m\u001b[43m(\u001b[49m\u001b[43mf\u001b[49m\u001b[43m \u001b[49m\u001b[38;5;28;43;01mfor\u001b[39;49;00m\u001b[43m \u001b[49m\u001b[43mf\u001b[49m\u001b[43m,\u001b[49m\u001b[43m \u001b[49m\u001b[43mt\u001b[49m\u001b[43m \u001b[49m\u001b[38;5;129;43;01min\u001b[39;49;00m\u001b[43m \u001b[49m\u001b[43mfutures\u001b[49m\u001b[38;5;241;43m.\u001b[39;49m\u001b[43mitems\u001b[49m\u001b[43m(\u001b[49m\u001b[43m)\u001b[49m\u001b[43m \u001b[49m\u001b[38;5;28;43;01mif\u001b[39;49;00m\u001b[43m \u001b[49m\u001b[43mt\u001b[49m\u001b[43m \u001b[49m\u001b[38;5;129;43;01mis\u001b[39;49;00m\u001b[43m \u001b[49m\u001b[38;5;129;43;01mnot\u001b[39;49;00m\u001b[43m \u001b[49m\u001b[38;5;28;43;01mNone\u001b[39;49;00m\u001b[43m)\u001b[49m\u001b[43m,\u001b[49m\n\u001b[0;32m    304\u001b[0m \u001b[43m    \u001b[49m\u001b[43mpanic\u001b[49m\u001b[38;5;241;43m=\u001b[39;49m\u001b[43mreraise\u001b[49m\u001b[43m,\u001b[49m\n\u001b[0;32m    305\u001b[0m \u001b[43m\u001b[49m\u001b[43m)\u001b[49m\n",
      "File \u001b[1;32md:\\NMK\\Anaconda\\envs\\llm\\Lib\\site-packages\\langgraph\\pregel\\runner.py:619\u001b[0m, in \u001b[0;36m_panic_or_proceed\u001b[1;34m(futs, timeout_exc_cls, panic)\u001b[0m\n\u001b[0;32m    617\u001b[0m         \u001b[38;5;66;03m# raise the exception\u001b[39;00m\n\u001b[0;32m    618\u001b[0m         \u001b[38;5;28;01mif\u001b[39;00m panic:\n\u001b[1;32m--> 619\u001b[0m             \u001b[38;5;28;01mraise\u001b[39;00m exc\n\u001b[0;32m    620\u001b[0m \u001b[38;5;28;01mif\u001b[39;00m inflight:\n\u001b[0;32m    621\u001b[0m     \u001b[38;5;66;03m# if we got here means we timed out\u001b[39;00m\n\u001b[0;32m    622\u001b[0m     \u001b[38;5;28;01mwhile\u001b[39;00m inflight:\n\u001b[0;32m    623\u001b[0m         \u001b[38;5;66;03m# cancel all pending tasks\u001b[39;00m\n",
      "File \u001b[1;32md:\\NMK\\Anaconda\\envs\\llm\\Lib\\site-packages\\langgraph\\pregel\\executor.py:83\u001b[0m, in \u001b[0;36mBackgroundExecutor.done\u001b[1;34m(self, task)\u001b[0m\n\u001b[0;32m     81\u001b[0m \u001b[38;5;250m\u001b[39m\u001b[38;5;124;03m\"\"\"Remove the task from the tasks dict when it's done.\"\"\"\u001b[39;00m\n\u001b[0;32m     82\u001b[0m \u001b[38;5;28;01mtry\u001b[39;00m:\n\u001b[1;32m---> 83\u001b[0m     \u001b[43mtask\u001b[49m\u001b[38;5;241;43m.\u001b[39;49m\u001b[43mresult\u001b[49m\u001b[43m(\u001b[49m\u001b[43m)\u001b[49m\n\u001b[0;32m     84\u001b[0m \u001b[38;5;28;01mexcept\u001b[39;00m GraphBubbleUp:\n\u001b[0;32m     85\u001b[0m     \u001b[38;5;66;03m# This exception is an interruption signal, not an error\u001b[39;00m\n\u001b[0;32m     86\u001b[0m     \u001b[38;5;66;03m# so we don't want to re-raise it on exit\u001b[39;00m\n\u001b[0;32m     87\u001b[0m     \u001b[38;5;28mself\u001b[39m\u001b[38;5;241m.\u001b[39mtasks\u001b[38;5;241m.\u001b[39mpop(task)\n",
      "File \u001b[1;32md:\\NMK\\Anaconda\\envs\\llm\\Lib\\concurrent\\futures\\_base.py:449\u001b[0m, in \u001b[0;36mFuture.result\u001b[1;34m(self, timeout)\u001b[0m\n\u001b[0;32m    447\u001b[0m     \u001b[38;5;28;01mraise\u001b[39;00m CancelledError()\n\u001b[0;32m    448\u001b[0m \u001b[38;5;28;01melif\u001b[39;00m \u001b[38;5;28mself\u001b[39m\u001b[38;5;241m.\u001b[39m_state \u001b[38;5;241m==\u001b[39m FINISHED:\n\u001b[1;32m--> 449\u001b[0m     \u001b[38;5;28;01mreturn\u001b[39;00m \u001b[38;5;28;43mself\u001b[39;49m\u001b[38;5;241;43m.\u001b[39;49m\u001b[43m__get_result\u001b[49m\u001b[43m(\u001b[49m\u001b[43m)\u001b[49m\n\u001b[0;32m    451\u001b[0m \u001b[38;5;28mself\u001b[39m\u001b[38;5;241m.\u001b[39m_condition\u001b[38;5;241m.\u001b[39mwait(timeout)\n\u001b[0;32m    453\u001b[0m \u001b[38;5;28;01mif\u001b[39;00m \u001b[38;5;28mself\u001b[39m\u001b[38;5;241m.\u001b[39m_state \u001b[38;5;129;01min\u001b[39;00m [CANCELLED, CANCELLED_AND_NOTIFIED]:\n",
      "File \u001b[1;32md:\\NMK\\Anaconda\\envs\\llm\\Lib\\concurrent\\futures\\_base.py:401\u001b[0m, in \u001b[0;36mFuture.__get_result\u001b[1;34m(self)\u001b[0m\n\u001b[0;32m    399\u001b[0m \u001b[38;5;28;01mif\u001b[39;00m \u001b[38;5;28mself\u001b[39m\u001b[38;5;241m.\u001b[39m_exception:\n\u001b[0;32m    400\u001b[0m     \u001b[38;5;28;01mtry\u001b[39;00m:\n\u001b[1;32m--> 401\u001b[0m         \u001b[38;5;28;01mraise\u001b[39;00m \u001b[38;5;28mself\u001b[39m\u001b[38;5;241m.\u001b[39m_exception\n\u001b[0;32m    402\u001b[0m     \u001b[38;5;28;01mfinally\u001b[39;00m:\n\u001b[0;32m    403\u001b[0m         \u001b[38;5;66;03m# Break a reference cycle with the exception in self._exception\u001b[39;00m\n\u001b[0;32m    404\u001b[0m         \u001b[38;5;28mself\u001b[39m \u001b[38;5;241m=\u001b[39m \u001b[38;5;28;01mNone\u001b[39;00m\n",
      "File \u001b[1;32md:\\NMK\\Anaconda\\envs\\llm\\Lib\\concurrent\\futures\\thread.py:59\u001b[0m, in \u001b[0;36m_WorkItem.run\u001b[1;34m(self)\u001b[0m\n\u001b[0;32m     56\u001b[0m     \u001b[38;5;28;01mreturn\u001b[39;00m\n\u001b[0;32m     58\u001b[0m \u001b[38;5;28;01mtry\u001b[39;00m:\n\u001b[1;32m---> 59\u001b[0m     result \u001b[38;5;241m=\u001b[39m \u001b[38;5;28;43mself\u001b[39;49m\u001b[38;5;241;43m.\u001b[39;49m\u001b[43mfn\u001b[49m\u001b[43m(\u001b[49m\u001b[38;5;241;43m*\u001b[39;49m\u001b[38;5;28;43mself\u001b[39;49m\u001b[38;5;241;43m.\u001b[39;49m\u001b[43margs\u001b[49m\u001b[43m,\u001b[49m\u001b[43m \u001b[49m\u001b[38;5;241;43m*\u001b[39;49m\u001b[38;5;241;43m*\u001b[39;49m\u001b[38;5;28;43mself\u001b[39;49m\u001b[38;5;241;43m.\u001b[39;49m\u001b[43mkwargs\u001b[49m\u001b[43m)\u001b[49m\n\u001b[0;32m     60\u001b[0m \u001b[38;5;28;01mexcept\u001b[39;00m \u001b[38;5;167;01mBaseException\u001b[39;00m \u001b[38;5;28;01mas\u001b[39;00m exc:\n\u001b[0;32m     61\u001b[0m     \u001b[38;5;28mself\u001b[39m\u001b[38;5;241m.\u001b[39mfuture\u001b[38;5;241m.\u001b[39mset_exception(exc)\n",
      "File \u001b[1;32md:\\NMK\\Anaconda\\envs\\llm\\Lib\\site-packages\\langgraph\\pregel\\retry.py:40\u001b[0m, in \u001b[0;36mrun_with_retry\u001b[1;34m(task, retry_policy, configurable)\u001b[0m\n\u001b[0;32m     38\u001b[0m     task\u001b[38;5;241m.\u001b[39mwrites\u001b[38;5;241m.\u001b[39mclear()\n\u001b[0;32m     39\u001b[0m     \u001b[38;5;66;03m# run the task\u001b[39;00m\n\u001b[1;32m---> 40\u001b[0m     \u001b[38;5;28;01mreturn\u001b[39;00m \u001b[43mtask\u001b[49m\u001b[38;5;241;43m.\u001b[39;49m\u001b[43mproc\u001b[49m\u001b[38;5;241;43m.\u001b[39;49m\u001b[43minvoke\u001b[49m\u001b[43m(\u001b[49m\u001b[43mtask\u001b[49m\u001b[38;5;241;43m.\u001b[39;49m\u001b[43minput\u001b[49m\u001b[43m,\u001b[49m\u001b[43m \u001b[49m\u001b[43mconfig\u001b[49m\u001b[43m)\u001b[49m\n\u001b[0;32m     41\u001b[0m \u001b[38;5;28;01mexcept\u001b[39;00m ParentCommand \u001b[38;5;28;01mas\u001b[39;00m exc:\n\u001b[0;32m     42\u001b[0m     ns: \u001b[38;5;28mstr\u001b[39m \u001b[38;5;241m=\u001b[39m config[CONF][CONFIG_KEY_CHECKPOINT_NS]\n",
      "File \u001b[1;32md:\\NMK\\Anaconda\\envs\\llm\\Lib\\site-packages\\langgraph\\utils\\runnable.py:508\u001b[0m, in \u001b[0;36mRunnableSeq.invoke\u001b[1;34m(self, input, config, **kwargs)\u001b[0m\n\u001b[0;32m    506\u001b[0m             \u001b[38;5;28minput\u001b[39m \u001b[38;5;241m=\u001b[39m step\u001b[38;5;241m.\u001b[39minvoke(\u001b[38;5;28minput\u001b[39m, config, \u001b[38;5;241m*\u001b[39m\u001b[38;5;241m*\u001b[39mkwargs)\n\u001b[0;32m    507\u001b[0m         \u001b[38;5;28;01melse\u001b[39;00m:\n\u001b[1;32m--> 508\u001b[0m             \u001b[38;5;28minput\u001b[39m \u001b[38;5;241m=\u001b[39m \u001b[43mstep\u001b[49m\u001b[38;5;241;43m.\u001b[39;49m\u001b[43minvoke\u001b[49m\u001b[43m(\u001b[49m\u001b[38;5;28;43minput\u001b[39;49m\u001b[43m,\u001b[49m\u001b[43m \u001b[49m\u001b[43mconfig\u001b[49m\u001b[43m)\u001b[49m\n\u001b[0;32m    509\u001b[0m \u001b[38;5;66;03m# finish the root run\u001b[39;00m\n\u001b[0;32m    510\u001b[0m \u001b[38;5;28;01mexcept\u001b[39;00m \u001b[38;5;167;01mBaseException\u001b[39;00m \u001b[38;5;28;01mas\u001b[39;00m e:\n",
      "File \u001b[1;32md:\\NMK\\Anaconda\\envs\\llm\\Lib\\site-packages\\langgraph\\utils\\runnable.py:270\u001b[0m, in \u001b[0;36mRunnableCallable.invoke\u001b[1;34m(self, input, config, **kwargs)\u001b[0m\n\u001b[0;32m    268\u001b[0m \u001b[38;5;28;01melse\u001b[39;00m:\n\u001b[0;32m    269\u001b[0m     context\u001b[38;5;241m.\u001b[39mrun(_set_config_context, config)\n\u001b[1;32m--> 270\u001b[0m     ret \u001b[38;5;241m=\u001b[39m \u001b[43mcontext\u001b[49m\u001b[38;5;241;43m.\u001b[39;49m\u001b[43mrun\u001b[49m\u001b[43m(\u001b[49m\u001b[38;5;28;43mself\u001b[39;49m\u001b[38;5;241;43m.\u001b[39;49m\u001b[43mfunc\u001b[49m\u001b[43m,\u001b[49m\u001b[43m \u001b[49m\u001b[38;5;241;43m*\u001b[39;49m\u001b[43margs\u001b[49m\u001b[43m,\u001b[49m\u001b[43m \u001b[49m\u001b[38;5;241;43m*\u001b[39;49m\u001b[38;5;241;43m*\u001b[39;49m\u001b[43mkwargs\u001b[49m\u001b[43m)\u001b[49m\n\u001b[0;32m    271\u001b[0m \u001b[38;5;28;01mif\u001b[39;00m \u001b[38;5;28misinstance\u001b[39m(ret, Runnable) \u001b[38;5;129;01mand\u001b[39;00m \u001b[38;5;28mself\u001b[39m\u001b[38;5;241m.\u001b[39mrecurse:\n\u001b[0;32m    272\u001b[0m     \u001b[38;5;28;01mreturn\u001b[39;00m ret\u001b[38;5;241m.\u001b[39minvoke(\u001b[38;5;28minput\u001b[39m, config)\n",
      "File \u001b[1;32md:\\NMK\\Anaconda\\envs\\llm\\Lib\\site-packages\\langgraph\\graph\\graph.py:94\u001b[0m, in \u001b[0;36mBranch._route\u001b[1;34m(self, input, config, reader, writer)\u001b[0m\n\u001b[0;32m     92\u001b[0m \u001b[38;5;28;01melse\u001b[39;00m:\n\u001b[0;32m     93\u001b[0m     value \u001b[38;5;241m=\u001b[39m \u001b[38;5;28minput\u001b[39m\n\u001b[1;32m---> 94\u001b[0m result \u001b[38;5;241m=\u001b[39m \u001b[38;5;28;43mself\u001b[39;49m\u001b[38;5;241;43m.\u001b[39;49m\u001b[43mpath\u001b[49m\u001b[38;5;241;43m.\u001b[39;49m\u001b[43minvoke\u001b[49m\u001b[43m(\u001b[49m\u001b[43mvalue\u001b[49m\u001b[43m,\u001b[49m\u001b[43m \u001b[49m\u001b[43mconfig\u001b[49m\u001b[43m)\u001b[49m\n\u001b[0;32m     95\u001b[0m \u001b[38;5;28;01mreturn\u001b[39;00m \u001b[38;5;28mself\u001b[39m\u001b[38;5;241m.\u001b[39m_finish(writer, \u001b[38;5;28minput\u001b[39m, result, config)\n",
      "File \u001b[1;32md:\\NMK\\Anaconda\\envs\\llm\\Lib\\site-packages\\langgraph\\utils\\runnable.py:262\u001b[0m, in \u001b[0;36mRunnableCallable.invoke\u001b[1;34m(self, input, config, **kwargs)\u001b[0m\n\u001b[0;32m    260\u001b[0m     context \u001b[38;5;241m=\u001b[39m copy_context()\n\u001b[0;32m    261\u001b[0m     context\u001b[38;5;241m.\u001b[39mrun(_set_config_context, child_config)\n\u001b[1;32m--> 262\u001b[0m     ret \u001b[38;5;241m=\u001b[39m \u001b[43mcontext\u001b[49m\u001b[38;5;241;43m.\u001b[39;49m\u001b[43mrun\u001b[49m\u001b[43m(\u001b[49m\u001b[38;5;28;43mself\u001b[39;49m\u001b[38;5;241;43m.\u001b[39;49m\u001b[43mfunc\u001b[49m\u001b[43m,\u001b[49m\u001b[43m \u001b[49m\u001b[38;5;241;43m*\u001b[39;49m\u001b[43margs\u001b[49m\u001b[43m,\u001b[49m\u001b[43m \u001b[49m\u001b[38;5;241;43m*\u001b[39;49m\u001b[38;5;241;43m*\u001b[39;49m\u001b[43mkwargs\u001b[49m\u001b[43m)\u001b[49m\n\u001b[0;32m    263\u001b[0m \u001b[38;5;28;01mexcept\u001b[39;00m \u001b[38;5;167;01mBaseException\u001b[39;00m \u001b[38;5;28;01mas\u001b[39;00m e:\n\u001b[0;32m    264\u001b[0m     run_manager\u001b[38;5;241m.\u001b[39mon_chain_error(e)\n",
      "Cell \u001b[1;32mIn[13], line 50\u001b[0m, in \u001b[0;36mis_1_in_a\u001b[1;34m(state)\u001b[0m\n\u001b[0;32m     47\u001b[0m \u001b[38;5;28;01mdef\u001b[39;00m \u001b[38;5;21mis_1_in_a\u001b[39m(state: aState) \u001b[38;5;241m-\u001b[39m\u001b[38;5;241m>\u001b[39m Literal[\u001b[38;5;124m'\u001b[39m\u001b[38;5;124m1 in a\u001b[39m\u001b[38;5;124m'\u001b[39m, \u001b[38;5;124m'\u001b[39m\u001b[38;5;124m1 not in a\u001b[39m\u001b[38;5;124m'\u001b[39m]:\n\u001b[0;32m     48\u001b[0m     log\u001b[38;5;241m.\u001b[39minfo(\u001b[38;5;124mf\u001b[39m\u001b[38;5;124m'\u001b[39m\u001b[38;5;124mis_1_in_a: \u001b[39m\u001b[38;5;132;01m{\u001b[39;00mstate\u001b[38;5;132;01m}\u001b[39;00m\u001b[38;5;124m'\u001b[39m)\n\u001b[1;32m---> 50\u001b[0m     \u001b[38;5;28;01mfor\u001b[39;00m con \u001b[38;5;129;01min\u001b[39;00m \u001b[43mstate\u001b[49m\u001b[43m[\u001b[49m\u001b[38;5;124;43m'\u001b[39;49m\u001b[38;5;124;43ma\u001b[39;49m\u001b[38;5;124;43m'\u001b[39;49m\u001b[43m]\u001b[49m:\n\u001b[0;32m     51\u001b[0m         \u001b[38;5;28;01mif\u001b[39;00m \u001b[38;5;124m'\u001b[39m\u001b[38;5;124m1\u001b[39m\u001b[38;5;124m'\u001b[39m \u001b[38;5;129;01min\u001b[39;00m con:\n\u001b[0;32m     52\u001b[0m             \u001b[38;5;28;01mreturn\u001b[39;00m \u001b[38;5;124m'\u001b[39m\u001b[38;5;124m1 in a\u001b[39m\u001b[38;5;124m'\u001b[39m\n",
      "\u001b[1;31mKeyError\u001b[0m: 'a'",
      "\u001b[0mDuring task with name 'node2' and id '899f179d-493c-55f8-ba8f-6754639b1a15'"
     ]
    }
   ],
   "source": [
    "g_wo_tmp.invoke(input={'a': []})"
   ]
  },
  {
   "cell_type": "code",
   "execution_count": 19,
   "id": "425c810d",
   "metadata": {},
   "outputs": [
    {
     "name": "stderr",
     "output_type": "stream",
     "text": [
      "\u001b[32m2025-08-01 13:57:35.671\u001b[0m | \u001b[1mINFO    \u001b[0m | \u001b[36m__main__\u001b[0m:\u001b[36mnode1\u001b[0m:\u001b[36m16\u001b[0m - \u001b[1mnode1: {'a': []}\u001b[0m\n",
      "\u001b[32m2025-08-01 13:57:35.673\u001b[0m | \u001b[1mINFO    \u001b[0m | \u001b[36m__main__\u001b[0m:\u001b[36mnode1_to_node2\u001b[0m:\u001b[36m23\u001b[0m - \u001b[1mnode1_to_node2: {'a': [['node1 1'], ['node1 2']]}\u001b[0m\n",
      "\u001b[32m2025-08-01 13:57:35.677\u001b[0m | \u001b[1mINFO    \u001b[0m | \u001b[36m__main__\u001b[0m:\u001b[36mnode2\u001b[0m:\u001b[36m37\u001b[0m - \u001b[1mnode2: {'b': ['node1 1']}\u001b[0m\n",
      "\u001b[32m2025-08-01 13:57:35.684\u001b[0m | \u001b[1mINFO    \u001b[0m | \u001b[36m__main__\u001b[0m:\u001b[36mnode2\u001b[0m:\u001b[36m37\u001b[0m - \u001b[1mnode2: {'b': ['node1 2']}\u001b[0m\n",
      "\u001b[32m2025-08-01 13:57:35.694\u001b[0m | \u001b[1mINFO    \u001b[0m | \u001b[36m__main__\u001b[0m:\u001b[36mis_1_in_a\u001b[0m:\u001b[36m48\u001b[0m - \u001b[1mis_1_in_a: {'a': [['node1 1', 1], ['node1 2', 1]]}\u001b[0m\n"
     ]
    },
    {
     "data": {
      "text/plain": [
       "{'a': [['node1 1', 1], ['node1 2', 1]]}"
      ]
     },
     "execution_count": 19,
     "metadata": {},
     "output_type": "execute_result"
    }
   ],
   "source": [
    "g_w_tmp.invoke(input={'a': []})"
   ]
  },
  {
   "cell_type": "code",
   "execution_count": null,
   "id": "acb46d7b",
   "metadata": {},
   "outputs": [],
   "source": []
  },
  {
   "cell_type": "code",
   "execution_count": null,
   "id": "3772db38",
   "metadata": {},
   "outputs": [],
   "source": []
  },
  {
   "cell_type": "code",
   "execution_count": null,
   "id": "b2b3fa2b",
   "metadata": {},
   "outputs": [],
   "source": []
  },
  {
   "cell_type": "code",
   "execution_count": null,
   "id": "85b3365d",
   "metadata": {},
   "outputs": [],
   "source": []
  },
  {
   "cell_type": "code",
   "execution_count": 1,
   "id": "fddd9631",
   "metadata": {},
   "outputs": [],
   "source": [
    "from langchain_openai import ChatOpenAI\n",
    "import os\n",
    "\n",
    "llm = ChatOpenAI(\n",
    "    api_key=os.getenv(\"BL_API_KEY\"),\n",
    "    base_url=os.getenv(\"BL_BASE_URL\"),\n",
    "    model='qwen-max-latest',\n",
    "    temperature=0.0\n",
    ")"
   ]
  },
  {
   "cell_type": "code",
   "execution_count": 2,
   "id": "77f4a916",
   "metadata": {},
   "outputs": [],
   "source": [
    "from run_qa import get_qa_pair"
   ]
  },
  {
   "cell_type": "code",
   "execution_count": 9,
   "id": "c9b12399",
   "metadata": {},
   "outputs": [
    {
     "name": "stderr",
     "output_type": "stream",
     "text": [
      "\u001b[32m2025-07-31 19:34:44.913\u001b[0m | \u001b[1mINFO    \u001b[0m | \u001b[36mrun_qa\u001b[0m:\u001b[36mget_qa_pair\u001b[0m:\u001b[36m66\u001b[0m - \u001b[1m加载问题的索引为 [3:6]，共 3 个\u001b[0m\n",
      "回答问题: 100%|██████████| 3/3 [00:01<00:00,  1.56it/s]\n"
     ]
    }
   ],
   "source": [
    "get_qa_pair(\n",
    "    qa_system=llm,\n",
    "    config={},\n",
    "    question_path='../data/hotpotqa_test_data_500.json',\n",
    "    test_size=3,\n",
    "    test_type='continue',\n",
    "    # test_type='new',\n",
    "    qa_res_path='./hotpotqa/llm_only/qa_result.json'\n",
    ")"
   ]
  },
  {
   "cell_type": "code",
   "execution_count": null,
   "id": "1e62af30",
   "metadata": {},
   "outputs": [],
   "source": []
  },
  {
   "cell_type": "code",
   "execution_count": 6,
   "id": "0fe01d84",
   "metadata": {},
   "outputs": [],
   "source": [
    "import sys\n",
    "\n",
    "# 需要把当前项目的根目录加到 sys.path 中，才能找到 modules 下的 Index 模块\n",
    "sys.path.append('../')"
   ]
  },
  {
   "cell_type": "code",
   "execution_count": 14,
   "id": "a5af920f",
   "metadata": {},
   "outputs": [],
   "source": [
    "from modules.prompt import get_rag_sys_prompt, get_input_prompt"
   ]
  },
  {
   "cell_type": "code",
   "execution_count": 11,
   "id": "2afc507f",
   "metadata": {},
   "outputs": [],
   "source": [
    "a = get_rag_sys_prompt()"
   ]
  },
  {
   "cell_type": "code",
   "execution_count": 13,
   "id": "30bf035c",
   "metadata": {},
   "outputs": [
    {
     "name": "stdout",
     "output_type": "stream",
     "text": [
      "You are a RAG Q&A assistant that works according to the following rules:\n",
      "1. Answer questions using only the knowledge snippets provided, without using any external knowledge.\n",
      "2. If the knowledge snippets contain no information that can answer the question, you must respond with \"I cannot answer this question.\"\n",
      "3. Answers must be concise and direct: output only the final answer, without explanation, references to the knowledge, or polite language.\n",
      "4. If the knowledge snippets are irrelevant to the question, immediately trigger rule 2.\n"
     ]
    }
   ],
   "source": [
    "print(a.content)"
   ]
  },
  {
   "cell_type": "code",
   "execution_count": 15,
   "id": "b90191eb",
   "metadata": {},
   "outputs": [],
   "source": [
    "from langchain_core.documents import Document\n",
    "\n",
    "similar_chunks = [\n",
    "    Document(page_content='a'),\n",
    "    Document(page_content='b'),\n",
    "    Document(page_content='c'),\n",
    "]\n",
    "\n",
    "\n",
    "docs = [chunk.page_content + '\\n' for chunk in similar_chunks]"
   ]
  },
  {
   "cell_type": "code",
   "execution_count": 19,
   "id": "646c2f0e",
   "metadata": {},
   "outputs": [],
   "source": [
    "b = get_input_prompt(\n",
    "    query='test query',\n",
    "    context=''.join(docs),\n",
    ")"
   ]
  },
  {
   "cell_type": "code",
   "execution_count": 20,
   "id": "2aa03797",
   "metadata": {},
   "outputs": [
    {
     "data": {
      "text/plain": [
       "HumanMessage(content='[Knowledge]\\na\\nb\\nc\\n\\n\\n[question]\\ntest query', additional_kwargs={}, response_metadata={})"
      ]
     },
     "execution_count": 20,
     "metadata": {},
     "output_type": "execute_result"
    }
   ],
   "source": [
    "b"
   ]
  },
  {
   "cell_type": "code",
   "execution_count": 21,
   "id": "a1165072",
   "metadata": {},
   "outputs": [
    {
     "name": "stdout",
     "output_type": "stream",
     "text": [
      "[Knowledge]\n",
      "a\n",
      "b\n",
      "c\n",
      "\n",
      "\n",
      "[question]\n",
      "test query\n"
     ]
    }
   ],
   "source": [
    "print(b.content)"
   ]
  },
  {
   "cell_type": "code",
   "execution_count": null,
   "id": "8ab93cc9",
   "metadata": {},
   "outputs": [],
   "source": []
  }
 ],
 "metadata": {
  "kernelspec": {
   "display_name": "llm",
   "language": "python",
   "name": "python3"
  },
  "language_info": {
   "codemirror_mode": {
    "name": "ipython",
    "version": 3
   },
   "file_extension": ".py",
   "mimetype": "text/x-python",
   "name": "python",
   "nbconvert_exporter": "python",
   "pygments_lexer": "ipython3",
   "version": "3.12.8"
  }
 },
 "nbformat": 4,
 "nbformat_minor": 5
}
