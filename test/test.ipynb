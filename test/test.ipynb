{
 "cells": [
  {
   "cell_type": "markdown",
   "id": "291fe406",
   "metadata": {},
   "source": []
  },
  {
   "cell_type": "markdown",
   "id": "c9a175c1",
   "metadata": {},
   "source": [
    "*2025.08.13*\n",
    "\n",
    "测试搜索树可视化"
   ]
  },
  {
   "cell_type": "code",
   "execution_count": 1,
   "id": "489568ed",
   "metadata": {},
   "outputs": [],
   "source": [
    "import sys\n",
    "\n",
    "sys.path.append('../')"
   ]
  },
  {
   "cell_type": "code",
   "execution_count": 2,
   "id": "9df82724",
   "metadata": {},
   "outputs": [],
   "source": [
    "from dotenv import load_dotenv\n",
    "import os\n",
    "\n",
    "from langchain_openai import ChatOpenAI, OpenAIEmbeddings\n",
    "from langchain_milvus import Milvus, BM25BuiltInFunction\n",
    "from langgraph.checkpoint.memory import MemorySaver\n",
    "\n",
    "from rag_with_judge.workflow import get_rag_with_judge_workflow\n",
    "from modules.retriever import Retriever\n",
    "\n",
    "load_dotenv()\n",
    "\n",
    "llm = ChatOpenAI(\n",
    "    api_key=os.getenv(\"BL_API_KEY\"),\n",
    "    base_url=os.getenv(\"BL_BASE_URL\"),\n",
    "    model='qwen-max-latest',\n",
    "    # model='qwen-max-2025-01-25',\n",
    "    # model='qwen2.5-7b-instruct',  # 小模型会有同样的效果吗  ->  不太好\n",
    "    temperature=0.0\n",
    ")\n",
    "\n",
    "embed_model = OpenAIEmbeddings(\n",
    "    api_key=os.getenv(\"BL_API_KEY\"),\n",
    "    base_url=os.getenv(\"BL_BASE_URL\"),\n",
    "    model=\"text-embedding-v3\",\n",
    "    dimensions=1024,\n",
    "    check_embedding_ctx_length=False\n",
    ")\n",
    "\n",
    "vector_store = Milvus(\n",
    "    collection_name='hybrid_hotpotqa500_hnsw',\n",
    "    embedding_function=embed_model,\n",
    "    builtin_function=BM25BuiltInFunction(output_field_names='sparse'),\n",
    "    vector_field=['dense', 'sparse']\n",
    ")\n",
    "\n",
    "# 获得带有短期记忆的 RAG with Judge 图\n",
    "memory = MemorySaver()\n",
    "rag_with_judge_wf = get_rag_with_judge_workflow()\n",
    "rag_with_judge = rag_with_judge_wf.compile(checkpointer=memory)\n",
    "\n",
    "# 定义检索器\n",
    "rrf_retriever = Retriever(\n",
    "    vector_store=vector_store,\n",
    "    topk=3,\n",
    "    search_fields=['dense', 'sparse'],\n",
    "    search_type='hybrid',\n",
    "    search_params=[\n",
    "        {'metric_type': 'L2', 'params': {'ef': 21}},\n",
    "        {'params': {'drop_ratio_search': 0.2}}\n",
    "    ],\n",
    "    ranker_type='rrf',\n",
    "    ranker_params={'k': 60}\n",
    ")\n",
    "\n",
    "# 定义运行时配置\n",
    "config = {\n",
    "    'configurable': {\n",
    "        'retriever': rrf_retriever,\n",
    "        'llm': llm,\n",
    "        'thread_id': '1',\n",
    "        'graph': rag_with_judge,\n",
    "        'recursion_depth': 0,\n",
    "        'max_rec_depth': 3\n",
    "    }\n",
    "}"
   ]
  },
  {
   "cell_type": "code",
   "execution_count": 3,
   "id": "1f7357ca",
   "metadata": {},
   "outputs": [
    {
     "name": "stdout",
     "output_type": "stream",
     "text": [
      "使用 0a5fe1ad-1472-43c9-9891-0b83024b5875 调用 RAG，问题为 Which electoral district includes the suburb of St Peters?，当前递归深度为 1使用 d0580491-90de-488d-8367-892ef2a2bacb 调用 RAG，问题为 Which suburbs in the City of Norwood Payneham St Peters are part of the electoral district of Dunstan?，当前递归深度为 1\n",
      "使用 15500bdd-6877-4344-8ab1-58f520471604 调用 RAG，问题为 Which electoral district includes the suburb of College Park?，当前递归深度为 1\n",
      "\n",
      "使用 b70dce5e-70ca-4921-b8ad-1a09e295c828 调用 RAG，问题为 Which suburbs in the knowledge are within the City of Norwood Payneham St Peters?，当前递归深度为 2\n",
      "使用 9f7dc7d8-9ef1-4933-8dc2-e580369791f2 调用 RAG，问题为 Which other suburbs are in the district of Dunstan?，当前递归深度为 2\n"
     ]
    }
   ],
   "source": [
    "query = 'Which suburb of Adelaide in the City of Norwood Payneham St Peters is included in the electoral district of Dunstan?'\n",
    "\n",
    "res = rag_with_judge.invoke(\n",
    "    input={'query': query},\n",
    "    config=config\n",
    ")"
   ]
  },
  {
   "cell_type": "code",
   "execution_count": 4,
   "id": "9aa6e070",
   "metadata": {},
   "outputs": [],
   "source": [
    "from rag_with_judge.rebuild_search_tree import build_tree, visualize_tree\n",
    "\n",
    "r = build_tree(rag_with_judge, '1')"
   ]
  },
  {
   "cell_type": "code",
   "execution_count": 5,
   "id": "3bfb3383",
   "metadata": {},
   "outputs": [
    {
     "name": "stdout",
     "output_type": "stream",
     "text": [
      "搜索树已可视化到: c:\\Users\\Lenovo\\Desktop\\RAG with Judge\\test\\..\\tmp\\tree_visualization_20250813_161150.html\n",
      "正在打开浏览器: file://c:/Users/Lenovo/Desktop/RAG with Judge/tmp/tree_visualization_20250813_161150.html\n"
     ]
    },
    {
     "data": {
      "text/plain": [
       "'c:\\\\Users\\\\Lenovo\\\\Desktop\\\\RAG with Judge\\\\test\\\\..\\\\tmp\\\\tree_visualization_20250813_161150.html'"
      ]
     },
     "execution_count": 5,
     "metadata": {},
     "output_type": "execute_result"
    }
   ],
   "source": [
    "visualize_tree(r)"
   ]
  },
  {
   "cell_type": "markdown",
   "id": "f51f647c",
   "metadata": {},
   "source": [
    "*2025.06.26*\n",
    "\n",
    "测试使用 copy.copy() 来为下次递归调用图配置 config 时，是否偶尔会出现「两个不同的图所接受的 config 的内存地址是相同的情况」"
   ]
  },
  {
   "cell_type": "code",
   "execution_count": 1,
   "id": "80bf5071",
   "metadata": {},
   "outputs": [],
   "source": [
    "# 下面是一些试验证明\n",
    "import copy\n",
    "import operator\n",
    "from uuid import uuid4\n",
    "from typing import TypedDict, Annotated, List\n",
    "from loguru import logger as log\n",
    "\n",
    "from langchain_core.runnables import RunnableConfig\n",
    "from langgraph.graph import START, StateGraph, END\n",
    "from langgraph.checkpoint.memory import MemorySaver"
   ]
  },
  {
   "cell_type": "code",
   "execution_count": 2,
   "id": "90a8c9b6",
   "metadata": {},
   "outputs": [
    {
     "data": {
      "text/plain": [
       "<langgraph.graph.state.StateGraph at 0x1ab7b4d69f0>"
      ]
     },
     "execution_count": 2,
     "metadata": {},
     "output_type": "execute_result"
    }
   ],
   "source": [
    "# 定义一个会从节点内部发起（图）调用的图\n",
    "class CallState(TypedDict):\n",
    "    cur_depth: int\n",
    "    all_thread_ids: Annotated[List[str], operator.add]\n",
    "\n",
    "\n",
    "def node1(state: CallState, config: RunnableConfig) -> CallState:\n",
    "    log.info(\"node1\")\n",
    "    log.info(f\"Current thread_id: {config['configurable']['thread_id']}\")\n",
    "    log.info(f\"cur_depth_in_config = {config['configurable']['cur_depth_in_config']}\")\n",
    "\n",
    "    # 输出当前图所接受的 config 及其内部所有键值对的内存地址\n",
    "    log.info(f'id(config) = {id(config)}')\n",
    "    log.info(f'id(config[\"configurable\"]) = {id(config[\"configurable\"])}')\n",
    "    log.info(f'id(config[\"configurable][\"thread_id\"]) = {id(config[\"configurable\"][\"thread_id\"])}')\n",
    "    log.info(f'id(config[\"configurable\"][\"graph\"]) = {id(config[\"configurable\"][\"graph\"])}')\n",
    "\n",
    "    return {'cur_depth': state['cur_depth'] + 1}\n",
    "\n",
    "def node2(state: CallState, config: RunnableConfig) -> CallState:\n",
    "    log.info(\"node2\")\n",
    "\n",
    "    state['all_thread_ids'].append('hello')\n",
    "\n",
    "    next_thread_id = str(uuid4())\n",
    "    # Approach 1\n",
    "    # new_config = {\n",
    "    #     'configurable': {\n",
    "    #         'thread_id': next_thread_id,\n",
    "    #         'cur_depth_in_config': config['configurable']['cur_depth_in_config'] + 1,\n",
    "    #         'graph': config['configurable']['graph']\n",
    "    #     }\n",
    "    # }\n",
    "    # Approach 2\n",
    "    new_config = {\n",
    "        'configurable': copy.copy(config['configurable'])\n",
    "    }\n",
    "    new_config['configurable']['thread_id'] = next_thread_id\n",
    "    new_config['configurable']['cur_depth_in_config'] = state['cur_depth'] + 1\n",
    "    \n",
    "    g = config[\"configurable\"][\"graph\"]\n",
    "    log.info(f'current graph id = {id(g)}')\n",
    "\n",
    "    g.invoke(\n",
    "        input={'cur_depth': state['cur_depth']},\n",
    "        config=new_config\n",
    "    )\n",
    "\n",
    "    return {'all_thread_ids': [next_thread_id]}\n",
    "\n",
    "def router_by_rec_depth(state: CallState) -> str:\n",
    "    log.info(\"router_by_rec_depth\")\n",
    "    if state['cur_depth'] > 3:\n",
    "        return 'end'\n",
    "    else:\n",
    "        return 'continue'\n",
    "\n",
    "# 定义图\n",
    "call_wf = StateGraph(CallState)\n",
    "call_wf.add_node('node1', node1)\n",
    "call_wf.add_node('node2', node2)\n",
    "call_wf.add_edge(START, 'node1')\n",
    "call_wf.add_conditional_edges(\n",
    "    'node1',\n",
    "    router_by_rec_depth,\n",
    "    {\n",
    "        'continue': 'node2',\n",
    "        'end': END\n",
    "    }\n",
    ")\n",
    "call_wf.add_edge('node2', END)\n",
    "\n",
    "# # 编译获得图\n",
    "# memory = MemorySaver()\n",
    "# graph = call_wf.compile(checkpointer=memory)\n",
    "\n",
    "# # 定义运行时配置\n",
    "# config = {\n",
    "#     'configurable': {\n",
    "#         'thread_id': '1',\n",
    "#         'graph': graph\n",
    "#     }\n",
    "# }"
   ]
  },
  {
   "cell_type": "code",
   "execution_count": 5,
   "id": "fd96e060",
   "metadata": {},
   "outputs": [
    {
     "name": "stderr",
     "output_type": "stream",
     "text": [
      "\u001b[32m2025-06-27 09:01:00.632\u001b[0m | \u001b[1mINFO    \u001b[0m | \u001b[36m__main__\u001b[0m:\u001b[36mnode1\u001b[0m:\u001b[36m8\u001b[0m - \u001b[1mnode1\u001b[0m\n",
      "\u001b[32m2025-06-27 09:01:00.633\u001b[0m | \u001b[1mINFO    \u001b[0m | \u001b[36m__main__\u001b[0m:\u001b[36mnode1\u001b[0m:\u001b[36m9\u001b[0m - \u001b[1mCurrent thread_id: 1\u001b[0m\n",
      "\u001b[32m2025-06-27 09:01:00.633\u001b[0m | \u001b[1mINFO    \u001b[0m | \u001b[36m__main__\u001b[0m:\u001b[36mnode1\u001b[0m:\u001b[36m10\u001b[0m - \u001b[1mcur_depth_in_config = 0\u001b[0m\n",
      "\u001b[32m2025-06-27 09:01:00.634\u001b[0m | \u001b[1mINFO    \u001b[0m | \u001b[36m__main__\u001b[0m:\u001b[36mnode1\u001b[0m:\u001b[36m13\u001b[0m - \u001b[1mid(config) = 1836023998912\u001b[0m\n",
      "\u001b[32m2025-06-27 09:01:00.634\u001b[0m | \u001b[1mINFO    \u001b[0m | \u001b[36m__main__\u001b[0m:\u001b[36mnode1\u001b[0m:\u001b[36m14\u001b[0m - \u001b[1mid(config[\"configurable\"]) = 1836023992384\u001b[0m\n",
      "\u001b[32m2025-06-27 09:01:00.635\u001b[0m | \u001b[1mINFO    \u001b[0m | \u001b[36m__main__\u001b[0m:\u001b[36mnode1\u001b[0m:\u001b[36m15\u001b[0m - \u001b[1mid(config[\"configurable][\"thread_id\"]) = 140724680803648\u001b[0m\n",
      "\u001b[32m2025-06-27 09:01:00.636\u001b[0m | \u001b[1mINFO    \u001b[0m | \u001b[36m__main__\u001b[0m:\u001b[36mnode1\u001b[0m:\u001b[36m16\u001b[0m - \u001b[1mid(config[\"configurable\"][\"graph\"]) = 1836023373008\u001b[0m\n",
      "\u001b[32m2025-06-27 09:01:00.638\u001b[0m | \u001b[1mINFO    \u001b[0m | \u001b[36m__main__\u001b[0m:\u001b[36mrouter_by_rec_depth\u001b[0m:\u001b[36m52\u001b[0m - \u001b[1mrouter_by_rec_depth\u001b[0m\n",
      "\u001b[32m2025-06-27 09:01:00.640\u001b[0m | \u001b[1mINFO    \u001b[0m | \u001b[36m__main__\u001b[0m:\u001b[36mnode2\u001b[0m:\u001b[36m21\u001b[0m - \u001b[1mnode2\u001b[0m\n",
      "\u001b[32m2025-06-27 09:01:00.640\u001b[0m | \u001b[1mINFO    \u001b[0m | \u001b[36m__main__\u001b[0m:\u001b[36mnode2\u001b[0m:\u001b[36m42\u001b[0m - \u001b[1mcurrent graph id = 1836023373008\u001b[0m\n",
      "\u001b[32m2025-06-27 09:01:00.644\u001b[0m | \u001b[1mINFO    \u001b[0m | \u001b[36m__main__\u001b[0m:\u001b[36mnode1\u001b[0m:\u001b[36m8\u001b[0m - \u001b[1mnode1\u001b[0m\n",
      "\u001b[32m2025-06-27 09:01:00.644\u001b[0m | \u001b[1mINFO    \u001b[0m | \u001b[36m__main__\u001b[0m:\u001b[36mnode1\u001b[0m:\u001b[36m9\u001b[0m - \u001b[1mCurrent thread_id: 0563d650-7d26-488f-8af8-37039fd81ab2\u001b[0m\n",
      "\u001b[32m2025-06-27 09:01:00.644\u001b[0m | \u001b[1mINFO    \u001b[0m | \u001b[36m__main__\u001b[0m:\u001b[36mnode1\u001b[0m:\u001b[36m10\u001b[0m - \u001b[1mcur_depth_in_config = 2\u001b[0m\n",
      "\u001b[32m2025-06-27 09:01:00.644\u001b[0m | \u001b[1mINFO    \u001b[0m | \u001b[36m__main__\u001b[0m:\u001b[36mnode1\u001b[0m:\u001b[36m13\u001b[0m - \u001b[1mid(config) = 1836023413824\u001b[0m\n",
      "\u001b[32m2025-06-27 09:01:00.648\u001b[0m | \u001b[1mINFO    \u001b[0m | \u001b[36m__main__\u001b[0m:\u001b[36mnode1\u001b[0m:\u001b[36m14\u001b[0m - \u001b[1mid(config[\"configurable\"]) = 1836024013632\u001b[0m\n",
      "\u001b[32m2025-06-27 09:01:00.648\u001b[0m | \u001b[1mINFO    \u001b[0m | \u001b[36m__main__\u001b[0m:\u001b[36mnode1\u001b[0m:\u001b[36m15\u001b[0m - \u001b[1mid(config[\"configurable][\"thread_id\"]) = 1836023755312\u001b[0m\n",
      "\u001b[32m2025-06-27 09:01:00.648\u001b[0m | \u001b[1mINFO    \u001b[0m | \u001b[36m__main__\u001b[0m:\u001b[36mnode1\u001b[0m:\u001b[36m16\u001b[0m - \u001b[1mid(config[\"configurable\"][\"graph\"]) = 1836023373008\u001b[0m\n",
      "\u001b[32m2025-06-27 09:01:00.653\u001b[0m | \u001b[1mINFO    \u001b[0m | \u001b[36m__main__\u001b[0m:\u001b[36mrouter_by_rec_depth\u001b[0m:\u001b[36m52\u001b[0m - \u001b[1mrouter_by_rec_depth\u001b[0m\n",
      "\u001b[32m2025-06-27 09:01:00.655\u001b[0m | \u001b[1mINFO    \u001b[0m | \u001b[36m__main__\u001b[0m:\u001b[36mnode2\u001b[0m:\u001b[36m21\u001b[0m - \u001b[1mnode2\u001b[0m\n",
      "\u001b[32m2025-06-27 09:01:00.655\u001b[0m | \u001b[1mINFO    \u001b[0m | \u001b[36m__main__\u001b[0m:\u001b[36mnode2\u001b[0m:\u001b[36m42\u001b[0m - \u001b[1mcurrent graph id = 1836023373008\u001b[0m\n",
      "\u001b[32m2025-06-27 09:01:00.663\u001b[0m | \u001b[1mINFO    \u001b[0m | \u001b[36m__main__\u001b[0m:\u001b[36mnode1\u001b[0m:\u001b[36m8\u001b[0m - \u001b[1mnode1\u001b[0m\n",
      "\u001b[32m2025-06-27 09:01:00.663\u001b[0m | \u001b[1mINFO    \u001b[0m | \u001b[36m__main__\u001b[0m:\u001b[36mnode1\u001b[0m:\u001b[36m9\u001b[0m - \u001b[1mCurrent thread_id: 829265a5-d853-4051-8e78-79dbe6c12bb4\u001b[0m\n",
      "\u001b[32m2025-06-27 09:01:00.663\u001b[0m | \u001b[1mINFO    \u001b[0m | \u001b[36m__main__\u001b[0m:\u001b[36mnode1\u001b[0m:\u001b[36m10\u001b[0m - \u001b[1mcur_depth_in_config = 3\u001b[0m\n",
      "\u001b[32m2025-06-27 09:01:00.663\u001b[0m | \u001b[1mINFO    \u001b[0m | \u001b[36m__main__\u001b[0m:\u001b[36mnode1\u001b[0m:\u001b[36m13\u001b[0m - \u001b[1mid(config) = 1836024191744\u001b[0m\n",
      "\u001b[32m2025-06-27 09:01:00.667\u001b[0m | \u001b[1mINFO    \u001b[0m | \u001b[36m__main__\u001b[0m:\u001b[36mnode1\u001b[0m:\u001b[36m14\u001b[0m - \u001b[1mid(config[\"configurable\"]) = 1836024195328\u001b[0m\n",
      "\u001b[32m2025-06-27 09:01:00.667\u001b[0m | \u001b[1mINFO    \u001b[0m | \u001b[36m__main__\u001b[0m:\u001b[36mnode1\u001b[0m:\u001b[36m15\u001b[0m - \u001b[1mid(config[\"configurable][\"thread_id\"]) = 1836024123664\u001b[0m\n",
      "\u001b[32m2025-06-27 09:01:00.667\u001b[0m | \u001b[1mINFO    \u001b[0m | \u001b[36m__main__\u001b[0m:\u001b[36mnode1\u001b[0m:\u001b[36m16\u001b[0m - \u001b[1mid(config[\"configurable\"][\"graph\"]) = 1836023373008\u001b[0m\n",
      "\u001b[32m2025-06-27 09:01:00.670\u001b[0m | \u001b[1mINFO    \u001b[0m | \u001b[36m__main__\u001b[0m:\u001b[36mrouter_by_rec_depth\u001b[0m:\u001b[36m52\u001b[0m - \u001b[1mrouter_by_rec_depth\u001b[0m\n",
      "\u001b[32m2025-06-27 09:01:00.673\u001b[0m | \u001b[1mINFO    \u001b[0m | \u001b[36m__main__\u001b[0m:\u001b[36mnode2\u001b[0m:\u001b[36m21\u001b[0m - \u001b[1mnode2\u001b[0m\n",
      "\u001b[32m2025-06-27 09:01:00.674\u001b[0m | \u001b[1mINFO    \u001b[0m | \u001b[36m__main__\u001b[0m:\u001b[36mnode2\u001b[0m:\u001b[36m42\u001b[0m - \u001b[1mcurrent graph id = 1836023373008\u001b[0m\n",
      "\u001b[32m2025-06-27 09:01:00.679\u001b[0m | \u001b[1mINFO    \u001b[0m | \u001b[36m__main__\u001b[0m:\u001b[36mnode1\u001b[0m:\u001b[36m8\u001b[0m - \u001b[1mnode1\u001b[0m\n",
      "\u001b[32m2025-06-27 09:01:00.679\u001b[0m | \u001b[1mINFO    \u001b[0m | \u001b[36m__main__\u001b[0m:\u001b[36mnode1\u001b[0m:\u001b[36m9\u001b[0m - \u001b[1mCurrent thread_id: 79e7b6d2-83a4-417e-9716-a9b4e4961a5b\u001b[0m\n",
      "\u001b[32m2025-06-27 09:01:00.680\u001b[0m | \u001b[1mINFO    \u001b[0m | \u001b[36m__main__\u001b[0m:\u001b[36mnode1\u001b[0m:\u001b[36m10\u001b[0m - \u001b[1mcur_depth_in_config = 4\u001b[0m\n",
      "\u001b[32m2025-06-27 09:01:00.680\u001b[0m | \u001b[1mINFO    \u001b[0m | \u001b[36m__main__\u001b[0m:\u001b[36mnode1\u001b[0m:\u001b[36m13\u001b[0m - \u001b[1mid(config) = 1836024208320\u001b[0m\n",
      "\u001b[32m2025-06-27 09:01:00.681\u001b[0m | \u001b[1mINFO    \u001b[0m | \u001b[36m__main__\u001b[0m:\u001b[36mnode1\u001b[0m:\u001b[36m14\u001b[0m - \u001b[1mid(config[\"configurable\"]) = 1836024217024\u001b[0m\n",
      "\u001b[32m2025-06-27 09:01:00.681\u001b[0m | \u001b[1mINFO    \u001b[0m | \u001b[36m__main__\u001b[0m:\u001b[36mnode1\u001b[0m:\u001b[36m15\u001b[0m - \u001b[1mid(config[\"configurable][\"thread_id\"]) = 1836024131104\u001b[0m\n",
      "\u001b[32m2025-06-27 09:01:00.682\u001b[0m | \u001b[1mINFO    \u001b[0m | \u001b[36m__main__\u001b[0m:\u001b[36mnode1\u001b[0m:\u001b[36m16\u001b[0m - \u001b[1mid(config[\"configurable\"][\"graph\"]) = 1836023373008\u001b[0m\n",
      "\u001b[32m2025-06-27 09:01:00.684\u001b[0m | \u001b[1mINFO    \u001b[0m | \u001b[36m__main__\u001b[0m:\u001b[36mrouter_by_rec_depth\u001b[0m:\u001b[36m52\u001b[0m - \u001b[1mrouter_by_rec_depth\u001b[0m\n"
     ]
    },
    {
     "data": {
      "text/plain": [
       "{'cur_depth': 1,\n",
       " 'all_thread_ids': ['hello', '0563d650-7d26-488f-8af8-37039fd81ab2']}"
      ]
     },
     "execution_count": 5,
     "metadata": {},
     "output_type": "execute_result"
    }
   ],
   "source": [
    "# 编译获得图\n",
    "memory = MemorySaver()\n",
    "graph = call_wf.compile(checkpointer=memory)\n",
    "\n",
    "# 定义运行时配置\n",
    "config = {\n",
    "    'configurable': {\n",
    "        'thread_id': '1',\n",
    "        'cur_depth_in_config': 0,\n",
    "        'graph': graph\n",
    "    }\n",
    "}\n",
    "\n",
    "graph.invoke(\n",
    "    input={'cur_depth': 0},\n",
    "    config=config\n",
    ")"
   ]
  },
  {
   "cell_type": "code",
   "execution_count": 20,
   "id": "b5c7d6a2",
   "metadata": {},
   "outputs": [
    {
     "data": {
      "text/plain": [
       "[StateSnapshot(values={'cur_depth': 3, 'all_thread_ids': ['hello', '3a10b2de-4528-4daf-b659-eacaeddbe62c']}, next=(), config={'configurable': {'thread_id': '45ebe941-82bf-4253-9d55-e0628a983783', 'checkpoint_ns': '', 'checkpoint_id': '1f0526ad-5d77-6169-8002-c176018cfec4'}}, metadata={'source': 'loop', 'writes': {'node2': {'all_thread_ids': ['3a10b2de-4528-4daf-b659-eacaeddbe62c']}}, 'thread_id': '1', 'cur_depth_in_config': 0, 'langgraph_step': 2, 'langgraph_node': 'node2', 'langgraph_triggers': ['branch:node1:router_by_rec_depth:node2'], 'langgraph_path': ['__pregel_pull', 'node2'], 'langgraph_checkpoint_ns': 'node2:4e3bb448-238d-e767-119c-14f9948825e5', 'step': 2, 'parents': {}}, created_at='2025-06-26T08:52:05.616266+00:00', parent_config={'configurable': {'thread_id': '45ebe941-82bf-4253-9d55-e0628a983783', 'checkpoint_ns': '', 'checkpoint_id': '1f0526ad-5d52-6360-8001-c35748f3aa94'}}, tasks=()),\n",
       " StateSnapshot(values={'cur_depth': 3, 'all_thread_ids': []}, next=('node2',), config={'configurable': {'thread_id': '45ebe941-82bf-4253-9d55-e0628a983783', 'checkpoint_ns': '', 'checkpoint_id': '1f0526ad-5d52-6360-8001-c35748f3aa94'}}, metadata={'source': 'loop', 'writes': {'node1': {'cur_depth': 3}}, 'thread_id': '1', 'cur_depth_in_config': 0, 'langgraph_step': 2, 'langgraph_node': 'node2', 'langgraph_triggers': ['branch:node1:router_by_rec_depth:node2'], 'langgraph_path': ['__pregel_pull', 'node2'], 'langgraph_checkpoint_ns': 'node2:4e3bb448-238d-e767-119c-14f9948825e5', 'step': 1, 'parents': {}}, created_at='2025-06-26T08:52:05.601161+00:00', parent_config={'configurable': {'thread_id': '45ebe941-82bf-4253-9d55-e0628a983783', 'checkpoint_ns': '', 'checkpoint_id': '1f0526ad-5d40-6365-8000-39e610b08229'}}, tasks=(PregelTask(id='59c37ff2-418b-efc0-057b-3ce66f2e9e6a', name='node2', path=('__pregel_pull', 'node2'), error=None, interrupts=(), state=None, result={'all_thread_ids': ['3a10b2de-4528-4daf-b659-eacaeddbe62c']}),)),\n",
       " StateSnapshot(values={'cur_depth': 2, 'all_thread_ids': []}, next=('node1',), config={'configurable': {'thread_id': '45ebe941-82bf-4253-9d55-e0628a983783', 'checkpoint_ns': '', 'checkpoint_id': '1f0526ad-5d40-6365-8000-39e610b08229'}}, metadata={'source': 'loop', 'writes': None, 'thread_id': '1', 'cur_depth_in_config': 0, 'langgraph_step': 2, 'langgraph_node': 'node2', 'langgraph_triggers': ['branch:node1:router_by_rec_depth:node2'], 'langgraph_path': ['__pregel_pull', 'node2'], 'langgraph_checkpoint_ns': 'node2:4e3bb448-238d-e767-119c-14f9948825e5', 'step': 0, 'parents': {}}, created_at='2025-06-26T08:52:05.593789+00:00', parent_config={'configurable': {'thread_id': '45ebe941-82bf-4253-9d55-e0628a983783', 'checkpoint_ns': '', 'checkpoint_id': '1f0526ad-5d38-6e3e-bfff-e76d36ab645e'}}, tasks=(PregelTask(id='07e22fc3-d14c-78cd-1470-eea71b267dd2', name='node1', path=('__pregel_pull', 'node1'), error=None, interrupts=(), state=None, result={'cur_depth': 3}),)),\n",
       " StateSnapshot(values={'all_thread_ids': []}, next=('__start__',), config={'configurable': {'thread_id': '45ebe941-82bf-4253-9d55-e0628a983783', 'checkpoint_ns': '', 'checkpoint_id': '1f0526ad-5d38-6e3e-bfff-e76d36ab645e'}}, metadata={'source': 'input', 'writes': {'__start__': {'cur_depth': 2}}, 'thread_id': '1', 'cur_depth_in_config': 0, 'langgraph_step': 2, 'langgraph_node': 'node2', 'langgraph_triggers': ['branch:node1:router_by_rec_depth:node2'], 'langgraph_path': ['__pregel_pull', 'node2'], 'langgraph_checkpoint_ns': 'node2:4e3bb448-238d-e767-119c-14f9948825e5', 'step': -1, 'parents': {}}, created_at='2025-06-26T08:52:05.590790+00:00', parent_config=None, tasks=(PregelTask(id='8afe013b-c1b1-b20e-3cca-484794a0b523', name='__start__', path=('__pregel_pull', '__start__'), error=None, interrupts=(), state=None, result={'cur_depth': 2}),))]"
      ]
     },
     "execution_count": 20,
     "metadata": {},
     "output_type": "execute_result"
    }
   ],
   "source": [
    "tid = '1'\n",
    "tid = 'cdeb9ad9-5f9f-4f16-836a-54a4aecc216f'\n",
    "tid = '45ebe941-82bf-4253-9d55-e0628a983783'\n",
    "\n",
    "list(graph.get_state_history(config={'configurable': {'thread_id': tid}}))"
   ]
  },
  {
   "cell_type": "markdown",
   "id": "35732ac0",
   "metadata": {},
   "source": [
    "*2025.06.27*\n",
    "\n",
    "测试 RAG wirh Judge V2\n",
    "\n",
    "现在是没什么问题了，现在可以\n",
    "\n",
    "1. 若存在 score=2 的 文档时，可以直接回答\n",
    "\n",
    "2. 可以追踪递归过程中图的状态，可以用于重建搜索树\n",
    "\n",
    "现在的瓶颈在于<font color='red'>「Judge 的稳定性」</font>"
   ]
  },
  {
   "cell_type": "code",
   "execution_count": 1,
   "id": "7ec3a429",
   "metadata": {},
   "outputs": [],
   "source": [
    "import sys\n",
    "\n",
    "# 需要把当前项目的根目录加到 sys.path 中，才能找到 modules 下的 Index 模块\n",
    "sys.path.append(r'C:\\Users\\Lenovo\\Desktop\\RAG rebuild v2')"
   ]
  },
  {
   "cell_type": "code",
   "execution_count": 2,
   "id": "399794a8",
   "metadata": {},
   "outputs": [],
   "source": [
    "import os\n",
    "from dotenv import load_dotenv\n",
    "from loguru import logger as log\n",
    "\n",
    "from langchain_openai import ChatOpenAI, OpenAIEmbeddings\n",
    "from langgraph.checkpoint.memory import MemorySaver\n",
    "\n",
    "from modules.Index import Index\n",
    "# from RAGwithJudge.workflow import get_rag_with_judge_workflow\n",
    "from RAGwithJudgeV2.workflow import get_rag_with_judge_v2_workflow"
   ]
  },
  {
   "cell_type": "code",
   "execution_count": 3,
   "id": "2ed1f7f0",
   "metadata": {},
   "outputs": [
    {
     "name": "stderr",
     "output_type": "stream",
     "text": [
      "\u001b[32m2025-06-27 19:06:55.520\u001b[0m | \u001b[1mINFO    \u001b[0m | \u001b[36mmodules.Index\u001b[0m:\u001b[36mget_index_done\u001b[0m:\u001b[36m160\u001b[0m - \u001b[1mvs_test1 向量数据库已存在，成功加载到内存中\u001b[0m\n"
     ]
    }
   ],
   "source": [
    "load_dotenv()\n",
    "\n",
    "# 1. 定义嵌入模型、聊天模型、向量数据库\n",
    "embed_model = OpenAIEmbeddings(\n",
    "    api_key=os.getenv(\"BL_API_KEY\"),\n",
    "    base_url=os.getenv(\"BL_BASE_URL\"),\n",
    "    model=\"text-embedding-v3\",\n",
    "    dimensions=1024,\n",
    "    check_embedding_ctx_length=False\n",
    ")\n",
    "\n",
    "llm = ChatOpenAI(\n",
    "    api_key=os.getenv(\"BL_API_KEY\"),\n",
    "    base_url=os.getenv(\"BL_BASE_URL\"),\n",
    "    model='qwen-max-latest',\n",
    "    temperature=0.0\n",
    ")\n",
    "\n",
    "vs_test1 = Index(\n",
    "    embed_model=embed_model,\n",
    "    data_path='../data',\n",
    "    file_type_wanted={'.pdf'},\n",
    "    vector_store_name='vs_test1'\n",
    ")\n",
    "vs_test1.get_index_done()\n",
    "vector_store = vs_test1.vector_store"
   ]
  },
  {
   "cell_type": "code",
   "execution_count": 10,
   "id": "eb39caf3",
   "metadata": {},
   "outputs": [
    {
     "name": "stderr",
     "output_type": "stream",
     "text": [
      "\u001b[32m2025-06-27 19:12:14.892\u001b[0m | \u001b[1mINFO    \u001b[0m | \u001b[36mdata_process.open_benchmarks.hotpotqa\u001b[0m:\u001b[36mget_hotpotqa_vector_store\u001b[0m:\u001b[36m118\u001b[0m - \u001b[1mhotpotqa_500 向量数据库已存在，成功加载到内存中\u001b[0m\n"
     ]
    }
   ],
   "source": [
    "from data_process.open_benchmarks.hotpotqa import get_hotpotqa_vector_store\n",
    "\n",
    "vs_hotpotqa500, vs_name = get_hotpotqa_vector_store(\n",
    "    embed_model=embed_model,\n",
    "    file_path=r'C:\\Users\\Lenovo\\Desktop\\RAG rebuild\\data\\hotpot_dev_distractor_v1.json',\n",
    "    # file_path=r'C:\\Users\\Lenovo\\Desktop\\RAG rebuild\\data\\hotpot_10.json',\n",
    "    sample_size=500,\n",
    "    output_file_path=r'C:\\Users\\Lenovo\\Desktop\\RAG rebuild\\evaluation\\hotpotqa\\test_data_500.json',\n",
    "    # output_file_path=r'C:\\Users\\Lenovo\\Desktop\\RAG rebuild\\evaluation\\hotpotqa\\test_data_10.json',\n",
    "    vector_store_name='hotpotqa_500',\n",
    "    # vector_store_name='hotpotqa_test',\n",
    "    chunk_size=500,\n",
    "    chunk_overlap=10\n",
    ")"
   ]
  },
  {
   "cell_type": "code",
   "execution_count": 13,
   "id": "22199934",
   "metadata": {},
   "outputs": [],
   "source": [
    "# 2. 定义图相关的配置，包括 为图配置记忆、编译后的图、图的运行时配置\n",
    "# 为图添加线程级持久化\n",
    "memory = MemorySaver()\n",
    "rag_with_judge_wf = get_rag_with_judge_v2_workflow()\n",
    "rag_with_judge = rag_with_judge_wf.compile(checkpointer=memory)  # 编译图\n",
    "\n",
    "# 定义运行时配置\n",
    "run_config = {\n",
    "    'configurable': {\n",
    "        'thread_id': '1',  # 持久化图的记忆所需\n",
    "        # 'vector_store': vector_store,  # 向量数据库\n",
    "        'vector_store': vs_hotpotqa500,  # 向量数据库\n",
    "        'top_k': 3,  # 检索最多返回的文档数\n",
    "        'llm': llm,  # 使用的 LLM\n",
    "        'graph': rag_with_judge,  # 递归调用新 RAG 时所需\n",
    "        # 'workflow': rag_with_judge_wf,\n",
    "        'recursion_depth': 0,  # 当前递归深度\n",
    "        'max_rec_depth': 5  # 最大递归深度\n",
    "    }\n",
    "}"
   ]
  },
  {
   "cell_type": "code",
   "execution_count": 6,
   "id": "321201b2",
   "metadata": {},
   "outputs": [
    {
     "data": {
      "image/png": "[encoded data removed]",
      "text/plain": [
       "<IPython.core.display.Image object>"
      ]
     },
     "metadata": {},
     "output_type": "display_data"
    }
   ],
   "source": [
    "from IPython.display import Image, display\n",
    "\n",
    "display(Image(rag_with_judge.get_graph(xray=1).draw_mermaid_png()))"
   ]
  },
  {
   "cell_type": "code",
   "execution_count": 14,
   "id": "ef4c3ac1",
   "metadata": {},
   "outputs": [
    {
     "name": "stderr",
     "output_type": "stream",
     "text": [
      "\u001b[32m2025-06-27 19:16:22.287\u001b[0m | \u001b[1mINFO    \u001b[0m | \u001b[36m__main__\u001b[0m:\u001b[36m<module>\u001b[0m:\u001b[36m3\u001b[0m - \u001b[1m用户输入问题：How long did the career span of the actor who starred with Mickey Rooney and Marilyn Maxwell in Off Limits?\u001b[0m\n",
      "\u001b[32m2025-06-27 19:16:22.292\u001b[0m | \u001b[1mINFO    \u001b[0m | \u001b[36mNaiveRAG.nodes\u001b[0m:\u001b[36mretriever_node\u001b[0m:\u001b[36m29\u001b[0m - \u001b[1m---------- 进入检索模块 ----------\u001b[0m\n",
      "\u001b[32m2025-06-27 19:16:22.509\u001b[0m | \u001b[1mINFO    \u001b[0m | \u001b[36mRAGwithJudgeV2.nodes\u001b[0m:\u001b[36mjudge_node\u001b[0m:\u001b[36m42\u001b[0m - \u001b[1mJudge\u001b[0m\n",
      "\u001b[32m2025-06-27 19:16:22.512\u001b[0m | \u001b[1mINFO    \u001b[0m | \u001b[36mRAGwithJudgeV2.nodes\u001b[0m:\u001b[36mjudge_node\u001b[0m:\u001b[36m42\u001b[0m - \u001b[1mJudge\u001b[0m\n",
      "\u001b[32m2025-06-27 19:16:22.512\u001b[0m | \u001b[1mINFO    \u001b[0m | \u001b[36mRAGwithJudgeV2.nodes\u001b[0m:\u001b[36mjudge_node\u001b[0m:\u001b[36m42\u001b[0m - \u001b[1mJudge\u001b[0m\n",
      "\u001b[32m2025-06-27 19:16:25.694\u001b[0m | \u001b[1mINFO    \u001b[0m | \u001b[36mRAGwithJudgeV2.nodes\u001b[0m:\u001b[36mjudge_node\u001b[0m:\u001b[36m64\u001b[0m - \u001b[1m将 How long did the career span of the actor who starred with Mickey Rooney and Marilyn Maxwell in Off Limits? 和 The Mickey Rooney Show (also known as Hey, Mulligan) is an American sitcom that aired from 1954 to 1955 on NBC. The series stars Mickey Rooney (in his first television role) who was particularly remembered for his starring role in numerous Andy Hardy films made between 1937 and 1958, which overlapped with \"Hey Mulligan\". 交给 judge 判断，结果为 score=0 reason=\"The provided knowledge discusses Mickey Rooney's career, particularly his role in The Mickey Rooney Show and Andy Hardy films, but it does not provide any information about the career span of the actor who starred with him and Marilyn Maxwell in Off Limits.\" next_query=''\u001b[0m\n",
      "\u001b[32m2025-06-27 19:16:27.541\u001b[0m | \u001b[1mINFO    \u001b[0m | \u001b[36mRAGwithJudgeV2.nodes\u001b[0m:\u001b[36mjudge_node\u001b[0m:\u001b[36m64\u001b[0m - \u001b[1m将 How long did the career span of the actor who starred with Mickey Rooney and Marilyn Maxwell in Off Limits? 和 The Adventures of The Black Stallion is a television series that starred Mickey Rooney and Richard Ian Cox, as a trainer and a teenaged horse racer and was loosely based on the book series by Walter Farley. The series originally ran on The Family Channel and YTV from September 15, 1990 to May 16, 1993, before cancellation. It has since been shown in re-runs throughout the world. Mickey Rooney is the only original cast member from \"The Black Stallion\" to reprise his role in the show. 交给 judge 判断，结果为 score=0 reason=\"The provided knowledge discusses Mickey Rooney's involvement in 'The Adventures of The Black Stallion' TV series and its airing details. However, it contains no information about the actor who starred with him and Marilyn Maxwell in 'Off Limits', nor does it provide any details about career spans.\" next_query=''\u001b[0m\n",
      "\u001b[32m2025-06-27 19:16:28.960\u001b[0m | \u001b[1mINFO    \u001b[0m | \u001b[36mRAGwithJudgeV2.nodes\u001b[0m:\u001b[36mjudge_node\u001b[0m:\u001b[36m64\u001b[0m - \u001b[1m将 How long did the career span of the actor who starred with Mickey Rooney and Marilyn Maxwell in Off Limits? 和 Off Limits is a 1953 comedy film directed by George Marshall and starring Bob Hope, Mickey Rooney and Marilyn Maxwell. Hope plays a manager who enlists in the army to keep an eye on his boxer, who has been drafted. The picture was written by Hal Kanter and Jack Sher, and was released in the UK as Military Policemen, as the characters played by Hope and Rooney join the military police. 交给 judge 判断，结果为 score=1 reason='步骤1：问题核心是询问与Mickey Rooney和Marilyn Maxwell共同出演《Off Limits》的演员的职业生涯跨度。步骤2：知识提供了电影的基本信息，包括导演、主演（Bob Hope, Mickey Rooney和Marilyn Maxwell），以及电影的情节简介。步骤3：虽然知识确认了Bob Hope是该电影的主演之一，但没有提供关于他的职业生涯长度的信息。步骤4：因此，这部分知识仅部分有用，因为它回答了谁是主演之一，但没有提供职业生涯跨度的信息。' next_query='How long was the career span of Bob Hope?'\u001b[0m\n",
      "\u001b[32m2025-06-27 19:16:28.962\u001b[0m | \u001b[1mINFO    \u001b[0m | \u001b[36mRAGwithJudgeV2.nodes\u001b[0m:\u001b[36mcall_new_rag_node\u001b[0m:\u001b[36m131\u001b[0m - \u001b[1m使用 a7e6eb4f-9627-4398-ab58-e9bcb1f5b35c 调用 RAG，问题为 How long was the career span of Bob Hope?，当前递归深度为 1\u001b[0m\n",
      "\u001b[32m2025-06-27 19:16:28.976\u001b[0m | \u001b[1mINFO    \u001b[0m | \u001b[36mNaiveRAG.nodes\u001b[0m:\u001b[36mretriever_node\u001b[0m:\u001b[36m29\u001b[0m - \u001b[1m---------- 进入检索模块 ----------\u001b[0m\n",
      "\u001b[32m2025-06-27 19:16:29.186\u001b[0m | \u001b[1mINFO    \u001b[0m | \u001b[36mRAGwithJudgeV2.nodes\u001b[0m:\u001b[36mjudge_node\u001b[0m:\u001b[36m42\u001b[0m - \u001b[1mJudge\u001b[0m\n",
      "\u001b[32m2025-06-27 19:16:29.190\u001b[0m | \u001b[1mINFO    \u001b[0m | \u001b[36mRAGwithJudgeV2.nodes\u001b[0m:\u001b[36mjudge_node\u001b[0m:\u001b[36m42\u001b[0m - \u001b[1mJudge\u001b[0m\n",
      "\u001b[32m2025-06-27 19:16:29.197\u001b[0m | \u001b[1mINFO    \u001b[0m | \u001b[36mRAGwithJudgeV2.nodes\u001b[0m:\u001b[36mjudge_node\u001b[0m:\u001b[36m42\u001b[0m - \u001b[1mJudge\u001b[0m\n",
      "\u001b[32m2025-06-27 19:16:33.441\u001b[0m | \u001b[1mINFO    \u001b[0m | \u001b[36mRAGwithJudgeV2.nodes\u001b[0m:\u001b[36mjudge_node\u001b[0m:\u001b[36m64\u001b[0m - \u001b[1m将 How long was the career span of Bob Hope? 和 Off Limits is a 1953 comedy film directed by George Marshall and starring Bob Hope, Mickey Rooney and Marilyn Maxwell. Hope plays a manager who enlists in the army to keep an eye on his boxer, who has been drafted. The picture was written by Hal Kanter and Jack Sher, and was released in the UK as Military Policemen, as the characters played by Hope and Rooney join the military police. 交给 judge 判断，结果为 score=0 reason=\"The provided information is about a specific film 'Off Limits' from 1953 starring Bob Hope, but it does not provide any information regarding the timespan of Bob Hope's career.\" next_query=''\u001b[0m\n",
      "\u001b[32m2025-06-27 19:16:33.494\u001b[0m | \u001b[1mINFO    \u001b[0m | \u001b[36mRAGwithJudgeV2.nodes\u001b[0m:\u001b[36mjudge_node\u001b[0m:\u001b[36m64\u001b[0m - \u001b[1m将 How long was the career span of Bob Hope? 和 , 1960s, and 1970's. Having originated many roles in musicals she is also strongly identified with her second husband, director–choreographer Bob Fosse, remembered as the dancer–collaborator–muse for whom he choreographed much of his work and as the guardian of his legacy after his death. 交给 judge 判断，结果为 score=0 reason='步骤1：问题核心是询问Bob Hope的职业生涯时长\\n步骤2：知识内容完全无关，描述的是某位与Bob Fosse相关的人物的信息\\n步骤3：知识未覆盖问题的任何要素\\n步骤4：符合完全无用标准(0分)' next_query=''\u001b[0m\n",
      "\u001b[32m2025-06-27 19:16:33.625\u001b[0m | \u001b[1mINFO    \u001b[0m | \u001b[36mRAGwithJudgeV2.nodes\u001b[0m:\u001b[36mjudge_node\u001b[0m:\u001b[36m64\u001b[0m - \u001b[1m将 How long was the career span of Bob Hope? 和 Bob Hope, KBE, KC*SG, KSS (born Leslie Towns Hope; May 29, 1903 – July 27, 2003) was an American comedian, vaudevillian, actor, singer, dancer, athlete and author. With a career spanning nearly 80 years, Hope appeared in more than 70 short and feature films, including a series of \"Road\" movies. In addition to hosting the Academy Awards show nineteen times, more than any other host, he appeared in many stage productions and television roles 交给 judge 判断，结果为 score=2 reason=\"Step 1: The question asks for the career span of Bob Hope.\\nStep 2: The knowledge states that Bob Hope had a career spanning nearly 80 years.\\nStep 3: The provided information directly answers the complete query about the length of Bob Hope's career.\\nStep 4: The knowledge is fully useful (2 points) as it comprehensively addresses the question.\" next_query=''\u001b[0m\n",
      "\u001b[32m2025-06-27 19:16:33.630\u001b[0m | \u001b[1mINFO    \u001b[0m | \u001b[36mNaiveRAG.nodes\u001b[0m:\u001b[36maugmented_node\u001b[0m:\u001b[36m57\u001b[0m - \u001b[1m---------- 进入增强模块 ----------\u001b[0m\n",
      "\u001b[32m2025-06-27 19:16:33.633\u001b[0m | \u001b[1mINFO    \u001b[0m | \u001b[36mNaiveRAG.nodes\u001b[0m:\u001b[36mgenerate_node\u001b[0m:\u001b[36m96\u001b[0m - \u001b[1m---------- 进入生成模块 ----------\u001b[0m\n"
     ]
    },
    {
     "name": "stdout",
     "output_type": "stream",
     "text": [
      "Bob Hope's career spanned nearly 80 years. [HotpotQA_Bob Hope_5a8ba761554299240d9c2066_p0]"
     ]
    },
    {
     "name": "stderr",
     "output_type": "stream",
     "text": [
      "\u001b[32m2025-06-27 19:16:35.746\u001b[0m | \u001b[1mINFO    \u001b[0m | \u001b[36mNaiveRAG.nodes\u001b[0m:\u001b[36maugmented_node\u001b[0m:\u001b[36m57\u001b[0m - \u001b[1m---------- 进入增强模块 ----------\u001b[0m\n",
      "\u001b[32m2025-06-27 19:16:35.750\u001b[0m | \u001b[1mINFO    \u001b[0m | \u001b[36mNaiveRAG.nodes\u001b[0m:\u001b[36mgenerate_node\u001b[0m:\u001b[36m96\u001b[0m - \u001b[1m---------- 进入生成模块 ----------\u001b[0m\n"
     ]
    },
    {
     "name": "stdout",
     "output_type": "stream",
     "text": [
      "The career of Bob Hope, who starred with Mickey Rooney and Marilyn Maxwell in Off Limits, spanned nearly 80 years. [HotpotQA_Off Limits (1953 film)_5a8ba761554299240d9c2066_p0]"
     ]
    }
   ],
   "source": [
    "# 流式传入运行图的结果\n",
    "query = input('请输入你的问题：')\n",
    "log.info(f'用户输入问题：{query}')\n",
    "for message, metadata in rag_with_judge.stream(\n",
    "        input={'query': query},  # input 是传递给图的输入\n",
    "        stream_mode=\"messages\",\n",
    "        config=run_config\n",
    "):\n",
    "    if metadata[\"langgraph_node\"] == \"generate\":\n",
    "        print(message.content, end='', flush=True)"
   ]
  },
  {
   "cell_type": "code",
   "execution_count": 19,
   "id": "c386e383",
   "metadata": {},
   "outputs": [
    {
     "data": {
      "text/plain": [
       "[Document(metadata={'title': 'Off Limits (1953 film)', 'dataset': 'HotpotQA', 'start_index': 0, 'pk': 'f9dd8c96-f956-4904-844c-19408360fce6', 'hotpotqa_id': '5a8ba761554299240d9c2066', 'source': 'HotpotQA_Off Limits (1953 film)_5a8ba761554299240d9c2066', 'question': 'How long did the career span of the actor who starred with Mickey Rooney and Marilyn Maxwell in Off Limits?', 'page': 0, 'recursion_depth': 0, 'next_rag_thread_id': 'a7e6eb4f-9627-4398-ab58-e9bcb1f5b35c', 'score': 1, 'reason': '步骤1：问题核心是询问与Mickey Rooney和Marilyn Maxwell共同出演《Off Limits》的演员的职业生涯跨度。步骤2：知识提供了电影的基本信息，包括导演、主演（Bob Hope, Mickey Rooney和Marilyn Maxwell），以及电影的情节简介。步骤3：虽然知识确认了Bob Hope是该电影的主演之一，但没有提供关于他的职业生涯长度的信息。步骤4：因此，这部分知识仅部分有用，因为它回答了谁是主演之一，但没有提供职业生涯跨度的信息。', 'next_query': 'How long was the career span of Bob Hope?'}, page_content=\"Off Limits is a 1953 comedy film directed by George Marshall and starring Bob Hope, Mickey Rooney and Marilyn Maxwell. Hope plays a manager who enlists in the army to keep an eye on his boxer, who has been drafted. The picture was written by Hal Kanter and Jack Sher, and was released in the UK as Military Policemen, as the characters played by Hope and Rooney join the military police.Bob Hope's career spanned nearly 80 years. [HotpotQA_Bob Hope_5a8ba761554299240d9c2066_p0]\"),\n",
       " Document(metadata={'title': 'The Mickey Rooney Show', 'dataset': 'HotpotQA', 'start_index': 0, 'pk': '1022e955-e1f7-4543-a653-257b1ba1b224', 'hotpotqa_id': '5a8ba761554299240d9c2066', 'source': 'HotpotQA_The Mickey Rooney Show_5a8ba761554299240d9c2066', 'question': 'How long did the career span of the actor who starred with Mickey Rooney and Marilyn Maxwell in Off Limits?', 'page': 0, 'recursion_depth': 0, 'next_rag_thread_id': '', 'score': 0, 'reason': \"The provided knowledge discusses Mickey Rooney's career, particularly his role in The Mickey Rooney Show and Andy Hardy films, but it does not provide any information about the career span of the actor who starred with him and Marilyn Maxwell in Off Limits.\", 'next_query': ''}, page_content=''),\n",
       " Document(metadata={'title': 'The Adventures of the Black Stallion', 'dataset': 'HotpotQA', 'start_index': 0, 'pk': '20fd82cc-c27b-4be2-9974-e5908a52bb5b', 'hotpotqa_id': '5a8ba761554299240d9c2066', 'source': 'HotpotQA_The Adventures of the Black Stallion_5a8ba761554299240d9c2066', 'question': 'How long did the career span of the actor who starred with Mickey Rooney and Marilyn Maxwell in Off Limits?', 'page': 0, 'recursion_depth': 0, 'next_rag_thread_id': '', 'score': 0, 'reason': \"The provided knowledge discusses Mickey Rooney's involvement in 'The Adventures of The Black Stallion' TV series and its airing details. However, it contains no information about the actor who starred with him and Marilyn Maxwell in 'Off Limits', nor does it provide any details about career spans.\", 'next_query': ''}, page_content='')]"
      ]
     },
     "execution_count": 19,
     "metadata": {},
     "output_type": "execute_result"
    }
   ],
   "source": [
    "list(rag_with_judge.get_state_history(config={'configurable': {'thread_id': '1'}}))[0].values['similar_chunks']"
   ]
  },
  {
   "cell_type": "code",
   "execution_count": 21,
   "id": "f395d9bd",
   "metadata": {},
   "outputs": [
    {
     "data": {
      "text/plain": [
       "[Document(metadata={'question': 'How long did the career span of the actor who starred with Mickey Rooney and Marilyn Maxwell in Off Limits?', 'start_index': 0, 'dataset': 'HotpotQA', 'hotpotqa_id': '5a8ba761554299240d9c2066', 'title': 'Bob Hope', 'pk': '596eb1d4-0a69-4493-873d-0f9c224daf7f', 'source': 'HotpotQA_Bob Hope_5a8ba761554299240d9c2066', 'page': 0, 'recursion_depth': 1, 'next_rag_thread_id': '', 'score': 2, 'reason': \"Step 1: The question asks for the career span of Bob Hope.\\nStep 2: The knowledge states that Bob Hope had a career spanning nearly 80 years.\\nStep 3: The provided information directly answers the complete query about the length of Bob Hope's career.\\nStep 4: The knowledge is fully useful (2 points) as it comprehensively addresses the question.\", 'next_query': ''}, page_content='Bob Hope, KBE, KC*SG, KSS (born Leslie Towns Hope; May 29, 1903 – July 27, 2003) was an American comedian, vaudevillian, actor, singer, dancer, athlete and author. With a career spanning nearly 80 years, Hope appeared in more than 70 short and feature films, including a series of \"Road\" movies. In addition to hosting the Academy Awards show nineteen times, more than any other host, he appeared in many stage productions and television roles'),\n",
       " Document(metadata={'question': 'How long did the career span of the actor who starred with Mickey Rooney and Marilyn Maxwell in Off Limits?', 'start_index': 0, 'dataset': 'HotpotQA', 'hotpotqa_id': '5a8ba761554299240d9c2066', 'title': 'Off Limits (1953 film)', 'pk': 'f9dd8c96-f956-4904-844c-19408360fce6', 'source': 'HotpotQA_Off Limits (1953 film)_5a8ba761554299240d9c2066', 'page': 0, 'recursion_depth': 1, 'next_rag_thread_id': '', 'score': 0, 'reason': \"The provided information is about a specific film 'Off Limits' from 1953 starring Bob Hope, but it does not provide any information regarding the timespan of Bob Hope's career.\", 'next_query': ''}, page_content=''),\n",
       " Document(metadata={'question': 'Who choreographed one who is said to be the last muse for the choreographer and starred in the Nutcracker?', 'start_index': 384, 'dataset': 'HotpotQA', 'hotpotqa_id': '5a88be405542997e5c09a6ab', 'title': 'Gwen Verdon', 'pk': 'dfa3c763-7328-4e57-9931-769aeacf908d', 'source': 'HotpotQA_Gwen Verdon_5a88be405542997e5c09a6ab', 'page': 0, 'recursion_depth': 1, 'next_rag_thread_id': '', 'score': 0, 'reason': '步骤1：问题核心是询问Bob Hope的职业生涯时长\\n步骤2：知识内容完全无关，描述的是某位与Bob Fosse相关的人物的信息\\n步骤3：知识未覆盖问题的任何要素\\n步骤4：符合完全无用标准(0分)', 'next_query': ''}, page_content='')]"
      ]
     },
     "execution_count": 21,
     "metadata": {},
     "output_type": "execute_result"
    }
   ],
   "source": [
    "list(rag_with_judge.get_state_history(config={'configurable': {'thread_id': 'a7e6eb4f-9627-4398-ab58-e9bcb1f5b35c'}}))[0].values['similar_chunks']"
   ]
  },
  {
   "cell_type": "code",
   "execution_count": null,
   "id": "98df296d",
   "metadata": {},
   "outputs": [],
   "source": []
  },
  {
   "cell_type": "code",
   "execution_count": null,
   "id": "fc244868",
   "metadata": {},
   "outputs": [],
   "source": []
  },
  {
   "cell_type": "code",
   "execution_count": null,
   "id": "d2d1e682",
   "metadata": {},
   "outputs": [],
   "source": []
  },
  {
   "cell_type": "code",
   "execution_count": null,
   "id": "0c2bf4f1",
   "metadata": {},
   "outputs": [],
   "source": []
  },
  {
   "cell_type": "code",
   "execution_count": null,
   "id": "fada65b3",
   "metadata": {},
   "outputs": [],
   "source": []
  },
  {
   "cell_type": "code",
   "execution_count": null,
   "id": "fb2950a1",
   "metadata": {},
   "outputs": [],
   "source": []
  },
  {
   "cell_type": "markdown",
   "id": "0bc50ea3",
   "metadata": {},
   "source": [
    "*2025.06.04*\n",
    "\n",
    "测试评价指标部分的代码"
   ]
  },
  {
   "cell_type": "code",
   "execution_count": null,
   "id": "b533c908",
   "metadata": {},
   "outputs": [],
   "source": [
    "def evaluate_qa_pair(prediction, ground_truth):"
   ]
  },
  {
   "cell_type": "code",
   "execution_count": 21,
   "id": "56db25a5",
   "metadata": {},
   "outputs": [],
   "source": [
    "from typing import Tuple\n",
    "import collections\n",
    "\n",
    "def compute_f1_score(prediction: str, ground_truth: str) -> Tuple[float, float, float]:\n",
    "    \"\"\"\n",
    "    计算Token level F1 Score\n",
    "    \n",
    "    Args:\n",
    "        prediction: 预测答案\n",
    "        ground_truth: 真实答案\n",
    "        \n",
    "    Returns:\n",
    "        Tuple: (F1分数, 精确率, 召回率)\n",
    "    \"\"\"\n",
    "    # 获取token\n",
    "    prediction_tokens = get_tokens(prediction)\n",
    "    ground_truth_tokens = get_tokens(ground_truth)\n",
    "    \n",
    "    # 如果两者都为空，返回F1=1.0\n",
    "    if len(prediction_tokens) == 0 and len(ground_truth_tokens) == 0:\n",
    "        return (1.0, 1.0, 1.0)\n",
    "    \n",
    "    # 如果其中一个为空，返回F1=0.0\n",
    "    if len(prediction_tokens) == 0 or len(ground_truth_tokens) == 0:\n",
    "        return (0.0, 0.0, 0.0)\n",
    "    \n",
    "    # 计算共同的token\n",
    "    common_tokens = collections.Counter(prediction_tokens) & collections.Counter(ground_truth_tokens)\n",
    "    num_common = sum(common_tokens.values())\n",
    "    \n",
    "    # 如果没有共同token，返回F1=0.0\n",
    "    if num_common == 0:\n",
    "        return (0.0, 0.0, 0.0)\n",
    "    \n",
    "    # 计算精确率和召回率\n",
    "    precision = 1.0 * num_common / len(prediction_tokens)\n",
    "    recall = 1.0 * num_common / len(ground_truth_tokens)\n",
    "    \n",
    "    # 计算F1\n",
    "    f1 = 2 * precision * recall / (precision + recall)\n",
    "    \n",
    "    return f1, precision, recall"
   ]
  },
  {
   "cell_type": "code",
   "execution_count": 23,
   "id": "81f04436",
   "metadata": {},
   "outputs": [
    {
     "name": "stdout",
     "output_type": "stream",
     "text": [
      "(1.0, 1.0, 1.0)\n",
      "(0.0, 0.0, 0.0)\n",
      "(0.0, 0.0, 0.0)\n",
      "(1.0, 1.0, 1.0)\n"
     ]
    }
   ],
   "source": [
    "# 示例 1: 完全匹配\n",
    "print(compute_f1_score(\"apple banana\", \"banana apple\"))\n",
    "# 输出: (1.0, 1.0, 1.0)\n",
    "\n",
    "# 示例 2: 特殊 case 不匹配\n",
    "print(compute_f1_score(\"yes\", \"no\"))\n",
    "# 输出: (0.0, 0.0, 0.0)\n",
    "\n",
    "# 示例 3: 一个为空\n",
    "print(compute_f1_score(\"\", \"hello world\"))\n",
    "# 输出: (0.0, 0.0, 0.0)\n",
    "\n",
    "# 示例 4: 两个都为空\n",
    "print(compute_f1_score(\"\", \"\"))\n",
    "# 输出: (1.0, 1.0, 1.0)"
   ]
  },
  {
   "cell_type": "code",
   "execution_count": 14,
   "id": "3beba36d",
   "metadata": {},
   "outputs": [],
   "source": [
    "def compute_exact_match(prediction: str, ground_truth: str) -> float:\n",
    "    \"\"\"\n",
    "    计算精确匹配(EM)分数\n",
    "    \n",
    "    Args:\n",
    "        prediction: 预测答案\n",
    "        ground_truth: 真实答案\n",
    "        \n",
    "    Returns:\n",
    "        float: EM分数，1.0表示完全匹配，0.0表示不匹配\n",
    "    \"\"\"\n",
    "    return float(normalize_answer(prediction) == normalize_answer(ground_truth))"
   ]
  },
  {
   "cell_type": "code",
   "execution_count": 18,
   "id": "70309159",
   "metadata": {},
   "outputs": [
    {
     "data": {
      "text/plain": [
       "0.0"
      ]
     },
     "execution_count": 18,
     "metadata": {},
     "output_type": "execute_result"
    }
   ],
   "source": [
    "compute_exact_match(\"apple and bana na \", \"apple and banana\")"
   ]
  },
  {
   "cell_type": "code",
   "execution_count": null,
   "id": "a78908de",
   "metadata": {},
   "outputs": [],
   "source": [
    "from typing import List\n",
    "import nltk\n",
    "from nltk.tokenize import word_tokenize\n",
    "from nltk.corpus import stopwords\n",
    "try:\n",
    "    nltk.data.find('tokenizers/punkt')\n",
    "except LookupError:\n",
    "    nltk.download('punkt')\n",
    "    nltk.download('punkt_tab')\n",
    "try:\n",
    "    nltk.data.find('corpora/stopwords')\n",
    "except LookupError:\n",
    "    nltk.download('stopwords')\n",
    "\n",
    "\n",
    "def get_tokens(s: str) -> List[str]:\n",
    "    \"\"\"\n",
    "    获取规范化后的答案中的token列表\n",
    "    \n",
    "    Args:\n",
    "        s: 答案字符串\n",
    "        \n",
    "    Returns:\n",
    "        List[str]: token列表\n",
    "    \"\"\"\n",
    "    # 规范化\n",
    "    s = normalize_answer(s)\n",
    "    \n",
    "    # 分词\n",
    "    tokens = word_tokenize(s)\n",
    "    \n",
    "    # 移除停用词\n",
    "    stop_words = set(stopwords.words('english'))\n",
    "    tokens = [token for token in tokens if token not in stop_words]\n",
    "    \n",
    "    return tokens"
   ]
  },
  {
   "cell_type": "code",
   "execution_count": 11,
   "id": "d2d91d7b",
   "metadata": {},
   "outputs": [
    {
     "name": "stderr",
     "output_type": "stream",
     "text": [
      "[nltk_data] Downloading package punkt_tab to\n",
      "[nltk_data]     C:\\Users\\Lenovo\\AppData\\Roaming\\nltk_data...\n",
      "[nltk_data]   Unzipping tokenizers\\punkt_tab.zip.\n"
     ]
    },
    {
     "data": {
      "text/plain": [
       "True"
      ]
     },
     "execution_count": 11,
     "metadata": {},
     "output_type": "execute_result"
    }
   ],
   "source": [
    "nltk.download('punkt_tab')"
   ]
  },
  {
   "cell_type": "code",
   "execution_count": 12,
   "id": "35e44ae3",
   "metadata": {},
   "outputs": [
    {
     "name": "stdout",
     "output_type": "stream",
     "text": [
      "['apple', 'banana'], apple and banana\n",
      "['quick', 'brown', 'fox'], quick brown fox\n",
      "['start'], start\n",
      "['end'], at end\n",
      "['word'], only word\n",
      "['sequence'], sequence\n",
      "['doubled'], doubled\n",
      "['banana'], and banana\n",
      "['apple', 'orange'], apple or orange\n",
      "['hello', 'world', 'end'], hello world end\n",
      "['quoted', 'text'], quoted text\n",
      "['extra', 'spaces', 'everywhere'], extra spaces everywhere\n",
      "['words'], words\n",
      "['email', 'userexamplecom'], email user@examplecom\n",
      "['100', 'real'], 100 real\n",
      "[], \n",
      "[], \n",
      "[], \n",
      "[], \n",
      "['dogs', 'toy'], dogs toy\n"
     ]
    }
   ],
   "source": [
    "for t_case, ans in test_cases:\n",
    "    pred = get_tokens(t_case)\n",
    "    print(f'{pred}, {ans}')"
   ]
  },
  {
   "cell_type": "code",
   "execution_count": 13,
   "id": "324dd684",
   "metadata": {},
   "outputs": [
    {
     "data": {
      "text/plain": [
       "['cant']"
      ]
     },
     "execution_count": 13,
     "metadata": {},
     "output_type": "execute_result"
    }
   ],
   "source": [
    "get_tokens(\"can't\")"
   ]
  },
  {
   "cell_type": "code",
   "execution_count": null,
   "id": "8cf6ca5e",
   "metadata": {},
   "outputs": [],
   "source": []
  },
  {
   "cell_type": "code",
   "execution_count": 1,
   "id": "2c05ca6d",
   "metadata": {},
   "outputs": [],
   "source": [
    "import re\n",
    "import string\n",
    "\n",
    "def normalize_answer(s: str) -> str:\n",
    "    \"\"\"\n",
    "    规范化答案字符串，用于评估\n",
    "    \n",
    "    Args:\n",
    "        s: 原始答案字符串\n",
    "        \n",
    "    Returns:\n",
    "        str: 规范化后的答案字符串\n",
    "    \"\"\"\n",
    "    # 转为小写\n",
    "    s = s.lower()\n",
    "    \n",
    "    # 移除标点符号\n",
    "    s = re.sub(r'[%s]' % re.escape(string.punctuation), '', s)\n",
    "    \n",
    "    # 移除文章（a, an, the）\n",
    "    s = re.sub(r'\\b(a|an|the)\\b', ' ', s)\n",
    "    \n",
    "    # 移除多余空格\n",
    "    s = re.sub(r'\\s+', ' ', s).strip()\n",
    "    \n",
    "    return s"
   ]
  },
  {
   "cell_type": "code",
   "execution_count": 4,
   "id": "84b76ae2",
   "metadata": {},
   "outputs": [
    {
     "name": "stdout",
     "output_type": "stream",
     "text": [
      "apple and banana, apple and banana\n",
      "quick brown fox, quick brown fox\n",
      "start, start\n",
      "at end, at end\n",
      "only word, only word\n",
      "sequence, sequence\n",
      "doubled, doubled\n",
      "and banana, and banana\n",
      "apple or orange, apple or orange\n",
      "hello world end, hello world end\n",
      "quoted text, quoted text\n",
      "extra spaces everywhere, extra spaces everywhere\n",
      "words, words\n",
      "email userexamplecom, email user@examplecom\n",
      "100 real, 100 real\n",
      ", \n",
      ", \n",
      ", \n",
      ", \n",
      "dogs toy, dogs toy\n"
     ]
    }
   ],
   "source": [
    "test_cases = [\n",
    "    # 简单句子\n",
    "    (\"An apple and a banana\", \"apple and banana\"),\n",
    "    (\"The quick brown fox\", \"quick brown fox\"),\n",
    "    \n",
    "    # 开头/结尾冠词\n",
    "    (\"A start\", \"start\"),\n",
    "    (\"At the end the\", \"at end\"),\n",
    "    (\"The only word\", \"only word\"),\n",
    "    \n",
    "    # 连续冠词\n",
    "    (\"A an the sequence\", \"sequence\"),\n",
    "    (\"The the doubled\", \"doubled\"),\n",
    "    \n",
    "    # 冠词粘连问题修复\n",
    "    (\"and a banana\", \"and banana\"),      # 修复前会变成 \"andbanana\"\n",
    "    (\"an apple or the orange\", \"apple or orange\"),\n",
    "    \n",
    "    # 标点符号处理\n",
    "    (\"Hello, world! The end.\", \"hello world end\"),\n",
    "    (\"'Quoted' text\", \"quoted text\"),\n",
    "    \n",
    "    # 空格规范化\n",
    "    (\"  Extra  spaces   everywhere  \", \"extra spaces everywhere\"),\n",
    "    (\"a\\tan\\nthe\\r\\nwords\", \"words\"),\n",
    "    \n",
    "    # 特殊字符\n",
    "    (\"Email: user@example.com\", \"email user@examplecom\"),  # 注意：@被移除\n",
    "    (\"100% real\", \"100 real\"),\n",
    "    \n",
    "    # 边界情况\n",
    "    (\"a\", \"\"),              # 单个冠词应被移除\n",
    "    (\"the\", \"\"),            # 单个冠词应被移除\n",
    "    (\"\", \"\"),               # 空输入\n",
    "    (\".!?\", \"\"),            # 只有标点\n",
    "    (\"a dog's toy\", \"dogs toy\"),  # 所有格处理\n",
    "]\n",
    "\n",
    "wrong_cases = []\n",
    "\n",
    "for t_case, ans in test_cases:\n",
    "    pred = normalize_answer(t_case)\n",
    "    print(f'{pred}, {ans}')\n",
    "    flag = (pred == ans)\n",
    "    if not flag:\n",
    "        wrong_cases.append((t_case, ans, pred))"
   ]
  },
  {
   "cell_type": "code",
   "execution_count": null,
   "id": "fabbe809",
   "metadata": {},
   "outputs": [
    {
     "data": {
      "text/plain": [
       "[('Email: user@example.com', 'email user@examplecom', 'email userexamplecom')]"
      ]
     },
     "execution_count": 5,
     "metadata": {},
     "output_type": "execute_result"
    }
   ],
   "source": [
    "# 问题不大\n",
    "wrong_cases"
   ]
  },
  {
   "cell_type": "markdown",
   "id": "3e48416d",
   "metadata": {},
   "source": [
    "*2025.06.05*\n",
    "\n",
    "测试集成后的预处理代码\n",
    "\n",
    "这个也没什么问题！！！"
   ]
  },
  {
   "cell_type": "code",
   "execution_count": null,
   "id": "8c8f7b69",
   "metadata": {},
   "outputs": [],
   "source": [
    "import sys\n",
    "\n",
    "# 需要把当前项目的根目录加到 sys.path 中，才能找到 modules 下的 Index 模块\n",
    "sys.path.append(r'C:\\Users\\Lenovo\\Desktop\\RAG rebuild')"
   ]
  },
  {
   "cell_type": "code",
   "execution_count": 43,
   "id": "b4392ec8",
   "metadata": {},
   "outputs": [
    {
     "name": "stderr",
     "output_type": "stream",
     "text": [
      "\u001b[32m2025-06-04 12:45:08.461\u001b[0m | \u001b[1mINFO    \u001b[0m | \u001b[36mdata_process.open_benchmarks.hotpotqa\u001b[0m:\u001b[36mget_hotpotqa_vector_store\u001b[0m:\u001b[36m106\u001b[0m - \u001b[1mhotpotqa_test 向量数据库已存在，成功加载到内存中\u001b[0m\n"
     ]
    }
   ],
   "source": [
    "import os\n",
    "from dotenv import load_dotenv\n",
    "\n",
    "from langchain_openai import OpenAIEmbeddings\n",
    "\n",
    "from data_process.open_benchmarks.hotpotqa import get_hotpotqa_vector_store\n",
    "\n",
    "load_dotenv()\n",
    "\n",
    "embed_model = OpenAIEmbeddings(\n",
    "    api_key=os.getenv(\"BL_API_KEY\"),\n",
    "    base_url=os.getenv(\"BL_BASE_URL\"),\n",
    "    model=\"text-embedding-v3\",\n",
    "    dimensions=1024,\n",
    "    check_embedding_ctx_length=False\n",
    ")\n",
    "\n",
    "v_s, v_s_name = get_hotpotqa_vector_store(\n",
    "    embed_model=embed_model,\n",
    "    file_path='../data/hotpotqa_10.json',\n",
    "    sample_size=100,\n",
    "    vector_store_name='hotpotqa_test',\n",
    "    chunk_size=700,\n",
    "    chunk_overlap=10\n",
    ")"
   ]
  },
  {
   "cell_type": "code",
   "execution_count": 45,
   "id": "c83b4ca9",
   "metadata": {},
   "outputs": [
    {
     "data": {
      "text/plain": [
       "[(Document(metadata={'pk': 'cdb9be5f-8d0a-4913-a652-b28f1feb1e65', 'hotpotqa_id': '5adbf0a255429947ff17385a', 'question': 'Are the Laleli Mosque and Esma Sultan Mansion located in the same neighborhood?', 'title': 'Laleli Mosque', 'dataset': 'HotpotQA', 'start_index': 0}, page_content='The Laleli Mosque (Turkish: \"Laleli Camii, or Tulip Mosque\" ) is an 18th-century Ottoman imperial mosque located in Laleli, Fatih, Istanbul, Turkey.'),\n",
       "  0.6262214183807373),\n",
       " (Document(metadata={'pk': 'f9a296e7-d350-4698-af0f-a37436f0f635', 'hotpotqa_id': '5adbf0a255429947ff17385a', 'question': 'Are the Laleli Mosque and Esma Sultan Mansion located in the same neighborhood?', 'title': 'Esma Sultan Mansion', 'dataset': 'HotpotQA', 'start_index': 0}, page_content='The Esma Sultan Mansion (Turkish: \"Esma Sultan Yalısı\" ), a historical yalı (English: waterside mansion ) located at Bosphorus in Ortaköy neighborhood of Istanbul, Turkey and named after its original owner Esma Sultan, is used today as a cultural center after being redeveloped.'),\n",
       "  0.744464635848999),\n",
       " (Document(metadata={'pk': '8b05c272-292c-4533-b36d-b519c9e5e2bc', 'hotpotqa_id': '5adbf0a255429947ff17385a', 'question': 'Are the Laleli Mosque and Esma Sultan Mansion located in the same neighborhood?', 'title': 'Esma Sultan (daughter of Abdul Hamid I)', 'dataset': 'HotpotQA', 'start_index': 0}, page_content='Esma Sultan (17 July 1778 – 4 June 1848) was an Ottoman princess, daughter of Sultan Abdul Hamid I, sister of Sultan Mustafa IV and Sultan Mahmud II. She was the adoptive mother of Bezmiâlem Sultan and Rahime Perestu Sultan.'),\n",
       "  0.8772822618484497),\n",
       " (Document(metadata={'pk': '3d476d6a-dc33-4b33-9ea9-56822f5a7a73', 'hotpotqa_id': '5adbf0a255429947ff17385a', 'question': 'Are the Laleli Mosque and Esma Sultan Mansion located in the same neighborhood?', 'title': 'Esma Sultan (daughter of Abdülaziz)', 'dataset': 'HotpotQA', 'start_index': 0}, page_content='Esma Sultan (21 March 1873 – 7 May 1899) was an Ottoman princess, the daughter of Sultan Abdülaziz and his wife Gevheri Kadın, herself the daughter of Salih Bey Svatnba. She was the half-sister of Abdülmecid II, the last Caliph of the Muslim world.'),\n",
       "  0.8884878754615784),\n",
       " (Document(metadata={'pk': '1c9e2cd3-9ee4-4a46-b775-b5d3143486b3', 'hotpotqa_id': '5adbf0a255429947ff17385a', 'question': 'Are the Laleli Mosque and Esma Sultan Mansion located in the same neighborhood?', 'title': 'Esma Sultan', 'dataset': 'HotpotQA', 'start_index': 0}, page_content='Esma Sultan is the name of three daughters of three Ottoman Sultans:'),\n",
       "  0.9151161313056946)]"
      ]
     },
     "execution_count": 45,
     "metadata": {},
     "output_type": "execute_result"
    }
   ],
   "source": [
    "v_s.similarity_search_with_score(\n",
    "    query='Are the Laleli Mosque and Esma Sultan Mansion located in the same neighborhood?',\n",
    "    k=5\n",
    "    )"
   ]
  },
  {
   "cell_type": "markdown",
   "id": "64ddefd2",
   "metadata": {},
   "source": [
    "*2025.06.04*\n",
    "\n",
    "测试预处理 HotpotQA 数据集\n",
    "\n",
    "OK!!!"
   ]
  },
  {
   "cell_type": "code",
   "execution_count": 27,
   "id": "42e7d92d",
   "metadata": {},
   "outputs": [],
   "source": [
    "# 新增加一个功能：要把随机选择的样本写入一个新的 JSON 文件中，以便后续试验处理\n",
    "import os\n",
    "import json\n",
    "\n",
    "output_path = f'hotpotqa/output_{sample_size}.json'\n",
    "os.makedirs(os.path.dirname(output_path), exist_ok=True)\n",
    "\n",
    "with open(output_path, 'w', encoding='utf-8') as f:\n",
    "    json.dump(raw_data, f, ensure_ascii=False)"
   ]
  },
  {
   "cell_type": "code",
   "execution_count": 25,
   "id": "1444f982",
   "metadata": {},
   "outputs": [
    {
     "name": "stderr",
     "output_type": "stream",
     "text": [
      "\u001b[32m2025-06-04 14:58:16.618\u001b[0m | \u001b[1mINFO    \u001b[0m | \u001b[36m__main__\u001b[0m:\u001b[36m<module>\u001b[0m:\u001b[36m11\u001b[0m - \u001b[1m成功加载HotpotQA数据集，共10个样本\u001b[0m\n"
     ]
    }
   ],
   "source": [
    "from loguru import logger as log\n",
    "import json\n",
    "\n",
    "file_path = '../data/hotpotqa_10.json'\n",
    "sample_size = 100\n",
    "\n",
    "# 加载原始文件\n",
    "try:\n",
    "    with open(file_path, 'r', encoding='utf-8') as f:\n",
    "        raw_data = json.load(f)\n",
    "    log.info(f\"成功加载HotpotQA数据集，共{len(raw_data)}个样本\")\n",
    "except Exception as e:\n",
    "    log.error(f\"加载HotpotQA数据集失败: {e}\")\n",
    "    raise"
   ]
  },
  {
   "cell_type": "code",
   "execution_count": 4,
   "id": "0cf20036",
   "metadata": {},
   "outputs": [
    {
     "name": "stderr",
     "output_type": "stream",
     "text": [
      "\u001b[32m2025-06-04 10:06:25.035\u001b[0m | \u001b[1mINFO    \u001b[0m | \u001b[36m__main__\u001b[0m:\u001b[36m<module>\u001b[0m:\u001b[36m4\u001b[0m - \u001b[1m从数据集中随机抽取了10个样本\u001b[0m\n"
     ]
    }
   ],
   "source": [
    "import random\n",
    "\n",
    "sample_data = random.sample(raw_data, sample_size) if sample_size < len(raw_data) else raw_data\n",
    "log.info(f\"从数据集中随机抽取了{len(sample_data)}个样本\")"
   ]
  },
  {
   "cell_type": "code",
   "execution_count": 5,
   "id": "5e46cbb1",
   "metadata": {},
   "outputs": [],
   "source": [
    "from langchain_core.documents import Document\n",
    "\n",
    "# 将数据存入 Document 对象中\n",
    "documents = []\n",
    "for sample in sample_data:\n",
    "    # 获取样本的元数据（先这么写）\n",
    "    sample_id = sample.get('_id', 'unknown_id')\n",
    "    question = sample.get('question', '')\n",
    "    context = sample.get('context', ['', []])\n",
    "    for title, sentences in context:\n",
    "        # 把句子合并为一个完整的段落（就像 Index 时 PDF 中的一页）\n",
    "        paragraph = ''.join(sentences)\n",
    "        doc = Document(\n",
    "            page_content=paragraph,\n",
    "            metadata={\n",
    "                'hotpotqa_id': sample_id,\n",
    "                'question': question,\n",
    "                'title': title,\n",
    "                'dataset': 'HotpotQA'\n",
    "            }\n",
    "        )\n",
    "        documents.append(doc)"
   ]
  },
  {
   "cell_type": "code",
   "execution_count": 8,
   "id": "4df99096",
   "metadata": {},
   "outputs": [],
   "source": [
    "import sys\n",
    "import os\n",
    "from dotenv import load_dotenv\n",
    "from langchain_openai import OpenAIEmbeddings\n",
    "\n",
    "# 需要把当前项目的根目录加到 sys.path 中，才能找到 modules 下的 Index 模块\n",
    "sys.path.append(r'C:\\Users\\Lenovo\\Desktop\\RAG rebuild')\n",
    "\n",
    "load_dotenv()\n",
    "\n",
    "embed_model = OpenAIEmbeddings(\n",
    "    api_key=os.getenv(\"BL_API_KEY\"),\n",
    "    base_url=os.getenv(\"BL_BASE_URL\"),\n",
    "    model=\"text-embedding-v3\",\n",
    "    dimensions=1024,\n",
    "    check_embedding_ctx_length=False\n",
    ")"
   ]
  },
  {
   "cell_type": "code",
   "execution_count": 29,
   "id": "5817358f",
   "metadata": {},
   "outputs": [],
   "source": [
    "from modules.Index import Index\n",
    "from langchain_milvus import Milvus\n",
    "from pymilvus.client.types import LoadState\n",
    "\n",
    "chunk_size = 700\n",
    "chunk_overlap = 50\n",
    "vector_store_name = 'hotpotqa_test'\n",
    "\n",
    "\n",
    "all_chunks = Index.documents_to_chunks(\n",
    "    docs=documents,\n",
    "    chunk_size=chunk_size,\n",
    "    chunk_overlap=chunk_overlap,\n",
    ")\n",
    "\n",
    "# 看要创建的数据库是否已经存在，存在则直接返回向量数据库\n",
    "# 如果已经存在了一个重名的数据库但没被加载到内存中，则下面的代码会将其加载到内存中\n",
    "# 如果已经存在了一个重名的数据库并且已经被加载到内存中，则下面的代码只是为对应的向量数据库创建了一个新的引用\n",
    "vector_store = Milvus(\n",
    "    embedding_function=embed_model,\n",
    "    collection_name=vector_store_name\n",
    ")\n",
    "client = vector_store.client\n",
    "state = client.get_load_state(collection_name=vector_store_name)\n",
    "# 当前的向量数据库还没有被创建过\n",
    "if state['state'] == LoadState.NotExist:\n",
    "    pass\n",
    "else:\n",
    "    log.info(f'{vector_store_name} 向量数据库已存在，成功加载到内存中')"
   ]
  },
  {
   "cell_type": "code",
   "execution_count": 30,
   "id": "0fa926e5",
   "metadata": {},
   "outputs": [
    {
     "data": {
      "text/plain": [
       "(list,\n",
       " 143,\n",
       " {'hotpotqa_id': '5a8b57f25542995d1e6f1371',\n",
       "  'question': 'Were Scott Derrickson and Ed Wood of the same nationality?',\n",
       "  'title': 'Ed Wood (film)',\n",
       "  'dataset': 'HotpotQA',\n",
       "  'start_index': 0})"
      ]
     },
     "execution_count": 30,
     "metadata": {},
     "output_type": "execute_result"
    }
   ],
   "source": [
    "type(all_chunks), len(all_chunks), all_chunks[0].metadata"
   ]
  },
  {
   "cell_type": "code",
   "execution_count": 31,
   "id": "76769c61",
   "metadata": {},
   "outputs": [
    {
     "name": "stdout",
     "output_type": "stream",
     "text": [
      "Ed Wood is a 1994 American biographical period comedy-drama film directed and produced by Tim Burton, and starring Johnny Depp as cult filmmaker Ed Wood. The film concerns the period in Wood's life when he made his best-known films as well as his relationship with actor Bela Lugosi, played by Martin Landau. Sarah Jessica Parker, Patricia Arquette, Jeffrey Jones, Lisa Marie, and Bill Murray are among the supporting cast. 5a8b57f25542995d1e6f1371\n",
      "Scott Derrickson (born July 16, 1966) is an American director, screenwriter and producer. He lives in Los Angeles, California. He is best known for directing horror films such as \"Sinister\", \"The Exorcism of Emily Rose\", and \"Deliver Us From Evil\", as well as the 2016 Marvel Cinematic Universe installment, \"Doctor Strange.\" 5a8b57f25542995d1e6f1371\n",
      "Woodson is a census-designated place (CDP) in Pulaski County, Arkansas, in the United States. Its population was 403 at the 2010 census. It is part of the Little Rock–North Little Rock–Conway Metropolitan Statistical Area. Woodson and its accompanying Woodson Lake and Wood Hollow are the namesake for Ed Wood Sr., a prominent plantation owner, trader, and businessman at the turn of the 20th century. Woodson is adjacent to the Wood Plantation, the largest of the plantations own by Ed Wood Sr. 5a8b57f25542995d1e6f1371\n",
      "Tyler Bates (born June 5, 1965) is an American musician, music producer, and composer for films, television, and video games. Much of his work is in the action and horror film genres, with films like \"Dawn of the Dead, 300, Sucker Punch,\" and \"John Wick.\" He has collaborated with directors like Zack Snyder, Rob Zombie, Neil Marshall, William Friedkin, Scott Derrickson, and James Gunn. With Gunn, he has scored every one of the director's films; including \"Guardians of the Galaxy\", which became one of the highest grossing domestic movies of 2014, and its 2017 sequel. In addition, he is also the lead guitarist of the American rock band Marilyn Manson 5a8b57f25542995d1e6f1371\n",
      ", and produced its albums \"The Pale Emperor\" and \"Heaven Upside Down\". 5a8b57f25542995d1e6f1371\n",
      "Edward Davis Wood Jr. (October 10, 1924 – December 10, 1978) was an American filmmaker, actor, writer, producer, and director. 5a8b57f25542995d1e6f1371\n",
      "Deliver Us from Evil is a 2014 American supernatural horror film directed by Scott Derrickson and produced by Jerry Bruckheimer. The film is officially based on a 2001 non-fiction book entitled \"Beware the Night\" by Ralph Sarchie and Lisa Collier Cool, and its marketing campaign highlighted that it was \"inspired by actual accounts\". The film stars Eric Bana, Édgar Ramírez, Sean Harris, Olivia Munn, and Joel McHale in the main roles and was released on July 2, 2014. 5a8b57f25542995d1e6f1371\n",
      "Adam Collis is an American filmmaker and actor. He attended the Duke University from 1986 to 1990 and the University of California, Los Angeles from 2007 to 2010. He also studied cinema at the University of Southern California from 1991 to 1997. Collis first work was the assistant director for the Scott Derrickson's short \"Love in the Ruins\" (1995). In 1998, he played \"Crankshaft\" in Eric Koyanagi's \"Hundred Percent\". 5a8b57f25542995d1e6f1371\n",
      "Sinister is a 2012 supernatural horror film directed by Scott Derrickson and written by Derrickson and C. Robert Cargill. It stars Ethan Hawke as fictional true-crime writer Ellison Oswalt who discovers a box of home movies in his attic that puts his family in danger. 5a8b57f25542995d1e6f1371\n",
      "Conrad Brooks (born Conrad Biedrzycki on January 3, 1931 in Baltimore, Maryland) is an American actor. He moved to Hollywood, California in 1948 to pursue a career in acting. He got his start in movies appearing in Ed Wood films such as \"Plan 9 from Outer Space\", \"Glen or Glenda\", and \"Jail Bait.\" He took a break from acting during the 1960s and 1970s but due to the ongoing interest in the films of Ed Wood, he reemerged in the 1980s and has become a prolific actor. He also has since gone on to write, produce and direct several films. 5a8b57f25542995d1e6f1371\n",
      "Doctor Strange is a 2016 American superhero film based on the Marvel Comics character of the same name, produced by Marvel Studios and distributed by Walt Disney Studios Motion Pictures. It is the fourteenth film of the Marvel Cinematic Universe (MCU). The film was directed by Scott Derrickson, who wrote it with Jon Spaihts and C. Robert Cargill, and stars Benedict Cumberbatch as Stephen Strange, along with Chiwetel Ejiofor, Rachel McAdams, Benedict Wong, Michael Stuhlbarg, Benjamin Bratt, Scott Adkins, Mads Mikkelsen, and Tilda Swinton. In \"Doctor Strange\", surgeon Strange learns the mystic arts after a career-ending car accident. 5a8b57f25542995d1e6f1371\n",
      "Meet Corliss Archer, a program from radio's Golden Age, ran from January 7, 1943 to September 30, 1956. Although it was CBS's answer to NBC's popular \"A Date with Judy\", it was also broadcast by NBC in 1948 as a summer replacement for \"The Bob Hope Show\". From October 3, 1952 to June 26, 1953, it aired on ABC, finally returning to CBS. Despite the program's long run, fewer than 24 episodes are known to exist. 5a8c7595554299585d9e36b6\n",
      "Shirley Temple Black (April 23, 1928 – February 10, 2014) was an American actress, singer, dancer, businesswoman, and diplomat who was Hollywood's number one box-office draw as a child actress from 1935 to 1938. As an adult, she was named United States ambassador to Ghana and to Czechoslovakia and also served as Chief of Protocol of the United States. 5a8c7595554299585d9e36b6\n",
      "Janet Marie Waldo (February 4, 1920 – June 12, 2016) was an American radio and voice actress. She is best known in animation for voicing Judy Jetson, Nancy in \"Shazzan\", Penelope Pitstop, and Josie in \"Josie and the Pussycats\", and on radio as the title character in \"Meet Corliss Archer\". 5a8c7595554299585d9e36b6\n",
      "Meet Corliss Archer is an American television sitcom that aired on CBS (July 13, 1951 - August 10, 1951) and in syndication via the Ziv Company from April to December 1954. The program was an adaptation of the radio series of the same name, which was based on a series of short stories by F. Hugh Herbert. 5a8c7595554299585d9e36b6\n",
      "The post of Lord High Treasurer or Lord Treasurer was an English government position and has been a British government position since the Acts of Union of 1707. A holder of the post would be the third-highest-ranked Great Officer of State, below the Lord High Steward and the Lord High Chancellor. 5a8c7595554299585d9e36b6\n",
      "A Kiss for Corliss is a 1949 American comedy film directed by Richard Wallace and written by Howard Dimsdale. It stars Shirley Temple in her final starring role as well as her final film appearance. It is a sequel to the 1945 film \"Kiss and Tell\". \"A Kiss for Corliss\" was retitled \"Almost a Bride\" before release and this title appears in the title sequence. The film was released on November 25, 1949, by United Artists. 5a8c7595554299585d9e36b6\n",
      "Kiss and Tell is a 1945 American comedy film starring then 17-year-old Shirley Temple as Corliss Archer. In the film, two teenage girls cause their respective parents much concern when they start to become interested in boys. The parents' bickering about which girl is the worse influence causes more problems than it solves. 5a8c7595554299585d9e36b6\n",
      "The office of Secretary of State for Constitutional Affairs was a British Government position, created in 2003. Certain functions of the Lord Chancellor which related to the Lord Chancellor's Department were transferred to the Secretary of State. At a later date further functions were also transferred to the Secretary of State for Constitutional Affairs from the First Secretary of State, a position within the government held by the Deputy Prime Minister. 5a8c7595554299585d9e36b6\n",
      "The Village Accountant (variously known as \"Patwari\", \"Talati\", \"Patel\", \"Karnam\", \"Adhikari\", \"Shanbogaru\",\"Patnaik\" etc.) is an administrative government position found in rural parts of the Indian sub-continent. The office and the officeholder are called the \"patwari\" in Telangana, Bengal, North India and in Pakistan while in Sindh it is called \"tapedar\". The position is known as the \"karnam\" in Andhra Pradesh, \"patnaik\" in Orissa or \"adhikari\" in Tamil Nadu, while it is commonly known as the \"talati\" in Karnataka, Gujarat and Maharashtra. The position was known as the \"kulkarni\" in Northern Karnataka and Maharashtra. The position was known as the \"shanbogaru\" in South Karnataka. 5a8c7595554299585d9e36b6\n",
      "Charles Craft (May 9, 1902 – September 19, 1968) was an English-born American film and television editor. Born in the county of Hampshire in England on May 9, 1902, Craft would enter the film industry in Hollywood in 1927. The first film he edited was the Universal Pictures silent film, \"Painting the Town\". Over the next 25 years, Craft would edit 90 feature-length films. In the early 1950s he would switch his focus to the small screen, his first show being \"Racket Squad\", from 1951–53, for which he was the main editor, editing 93 of the 98 episodes. He would work on several other series during the 1950s, including \"Meet Corliss Archer\" (1954), \"Science Fiction Theatre\" (1955–56) 5a8c7595554299585d9e36b6\n",
      ", \"Science Fiction Theatre\" (1955–56), and \"Highway Patrol\" (1955–57). In the late 1950s and early 1960s he was one of the main editors on \"Sea Hunt\", starring Lloyd Bridges, editing over half of the episodes. His final film work would be editing \"Flipper's New Adventure\" (1964, the sequel to 1963's \"Flipper\". When the film was made into a television series, Craft would begin the editing duties on that show, editing the first 28 episodes before he retired in 1966. Craft died on September 19, 1968 in Los Angeles, California. 5a8c7595554299585d9e36b6\n",
      "The Andre Norton Award for Young Adult Science Fiction and Fantasy is an annual award presented by the Science Fiction and Fantasy Writers of America (SFWA) to the author of the best young adult or middle grade science fiction or fantasy book published in the United States in the preceding year. It is named to honor prolific science fiction and fantasy author Andre Norton (1912–2005), and it was established by then SFWA president Catherine Asaro and the SFWA Young Adult Fiction committee and announced on February 20, 2005. Any published young adult or middle grade science fiction or fantasy novel is eligible for the prize 5a85ea095542994775f606a8\n",
      ", including graphic novels. There is no limit on word count. The award is presented along with the Nebula Awards and follows the same rules for nominations and voting; as the awards are separate, works may be simultaneously nominated for both the Andre Norton award and a Nebula Award. 5a85ea095542994775f606a8\n",
      "Victoria Hanley is an American young adult fantasy novelist. Her first three books, \"The Seer And The Sword\", \"The Healer's Keep\" and \"The Light Of The Oracle\" are companion books to one another. Her newest book (released March 2012) is the sequel of a series, called \"Indigo Magic\", published by Egmont USA. She's also published two non-fiction books through Cotton Wood Press; called \"Seize the Story: A Handbook For Teens Who Like To Write\", and \"Wild Ink: A Grownups Guide To Writing Fiction For Teens\". 5a85ea095542994775f606a8\n",
      "The Hork-Bajir Chronicles is the second companion book to the \"Animorphs\" series, written by K. A. Applegate. With respect to continuity within the series, it takes place before book #23, \"The Pretender\", although the events told in the story occur between the time of \"The Ellimist Chronicles\" and \"The Andalite Chronicles\". The book is introduced by Tobias, who flies to the valley of the free Hork-Bajir, where Jara Hamee tells him the story of how the Yeerks enslaved the Hork-Bajir, and how Aldrea, an Andalite, and her companion, Dak Hamee, a Hork-Bajir, tried to save their world from the invasion. Jara Hamee's story is narrated from the points of view of Aldrea, Dak Hamee, and Esplin 9466 5a85ea095542994775f606a8\n",
      ", Dak Hamee, and Esplin 9466, alternating in similar fashion to the \"Megamorphs\" books. 5a85ea095542994775f606a8\n",
      "Shadowshaper is a 2015 American urban fantasy young adult novel written by Daniel José Older. It follows Sierra Santiago, an Afro-Boricua teenager living in Brooklyn. She is the granddaughter of a \"shadowshaper\", or a person who infuses art with ancestral spirits. As forces of gentrification invade their community and a mysterious being who appropriates their magic begins to hunt the aging shadowshapers, Sierra must learn about her artistic and spiritual heritage to foil the killer. 5a85ea095542994775f606a8\n",
      "\"Left Behind: The Kids (stylized as LEFT BEHIND >THE KIDS<)\" is a series written by Jerry B. Jenkins, Tim LaHaye, and Chris Fabry. The series consists of 40 short novels aimed primarily at the young adult market based on the adult series Left Behind also written by Jerry B. Jenkins. It follows a core group of teenagers as they experience the rapture and tribulation, based on scriptures found in the Bible, and background plots introduced in the adult novels. Like the adult series, the books were published by Tyndale House Publishing, and released over the 7 year period of 1997-2004. The series has sold over 11 million copies worldwide. 5a85ea095542994775f606a8\n",
      "Dozens of Square Enix companion books have been produced since 1998, when video game developer Square began to produce books that focused on artwork, developer interviews, and background information on the fictional worlds and characters in its games rather than on gameplay details. The first series of these books was the \"Perfect Works\" series, written and published by Square subsidiary DigiCube. They produced three books between 1998 and 1999 before the line was stopped in favor of the \"Ultimania\" (アルティマニア , Arutimania ) series, a portmanteau of ultimate and mania. This series of books is written by Studio BentStuff 5a85ea095542994775f606a8\n",
      ", which had previously written game guides for Square for \"Final Fantasy VII\". They were published by DigiCube until the company was dissolved in 2003. Square merged with video game publisher Enix on April 1, 2003 to form Square Enix, which resumed publication of the companion books. 5a85ea095542994775f606a8\n",
      "The Divide trilogy is a fantasy young adult novel trilogy by Elizabeth Kay, which takes place in an alternate universe. The three books are \"The Divide\" (2002), \"Back to The Divide\" (2005), and \"Jinx on The Divide\" (2006). The first novel was originally published by the small press publisher Chicken House (now a division of Scholastic), with subsequent volumes published by Scholastic, which also reprinted the first novel. The books have been translated into French, German, Spanish, Finnish, Chinese, Japanese, Portuguese, Italian, Romanian and Dutch. Interior illustrations are by Ted Dewan. 5a85ea095542994775f606a8\n",
      "Science Fantasy, which also appeared under the titles Impulse and SF Impulse, was a British fantasy and science fiction magazine, launched in 1950 by Nova Publications as a companion to Nova's \"New Worlds\". Walter Gillings was editor for the first two issues, and was then replaced by John Carnell, the editor of \"New Worlds\", as a cost-saving measure. Carnell edited both magazines until Nova went out of business in early 1964. The titles were acquired by Roberts & Vinter, who hired Kyril Bonfiglioli to edit \"Science Fantasy\"; Bonfiglioli changed the title to \"Impulse\" in early 1966, but the new title led to confusion with the distributors and sales fell 5a85ea095542994775f606a8\n",
      ", though the magazine remained profitable. The title was changed again to \"SF Impulse\" for the last few issues. \"Science Fantasy\" ceased publication the following year, when Roberts & Vinter came under financial pressure after their printer went bankrupt. 5a85ea095542994775f606a8\n",
      "Animorphs is a science fantasy series of young adult books written by Katherine Applegate and her husband Michael Grant, writing together under the name K. A. Applegate, and published by Scholastic. It is told in first person, with all six main characters taking turns narrating the books through their own perspectives. Horror, war, dehumanization, sanity, morality, innocence, leadership, freedom and growing up are the core themes of the series. 5a85ea095542994775f606a8\n",
      "Etiquette & Espionage is a young adult steampunk novel by Gail Carriger. It is her first young adult novel, and is set in the same universe as her bestselling Parasol Protectorate adult series. 5a85ea095542994775f606a8\n",
      "Esma Sultan (21 March 1873 – 7 May 1899) was an Ottoman princess, the daughter of Sultan Abdülaziz and his wife Gevheri Kadın, herself the daughter of Salih Bey Svatnba. She was the half-sister of Abdülmecid II, the last Caliph of the Muslim world. 5adbf0a255429947ff17385a\n",
      "The Great Mosque of Algiers (Arabic: الجامع الكبير‎ ‎ , \"Jemaa Kebir\") or “Djama’a al-Kebir” (meaning Great Mosque) is a mosque in Algiers, Algeria, located very close to Algiers Harbor. An inscription on the minbar (منبر) or the pulpit testifies to fact that the mosque was built in 1097. It is also known by several other names such as Grand Mosque d'Alger, Djamaa al-Kebir 5adbf0a255429947ff17385a\n",
      ", Djamaa al-Kebir, El Kebir Mosque and Jami Masjid. It is one of the few remaining examples of Almoravid architecture. It is the oldest mosque in Algiers and is said to be the oldest mosque in Algeria after Sidi Okba Mosque. It was built under sultan Ali ibn Yusuf. Its minaret dates from 1332 (1324 in some sources) and was built by the Ziyyanid Sultan of Tlemcen. The gallery at the outside of the mosque was built in 1840. Its construction was a consequence of a complete reconstruction of the street by the French. 5adbf0a255429947ff17385a\n",
      "Küçük Hüseyin Pasha (1757 – 7 December 1803), also known as Tayazade Damat Küçük Hüseyin Pasha, was an Ottoman statesman and admiral who was Kapudan Pasha (Grand Admiral of the Ottoman Navy) from 11 March 1792 to 7 December 1803. He was a \"damat\" (\"bridegroom\") to the Ottoman dynasty after he married an Ottoman princess, Esma Sultan. 5adbf0a255429947ff17385a\n",
      "Esma Sultan (17 July 1778 – 4 June 1848) was an Ottoman princess, daughter of Sultan Abdul Hamid I, sister of Sultan Mustafa IV and Sultan Mahmud II. She was the adoptive mother of Bezmiâlem Sultan and Rahime Perestu Sultan. 5adbf0a255429947ff17385a\n",
      "The Sultan Ahmed Mosque or Sultan Ahmet Mosque (Turkish: \"Sultan Ahmet Camii\" ) is a historic mosque located in Istanbul, Turkey. A popular tourist site, the Sultan Ahmed Mosque continues to function as a mosque today; men still kneel in prayer on the mosque's lush red carpet after the call to prayer. The Blue Mosque, as it is popularly known, was constructed between 1609 and 1616 during the rule of Ahmed I. Its Külliye contains Ahmed's tomb, a madrasah and a hospice. Hand-painted blue tiles adorn the mosque’s interior walls, and at night the mosque is bathed in blue as lights frame the mosque’s five main domes, six minarets and eight secondary domes. It sits next to the Hagia Sophia 5adbf0a255429947ff17385a\n",
      ", another popular tourist site. 5adbf0a255429947ff17385a\n",
      "The Laleli Mosque (Turkish: \"Laleli Camii, or Tulip Mosque\" ) is an 18th-century Ottoman imperial mosque located in Laleli, Fatih, Istanbul, Turkey. 5adbf0a255429947ff17385a\n",
      "The Esma Sultan Mansion (Turkish: \"Esma Sultan Yalısı\" ), a historical yalı (English: waterside mansion ) located at Bosphorus in Ortaköy neighborhood of Istanbul, Turkey and named after its original owner Esma Sultan, is used today as a cultural center after being redeveloped. 5adbf0a255429947ff17385a\n",
      "Esma Sultan is the name of three daughters of three Ottoman Sultans: 5adbf0a255429947ff17385a\n",
      "Gevheri Kadın (8 July 1856 – 6 September 1884) was the fifth wife of 32nd Ottoman Sultan Abdülaziz. She was the mother of Şehzade Mehmed Seyfeddin and Esma Sultan of the Ottoman Empire. 5adbf0a255429947ff17385a\n",
      "Esma Sultan (14 March 1726 – 13 August 1788) was an Ottoman princess, daughter of Sultan Ahmed III and his consort Zeynep Kadın. She was the half-sister of Sultan Mustafa III and Abdul Hamid I. 5adbf0a255429947ff17385a\n",
      "Just Another Romantic Wrestling Comedy is a 2006 film starring April Hunter and Joanie Laurer. This Romantic comedy film was premiered at New Jersey and New York City on December 1, 2006 and was released on DVD in the United States and the United Kingdom on April 17, 2007. After the film's DVD release \"Just Another Romantic Wrestling Comedy\" won an \"Honorable Mention\" award at the New Jersey International Festival awards. The release is being handled by \"Victory Multimedia\". 5a8e3ea95542995a26add48d\n",
      "Kingston Morning is Dave Eggar's 4th solo release recorded in Brooklyn, New York; Kingston, Jamaica; and Big Stone Gap, Virginia; and released by Domo Records. \"Itsbynne Reel\" was nominated at the 53rd Grammy Awards for \"Best Instrumental Arrangement\". 5a8e3ea95542995a26add48d\n",
      "Nola is a 2003 American romantic comedy film written and directed by Alan Hruska. It depicts the struggle of a young woman trying to survive in New York City while looking for her birth father. It premiered in New York City on July 23, 2004. 5a8e3ea95542995a26add48d\n",
      "Adriana Trigiani is an Italian American best-selling author of sixteen books, television writer, film director, and entrepreneur based in Greenwich Village, New York City. Trigiani has published a novel a year since 2000. 5a8e3ea95542995a26add48d\n",
      "Great Eastern Conventions, Inc. was an entertainment company which produced comic book conventions, most actively during the years 1987-1996. In New York City, the Great Eastern shows filled the gap between the mid-1980s demise of the annual Comic Art Convention and Creation Conventions, and the establishment of promoter Michael Carbonaro's annual Big Apple Comic Con in 1996. From 1993–1995, Great Eastern hosted two New York City shows annually at the Jacob K. Javits Convention Center. Great Eastern also ran shows in New Jersey, Pennsylvania, Massachusetts, Oregon, Minnesota, and Texas. 5a8e3ea95542995a26add48d\n",
      "The New York Society of Model Engineers (NYSME) was originally incorporated in 1926 in New York City. There are published records that show the Society existed as early as 1905. In its early years 5a8e3ea95542995a26add48d\n",
      ", the organization moved to and from various locations throughout Manhattan. AT that time it was basically a gentlemen's club of members who were interested in all types of model building. In 1926 the Society was formalized and incorporated under the laws of the State of New York. This was done so that the Society could obtain a permit to use a lake in New York City's Central Park for model motor boat races. It was also at this time that the Society began construction of its first Model Railroad \" The Union Connecting\". Over the next twenty years 5a8e3ea95542995a26add48d\n",
      ", the Society moved from its original location to two other locations. Each move doubling the size of the previous location and of course doubling the size of the model train layout. During WW2 many Society members were called to service in the Armed Forces. Regrettably, the largest of the layouts had to be dismantled. The location of the layout in the basement of the Astor Building was requested for the war effort. The dismantling was done with care 5a8e3ea95542995a26add48d\n",
      ", with salvaged usable materials going into scrap drives for the War effort. As members returned after the War a new location was searched for. This led to an invitation from the Lackawanna Railroad to move into their Passenger Terminal in Hoboken,NJ. They had the space for what would become the largest model railroad in the world at that time. The space? Only the ornate waiting room for the recently discontinued ferry boats to 23rd Street in New York City. Here the layout was built. It was based on the Lackawanna Railroad from Hoboken to Scranton 5a8e3ea95542995a26add48d\n",
      ", Pa. It was magnificent; from the scale model of the Hoboken Terminal to the soaring Delaware Water Gap. During the early-1950s the organization moved to its current location in Carlstadt, New Jersey. 5a8e3ea95542995a26add48d\n",
      "Clinton is a city in Big Stone County, Minnesota, United States. The city was named for New York Governor DeWitt Clinton. The population was 449 at the 2010 census. 5a8e3ea95542995a26add48d\n",
      "Hamish & Andy's Gap Year is a Logie Award winning comedy series following Hamish Blake and Andy Lee, a pair of Australian comedians, on their trips to various international locations. The first season saw the boys visiting America for ten episodes and broadcast their show weekly from New York City. In its second season in 2012, the show was titled \"Hamish & Andy's Euro Gap Year\" and seven episodes were broadcast from The Lord Stanley, a disused pub in East London, England. The third season known as \"Hamish and Andy's Gap Year Asia\" in 2013 was broadcast from a bar in Bangkok, Thailand, called 'The Raintree'. 5a8e3ea95542995a26add48d\n",
      "I Love NY, also known as I Love New Year, is an Indian romantic comedy film directed by Radhika Rao and Vinay Sapru starring Sunny Deol and Kangana Ranaut in lead roles. The film is produced by Bhushan Kumar and Krishan Kumar under the banner of Super Cassettes Industries Ltd. The film was extensively shot in Mumbai, New York City and Bangkok. The main plot was taken from the Russian romantic comedy \"The Irony of Fate\" (1976). After numerous delays, the film released on 10 July 2015. 5a8e3ea95542995a26add48d\n",
      "Big Stone Gap is a 2014 American drama romantic comedy film written and directed by Adriana Trigiani and produced by Donna Gigliotti for Altar Identity Studios, a subsidiary of Media Society. Based on Trigiani's 2000 best-selling novel of the same name, the story is set in the actual Virginia town of Big Stone Gap circa 1970s. The film had its world premiere at the Virginia Film Festival on November 6, 2014. 5a8e3ea95542995a26add48d\n",
      "South Korean boy group Shinee have received several awards and nominations for their music work. The group was formed by S.M. Entertainment in 2008 and released their first full-length album, \"The Shinee World\", on August 28, 2008, which won the Newcomer Album of the Year at the 23rd Golden Disk Awards. The first single released from the album was \"Sanso Gateun Neo (Love Like Oxygen)\" and won first place on \"M Countdown\" on September 18, 2008 making it the group's first win on Korean music shows since debut. Their second album \"Lucifer\" (2010) produced two singles 5abd94525542992ac4f382d2\n",
      ", \"Lucifer\" and \"Hello\". For their outstanding choreography the group was nominated for the Best Dance Performance Award at the Mnet Asian Music Awards in 2010. \"Lucifer\" also won the Disk Bonsang Award at the 25th Golden Disk Awards as well as the Popularity Award. On March 21, 2012 the group released their fourth EP \"Sherlock\" for which the group was awarded another Disk Bonsang Award at the 27th Golden Disc Awards and the Bonsang Award at the 22nd Seoul Music Award. Also following the success of the lead single it was also nominated for Song of the Year at the 2012 Mnet Asian Music Awards. 5abd94525542992ac4f382d2\n",
      "Cho Kyu-hyun (born February 3, 1988), better known mononymously as Kyuhyun, is a South Korean singer and musical theatre actor. He is best known as a member of South Korean boy group Super Junior, its sub-groups Super Junior-K.R.Y., Super Junior-M and a former member of the South Korean ballad group S.M. the Ballad. He is one of the first four Korean artists to appear on Chinese postage stamps. 5abd94525542992ac4f382d2\n",
      "2014 S/S is the debut album of South Korean group WINNER. It was released on August 12, 2014 by the group's record label, YG Entertainment. The members were credited for writing the lyrics and composing the majority of the album's songs. 5abd94525542992ac4f382d2\n",
      "History (Korean: 히스토리 ) was a South Korean boy group formed by LOEN Entertainment in 2013. They debuted on April 26, 2013 with \"Dreamer\", featuring the narration of their labelmate IU. They were LOEN Entertainment's first boy group. They officially disbanded on May 12, 2017. 5abd94525542992ac4f382d2\n",
      "Winner (Hangul: 위너), often stylized as WINNER, is a South Korean boy group formed in 2013 by YG Entertainment and debuted in 2014. It currently consists of four members, Jinwoo, Seunghoon, Mino and Seungyoon. Originally a five-piece group with Taehyun, who later departed from the group in November 2016. 5abd94525542992ac4f382d2\n",
      "Madtown (Hangul: 매드타운 ), often stylized as MADTOWN, is a South Korean boy group formed in 2014 by J. Tune Camp. The group consists of Moos, Daewon, Lee Geon, Jota, Heo Jun, Buffy and H.O. Their debut album, \"Mad Town\", was released on October 6, 2014. Two of the members, Moos and Buffy, originally debuted as the hip hop duo \"Pro C\" in 2013. Madtown's official fan-base name is Mad-people. Starting December 22, 2016, MADTOWN's contract was sold to GNI Entertainment after J. Tune Camp closed. 5abd94525542992ac4f382d2\n",
      "Ravi is a South Korean rapper, songwriter and producer, signed under Jellyfish Entertainment. He began his career as a rapper in 2012 in the South Korean boy group VIXX, and later formed VIXX's first sub-unit VIXX LR with band mate Leo in 2015. Ravi's songwriting career began with his participation in co-writing VIXX's debut single \"Super Hero\". As of November 2016 with the release of \"VIXX 2016 Conception Ker\", Ravi has contributed to the writing and composing of over 46 songs recorded by VIXX. Ravi is widely known for his participation of composing and songwriting rap portions for the group as well as lyrics and music. 5abd94525542992ac4f382d2\n",
      "SF9 (Korean: 에스에프나인 ; shortened from Sensational Feeling 9) is a South Korean boy group formed by FNC Entertainment. SF9 is the company's first dance boy group to ever debut. SF9 debuted on October 5, 2016 with the release of their first single album \"Feeling Sensation\". 5abd94525542992ac4f382d2\n",
      "This is the discography of South Korean boy group Seventeen. Seventeen (Hangul: 세븐틴), also stylized as SEVENTEEN or SVT, is a South Korean boy group formed by Pledis Entertainment in 2015. They have released one album and four EPs. 5abd94525542992ac4f382d2\n",
      "The following is the discography of South Korean boy group BTS. The group debuted in South Korea on June 2013 with single album, \"2 Cool 4 Skool\", at number 5 on South Korean Week 31 Gaon Weekly Chart. They made a comeback on September 2013 with an extended play, \"O!RUL8,2?\", which peaked at number 4 on Week 38 Gaon Weekly Chart. BTS then released their second extended play, \"Skool Luv Affair\", in February 2014, where it charted at number 1 on Week 18 Gaon Weekly Chart. This also marked the first time their album charted on international charts, Billboard World Albums and Japan's Oricon Chart, specifically. A repackaged version of the album 5abd94525542992ac4f382d2\n",
      ", specifically. A repackaged version of the album, \"Skool Luv Affair Special Addition\" which was released in May 2014, also peaked at number 1 on Week 21 Gaon Weekly Chart. 5abd94525542992ac4f382d2\n",
      "James P. Comer (born James Pierpont Comer, September 25, 1934 in East Chicago, Indiana) is currently the Maurice Falk Professor of Child Psychiatry at the Yale Child Study Center and has been since 1976. He is also an associate dean at the Yale School of Medicine. As one of the world's leading child psychiatrists, he is best known for his efforts to improve the scholastic performance of children from lower-income and minority backgrounds which led to the founding of the Comer School Development Program in 1968. His program has been used in more than 600 schools in eighty-two school districts. He is the author of ten books 5a85b2d95542997b5ce40028\n",
      ", including the autobiographical \"Maggie’s American Dream: The Life and Times of a Black Family\", 1988; \"Leave No Child Behind: Preparing Today's Youth for Tomorrow's World\", 2004; and his most recent book, \"What I Learned in School: Reflections on Race, Child Development, and School Reform\" 5a85b2d95542997b5ce40028\n",
      ", Child Development, and School Reform\", 2009. He has also written more than 150 articles for Parents (magazine) and more than 300 articles on children's health and development and race relations. Dr. Comer has also served as a consultant to the Children's Television Workshop (Sesame Workshop) which produces Sesame Street and The Electric Company (1971 TV series). He is a co-founder and past president of the Black Psychiatrists of America and has served on the board of several universities, foundations, and corporations. He has also lectured and consulted widely not only across the United States at different universities, medical schools, and scientific associations 5a85b2d95542997b5ce40028\n",
      ", medical schools, and scientific associations, but also around the world in places such as London, Paris, Tokyo, Dakar, Senegal and Sydney, Australia. For his work and scholarship, Dr. Comer has been awarded 47 honorary degrees and has been recognized by numerous organizations. 5a85b2d95542997b5ce40028\n",
      "Clifford Smith (born April 1, 1971), better known by his stage name Method Man, is an American rapper, record producer, and actor. He is known as a member of the East Coast hip hop collective Wu-Tang Clan. He is also one half of the hip hop duo Method Man & Redman. He took his stage name from the 1979 film \"Method Man\". In 1996, he won a Grammy Award for Best Rap Performance by a Duo or Group, for \"I'll Be There for You/You're All I Need to Get By\", with American R&B singer-songwriter Mary J. Blige. 5a85b2d95542997b5ce40028\n",
      "Indriati Gerald Bernardina (born 9 June 1942), also known by her stage name Indriati Iskak and after marriage as Indri Makki, is an Indonesian actress turned psychologist and marketer. Born in Surabaya, she entered the Indonesian film industry and soared to popularity with Usmar Ismail's commercially successful \"Tiga Dara\" (1957). She appeared in eight further films and established her own girl group before retiring from cinema in 1963. She graduated from the University of Indonesia with a degree in psychology in 1968, and has taught the subject at the . For twenty-six years she worked with Unilever, and since 1994 she has been a marketing consultant with Makki Makki. 5a85b2d95542997b5ce40028\n",
      "Eenasul Fateh (Bengali: ঈনাসুল ফাতেহ ; born 3 April 1959), also known by his stage name Aladin, is a Bangladeshi-British cultural practitioner, magician, live artist and former international management consultant. 5a85b2d95542997b5ce40028\n",
      "Mick Batyske (known by his stage name Mick, sometimes styled as MICK, and formerly Mick Boogie) is an American DJ and entrepreneur. He is an A-list DJ and spun private parties for celebrities including Kanye West, LeBron James, Jay-Z and Will Smith. In addition to his mix tape releases, he has performed in venues internationally, including New York City, Dubai, Tokyo, Las Vegas, and Los Angeles. As an entrepreneur, he has invested in various start-up companies including Localeur, in which he is also an advisor and consultant. 5a85b2d95542997b5ce40028\n",
      "Christopher Nicholas Sarantakos (born December 19, 1967), known by the stage name Criss Angel, is an American magician, illusionist and musician. Angel began his career in New York City, before moving his base of operations to the Las Vegas Valley. He is known for starring in the television and stage show \"Criss Angel Mindfreak\" and his previous live performance illusion show \"Criss Angel Believe\" in collaboration with \"Cirque du Soleil\" at the Luxor casino in Las Vegas. The show generated $150 million in tourist revenue to Las Vegas in 2010, but has since been replaced by \"Mindfreak LIVE\" on 11 May 2016 (the show is partly produced by Cirque 5a85b2d95542997b5ce40028\n",
      ", however the directive rights are entirely with Criss Angel). He also starred in the television series \"Criss Angel BeLIEve\" on Spike TV, the reality-competition television show \"Phenomenon\" on NBC, and the 2014 stage show \"Criss Angel Magicjam\". 5a85b2d95542997b5ce40028\n",
      "Lanre Dabiri (born May 23, 1977), better known by his stage name Eldee, stylized as eLDee, is a former Nigerian-American rapper, singer, and record producer but now an IT Consultant based in the United_States \"Lanre\" is a diminutive for the Yoruba name \"Olanrewaju\" (which translates to \"\"Wealth is moving forward\"\"). eLDee has a masters degree in Architecture from the University of Lagos, Nigeria. He is an original member of the band Trybesmen, which was started in 1998 with rappers KB and Freestyle. He hails from Lagos Island in Lagos State of Nigeria. 5a85b2d95542997b5ce40028\n",
      "Management consulting is the practice of helping organizations to improve their performance, operating primarily through the analysis of existing organizational problems and the development of plans for improvement. Organizations may draw upon the services of management consultants for a number of reasons, including gaining external (and presumably objective) advice and access to the consultants' specialized expertise. 5a85b2d95542997b5ce40028\n",
      "Sylvester Samuels better known by his stage name Lil Ru, is an American rapper from Ridgeway, South Carolina currently signed to Def Jam Recordings. His debut album, 21 & Up was released on August 25, 2009. The Ridgeway native was 16 when he made his professional foray into the music business. Inspired by New Orleans’ innovative Cash Money Crew, Ru began making a name for himself on his local music scene, doing live shows and pressing up his own CDs. His hard-hitting lyrics and entrepreneurial spirit caught the attention of fellow South Carolinian Angie Stone. Shortly after the neo-soul songstress helped him secure a deal with Elektra Records, Ru found himself unsigned again 5a85b2d95542997b5ce40028\n",
      ", Ru found himself unsigned again, among the artists lost in the shuffle after the label merged with Atlantic Records. Music fans first heard him on his 2001 debut single Will Destroy. He then released his 2002 follow up, Shawty What You Doin’. Both songs reached the Billboard R&B/Hip-Hop charts and helped land him at his next label home, Capitol Records. 5a85b2d95542997b5ce40028\n",
      "Amaruk Caizapanta Anchapacxi (Quito, January 30, 1970), whose stage name is Amaruk Kayshapanta. Is an Ecuadorian multidisciplinary artist, known in Spain and Ecuador for his artistic and humanistic trajectory in favor of the Human Rights of Immigration in Spain. Named as the \"Chasqui de Oro\" (In the VI Race and hike \"El Chasqui-NY). Received the award as \"Cultural Ambassador of the Andes-Mushuk Nina 2014 (Third Edition)\", for rescuing the traditions and culture of the Andes for the Indigenous Organizations of Peru, Bolivia based in Ecuador. He obtained the prize \"100 Latinos Madrid\", by the Community of Madrid 5a85b2d95542997b5ce40028\n",
      ", by the Community of Madrid, in recognition of their non-profit altruistic and cultural work for the benefit of foreign immigrants in Spain. Known for his role in the TV series \"Hospital Central\" in which he gave life to the character \"Edgar\". His Philosophy \"Amawtica Amarukiana Desestructuration\" brings to the contemporary world the Philosophical study of the Andean Worldview, a spiritual legacy of transformation and balance for the awakening of a collective conscience. 5a85b2d95542997b5ce40028\n",
      "The Billings Bulls were a junior ice hockey organization based in Billings, Montana. They most recently played home games at the 550-seat Centennial Ice Arena and due to the arena's small size, the Bulls frequently sold out games. They previously played their home games in the Metrapark which had a max capacity of 9,000 for hockey games. However, a negotiating dispute with arena officials and local county commissioners resulted in the team losing its lease. 5a87ab905542996e4f3088c1\n",
      "The Robins Center is a 7,201-seat multi-purpose arena in Richmond, Virginia. Opened in 1972, the arena is home to the University of Richmond Spiders basketball. It hosted the ECAC South (now known as the Colonial Athletic Association) men's basketball tournament in 1983. It is named for E. Claiborne Robins Sr, class of 1931, who, along with his family, have been leading benefactors for the school. The opening of the Robins Center returning Spider basketball to an on-campus facility for the first time since the mid-1940s when it outgrew Millhiser Gymnasium. In the intervening decades, the Spiders played home games in numerous locations around the Richmond area 5a87ab905542996e4f3088c1\n",
      ", including the Richmond Coliseum (1971–1972), the Richmond Arena (1954–1971), the Benedictine High School gymnasium (1951–1954), Grays' Armory (1950–1951) and Blues' Armory (1947–1950). The Robins Center arena serves as the location of the University of Richmond's commencement exercises and hosted a 1992 Presidential debate involving Bill Clinton, George H. W. Bush, and Ross Perot. 5a87ab905542996e4f3088c1\n",
      "The 2011–12 QMJHL season was the 43rd season of the Quebec Major Junior Hockey League (QMJHL). The regular season, which consisted of seventeen teams playing 68 games each, began in September 2011 and ended in March 2012. This season was Blainville-Boisbriand Armada's first season in the league, as the team relocated to Boisbriand from Verdun where they played as the Montreal Junior Hockey Club from 2008 to 2011. The league lost one of his charter teams when the Lewiston Maineiacs folded during after the previous season, the QMJHL later announce an expansion team to Sherbrooke for the 2012-2013 season. In the playoffs 5a87ab905542996e4f3088c1\n",
      ", the Saint John Sea Dogs became the seventh team in league history to capture consecutive President's Cup championships. 5a87ab905542996e4f3088c1\n",
      "Loan modification is the systematic alteration of mortgage loan agreements that help those having problems making the payments by reducing interest rates, monthly payments or principal balances. Lending institutions could make one or more of these changes to relieve financial pressure on borrowers to prevent the condition of foreclosure. Loan modifications have been practiced in the United States since The 2008 Crash Of The Housing Market from Washington Mutual, Chase Home Finance, Chase, JP Morgan & Chase 5a87ab905542996e4f3088c1\n",
      ", Chase Home Finance, Chase, JP Morgan & Chase, other contributors like MER's. Crimes of Mortgage ad Real Estate Staff had long assisted nd finally the squeaky will could not continue as their deviant practices broke the state and crashed. Modification owners either ordered by The United States Department of Housing, The United States IRS or President Obamas letters from Note Holders came to those various departments asking for the Democratic process to help them keep their homes and protection them from explosion. Thus the birth of Modifications. It is yet to date for clarity how theses enforcements came into existence and except b whom 5a87ab905542996e4f3088c1\n",
      ", but t is certain that note holders form the Midwest reached out in the Democratic Process for assistance. FBI Mortgage Fraud Department came into existence. Modifications HMAP HARP were also birthed to help note holders get Justice through reduced mortgage by making terms legal. Modification of mortgage terms was introduced by IRS staff addressing the crisis called the HAMP TEAMS that went across the United States desiring the new products to assist homeowners that were victims of predatory lending practices, unethical staff, brokers 5a87ab905542996e4f3088c1\n",
      ", unethical staff, brokers, attorneys and lenders that contributed to the crash. Modification were a fix to the crash as litigation has ensued as the lenders reorganized and renamed the lending institutions and government agencies are to closely monitor them. Prior to modifications loan holders that experiences crisis would use Loan assumptions and Loan transfers to keep the note in the 1930s. During the Great Depression, loan transfers, loan assumption, and loan bail out programs took place at the state level in an effort to reduce levels of loan foreclosures while the Federal Bureau of Investigation, Federal Trade Commission, Comptroller 5a87ab905542996e4f3088c1\n",
      ", Federal Trade Commission, Comptroller, the United States Government and State Government responded to lending institution violations of law in these arenas by setting public court records that are legal precedence of such illegal actions. The legal precedents and reporting agencies were created to address the violations of laws to consumers while the Modifications were created to assist the consumers that are victims of predatory lending practices. During the so-called \"Great Recession\" of the early 21st century, loan modification became a matter of national policy 5a87ab905542996e4f3088c1\n",
      ", with various actions taken to alter mortgage loan terms to prevent further economic destabilization. Due to absorbent personal profits nothing has been done to educate Homeowners or Creditors that this money from equity, escrow is truly theirs the Loan Note Holder and it is their monetary rights as the real prize and reason for the Housing Crash was the profit n obtaining the mortgage holders Escrow. The Escrow and Equity that is accursed form the Note Holders payments various staff through the United States claimed as recorded and cashed by all staff in real-estate from local residential Tax Assessing Staff, Real Estate Staff, Ordinance Staff, Police Staff, Brokers, attorneys 5a87ab905542996e4f3088c1\n",
      ", lending institutional staff but typically Attorneys who are also typically the owners or Rental properties that are trained through Bankruptcies'. that collect the Escrow that is rightfully the Homeowners but because most Homeowners are unaware of what money is due them and how they can loose their escrow. Most Creditors are unaware that as the note holder that the Note Holder are due a annual or semi annual equity check and again bank or other lending and or legal intuitions staff claim this monies instead. This money Note Holders were unaware of is the prize of real estate and the cause of the Real Estate Crash of 2008 where Lending Institutions provided mortgages to people years prior 5a87ab905542996e4f3088c1\n",
      "provided mortgages to people years prior they know they would eventually loose with Loan holders purchasing Balloon Mortgages lending product that is designed to make fast money off the note holder whom is always typically unaware of their escrow 5a87ab905542996e4f3088c1\n",
      ", equity and that are further victimized by conferences and books on HOW TO MAKE MONEY IN REAL STATE - when in fact the money is the Note Holder. The key of the crash was not the House, but the loan product used and the interest and money that was accrued form the note holders that staff too immorally. The immoral and illegal actions of predatory lending station and their staff began with the inception of balloon mortgages although illegal activity has always existed in the arena, yet the crash created \"Watch Dog\" like HAMP TEAM, IRS, COMPTROLLER< Federal Trade Commission Consumer Protection Bureau, FBI, CIA, Local Police Department 5a87ab905542996e4f3088c1\n",
      ", FBI, CIA, Local Police Department, ICE ( The FBI online Computer crime division receives and investigates computer crimes that record keeping staff from title companies, lending institutional staff, legal staff and others created fraudulent documents to change payments and billing of note holders to obtain the money note holders are typically unaware of) and other watch dog agencies came into existence to examine if houses were purchased through a processed check at Government Debited office as many obtained free homes illegally. Many were incarcerated for such illegal actions. Modifications fixed the Notes to proper lower interest, escrow 5a87ab905542996e4f3088c1\n",
      ", escrow, tax fees that staff typically raised for no reason. Many people from various arenas involved in reals estate have been incarcerated for these actions as well as other illegal actions like charging for a modification. Additionally Modifications were also made to address the falsifications such as inappropriate mortgage charges, filing of fraudulently deeds, reporting of and at times filing of fraudulent mortgages that were already paid off that were fraudulently continued by lenders staff and attorneys or brokers or anyone in the Real Estate Chain through the issues of real estate terms to continue to violate United States Laws 5a87ab905542996e4f3088c1\n",
      ", contract law and legal precedence where collusion was often done again to defraud and steal from the Note Holder was such a common practice that was evidence as to why the Mortgage Crash in 2008 occurred for the purpose of wining the prize of stealing form Homeowners and those that foreclosed was actually often purposefully for these monies note holders were unaware of to be obtained which was why Balloon mortgages and loans were given to the staff in the Real Estate Market with the hoper and the expectation that the loan holders would default as it offered opportunity to commit illegal transactions of obtaining the homeowners funds. While such scams were addressed through modifications in 5a87ab905542996e4f3088c1\n",
      "scams were addressed through modifications in 2008. The Market relied heavily on Consumers ignorance to prosper 5a87ab905542996e4f3088c1\n",
      ", ignorance of real estate terms, ignorance on what they were to be charged properly for unethical financial gain and while staff in real estates lending arenas mingled terms to deceive y deliberate confusion consumers out of cash and homes while the USA Government provided Justice through President Obamas Inception and IRS Inception of Modifications which addressed these unethical profits in Reals Estate. It was in 2009 that HARP 5a87ab905542996e4f3088c1\n",
      ", HAMP and Modifications were introduced to stop the victimization of Note Holders. Taking on the Banks that ran USA Government was a great and dangerous undertaking that made America Great Again as Justice for Consumers reigned. Legal action taken against institutions that have such business practices can be viewed in State Code of Law and Federal Law on precedent cases that are available to the public. Finally, It had been unlawful to be charged by an attorney to modify as well as fro banking staff to modify terms to increase a mortgage and or change lending product to a balloon in an concerted effort to make homeowner foreclose which is also illegal 5a87ab905542996e4f3088c1\n",
      ", computer fraud and not the governments intended purpose or definition of a modification. 5a87ab905542996e4f3088c1\n",
      "Case Gym is a 1,800-seat multi-purpose arena at Boston University in Boston, Massachusetts. It opened in 1972 as part of the Harold Case Physical Education Center, which is named after the university's fifth president, Harold C. Case. The gym is referred to as \"The Roof\" because it is located on the top level of the building, above Walter Brown Arena. It is home to the Boston University Terriers men's and women's basketball teams, as well as the men's wrestling team. Basketball games are also played in Agganis Arena, and on occasion Walter Brown Arena. When Boston University left the America East Conference for the Patriot League in July 2013 5a87ab905542996e4f3088c1\n",
      ", they announced that all home men's basketball conference games would be played at Agganis Arena, with the non-conference games to be played at Case. 5a87ab905542996e4f3088c1\n",
      "The Androscoggin Bank Colisée (formerly Central Maine Civic Center and Lewiston Colisee) is a 4,000 capacity (3,677 seated) multi-purpose arena, in Lewiston, Maine, that opened in 1958. In 1965 it was the location of the World Heavyweight Title fight during which one of the most famous sports photographs of the century was taken of Muhammed Ali standing over Sonny Liston. 5a87ab905542996e4f3088c1\n",
      "The 2007 MasterCard Memorial Cup was played in May 2007 in Vancouver, British Columbia, at the Pacific Coliseum. It was the 89th annual Memorial Cup competition and determined the major junior ice hockey champion of the Canadian Hockey League (CHL). The tournament was competed between the WHL champion Medicine Hat Tigers, the OHL champion Plymouth Whalers, the QMJHL champion Lewiston Maineiacs, and the host team and tournament champion Vancouver Giants, who were competing in their second consecutive national junior championship. The Memorial Cup tournament was a four team tournament with a round-robin format. The Giants won their first Memorial Cup 5a87ab905542996e4f3088c1\n",
      ", defeating Medicine Hat 3–1 in the second all-WHL final in tournament history (the first was in 1989). The tournament set a new Memorial Cup attendance record with 121,561 fans attending the nine games. The previous record of 84,686 was set at the 2003 tournament in Quebec City. 5a87ab905542996e4f3088c1\n",
      "The Lewiston Maineiacs were a junior ice hockey team of the Quebec Major Junior Hockey League based in Lewiston, Maine. The team played its home games at the Androscoggin Bank Colisée. They were the second QMJHL team in the United States, and the only one to play a full season. They won the President's Cup in 2007. 5a87ab905542996e4f3088c1\n",
      "The Robert and Concetta Dwyer Arena houses two ice surfaces, both 200 x 85 ft., and pro shop on Niagara University's campus in Lewiston, New York, United States. The main rink can seat up to 1,400 people and is the home to the Niagara Purple Eagles men's ice hockey team, which plays in Atlantic Hockey. The arena was formerly home to the women's ice hockey team, which played in College Hockey America. 5a87ab905542996e4f3088c1\n",
      "The 2006–07 QMJHL season was the 38th season in the history of the Quebec Major Junior Hockey League. The regular season ran from September 14, 2006 to March 18, 2007. Eighteen teams played 70 games each in the schedule. The Lewiston Maineiacs finished first overall in the regular season winning their first Jean Rougeau Trophy. Lewiston won 16 playoff games, losing only one, en route to their first President's Cup, defeating the Val-d'Or Foreurs in the finals. 5a87ab905542996e4f3088c1\n",
      "Annie Morton (born October 8, 1970) is an American model born in Pennsylvania. She has appeared on the covers of \"British Vogue\", \"ID\", \"Marie Claire\", and other magazines. She has been photographed by Helmut Newton; Peter Lindbergh; Annie Leibovitz; Richard Avedon; Juergen Teller; Paul Jasmin, Mary Ellen Mark and Terry Richardson, and modeled for Donna Karan, Givenchy, Guerlain, Chanel, \"Harper's Bazaar\", \"Sports Illustrated\" and Victoria's Secret. A long time vegetarian, an advocate for organic lifestyle choices and natural healthcare. She co-founded Tsi-La Organics, a \"Green Luxury\" company that creates and sells vegan, organic perfume and skin care products. 5a7bbb64554299042af8f7cc\n",
      "Madonna is a biography by English author Andrew Morton, chronicling the life of American recording artist Madonna. The book was released in November 2001 by St. Martin's Press in the United States and in April 2002 by Michael O'Mara Books in the United Kingdom. Morton decided to write a biography on Madonna in 2000. The release was announced in April 2001 by St. Martin's Press. President and publisher Sally Richardson described the biography to contain details about Madonna's ambitions, her relationships and her lifestyle. 5a7bbb64554299042af8f7cc\n",
      "Terrence \"Uncle Terry\" Richardson (born August 14, 1965) is an American fashion and portrait photographer who has shot advertising campaigns for Marc Jacobs, Aldo, Supreme, Sisley, Tom Ford, and Yves Saint Laurent among others. He has also done work for magazines such as \"Rolling Stone\", \"GQ\", \"Vogue\", \"Vanity Fair\", \"Harper's Bazaar\", \"i-D\", and \"Vice\". 5a7bbb64554299042af8f7cc\n",
      "Lady Gaga x Terry Richardson is a photo-book by American singer Lady Gaga and American photographer Terry Richardson, released on November 22, 2011 by Grand Central Publishing. The book features more than 350 pictures of Gaga as taken by Richardson during a ten-month period from Gaga's performance at The Monster Ball Tour till the 2011 Grammy Awards. In addition to photographs, it includes a foreword written by the singer about her relationship with Richardson. The duo had collaborated on other projects prior to the shooting of the book. 5a7bbb64554299042af8f7cc\n",
      "Gumbo is the fourth and first self-released studio album by American singer-songwriter PJ Morton. It was released on April 14, 2017, by Morton Records, as the follow-up to his third studio album \"New Orleans\" (2013). The record incorporates R&B styles with elements of older soul music; its lyrics discuss themes of romance and explores political and personal themes. The album is entirely produced by Morton himself and features guest appearances by Pell, BJ the Chicago Kid and R&B singer Anthony Hamilton's back-up group, The HamilTones. The album features a cover of the Bee Gees' \"How Deep Is Your Love\". 5a7bbb64554299042af8f7cc\n",
      "Amanda Lepore (born November 21, 1967) is an American transgender model, celebutante, singer, and performance artist. The former Club Kid has appeared in advertising for numerous companies. Lepore is also noted as a regular subject in photographer David LaChapelle's work, serving as his muse, as well as many other photographers, such as Terry Richardson and . She participated in LaChapelle's \"Artists and Prostitutes 1985–2005\" exhibit in New York City, where she \"lived\" in a voyeuristic life-sized set. Lepore has also released several singles, many written by and/or recorded with Cazwell. In 2011, she released her debut studio album, \"I...Amanda Lepore\", on Peace Bisquit. 5a7bbb64554299042af8f7cc\n",
      "Piano Girl (Turkish: \"Deli Deli Olma\" ) is a 2009 Turkish comedy-drama film, directed by Murat Saraçoğlu, starring Tarık Akan and Şerif Sezer as two elderly people forced to question their histories and reveal their big secrets. The film, which went on nationwide general release across Turkey on  17, 2009 (2009--) , was the opening film at the Sinema Burada Film Festival in İzmir, Turkey, and has since been screened in competition at a number of other film festivals, including the 46th Antalya Golden Orange Film Festival, where, according to Terry Richardson, writing for Today's Zaman, \"the rapt audience gave it a standing ovation.\" 5a7bbb64554299042af8f7cc\n",
      "index Magazine was a prominent New York City based publication with in-depth interviews with prominent figures in art and culture. It was created by Peter Halley and Bob Nickas in 1996, running until late 2005. Covering the burgeoning Indie culture of the 1990s, index regularly employed such rising photographers as Juergen Teller, Terry Richardson, Wolfgang Tillmans, and Ryan McGinley, and featured interviews with figures including Björk, Brian Eno, Marc Jacobs, and Scarlett Johansson, mixing new talents and established names in music, film, architecture, fashion, art, and politics. In addition to famous personalities 5a7bbb64554299042af8f7cc\n",
      ", the publication also featured a mix of interviews with not so-famous New York personalities such as Queen Itchie or Ducky Doolittle. 5a7bbb64554299042af8f7cc\n",
      "Snoecks is a Belgian magazine. The huge, 550-plus-page magazine appears once a year in October and focuses on the most interesting new international developments in the arts, photography and literature. In recent editions the book had features on artists such as Anton Corbijn, Larry Sultan, Matthew Barney, Terry Richardson, Ron Mueck, Alberto Garcia-Alix, Peter Lindbergh, Albert Watson, Desiree Dolron, Bettina Rheims, Diana Scheunemann, Timothy Greenfield-Sanders and Andres Serrano. 5a7bbb64554299042af8f7cc\n",
      "Kenton Terry Richardson (born 26 July 1999) is an English professional footballer who plays as a defender for League Two side Hartlepool United. 5a7bbb64554299042af8f7cc\n",
      "Mendocino County, California, was the first jurisdiction in the United States to ban the cultivation, production or distribution of genetically modified organisms (GMOs). The ordinance, entitled Measure H, was passed by referendum on March 2, 2004. Initiated by the group \"GMO Free Mendocino\", the campaign was a highly publicized grassroots effort by local farmers and environmental groups who contend that the potential risks of GMOs to human health and the ecosystem have not yet been fully understood. The measure was met with opposition by several interest groups representing the biotechnology industry 5a8db19d5542994ba4e3dd00\n",
      ", The California Plant Health Association (now the Western Plant Health Association) and CropLife America, a Washington-based consortium whose clients represent some of the largest food distributors in the nation, including Monsanto, DuPont and Dow Chemical. Since the enactment of the ordinance, Mendocino County has been added to an international list of \"GMO free zones.\" Pre-emptive statutes banning local municipalities from such ordinances have now become widespread with adoption in sixteen states. 5a8db19d5542994ba4e3dd00\n",
      "The 1978 United States Senate election in Illinois took place on November 7, 1978. Incumbent Republican United States Senator Charles H. Percy ran for re-election to a third term in the United States Senate. Percy was opposed by Democratic nominee Alex Seith, an attorney who had been appointed to several local government positions. Though Percy had been expected to coast to re-election over Seith, a first-time candidate, the election quickly became competitive. In the last few days of the campaign, a desperate Percy ran a television advertisement that featured him apologizing and acknowledging that, \"I got your message and you're right.\" Percy's last-ditch effort appeared to have paid off 5a8db19d5542994ba4e3dd00\n",
      ", as he was able to edge out Seith to win what would end up being his third and final term in the Senate. 5a8db19d5542994ba4e3dd00\n",
      "The William H. Cook Water Tank House is a water tank house located southeast of Jerome, Idaho, United States. The building was constructed circa 1915 and was used to store water for William H. Cook's farm. The rectangular building was constructed with lava rock and contains a metal tank. Although the stone craftsmanship in the building is similar to the work of local stonemason H. T. Pugh, the builder of the house has not been determined. 5a8db19d5542994ba4e3dd00\n",
      "Amherst ( ) is a town in Hampshire County, Massachusetts, United States, in the Connecticut River valley. As of the 2010 census, the population was 37,819, making it the largest municipality in Hampshire County (although the county seat is Northampton). The town is home to Amherst College, Hampshire College, and the University of Massachusetts Amherst, three of the Five Colleges. The name of the town is pronounced without the \"h\" (\"AM-erst\"), giving rise to the local saying, \"only the 'h' is silent\", in reference both to the pronunciation and to the town's politically active populace. 5a8db19d5542994ba4e3dd00\n",
      "Local H is an American rock band originally formed by guitarist and vocalist Scott Lucas, bassist Matt Garcia, drummer Joe Daniels, and lead guitarist John Sparkman in Zion, Illinois in 1987. The members all met in high school in 1987 and founded Local H three years later. 5a8db19d5542994ba4e3dd00\n",
      "The Wilford H. Fawcett House is a house in Breezy Point, Minnesota, United States, listed on the National Register of Historic Places. Wilford H. Fawcett, also known as \"Captain Billy\", started the book \"Captain Billy's Whiz Bang\" as a joke book for soldiers during World War I. He formed Fawcett Publications in 1919 in Robbinsdale, Minnesota. In 1920, he bought a tract of land where the present-day Breezy Point Resort is located 5a8db19d5542994ba4e3dd00\n",
      ", and he began building cottages and a large log lodge. The lodge has since burnt down. He built the Fawcett House as a private residence within the resort property. Fawcett hired the Minneapolis architects of Magney and Tusler and commissioned the design in the Swiss Chateau style. The rustic log style was a bit ironic, since the local logging industry had declined before the resort was built. 5a8db19d5542994ba4e3dd00\n",
      "For Against is a United States post-punk/dream pop band from Lincoln, Nebraska. Despite numerous lineup shuffles and some periods of dormancy, the band has produced material steadily from its 1984 inception to the present. 5a8db19d5542994ba4e3dd00\n",
      "Ophur was a rock band from the Chicago suburbs in DuPage County. The band performed in the midwestern United States over the course of seven years with national acts including The Plain White T's, Sum 41, Violent Femmes, Local H, Lucky Boys Confusion, Veruca Salt, Two Skinee J's, Duvall, Sleeping at Last, and others. Their music has been described as an eclectic amalgamation of U2, Red Hot Chili Peppers, and Pink Floyd. 5a8db19d5542994ba4e3dd00\n",
      "Suffrajett is a United States rock band from New York City, currently based in Chicago, Illinois, composed of singer/violinist Simi Sernaker, guitarist Jason Chasko, bassist Kevin Roberts, and drummer Danny Severson. Suffrajett has toured with Local H, The Last Vegas, and Bob Schneider, and have opened for the reunited MC5. Suffrajett released their self-titled debut album on February 2, 2003, and their latest album \"Black Glitter\" was released on January 1, 2007. They recently toured with Juliette and the Licks and Scissors for Lefty. 5a8db19d5542994ba4e3dd00\n",
      "Hallelujah! I'm A Bum is the seventh studio album by Chicago-based rock band Local H. Interviews with the band have revealed that it is a concept album based on politics in the United States. Although the album was completed in spring of 2012, the band chose to release it in September as to be closer to the 2012 presidential election. The album makes frequent use of the sounds of the El Train in Chicago to transition songs. 5a8db19d5542994ba4e3dd00\n"
     ]
    }
   ],
   "source": [
    "for a in all_chunks:\n",
    "    print(a.page_content, a.metadata['hotpotqa_id'])"
   ]
  },
  {
   "cell_type": "code",
   "execution_count": 16,
   "id": "65774f6b",
   "metadata": {},
   "outputs": [
    {
     "data": {
      "text/plain": [
       "list"
      ]
     },
     "execution_count": 16,
     "metadata": {},
     "output_type": "execute_result"
    }
   ],
   "source": [
    "type(all_chunks[-1])"
   ]
  },
  {
   "cell_type": "code",
   "execution_count": 33,
   "id": "264a2657",
   "metadata": {},
   "outputs": [],
   "source": [
    "from uuid import uuid4\n",
    "\n",
    "# 向数据库中添加数据\n",
    "for i in range(0, len(all_chunks), 10):\n",
    "    cur_chunks = all_chunks[i : i+10]\n",
    "    vector_store.add_documents(\n",
    "        documents=cur_chunks,\n",
    "        ids=[str(uuid4()) for _ in range(len(cur_chunks))]\n",
    "    )"
   ]
  },
  {
   "cell_type": "code",
   "execution_count": 37,
   "id": "20cc0431",
   "metadata": {},
   "outputs": [
    {
     "data": {
      "text/plain": [
       "[Document(metadata={'text': \"Ed Wood is a 1994 American biographical period comedy-drama film directed and produced by Tim Burton, and starring Johnny Depp as cult filmmaker Ed Wood. The film concerns the period in Wood's life when he made his best-known films as well as his relationship with actor Bela Lugosi, played by Martin Landau. Sarah Jessica Parker, Patricia Arquette, Jeffrey Jones, Lisa Marie, and Bill Murray are among the supporting cast.\", 'hotpotqa_id': '5a8b57f25542995d1e6f1371', 'pk': '48f6f786-bcea-4062-abdb-9c96549e0065'}, page_content=\"Ed Wood is a 1994 American biographical period comedy-drama film directed and produced by Tim Burton, and starring Johnny Depp as cult filmmaker Ed Wood. The film concerns the period in Wood's life when he made his best-known films as well as his relationship with actor Bela Lugosi, played by Martin Landau. Sarah Jessica Parker, Patricia Arquette, Jeffrey Jones, Lisa Marie, and Bill Murray are among the supporting cast.\")]"
      ]
     },
     "execution_count": 37,
     "metadata": {},
     "output_type": "execute_result"
    }
   ],
   "source": [
    "vector_store.search_by_metadata(\n",
    "    expr=\"title == 'Ed Wood (film)'\",\n",
    "    fields=[\"text\", \"hotpotqa_id\"],\n",
    ")"
   ]
  },
  {
   "cell_type": "code",
   "execution_count": null,
   "id": "5466f5f8",
   "metadata": {},
   "outputs": [],
   "source": []
  },
  {
   "cell_type": "markdown",
   "id": "1feded47",
   "metadata": {},
   "source": [
    "*2025.06.03*\n",
    "\n",
    "测试带有 LLM as a Judge 模块的 RAG\n",
    "\n",
    "回答什么的是没有问题的，但是可视化是有问题的。根本没办法通过传入不同的 thread_id 来获得不同的 RAG 调用"
   ]
  },
  {
   "cell_type": "code",
   "execution_count": 4,
   "id": "3da4361d",
   "metadata": {},
   "outputs": [],
   "source": [
    "import sys\n",
    "\n",
    "# 需要把当前项目的根目录加到 sys.path 中，才能找到 modules 下的 Index 模块\n",
    "sys.path.append(r'C:\\Users\\Lenovo\\Desktop\\RAG rebuild v2')"
   ]
  },
  {
   "cell_type": "code",
   "execution_count": 5,
   "id": "b6dd6cfc",
   "metadata": {},
   "outputs": [],
   "source": [
    "import os\n",
    "from dotenv import load_dotenv\n",
    "from loguru import logger as log\n",
    "\n",
    "from langchain_openai import ChatOpenAI, OpenAIEmbeddings\n",
    "from langgraph.checkpoint.memory import MemorySaver\n",
    "\n",
    "from modules.Index import Index\n",
    "from RAGwithJudge.workflow import get_rag_with_judge_workflow"
   ]
  },
  {
   "cell_type": "code",
   "execution_count": 7,
   "id": "b5274871",
   "metadata": {},
   "outputs": [
    {
     "name": "stderr",
     "output_type": "stream",
     "text": [
      "\u001b[32m2025-06-26 18:10:22.945\u001b[0m | \u001b[1mINFO    \u001b[0m | \u001b[36mmodules.Index\u001b[0m:\u001b[36mget_index_done\u001b[0m:\u001b[36m160\u001b[0m - \u001b[1mvs_test1 向量数据库已存在，成功加载到内存中\u001b[0m\n"
     ]
    }
   ],
   "source": [
    "load_dotenv()\n",
    "\n",
    "# 1. 定义嵌入模型、聊天模型、向量数据库\n",
    "embed_model = OpenAIEmbeddings(\n",
    "    api_key=os.getenv(\"BL_API_KEY\"),\n",
    "    base_url=os.getenv(\"BL_BASE_URL\"),\n",
    "    model=\"text-embedding-v3\",\n",
    "    dimensions=1024,\n",
    "    check_embedding_ctx_length=False\n",
    ")\n",
    "\n",
    "llm = ChatOpenAI(\n",
    "    api_key=os.getenv(\"BL_API_KEY\"),\n",
    "    base_url=os.getenv(\"BL_BASE_URL\"),\n",
    "    model='qwen-max-latest',\n",
    "    temperature=0.0\n",
    ")\n",
    "\n",
    "vs_test1 = Index(\n",
    "    embed_model=embed_model,\n",
    "    data_path='../data',\n",
    "    file_type_wanted={'.pdf'},\n",
    "    vector_store_name='vs_test1'\n",
    ")\n",
    "vs_test1.get_index_done()\n",
    "vector_store = vs_test1.vector_store"
   ]
  },
  {
   "cell_type": "code",
   "execution_count": 8,
   "id": "f9ef20bd",
   "metadata": {},
   "outputs": [],
   "source": [
    "# 2. 定义图相关的配置，包括 为图配置记忆、编译后的图、图的运行时配置\n",
    "# 为图添加线程级持久化\n",
    "memory = MemorySaver()\n",
    "rag_with_judge_wf = get_rag_with_judge_workflow()\n",
    "rag_with_judge = rag_with_judge_wf.compile(checkpointer=memory)  # 编译图\n",
    "\n",
    "# 定义运行时配置\n",
    "run_config = {\n",
    "    'configurable': {\n",
    "        'thread_id': '1',  # 持久化图的记忆所需\n",
    "        'vector_store': vector_store,  # 向量数据库\n",
    "        'top_k': 3,  # 检索最多返回的文档数\n",
    "        'llm': llm,  # 使用的 LLM\n",
    "        'graph': rag_with_judge,  # 递归调用新 RAG 时所需\n",
    "        # 'workflow': rag_with_judge_wf,\n",
    "        'recursion_depth': 0,  # 当前递归深度\n",
    "        'max_rec_depth': 5  # 最大递归深度\n",
    "    }\n",
    "}"
   ]
  },
  {
   "cell_type": "code",
   "execution_count": 9,
   "id": "1817a654",
   "metadata": {},
   "outputs": [
    {
     "data": {
      "image/png": "[encoded data removed]",
      "text/plain": [
       "<IPython.core.display.Image object>"
      ]
     },
     "metadata": {},
     "output_type": "display_data"
    }
   ],
   "source": [
    "from IPython.display import Image, display\n",
    "\n",
    "display(Image(rag_with_judge.get_graph(xray=1).draw_mermaid_png()))"
   ]
  },
  {
   "cell_type": "code",
   "execution_count": 10,
   "id": "0df70baa",
   "metadata": {},
   "outputs": [
    {
     "name": "stderr",
     "output_type": "stream",
     "text": [
      "\u001b[32m2025-06-26 18:11:48.930\u001b[0m | \u001b[1mINFO    \u001b[0m | \u001b[36m__main__\u001b[0m:\u001b[36m<module>\u001b[0m:\u001b[36m3\u001b[0m - \u001b[1m用户输入问题：什么是 tool calling\u001b[0m\n",
      "\u001b[32m2025-06-26 18:11:48.937\u001b[0m | \u001b[1mINFO    \u001b[0m | \u001b[36mNaiveRAG.nodes\u001b[0m:\u001b[36mretriever_node\u001b[0m:\u001b[36m29\u001b[0m - \u001b[1m---------- 进入检索模块 ----------\u001b[0m\n",
      "\u001b[32m2025-06-26 18:11:49.276\u001b[0m | \u001b[1mINFO    \u001b[0m | \u001b[36mRAGwithJudge.llm_as_a_judge_node\u001b[0m:\u001b[36mjudge_node\u001b[0m:\u001b[36m32\u001b[0m - \u001b[1m---------- 进入 Judge 模块 ----------\u001b[0m\n",
      "\u001b[32m2025-06-26 18:11:49.286\u001b[0m | \u001b[1mINFO    \u001b[0m | \u001b[36mRAGwithJudge.llm_as_a_judge_node\u001b[0m:\u001b[36mjudge_node\u001b[0m:\u001b[36m32\u001b[0m - \u001b[1m---------- 进入 Judge 模块 ----------\u001b[0m\n",
      "\u001b[32m2025-06-26 18:11:49.287\u001b[0m | \u001b[1mINFO    \u001b[0m | \u001b[36mRAGwithJudge.llm_as_a_judge_node\u001b[0m:\u001b[36mjudge_node\u001b[0m:\u001b[36m32\u001b[0m - \u001b[1m---------- 进入 Judge 模块 ----------\u001b[0m\n",
      "\u001b[32m2025-06-26 18:11:53.050\u001b[0m | \u001b[1mINFO    \u001b[0m | \u001b[36mRAGwithJudge.llm_as_a_judge_node\u001b[0m:\u001b[36mjudge_node\u001b[0m:\u001b[36m54\u001b[0m - \u001b[1m将 什么是 tool calling 和 Tool calling  \n",
      "A type of chat model API that accepts tool schemas, along with messages, as \n",
      "input and returns invocations of those tools as part of the output message.\n",
      "❗  PREREQUISITES\n",
      "Tools\n",
      "Chat Models\n",
      "Overview  \n",
      "许多人工智能应用直接与人类互动。在这些情况下，模型以自然语言做出回应 \n",
      "是合适的。 \n",
      "但是如果我们希望模型能够  直接  与系统（例如数据库或  API ）交互，该怎么办 \n",
      "呢？这些系统通常具有特定的输入模式；例如， APIs frequently have a \n",
      "required payload structure。 \n",
      "这种需求催生了  tool calling 的概念。您可以使用  tool calling 来请求与特定模式 \n",
      "匹配的模型响应（ You can use tool calling to request model responses that \n",
      "match a particular schema ）。 \n",
      "❗  INFO\n",
      "function calling 在  LangChian 中等价于  tool calling\n",
      " \n",
      "💡 交给 judge 判断，结果为 score=2 reason='知识完整解释了tool calling的概念、用途和相关背景信息，完全回答了问题的所有部分' remaining_query=''\u001b[0m\n",
      "\u001b[32m2025-06-26 18:11:53.053\u001b[0m | \u001b[1mINFO    \u001b[0m | \u001b[36mRAGwithJudge.llm_as_a_judge_node\u001b[0m:\u001b[36mmodify_chunk_metadata\u001b[0m:\u001b[36m78\u001b[0m - \u001b[1m---------- 进入 modify_chunk_metadata 节点 ----------\u001b[0m\n",
      "\u001b[32m2025-06-26 18:11:54.762\u001b[0m | \u001b[1mINFO    \u001b[0m | \u001b[36mRAGwithJudge.llm_as_a_judge_node\u001b[0m:\u001b[36mjudge_node\u001b[0m:\u001b[36m54\u001b[0m - \u001b[1m将 什么是 tool calling 和 Tool calling  \n",
      "工具调用的一个关键原则是，模型根据输入的相关性决定何时使用工具。模型 \n",
      "并不总是需要调用工具。例如，给定一个不相关的输入，模型不会调用该工 \n",
      "具： \n",
      "结果将会是一个  AIMessage，其中包含模型以自然语言做出的响应（例如 “ 你 \n",
      "好！ ” ）。但是，如果我们传递与工具相关的输入，模型应该选择调用它： \n",
      "与之前一样，输出  result 将是  AIMessage。但是，如果调用了该工具， \n",
      "result 将具有  tool_calls 属性。此属性包含执行该工具所需的所有内容，包 \n",
      "括工具名称和输入参数： \n",
      "For more details on usage, see our how-to guides （这是有关  tool 的  how to \n",
      "guides ） !\n",
      "Tool execution  \n",
      "tool 包含了  Runnable 接口，这意味着它们可以被直接调用（例如， \n",
      "tool.invoke(args) ，这点在  tools 的本地翻译  中也提到）。 \n",
      "LangGraph 提供了预构建的组件（例如， ToolNode），这些组件通常会代表用 \n",
      "户调用工具（就不用  user 自己调了）。 \n",
      "❗  Further reading\n",
      "See our How to use chat models to call tools on tool calling.\n",
      "See the LangGraph documentation on using ToolNode. 交给 judge 判断，结果为 score=2 reason='知识完整解释了tool calling的概念，包括其工作原理、使用场景以及相关组件的信息。它描述了模型如何根据输入的相关性决定是否调用工具，并且详细说明了调用过程中的关键元素（如tool_calls属性）。此外，还提供了进一步阅读的资源链接。' remaining_query=''\u001b[0m\n",
      "\u001b[32m2025-06-26 18:11:54.765\u001b[0m | \u001b[1mINFO    \u001b[0m | \u001b[36mRAGwithJudge.llm_as_a_judge_node\u001b[0m:\u001b[36mmodify_chunk_metadata\u001b[0m:\u001b[36m78\u001b[0m - \u001b[1m---------- 进入 modify_chunk_metadata 节点 ----------\u001b[0m\n",
      "\u001b[32m2025-06-26 18:11:56.776\u001b[0m | \u001b[1mINFO    \u001b[0m | \u001b[36mRAGwithJudge.llm_as_a_judge_node\u001b[0m:\u001b[36mjudge_node\u001b[0m:\u001b[36m54\u001b[0m - \u001b[1m将 什么是 tool calling 和 API Reference: tool\n",
      "❗  Further reading\n",
      "See our conceptual guide on tools， tools 的本地翻译 ， how to \n",
      "create tools 本地翻译  for more details.\n",
      "See our model integrations that support tool calling.\n",
      "See our how-to guide on tool calling.\n",
      "Tool binding  \n",
      "Many model providers support tool calling.\n",
      "❗  TIP\n",
      "See our model integration page for a list of providers that support tool \n",
      "calling.\n",
      "要理解的核心概念是  LangChain 提供了一个标准化接口，用于将工具连接到模 \n",
      "型。可以使用  .bind_tools() 方法指定模型可以调用哪些工具。 \n",
      "作为一个具体的例子，我们以函数  multiply 为例，并将其作为工具绑定到支持 \n",
      "工具调用的模型中。 \n",
      "from langchain_core.tools import tool\n",
      "@tool\n",
      "def multiply(a: int, b: int) -> int:\n",
      "    \"\"\"Multiply a and b.\"\"\"\n",
      "    return a * b\n",
      "1\n",
      "2\n",
      "3\n",
      "4\n",
      "5\n",
      "6\n",
      "model_with_tools = model.bind_tools(tools_list)1 交给 judge 判断，结果为 score=1 reason='知识提供了关于tool calling的相关概念和使用方法，但并未直接定义什么是tool calling。它展示了如何绑定工具、提及支持tool calling的模型供应商，并提供了扩展阅读的指引，但没有给出明确的定义。' remaining_query='What is the definition of tool calling?'\u001b[0m\n",
      "\u001b[32m2025-06-26 18:11:56.778\u001b[0m | \u001b[1mINFO    \u001b[0m | \u001b[36mRAGwithJudge.llm_as_a_judge_node\u001b[0m:\u001b[36mmodify_chunk_metadata\u001b[0m:\u001b[36m78\u001b[0m - \u001b[1m---------- 进入 modify_chunk_metadata 节点 ----------\u001b[0m\n",
      "\u001b[32m2025-06-26 18:11:56.781\u001b[0m | \u001b[1mINFO    \u001b[0m | \u001b[36mRAGwithJudge.llm_as_a_judge_node\u001b[0m:\u001b[36mcall_new_rag_node\u001b[0m:\u001b[36m148\u001b[0m - \u001b[1m---------- 进入 call_new_rag 节点 ----------\u001b[0m\n",
      "\u001b[32m2025-06-26 18:11:56.782\u001b[0m | \u001b[1mINFO    \u001b[0m | \u001b[36mRAGwithJudge.llm_as_a_judge_node\u001b[0m:\u001b[36mcall_new_rag_node\u001b[0m:\u001b[36m182\u001b[0m - \u001b[1m使用 00fa79f1-8748-4dc6-a1a5-4fc7a4abaf02 调用 RAG，问题为 What is the definition of tool calling?，当前递归深度为 1\u001b[0m\n",
      "\u001b[32m2025-06-26 18:11:56.786\u001b[0m | \u001b[1mINFO    \u001b[0m | \u001b[36mNaiveRAG.nodes\u001b[0m:\u001b[36mretriever_node\u001b[0m:\u001b[36m29\u001b[0m - \u001b[1m---------- 进入检索模块 ----------\u001b[0m\n",
      "\u001b[32m2025-06-26 18:11:57.025\u001b[0m | \u001b[1mINFO    \u001b[0m | \u001b[36mRAGwithJudge.llm_as_a_judge_node\u001b[0m:\u001b[36mjudge_node\u001b[0m:\u001b[36m32\u001b[0m - \u001b[1m---------- 进入 Judge 模块 ----------\u001b[0m\n",
      "\u001b[32m2025-06-26 18:11:57.027\u001b[0m | \u001b[1mINFO    \u001b[0m | \u001b[36mRAGwithJudge.llm_as_a_judge_node\u001b[0m:\u001b[36mjudge_node\u001b[0m:\u001b[36m32\u001b[0m - \u001b[1m---------- 进入 Judge 模块 ----------\u001b[0m\n",
      "\u001b[32m2025-06-26 18:11:57.028\u001b[0m | \u001b[1mINFO    \u001b[0m | \u001b[36mRAGwithJudge.llm_as_a_judge_node\u001b[0m:\u001b[36mjudge_node\u001b[0m:\u001b[36m32\u001b[0m - \u001b[1m---------- 进入 Judge 模块 ----------\u001b[0m\n",
      "\u001b[32m2025-06-26 18:12:03.173\u001b[0m | \u001b[1mINFO    \u001b[0m | \u001b[36mRAGwithJudge.llm_as_a_judge_node\u001b[0m:\u001b[36mjudge_node\u001b[0m:\u001b[36m54\u001b[0m - \u001b[1m将 What is the definition of tool calling? 和 API Reference: tool\n",
      "❗  Further reading\n",
      "See our conceptual guide on tools， tools 的本地翻译 ， how to \n",
      "create tools 本地翻译  for more details.\n",
      "See our model integrations that support tool calling.\n",
      "See our how-to guide on tool calling.\n",
      "Tool binding  \n",
      "Many model providers support tool calling.\n",
      "❗  TIP\n",
      "See our model integration page for a list of providers that support tool \n",
      "calling.\n",
      "要理解的核心概念是  LangChain 提供了一个标准化接口，用于将工具连接到模 \n",
      "型。可以使用  .bind_tools() 方法指定模型可以调用哪些工具。 \n",
      "作为一个具体的例子，我们以函数  multiply 为例，并将其作为工具绑定到支持 \n",
      "工具调用的模型中。 \n",
      "from langchain_core.tools import tool\n",
      "@tool\n",
      "def multiply(a: int, b: int) -> int:\n",
      "    \"\"\"Multiply a and b.\"\"\"\n",
      "    return a * b\n",
      "1\n",
      "2\n",
      "3\n",
      "4\n",
      "5\n",
      "6\n",
      "model_with_tools = model.bind_tools(tools_list)1 交给 judge 判断，结果为 score=1 reason=\"The provided knowledge gives some context about tool calling, specifically mentioning the .bind_tools() method and an example of binding a 'multiply' function as a tool. However, it does not provide a clear definition of what tool calling is.\" remaining_query='What is the definition of tool calling?'\u001b[0m\n",
      "\u001b[32m2025-06-26 18:12:03.177\u001b[0m | \u001b[1mINFO    \u001b[0m | \u001b[36mRAGwithJudge.llm_as_a_judge_node\u001b[0m:\u001b[36mmodify_chunk_metadata\u001b[0m:\u001b[36m78\u001b[0m - \u001b[1m---------- 进入 modify_chunk_metadata 节点 ----------\u001b[0m\n",
      "\u001b[32m2025-06-26 18:12:03.181\u001b[0m | \u001b[1mINFO    \u001b[0m | \u001b[36mRAGwithJudge.llm_as_a_judge_node\u001b[0m:\u001b[36mcall_new_rag_node\u001b[0m:\u001b[36m148\u001b[0m - \u001b[1m---------- 进入 call_new_rag 节点 ----------\u001b[0m\n",
      "\u001b[32m2025-06-26 18:12:03.182\u001b[0m | \u001b[1mINFO    \u001b[0m | \u001b[36mRAGwithJudge.llm_as_a_judge_node\u001b[0m:\u001b[36mcall_new_rag_node\u001b[0m:\u001b[36m182\u001b[0m - \u001b[1m使用 9d8b53aa-f77c-47ce-b709-8f42ba8cc673 调用 RAG，问题为 What is the definition of tool calling?，当前递归深度为 2\u001b[0m\n",
      "\u001b[32m2025-06-26 18:12:03.186\u001b[0m | \u001b[1mINFO    \u001b[0m | \u001b[36mNaiveRAG.nodes\u001b[0m:\u001b[36mretriever_node\u001b[0m:\u001b[36m29\u001b[0m - \u001b[1m---------- 进入检索模块 ----------\u001b[0m\n",
      "\u001b[32m2025-06-26 18:12:03.284\u001b[0m | \u001b[1mINFO    \u001b[0m | \u001b[36mRAGwithJudge.llm_as_a_judge_node\u001b[0m:\u001b[36mjudge_node\u001b[0m:\u001b[36m54\u001b[0m - \u001b[1m将 What is the definition of tool calling? 和 Tool calling  \n",
      "工具调用的一个关键原则是，模型根据输入的相关性决定何时使用工具。模型 \n",
      "并不总是需要调用工具。例如，给定一个不相关的输入，模型不会调用该工 \n",
      "具： \n",
      "结果将会是一个  AIMessage，其中包含模型以自然语言做出的响应（例如 “ 你 \n",
      "好！ ” ）。但是，如果我们传递与工具相关的输入，模型应该选择调用它： \n",
      "与之前一样，输出  result 将是  AIMessage。但是，如果调用了该工具， \n",
      "result 将具有  tool_calls 属性。此属性包含执行该工具所需的所有内容，包 \n",
      "括工具名称和输入参数： \n",
      "For more details on usage, see our how-to guides （这是有关  tool 的  how to \n",
      "guides ） !\n",
      "Tool execution  \n",
      "tool 包含了  Runnable 接口，这意味着它们可以被直接调用（例如， \n",
      "tool.invoke(args) ，这点在  tools 的本地翻译  中也提到）。 \n",
      "LangGraph 提供了预构建的组件（例如， ToolNode），这些组件通常会代表用 \n",
      "户调用工具（就不用  user 自己调了）。 \n",
      "❗  Further reading\n",
      "See our How to use chat models to call tools on tool calling.\n",
      "See the LangGraph documentation on using ToolNode. 交给 judge 判断，结果为 score=2 reason=\"步骤1：问题核心需求是'tool calling'的定义\\n步骤2：知识详细解释了工具调用的概念，包括何时使用工具、如何判断相关性、以及具体执行方式\\n步骤3：知识完全覆盖了问题的所有要素，提供了完整的定义和使用场景说明\\n步骤4：符合完全有用标准(2分)\" remaining_query=''\u001b[0m\n",
      "\u001b[32m2025-06-26 18:12:03.287\u001b[0m | \u001b[1mINFO    \u001b[0m | \u001b[36mRAGwithJudge.llm_as_a_judge_node\u001b[0m:\u001b[36mmodify_chunk_metadata\u001b[0m:\u001b[36m78\u001b[0m - \u001b[1m---------- 进入 modify_chunk_metadata 节点 ----------\u001b[0m\n",
      "\u001b[32m2025-06-26 18:12:03.410\u001b[0m | \u001b[1mINFO    \u001b[0m | \u001b[36mRAGwithJudge.llm_as_a_judge_node\u001b[0m:\u001b[36mjudge_node\u001b[0m:\u001b[36m32\u001b[0m - \u001b[1m---------- 进入 Judge 模块 ----------\u001b[0m\n",
      "\u001b[32m2025-06-26 18:12:03.414\u001b[0m | \u001b[1mINFO    \u001b[0m | \u001b[36mRAGwithJudge.llm_as_a_judge_node\u001b[0m:\u001b[36mjudge_node\u001b[0m:\u001b[36m32\u001b[0m - \u001b[1m---------- 进入 Judge 模块 ----------\u001b[0m\n",
      "\u001b[32m2025-06-26 18:12:03.415\u001b[0m | \u001b[1mINFO    \u001b[0m | \u001b[36mRAGwithJudge.llm_as_a_judge_node\u001b[0m:\u001b[36mjudge_node\u001b[0m:\u001b[36m32\u001b[0m - \u001b[1m---------- 进入 Judge 模块 ----------\u001b[0m\n",
      "\u001b[32m2025-06-26 18:12:03.745\u001b[0m | \u001b[1mINFO    \u001b[0m | \u001b[36mRAGwithJudge.llm_as_a_judge_node\u001b[0m:\u001b[36mjudge_node\u001b[0m:\u001b[36m54\u001b[0m - \u001b[1m将 What is the definition of tool calling? 和 Tool calling  \n",
      "A type of chat model API that accepts tool schemas, along with messages, as \n",
      "input and returns invocations of those tools as part of the output message.\n",
      "❗  PREREQUISITES\n",
      "Tools\n",
      "Chat Models\n",
      "Overview  \n",
      "许多人工智能应用直接与人类互动。在这些情况下，模型以自然语言做出回应 \n",
      "是合适的。 \n",
      "但是如果我们希望模型能够  直接  与系统（例如数据库或  API ）交互，该怎么办 \n",
      "呢？这些系统通常具有特定的输入模式；例如， APIs frequently have a \n",
      "required payload structure。 \n",
      "这种需求催生了  tool calling 的概念。您可以使用  tool calling 来请求与特定模式 \n",
      "匹配的模型响应（ You can use tool calling to request model responses that \n",
      "match a particular schema ）。 \n",
      "❗  INFO\n",
      "function calling 在  LangChian 中等价于  tool calling\n",
      " \n",
      "💡 交给 judge 判断，结果为 score=2 reason='The knowledge provides a complete definition of tool calling, including its purpose, functionality, and even an equivalence note with function calling in LangChain. This fully answers the question.' remaining_query=''\u001b[0m\n",
      "\u001b[32m2025-06-26 18:12:03.748\u001b[0m | \u001b[1mINFO    \u001b[0m | \u001b[36mRAGwithJudge.llm_as_a_judge_node\u001b[0m:\u001b[36mmodify_chunk_metadata\u001b[0m:\u001b[36m78\u001b[0m - \u001b[1m---------- 进入 modify_chunk_metadata 节点 ----------\u001b[0m\n",
      "\u001b[32m2025-06-26 18:12:08.389\u001b[0m | \u001b[1mINFO    \u001b[0m | \u001b[36mRAGwithJudge.llm_as_a_judge_node\u001b[0m:\u001b[36mjudge_node\u001b[0m:\u001b[36m54\u001b[0m - \u001b[1m将 What is the definition of tool calling? 和 Tool calling  \n",
      "A type of chat model API that accepts tool schemas, along with messages, as \n",
      "input and returns invocations of those tools as part of the output message.\n",
      "❗  PREREQUISITES\n",
      "Tools\n",
      "Chat Models\n",
      "Overview  \n",
      "许多人工智能应用直接与人类互动。在这些情况下，模型以自然语言做出回应 \n",
      "是合适的。 \n",
      "但是如果我们希望模型能够  直接  与系统（例如数据库或  API ）交互，该怎么办 \n",
      "呢？这些系统通常具有特定的输入模式；例如， APIs frequently have a \n",
      "required payload structure。 \n",
      "这种需求催生了  tool calling 的概念。您可以使用  tool calling 来请求与特定模式 \n",
      "匹配的模型响应（ You can use tool calling to request model responses that \n",
      "match a particular schema ）。 \n",
      "❗  INFO\n",
      "function calling 在  LangChian 中等价于  tool calling\n",
      " \n",
      "💡 交给 judge 判断，结果为 score=2 reason=\"步骤1：问题核心是'tool calling'的定义\\n步骤2：知识详细解释了tool calling的概念，包括其工作原理和使用场景\\n步骤3：知识完整覆盖了问题的所有要素，提供了准确且完整的定义\\n步骤4：符合完全有用标准(2分)\" remaining_query=''\u001b[0m\n",
      "\u001b[32m2025-06-26 18:12:08.393\u001b[0m | \u001b[1mINFO    \u001b[0m | \u001b[36mRAGwithJudge.llm_as_a_judge_node\u001b[0m:\u001b[36mmodify_chunk_metadata\u001b[0m:\u001b[36m78\u001b[0m - \u001b[1m---------- 进入 modify_chunk_metadata 节点 ----------\u001b[0m\n",
      "\u001b[32m2025-06-26 18:12:10.486\u001b[0m | \u001b[1mINFO    \u001b[0m | \u001b[36mRAGwithJudge.llm_as_a_judge_node\u001b[0m:\u001b[36mjudge_node\u001b[0m:\u001b[36m54\u001b[0m - \u001b[1m将 What is the definition of tool calling? 和 API Reference: tool\n",
      "❗  Further reading\n",
      "See our conceptual guide on tools， tools 的本地翻译 ， how to \n",
      "create tools 本地翻译  for more details.\n",
      "See our model integrations that support tool calling.\n",
      "See our how-to guide on tool calling.\n",
      "Tool binding  \n",
      "Many model providers support tool calling.\n",
      "❗  TIP\n",
      "See our model integration page for a list of providers that support tool \n",
      "calling.\n",
      "要理解的核心概念是  LangChain 提供了一个标准化接口，用于将工具连接到模 \n",
      "型。可以使用  .bind_tools() 方法指定模型可以调用哪些工具。 \n",
      "作为一个具体的例子，我们以函数  multiply 为例，并将其作为工具绑定到支持 \n",
      "工具调用的模型中。 \n",
      "from langchain_core.tools import tool\n",
      "@tool\n",
      "def multiply(a: int, b: int) -> int:\n",
      "    \"\"\"Multiply a and b.\"\"\"\n",
      "    return a * b\n",
      "1\n",
      "2\n",
      "3\n",
      "4\n",
      "5\n",
      "6\n",
      "model_with_tools = model.bind_tools(tools_list)1 交给 judge 判断，结果为 score=1 reason=\"The provided knowledge gives examples of tool calling and mentions the existence of a standardized interface for connecting tools to models, but it does not provide a clear definition of 'tool calling'. The conceptual guide on tools is referenced but not directly quoted.\" remaining_query='What is the exact definition of tool calling mentioned in the conceptual guide on tools?'\u001b[0m\n",
      "\u001b[32m2025-06-26 18:12:10.489\u001b[0m | \u001b[1mINFO    \u001b[0m | \u001b[36mRAGwithJudge.llm_as_a_judge_node\u001b[0m:\u001b[36mmodify_chunk_metadata\u001b[0m:\u001b[36m78\u001b[0m - \u001b[1m---------- 进入 modify_chunk_metadata 节点 ----------\u001b[0m\n",
      "\u001b[32m2025-06-26 18:12:10.492\u001b[0m | \u001b[1mINFO    \u001b[0m | \u001b[36mRAGwithJudge.llm_as_a_judge_node\u001b[0m:\u001b[36mcall_new_rag_node\u001b[0m:\u001b[36m148\u001b[0m - \u001b[1m---------- 进入 call_new_rag 节点 ----------\u001b[0m\n",
      "\u001b[32m2025-06-26 18:12:10.493\u001b[0m | \u001b[1mINFO    \u001b[0m | \u001b[36mRAGwithJudge.llm_as_a_judge_node\u001b[0m:\u001b[36mcall_new_rag_node\u001b[0m:\u001b[36m182\u001b[0m - \u001b[1m使用 67984ae9-d994-4fc8-b401-ffee4311927a 调用 RAG，问题为 What is the exact definition of tool calling mentioned in the conceptual guide on tools?，当前递归深度为 3\u001b[0m\n",
      "\u001b[32m2025-06-26 18:12:10.497\u001b[0m | \u001b[1mINFO    \u001b[0m | \u001b[36mNaiveRAG.nodes\u001b[0m:\u001b[36mretriever_node\u001b[0m:\u001b[36m29\u001b[0m - \u001b[1m---------- 进入检索模块 ----------\u001b[0m\n",
      "\u001b[32m2025-06-26 18:12:10.715\u001b[0m | \u001b[1mINFO    \u001b[0m | \u001b[36mRAGwithJudge.llm_as_a_judge_node\u001b[0m:\u001b[36mjudge_node\u001b[0m:\u001b[36m32\u001b[0m - \u001b[1m---------- 进入 Judge 模块 ----------\u001b[0m\n",
      "\u001b[32m2025-06-26 18:12:10.727\u001b[0m | \u001b[1mINFO    \u001b[0m | \u001b[36mRAGwithJudge.llm_as_a_judge_node\u001b[0m:\u001b[36mjudge_node\u001b[0m:\u001b[36m32\u001b[0m - \u001b[1m---------- 进入 Judge 模块 ----------\u001b[0m\n",
      "\u001b[32m2025-06-26 18:12:10.731\u001b[0m | \u001b[1mINFO    \u001b[0m | \u001b[36mRAGwithJudge.llm_as_a_judge_node\u001b[0m:\u001b[36mjudge_node\u001b[0m:\u001b[36m32\u001b[0m - \u001b[1m---------- 进入 Judge 模块 ----------\u001b[0m\n",
      "\u001b[32m2025-06-26 18:12:11.354\u001b[0m | \u001b[1mINFO    \u001b[0m | \u001b[36mRAGwithJudge.llm_as_a_judge_node\u001b[0m:\u001b[36mjudge_node\u001b[0m:\u001b[36m54\u001b[0m - \u001b[1m将 What is the definition of tool calling? 和 Tool calling  \n",
      "工具调用的一个关键原则是，模型根据输入的相关性决定何时使用工具。模型 \n",
      "并不总是需要调用工具。例如，给定一个不相关的输入，模型不会调用该工 \n",
      "具： \n",
      "结果将会是一个  AIMessage，其中包含模型以自然语言做出的响应（例如 “ 你 \n",
      "好！ ” ）。但是，如果我们传递与工具相关的输入，模型应该选择调用它： \n",
      "与之前一样，输出  result 将是  AIMessage。但是，如果调用了该工具， \n",
      "result 将具有  tool_calls 属性。此属性包含执行该工具所需的所有内容，包 \n",
      "括工具名称和输入参数： \n",
      "For more details on usage, see our how-to guides （这是有关  tool 的  how to \n",
      "guides ） !\n",
      "Tool execution  \n",
      "tool 包含了  Runnable 接口，这意味着它们可以被直接调用（例如， \n",
      "tool.invoke(args) ，这点在  tools 的本地翻译  中也提到）。 \n",
      "LangGraph 提供了预构建的组件（例如， ToolNode），这些组件通常会代表用 \n",
      "户调用工具（就不用  user 自己调了）。 \n",
      "❗  Further reading\n",
      "See our How to use chat models to call tools on tool calling.\n",
      "See the LangGraph documentation on using ToolNode. 交给 judge 判断，结果为 score=2 reason=\"步骤1：问题核心需求是'tool calling'的定义\\n步骤2：知识详细解释了工具调用的概念，包括模型如何根据输入决定是否调用工具、调用时的输出结构（tool_calls属性）、以及相关的执行方式。\\n步骤3：知识完整覆盖了工具调用的定义及其关键特性\\n步骤4：符合完全有用标准(2分)\" remaining_query=''\u001b[0m\n",
      "\u001b[32m2025-06-26 18:12:11.357\u001b[0m | \u001b[1mINFO    \u001b[0m | \u001b[36mRAGwithJudge.llm_as_a_judge_node\u001b[0m:\u001b[36mmodify_chunk_metadata\u001b[0m:\u001b[36m78\u001b[0m - \u001b[1m---------- 进入 modify_chunk_metadata 节点 ----------\u001b[0m\n",
      "\u001b[32m2025-06-26 18:12:17.548\u001b[0m | \u001b[1mINFO    \u001b[0m | \u001b[36mRAGwithJudge.llm_as_a_judge_node\u001b[0m:\u001b[36mjudge_node\u001b[0m:\u001b[36m54\u001b[0m - \u001b[1m将 What is the exact definition of tool calling mentioned in the conceptual guide on tools? 和 Tool calling  \n",
      "A type of chat model API that accepts tool schemas, along with messages, as \n",
      "input and returns invocations of those tools as part of the output message.\n",
      "❗  PREREQUISITES\n",
      "Tools\n",
      "Chat Models\n",
      "Overview  \n",
      "许多人工智能应用直接与人类互动。在这些情况下，模型以自然语言做出回应 \n",
      "是合适的。 \n",
      "但是如果我们希望模型能够  直接  与系统（例如数据库或  API ）交互，该怎么办 \n",
      "呢？这些系统通常具有特定的输入模式；例如， APIs frequently have a \n",
      "required payload structure。 \n",
      "这种需求催生了  tool calling 的概念。您可以使用  tool calling 来请求与特定模式 \n",
      "匹配的模型响应（ You can use tool calling to request model responses that \n",
      "match a particular schema ）。 \n",
      "❗  INFO\n",
      "function calling 在  LangChian 中等价于  tool calling\n",
      " \n",
      "💡 交给 judge 判断，结果为 score=2 reason=\"步骤1：问题核心是'tool calling'的精确定义\\n步骤2：知识详细解释了tool calling的概念，包括其工作原理、适用场景和具体特征\\n步骤3：知识完整覆盖了问题的所有要素，提供了tool calling的准确定义\\n步骤4：符合完全有用标准(2分)\" remaining_query=''\u001b[0m\n",
      "\u001b[32m2025-06-26 18:12:17.549\u001b[0m | \u001b[1mINFO    \u001b[0m | \u001b[36mRAGwithJudge.llm_as_a_judge_node\u001b[0m:\u001b[36mmodify_chunk_metadata\u001b[0m:\u001b[36m78\u001b[0m - \u001b[1m---------- 进入 modify_chunk_metadata 节点 ----------\u001b[0m\n",
      "\u001b[32m2025-06-26 18:12:18.692\u001b[0m | \u001b[1mINFO    \u001b[0m | \u001b[36mRAGwithJudge.llm_as_a_judge_node\u001b[0m:\u001b[36mjudge_node\u001b[0m:\u001b[36m54\u001b[0m - \u001b[1m将 What is the exact definition of tool calling mentioned in the conceptual guide on tools? 和 Tool calling  \n",
      "工具调用的一个关键原则是，模型根据输入的相关性决定何时使用工具。模型 \n",
      "并不总是需要调用工具。例如，给定一个不相关的输入，模型不会调用该工 \n",
      "具： \n",
      "结果将会是一个  AIMessage，其中包含模型以自然语言做出的响应（例如 “ 你 \n",
      "好！ ” ）。但是，如果我们传递与工具相关的输入，模型应该选择调用它： \n",
      "与之前一样，输出  result 将是  AIMessage。但是，如果调用了该工具， \n",
      "result 将具有  tool_calls 属性。此属性包含执行该工具所需的所有内容，包 \n",
      "括工具名称和输入参数： \n",
      "For more details on usage, see our how-to guides （这是有关  tool 的  how to \n",
      "guides ） !\n",
      "Tool execution  \n",
      "tool 包含了  Runnable 接口，这意味着它们可以被直接调用（例如， \n",
      "tool.invoke(args) ，这点在  tools 的本地翻译  中也提到）。 \n",
      "LangGraph 提供了预构建的组件（例如， ToolNode），这些组件通常会代表用 \n",
      "户调用工具（就不用  user 自己调了）。 \n",
      "❗  Further reading\n",
      "See our How to use chat models to call tools on tool calling.\n",
      "See the LangGraph documentation on using ToolNode. 交给 judge 判断，结果为 score=1 reason=\"步骤1：问题核心需求是'工具调用的确切定义'\\n步骤2：知识主要描述了工具调用的使用场景、条件和执行方式，但没有直接给出一个精确的定义\\n步骤3：虽然知识与工具调用密切相关，但它更倾向于说明工具调用的工作原理而非提供确切定义\\n步骤4：符合部分有用标准(1分)\" remaining_query='What is the exact definition of tool calling as described in the conceptual guide?'\u001b[0m\n",
      "\u001b[32m2025-06-26 18:12:18.694\u001b[0m | \u001b[1mINFO    \u001b[0m | \u001b[36mRAGwithJudge.llm_as_a_judge_node\u001b[0m:\u001b[36mmodify_chunk_metadata\u001b[0m:\u001b[36m78\u001b[0m - \u001b[1m---------- 进入 modify_chunk_metadata 节点 ----------\u001b[0m\n",
      "\u001b[32m2025-06-26 18:12:18.697\u001b[0m | \u001b[1mINFO    \u001b[0m | \u001b[36mRAGwithJudge.llm_as_a_judge_node\u001b[0m:\u001b[36mcall_new_rag_node\u001b[0m:\u001b[36m148\u001b[0m - \u001b[1m---------- 进入 call_new_rag 节点 ----------\u001b[0m\n",
      "\u001b[32m2025-06-26 18:12:18.698\u001b[0m | \u001b[1mINFO    \u001b[0m | \u001b[36mRAGwithJudge.llm_as_a_judge_node\u001b[0m:\u001b[36mcall_new_rag_node\u001b[0m:\u001b[36m182\u001b[0m - \u001b[1m使用 d26f0cf5-66da-476a-926c-3ef5005496fa 调用 RAG，问题为 What is the exact definition of tool calling as described in the conceptual guide?，当前递归深度为 4\u001b[0m\n",
      "\u001b[32m2025-06-26 18:12:18.702\u001b[0m | \u001b[1mINFO    \u001b[0m | \u001b[36mNaiveRAG.nodes\u001b[0m:\u001b[36mretriever_node\u001b[0m:\u001b[36m29\u001b[0m - \u001b[1m---------- 进入检索模块 ----------\u001b[0m\n",
      "\u001b[32m2025-06-26 18:12:19.064\u001b[0m | \u001b[1mINFO    \u001b[0m | \u001b[36mRAGwithJudge.llm_as_a_judge_node\u001b[0m:\u001b[36mjudge_node\u001b[0m:\u001b[36m32\u001b[0m - \u001b[1m---------- 进入 Judge 模块 ----------\u001b[0m\n",
      "\u001b[32m2025-06-26 18:12:19.078\u001b[0m | \u001b[1mINFO    \u001b[0m | \u001b[36mRAGwithJudge.llm_as_a_judge_node\u001b[0m:\u001b[36mjudge_node\u001b[0m:\u001b[36m32\u001b[0m - \u001b[1m---------- 进入 Judge 模块 ----------\u001b[0m\n",
      "\u001b[32m2025-06-26 18:12:19.081\u001b[0m | \u001b[1mINFO    \u001b[0m | \u001b[36mRAGwithJudge.llm_as_a_judge_node\u001b[0m:\u001b[36mjudge_node\u001b[0m:\u001b[36m32\u001b[0m - \u001b[1m---------- 进入 Judge 模块 ----------\u001b[0m\n",
      "\u001b[32m2025-06-26 18:12:20.465\u001b[0m | \u001b[1mINFO    \u001b[0m | \u001b[36mRAGwithJudge.llm_as_a_judge_node\u001b[0m:\u001b[36mjudge_node\u001b[0m:\u001b[36m54\u001b[0m - \u001b[1m将 What is the exact definition of tool calling mentioned in the conceptual guide on tools? 和 Key concepts  \n",
      "1. Tool Creation：  Use the @tool decorator to create a tool. A tool is an \n",
      "association between a function and its schema\n",
      "2. Tool Binding： The tool needs to be connected to a model that supports \n",
      "tool calling. This gives the model awareness of the tool and the \n",
      "associated input schema required by the tool （该工具需要连接到支持工 \n",
      "具调用的模型。这使模型能够感知该工具以及该工具所需的相关输入模式） \n",
      "3. Tool Calling： When appropriate, the model can decide to call a tool and \n",
      "ensure its response conforms to the tool's input schema （在适当的情况 \n",
      "下，模型可以决定调用一个工具并确保其响应符合该工具的输入模式） \n",
      "4. Tool Execution： The tool can be executed using the arguments \n",
      "provided by the model\n",
      "Recommended usage  \n",
      "下面的伪代码说明了使用工具调用的推荐工作流程。创建的工具作为列表传递 交给 judge 判断，结果为 score=2 reason=\"步骤1：问题核心是'tool calling'的精确定义\\n步骤2：知识中明确包含'tool calling'的定义 - 模型在适当情况下可以决定调用工具并确保响应符合工具的输入模式\\n步骤3：知识完全覆盖了问题的所有要素\\n步骤4：符合完全有用标准(2分)\" remaining_query=''\u001b[0m\n",
      "\u001b[32m2025-06-26 18:12:20.468\u001b[0m | \u001b[1mINFO    \u001b[0m | \u001b[36mRAGwithJudge.llm_as_a_judge_node\u001b[0m:\u001b[36mmodify_chunk_metadata\u001b[0m:\u001b[36m78\u001b[0m - \u001b[1m---------- 进入 modify_chunk_metadata 节点 ----------\u001b[0m\n",
      "\u001b[32m2025-06-26 18:12:23.223\u001b[0m | \u001b[1mINFO    \u001b[0m | \u001b[36mRAGwithJudge.llm_as_a_judge_node\u001b[0m:\u001b[36mjudge_node\u001b[0m:\u001b[36m54\u001b[0m - \u001b[1m将 What is the exact definition of tool calling as described in the conceptual guide? 和 Tool calling  \n",
      "A type of chat model API that accepts tool schemas, along with messages, as \n",
      "input and returns invocations of those tools as part of the output message.\n",
      "❗  PREREQUISITES\n",
      "Tools\n",
      "Chat Models\n",
      "Overview  \n",
      "许多人工智能应用直接与人类互动。在这些情况下，模型以自然语言做出回应 \n",
      "是合适的。 \n",
      "但是如果我们希望模型能够  直接  与系统（例如数据库或  API ）交互，该怎么办 \n",
      "呢？这些系统通常具有特定的输入模式；例如， APIs frequently have a \n",
      "required payload structure。 \n",
      "这种需求催生了  tool calling 的概念。您可以使用  tool calling 来请求与特定模式 \n",
      "匹配的模型响应（ You can use tool calling to request model responses that \n",
      "match a particular schema ）。 \n",
      "❗  INFO\n",
      "function calling 在  LangChian 中等价于  tool calling\n",
      " \n",
      "💡 交给 judge 判断，结果为 score=2 reason='The knowledge provides a complete definition of tool calling as described in the conceptual guide, including its purpose, functionality, and equivalence to function calling in LangChain.' remaining_query=''\u001b[0m\n",
      "\u001b[32m2025-06-26 18:12:23.226\u001b[0m | \u001b[1mINFO    \u001b[0m | \u001b[36mRAGwithJudge.llm_as_a_judge_node\u001b[0m:\u001b[36mmodify_chunk_metadata\u001b[0m:\u001b[36m78\u001b[0m - \u001b[1m---------- 进入 modify_chunk_metadata 节点 ----------\u001b[0m\n",
      "\u001b[32m2025-06-26 18:12:23.672\u001b[0m | \u001b[1mINFO    \u001b[0m | \u001b[36mRAGwithJudge.llm_as_a_judge_node\u001b[0m:\u001b[36mjudge_node\u001b[0m:\u001b[36m54\u001b[0m - \u001b[1m将 What is the exact definition of tool calling as described in the conceptual guide? 和 Tool calling  \n",
      "工具调用的一个关键原则是，模型根据输入的相关性决定何时使用工具。模型 \n",
      "并不总是需要调用工具。例如，给定一个不相关的输入，模型不会调用该工 \n",
      "具： \n",
      "结果将会是一个  AIMessage，其中包含模型以自然语言做出的响应（例如 “ 你 \n",
      "好！ ” ）。但是，如果我们传递与工具相关的输入，模型应该选择调用它： \n",
      "与之前一样，输出  result 将是  AIMessage。但是，如果调用了该工具， \n",
      "result 将具有  tool_calls 属性。此属性包含执行该工具所需的所有内容，包 \n",
      "括工具名称和输入参数： \n",
      "For more details on usage, see our how-to guides （这是有关  tool 的  how to \n",
      "guides ） !\n",
      "Tool execution  \n",
      "tool 包含了  Runnable 接口，这意味着它们可以被直接调用（例如， \n",
      "tool.invoke(args) ，这点在  tools 的本地翻译  中也提到）。 \n",
      "LangGraph 提供了预构建的组件（例如， ToolNode），这些组件通常会代表用 \n",
      "户调用工具（就不用  user 自己调了）。 \n",
      "❗  Further reading\n",
      "See our How to use chat models to call tools on tool calling.\n",
      "See the LangGraph documentation on using ToolNode. 交给 judge 判断，结果为 score=1 reason='The knowledge provides a general description of tool calling, including when a model should invoke a tool and the structure of the result. However, it does not give an exact definition as requested in the question.' remaining_query='What is the precise definition of tool calling according to the conceptual guide?'\u001b[0m\n",
      "\u001b[32m2025-06-26 18:12:23.675\u001b[0m | \u001b[1mINFO    \u001b[0m | \u001b[36mRAGwithJudge.llm_as_a_judge_node\u001b[0m:\u001b[36mmodify_chunk_metadata\u001b[0m:\u001b[36m78\u001b[0m - \u001b[1m---------- 进入 modify_chunk_metadata 节点 ----------\u001b[0m\n",
      "\u001b[32m2025-06-26 18:12:23.677\u001b[0m | \u001b[1mINFO    \u001b[0m | \u001b[36mRAGwithJudge.llm_as_a_judge_node\u001b[0m:\u001b[36mcall_new_rag_node\u001b[0m:\u001b[36m148\u001b[0m - \u001b[1m---------- 进入 call_new_rag 节点 ----------\u001b[0m\n",
      "\u001b[32m2025-06-26 18:12:23.678\u001b[0m | \u001b[1mINFO    \u001b[0m | \u001b[36mRAGwithJudge.llm_as_a_judge_node\u001b[0m:\u001b[36mcall_new_rag_node\u001b[0m:\u001b[36m182\u001b[0m - \u001b[1m使用 c0866e2f-d930-495d-8813-128e2c825e03 调用 RAG，问题为 What is the precise definition of tool calling according to the conceptual guide?，当前递归深度为 5\u001b[0m\n",
      "\u001b[32m2025-06-26 18:12:23.683\u001b[0m | \u001b[1mINFO    \u001b[0m | \u001b[36mNaiveRAG.nodes\u001b[0m:\u001b[36mretriever_node\u001b[0m:\u001b[36m29\u001b[0m - \u001b[1m---------- 进入检索模块 ----------\u001b[0m\n",
      "\u001b[32m2025-06-26 18:12:23.817\u001b[0m | \u001b[1mINFO    \u001b[0m | \u001b[36mRAGwithJudge.llm_as_a_judge_node\u001b[0m:\u001b[36mjudge_node\u001b[0m:\u001b[36m32\u001b[0m - \u001b[1m---------- 进入 Judge 模块 ----------\u001b[0m\n",
      "\u001b[32m2025-06-26 18:12:23.822\u001b[0m | \u001b[1mINFO    \u001b[0m | \u001b[36mRAGwithJudge.llm_as_a_judge_node\u001b[0m:\u001b[36mjudge_node\u001b[0m:\u001b[36m32\u001b[0m - \u001b[1m---------- 进入 Judge 模块 ----------\u001b[0m\n",
      "\u001b[32m2025-06-26 18:12:23.822\u001b[0m | \u001b[1mINFO    \u001b[0m | \u001b[36mRAGwithJudge.llm_as_a_judge_node\u001b[0m:\u001b[36mjudge_node\u001b[0m:\u001b[36m32\u001b[0m - \u001b[1m---------- 进入 Judge 模块 ----------\u001b[0m\n",
      "\u001b[32m2025-06-26 18:12:24.565\u001b[0m | \u001b[1mINFO    \u001b[0m | \u001b[36mRAGwithJudge.llm_as_a_judge_node\u001b[0m:\u001b[36mjudge_node\u001b[0m:\u001b[36m54\u001b[0m - \u001b[1m将 What is the exact definition of tool calling as described in the conceptual guide? 和 Key concepts  \n",
      "1. Tool Creation：  Use the @tool decorator to create a tool. A tool is an \n",
      "association between a function and its schema\n",
      "2. Tool Binding： The tool needs to be connected to a model that supports \n",
      "tool calling. This gives the model awareness of the tool and the \n",
      "associated input schema required by the tool （该工具需要连接到支持工 \n",
      "具调用的模型。这使模型能够感知该工具以及该工具所需的相关输入模式） \n",
      "3. Tool Calling： When appropriate, the model can decide to call a tool and \n",
      "ensure its response conforms to the tool's input schema （在适当的情况 \n",
      "下，模型可以决定调用一个工具并确保其响应符合该工具的输入模式） \n",
      "4. Tool Execution： The tool can be executed using the arguments \n",
      "provided by the model\n",
      "Recommended usage  \n",
      "下面的伪代码说明了使用工具调用的推荐工作流程。创建的工具作为列表传递 交给 judge 判断，结果为 score=2 reason=\"步骤1：问题核心是'tool calling'的精确定义\\n步骤2：知识明确描述了tool calling的概念：在适当情况下，模型可以决定调用一个工具并确保其响应符合该工具的输入模式\\n步骤3：知识完全覆盖了问题的所有要素\\n步骤4：符合完全有用标准(2分)\" remaining_query=''\u001b[0m\n",
      "\u001b[32m2025-06-26 18:12:24.568\u001b[0m | \u001b[1mINFO    \u001b[0m | \u001b[36mRAGwithJudge.llm_as_a_judge_node\u001b[0m:\u001b[36mmodify_chunk_metadata\u001b[0m:\u001b[36m78\u001b[0m - \u001b[1m---------- 进入 modify_chunk_metadata 节点 ----------\u001b[0m\n",
      "\u001b[32m2025-06-26 18:12:27.084\u001b[0m | \u001b[1mINFO    \u001b[0m | \u001b[36mRAGwithJudge.llm_as_a_judge_node\u001b[0m:\u001b[36mjudge_node\u001b[0m:\u001b[36m54\u001b[0m - \u001b[1m将 What is the precise definition of tool calling according to the conceptual guide? 和 Key concepts  \n",
      "1. Tool Creation：  Use the @tool decorator to create a tool. A tool is an \n",
      "association between a function and its schema\n",
      "2. Tool Binding： The tool needs to be connected to a model that supports \n",
      "tool calling. This gives the model awareness of the tool and the \n",
      "associated input schema required by the tool （该工具需要连接到支持工 \n",
      "具调用的模型。这使模型能够感知该工具以及该工具所需的相关输入模式） \n",
      "3. Tool Calling： When appropriate, the model can decide to call a tool and \n",
      "ensure its response conforms to the tool's input schema （在适当的情况 \n",
      "下，模型可以决定调用一个工具并确保其响应符合该工具的输入模式） \n",
      "4. Tool Execution： The tool can be executed using the arguments \n",
      "provided by the model\n",
      "Recommended usage  \n",
      "下面的伪代码说明了使用工具调用的推荐工作流程。创建的工具作为列表传递 交给 judge 判断，结果为 score=2 reason=\"The knowledge provides a clear and precise definition of tool calling from the conceptual guide, stating that it is when a model decides to call a tool and ensures its response conforms to the tool's input schema.\" remaining_query=''\u001b[0m\n",
      "\u001b[32m2025-06-26 18:12:27.087\u001b[0m | \u001b[1mINFO    \u001b[0m | \u001b[36mRAGwithJudge.llm_as_a_judge_node\u001b[0m:\u001b[36mmodify_chunk_metadata\u001b[0m:\u001b[36m78\u001b[0m - \u001b[1m---------- 进入 modify_chunk_metadata 节点 ----------\u001b[0m\n",
      "\u001b[32m2025-06-26 18:12:29.339\u001b[0m | \u001b[1mINFO    \u001b[0m | \u001b[36mRAGwithJudge.llm_as_a_judge_node\u001b[0m:\u001b[36mjudge_node\u001b[0m:\u001b[36m54\u001b[0m - \u001b[1m将 What is the precise definition of tool calling according to the conceptual guide? 和 Tool calling  \n",
      "工具调用的一个关键原则是，模型根据输入的相关性决定何时使用工具。模型 \n",
      "并不总是需要调用工具。例如，给定一个不相关的输入，模型不会调用该工 \n",
      "具： \n",
      "结果将会是一个  AIMessage，其中包含模型以自然语言做出的响应（例如 “ 你 \n",
      "好！ ” ）。但是，如果我们传递与工具相关的输入，模型应该选择调用它： \n",
      "与之前一样，输出  result 将是  AIMessage。但是，如果调用了该工具， \n",
      "result 将具有  tool_calls 属性。此属性包含执行该工具所需的所有内容，包 \n",
      "括工具名称和输入参数： \n",
      "For more details on usage, see our how-to guides （这是有关  tool 的  how to \n",
      "guides ） !\n",
      "Tool execution  \n",
      "tool 包含了  Runnable 接口，这意味着它们可以被直接调用（例如， \n",
      "tool.invoke(args) ，这点在  tools 的本地翻译  中也提到）。 \n",
      "LangGraph 提供了预构建的组件（例如， ToolNode），这些组件通常会代表用 \n",
      "户调用工具（就不用  user 自己调了）。 \n",
      "❗  Further reading\n",
      "See our How to use chat models to call tools on tool calling.\n",
      "See the LangGraph documentation on using ToolNode. 交给 judge 判断，结果为 score=1 reason=\"The provided knowledge explains some aspects of tool calling, such as the conditions under which a model decides to use a tool and details about tool execution. However, it does not provide a precise definition of 'tool calling' as requested in the question.\" remaining_query='What is the exact definition of tool calling according to the conceptual guide?'\u001b[0m\n",
      "\u001b[32m2025-06-26 18:12:29.342\u001b[0m | \u001b[1mINFO    \u001b[0m | \u001b[36mRAGwithJudge.llm_as_a_judge_node\u001b[0m:\u001b[36mmodify_chunk_metadata\u001b[0m:\u001b[36m78\u001b[0m - \u001b[1m---------- 进入 modify_chunk_metadata 节点 ----------\u001b[0m\n",
      "\u001b[32m2025-06-26 18:12:29.345\u001b[0m | \u001b[1mINFO    \u001b[0m | \u001b[36mRAGwithJudge.llm_as_a_judge_node\u001b[0m:\u001b[36mcall_new_rag_node\u001b[0m:\u001b[36m148\u001b[0m - \u001b[1m---------- 进入 call_new_rag 节点 ----------\u001b[0m\n",
      "\u001b[32m2025-06-26 18:12:29.345\u001b[0m | \u001b[1mINFO    \u001b[0m | \u001b[36mRAGwithJudge.llm_as_a_judge_node\u001b[0m:\u001b[36mcall_new_rag_node\u001b[0m:\u001b[36m152\u001b[0m - \u001b[1m到达最深递归深度 5 \u001b[0m\n",
      "\u001b[32m2025-06-26 18:12:29.701\u001b[0m | \u001b[1mINFO    \u001b[0m | \u001b[36mRAGwithJudge.llm_as_a_judge_node\u001b[0m:\u001b[36mjudge_node\u001b[0m:\u001b[36m54\u001b[0m - \u001b[1m将 What is the precise definition of tool calling according to the conceptual guide? 和 Tool calling  \n",
      "A type of chat model API that accepts tool schemas, along with messages, as \n",
      "input and returns invocations of those tools as part of the output message.\n",
      "❗  PREREQUISITES\n",
      "Tools\n",
      "Chat Models\n",
      "Overview  \n",
      "许多人工智能应用直接与人类互动。在这些情况下，模型以自然语言做出回应 \n",
      "是合适的。 \n",
      "但是如果我们希望模型能够  直接  与系统（例如数据库或  API ）交互，该怎么办 \n",
      "呢？这些系统通常具有特定的输入模式；例如， APIs frequently have a \n",
      "required payload structure。 \n",
      "这种需求催生了  tool calling 的概念。您可以使用  tool calling 来请求与特定模式 \n",
      "匹配的模型响应（ You can use tool calling to request model responses that \n",
      "match a particular schema ）。 \n",
      "❗  INFO\n",
      "function calling 在  LangChian 中等价于  tool calling\n",
      " \n",
      "💡 交给 judge 判断，结果为 score=2 reason=\"步骤1：问题核心是'tool calling的精确定义'。\\n步骤2：知识明确描述了tool calling的概念，包括其定义、使用场景和作用机制。\\n步骤3：知识完整覆盖了问题的所有要素，提供了概念指南中对此术语的准确定义。\\n步骤4：符合完全有用标准(2分)\" remaining_query=''\u001b[0m\n",
      "\u001b[32m2025-06-26 18:12:29.704\u001b[0m | \u001b[1mINFO    \u001b[0m | \u001b[36mRAGwithJudge.llm_as_a_judge_node\u001b[0m:\u001b[36mmodify_chunk_metadata\u001b[0m:\u001b[36m78\u001b[0m - \u001b[1m---------- 进入 modify_chunk_metadata 节点 ----------\u001b[0m\n",
      "\u001b[32m2025-06-26 18:12:29.708\u001b[0m | \u001b[1mINFO    \u001b[0m | \u001b[36mNaiveRAG.nodes\u001b[0m:\u001b[36maugmented_node\u001b[0m:\u001b[36m57\u001b[0m - \u001b[1m---------- 进入增强模块 ----------\u001b[0m\n",
      "\u001b[32m2025-06-26 18:12:29.711\u001b[0m | \u001b[1mINFO    \u001b[0m | \u001b[36mNaiveRAG.nodes\u001b[0m:\u001b[36mgenerate_node\u001b[0m:\u001b[36m96\u001b[0m - \u001b[1m---------- 进入生成模块 ----------\u001b[0m\n"
     ]
    },
    {
     "name": "stdout",
     "output_type": "stream",
     "text": [
      "A type of chat model API that accepts tool schemas, along with messages, as input and returns invocations of those tools as part of the output message. [4_p0]"
     ]
    },
    {
     "name": "stderr",
     "output_type": "stream",
     "text": [
      "\u001b[32m2025-06-26 18:12:36.433\u001b[0m | \u001b[1mINFO    \u001b[0m | \u001b[36mNaiveRAG.nodes\u001b[0m:\u001b[36maugmented_node\u001b[0m:\u001b[36m57\u001b[0m - \u001b[1m---------- 进入增强模块 ----------\u001b[0m\n",
      "\u001b[32m2025-06-26 18:12:36.436\u001b[0m | \u001b[1mINFO    \u001b[0m | \u001b[36mNaiveRAG.nodes\u001b[0m:\u001b[36mgenerate_node\u001b[0m:\u001b[36m96\u001b[0m - \u001b[1m---------- 进入生成模块 ----------\u001b[0m\n"
     ]
    },
    {
     "name": "stdout",
     "output_type": "stream",
     "text": [
      "A type of chat model API that accepts tool schemas, along with messages, as input and returns invocations of those tools as part of the output message. [4_p0]"
     ]
    },
    {
     "name": "stderr",
     "output_type": "stream",
     "text": [
      "\u001b[32m2025-06-26 18:12:38.729\u001b[0m | \u001b[1mINFO    \u001b[0m | \u001b[36mNaiveRAG.nodes\u001b[0m:\u001b[36maugmented_node\u001b[0m:\u001b[36m57\u001b[0m - \u001b[1m---------- 进入增强模块 ----------\u001b[0m\n",
      "\u001b[32m2025-06-26 18:12:38.733\u001b[0m | \u001b[1mINFO    \u001b[0m | \u001b[36mNaiveRAG.nodes\u001b[0m:\u001b[36mgenerate_node\u001b[0m:\u001b[36m96\u001b[0m - \u001b[1m---------- 进入生成模块 ----------\u001b[0m\n"
     ]
    },
    {
     "name": "stdout",
     "output_type": "stream",
     "text": [
      "A type of chat model API that accepts tool schemas, along with messages, as input and returns invocations of those tools as part of the output message. [4_p0]"
     ]
    },
    {
     "name": "stderr",
     "output_type": "stream",
     "text": [
      "\u001b[32m2025-06-26 18:12:40.672\u001b[0m | \u001b[1mINFO    \u001b[0m | \u001b[36mNaiveRAG.nodes\u001b[0m:\u001b[36maugmented_node\u001b[0m:\u001b[36m57\u001b[0m - \u001b[1m---------- 进入增强模块 ----------\u001b[0m\n",
      "\u001b[32m2025-06-26 18:12:40.675\u001b[0m | \u001b[1mINFO    \u001b[0m | \u001b[36mNaiveRAG.nodes\u001b[0m:\u001b[36mgenerate_node\u001b[0m:\u001b[36m96\u001b[0m - \u001b[1m---------- 进入生成模块 ----------\u001b[0m\n"
     ]
    },
    {
     "name": "stdout",
     "output_type": "stream",
     "text": [
      "A type of chat model API that accepts tool schemas, along with messages, as input and returns invocations of those tools as part of the output message. [4_p0]"
     ]
    },
    {
     "name": "stderr",
     "output_type": "stream",
     "text": [
      "\u001b[32m2025-06-26 18:12:46.654\u001b[0m | \u001b[1mINFO    \u001b[0m | \u001b[36mNaiveRAG.nodes\u001b[0m:\u001b[36maugmented_node\u001b[0m:\u001b[36m57\u001b[0m - \u001b[1m---------- 进入增强模块 ----------\u001b[0m\n",
      "\u001b[32m2025-06-26 18:12:46.657\u001b[0m | \u001b[1mINFO    \u001b[0m | \u001b[36mNaiveRAG.nodes\u001b[0m:\u001b[36mgenerate_node\u001b[0m:\u001b[36m96\u001b[0m - \u001b[1m---------- 进入生成模块 ----------\u001b[0m\n"
     ]
    },
    {
     "name": "stdout",
     "output_type": "stream",
     "text": [
      "A type of chat model API that accepts tool schemas, along with messages, as input and returns invocations of those tools as part of the output message. [4_p0]"
     ]
    },
    {
     "name": "stderr",
     "output_type": "stream",
     "text": [
      "\u001b[32m2025-06-26 18:12:49.122\u001b[0m | \u001b[1mINFO    \u001b[0m | \u001b[36mNaiveRAG.nodes\u001b[0m:\u001b[36maugmented_node\u001b[0m:\u001b[36m57\u001b[0m - \u001b[1m---------- 进入增强模块 ----------\u001b[0m\n",
      "\u001b[32m2025-06-26 18:12:49.128\u001b[0m | \u001b[1mINFO    \u001b[0m | \u001b[36mNaiveRAG.nodes\u001b[0m:\u001b[36mgenerate_node\u001b[0m:\u001b[36m96\u001b[0m - \u001b[1m---------- 进入生成模块 ----------\u001b[0m\n"
     ]
    },
    {
     "name": "stdout",
     "output_type": "stream",
     "text": [
      "A type of chat model API that accepts tool schemas, along with messages, as input and returns invocations of those tools as part of the output message. [4_p0]"
     ]
    }
   ],
   "source": [
    "# 流式传入运行图的结果\n",
    "query = input('请输入你的问题：')\n",
    "log.info(f'用户输入问题：{query}')\n",
    "for message, metadata in rag_with_judge.stream(\n",
    "        input={'query': query},  # input 是传递给图的输入\n",
    "        stream_mode=\"messages\",\n",
    "        config=run_config\n",
    "):\n",
    "    if metadata[\"langgraph_node\"] == \"generate\":\n",
    "        print(message.content, end='', flush=True)"
   ]
  },
  {
   "cell_type": "code",
   "execution_count": 17,
   "id": "b2a5a80f",
   "metadata": {},
   "outputs": [],
   "source": [
    "docs = list(rag_with_judge.get_state_history(config={'configurable': {'thread_id': '1'}}))[0].values['similar_chunks']"
   ]
  },
  {
   "cell_type": "code",
   "execution_count": 18,
   "id": "b74abed2",
   "metadata": {},
   "outputs": [
    {
     "data": {
      "text/plain": [
       "[Document(metadata={'pk': '06eef07c-219e-4072-9a51-74112372c0a2', 'source': '../data\\\\4. Tool calling.pdf', 'page': 0, 'start_index': 0, 'recursion_depth': 0, 'next_rag_thread_id': '', 'score': 2, 'reason': '知识完整解释了tool calling的概念、用途和相关背景信息，完全回答了问题的所有部分', 'remaining_query': ''}, page_content='Tool calling  \\nA type of chat model API that accepts tool schemas, along with messages, as \\ninput and returns invocations of those tools as part of the output message.\\n❗  PREREQUISITES\\nTools\\nChat Models\\nOverview  \\n许多人工智能应用直接与人类互动。在这些情况下，模型以自然语言做出回应 \\n是合适的。 \\n但是如果我们希望模型能够  直接  与系统（例如数据库或  API ）交互，该怎么办 \\n呢？这些系统通常具有特定的输入模式；例如， APIs frequently have a \\nrequired payload structure。 \\n这种需求催生了  tool calling 的概念。您可以使用  tool calling 来请求与特定模式 \\n匹配的模型响应（ You can use tool calling to request model responses that \\nmatch a particular schema ）。 \\n❗  INFO\\nfunction calling 在  LangChian 中等价于  tool calling\\n\\xa0\\n💡'),\n",
       " Document(metadata={'pk': 'b6bed485-946e-4e86-9eed-86faef133946', 'source': '../data\\\\4. Tool calling.pdf', 'page': 4, 'start_index': 0, 'recursion_depth': 0, 'next_rag_thread_id': '', 'score': 2, 'reason': '知识完整解释了tool calling的概念，包括其工作原理、使用场景以及相关组件的信息。它描述了模型如何根据输入的相关性决定是否调用工具，并且详细说明了调用过程中的关键元素（如tool_calls属性）。此外，还提供了进一步阅读的资源链接。', 'remaining_query': ''}, page_content='Tool calling  \\n工具调用的一个关键原则是，模型根据输入的相关性决定何时使用工具。模型 \\n并不总是需要调用工具。例如，给定一个不相关的输入，模型不会调用该工 \\n具： \\n结果将会是一个  AIMessage，其中包含模型以自然语言做出的响应（例如 “ 你 \\n好！ ” ）。但是，如果我们传递与工具相关的输入，模型应该选择调用它： \\n与之前一样，输出  result 将是  AIMessage。但是，如果调用了该工具， \\nresult 将具有  tool_calls 属性。此属性包含执行该工具所需的所有内容，包 \\n括工具名称和输入参数： \\nFor more details on usage, see our how-to guides （这是有关  tool 的  how to \\nguides ） !\\nTool execution  \\ntool 包含了  Runnable 接口，这意味着它们可以被直接调用（例如， \\ntool.invoke(args) ，这点在  tools 的本地翻译  中也提到）。 \\nLangGraph 提供了预构建的组件（例如， ToolNode），这些组件通常会代表用 \\n户调用工具（就不用  user 自己调了）。 \\n❗  Further reading\\nSee our How to use chat models to call tools on tool calling.\\nSee the LangGraph documentation on using ToolNode.'),\n",
       " Document(metadata={'pk': '57da6215-5f5e-4f92-a4b6-4ee61c4ea9ef', 'source': '../data\\\\4. Tool calling.pdf', 'page': 3, 'start_index': 0, 'recursion_depth': 0, 'next_rag_thread_id': '00fa79f1-8748-4dc6-a1a5-4fc7a4abaf02', 'score': 1, 'reason': '知识提供了关于tool calling的相关概念和使用方法，但并未直接定义什么是tool calling。它展示了如何绑定工具、提及支持tool calling的模型供应商，并提供了扩展阅读的指引，但没有给出明确的定义。', 'remaining_query': 'What is the definition of tool calling?'}, page_content='API Reference: tool\\n❗  Further reading\\nSee our conceptual guide on tools， tools 的本地翻译 ， how to \\ncreate tools 本地翻译  for more details.\\nSee our model integrations that support tool calling.\\nSee our how-to guide on tool calling.\\nTool binding  \\nMany model providers support tool calling.\\n❗  TIP\\nSee our model integration page for a list of providers that support tool \\ncalling.\\n要理解的核心概念是  LangChain 提供了一个标准化接口，用于将工具连接到模 \\n型。可以使用  .bind_tools() 方法指定模型可以调用哪些工具。 \\n作为一个具体的例子，我们以函数  multiply 为例，并将其作为工具绑定到支持 \\n工具调用的模型中。 \\nfrom langchain_core.tools import tool\\n@tool\\ndef multiply(a: int, b: int) -> int:\\n    \"\"\"Multiply a and b.\"\"\"\\n    return a * b\\n1\\n2\\n3\\n4\\n5\\n6\\nmodel_with_tools = model.bind_tools(tools_list)1A type of chat model API that accepts tool schemas, along with messages, as input and returns invocations of those tools as part of the output message. [4_p0]')]"
      ]
     },
     "execution_count": 18,
     "metadata": {},
     "output_type": "execute_result"
    }
   ],
   "source": [
    "docs"
   ]
  },
  {
   "cell_type": "code",
   "execution_count": 20,
   "id": "6dcefce5",
   "metadata": {},
   "outputs": [
    {
     "data": {
      "text/plain": [
       "[Document(metadata={'source': '../data\\\\4. Tool calling.pdf', 'page': 0, 'start_index': 0, 'pk': '06eef07c-219e-4072-9a51-74112372c0a2', 'recursion_depth': 1, 'next_rag_thread_id': '', 'score': 2, 'reason': 'The knowledge provides a complete definition of tool calling, including its purpose, functionality, and even an equivalence note with function calling in LangChain. This fully answers the question.', 'remaining_query': ''}, page_content='Tool calling  \\nA type of chat model API that accepts tool schemas, along with messages, as \\ninput and returns invocations of those tools as part of the output message.\\n❗  PREREQUISITES\\nTools\\nChat Models\\nOverview  \\n许多人工智能应用直接与人类互动。在这些情况下，模型以自然语言做出回应 \\n是合适的。 \\n但是如果我们希望模型能够  直接  与系统（例如数据库或  API ）交互，该怎么办 \\n呢？这些系统通常具有特定的输入模式；例如， APIs frequently have a \\nrequired payload structure。 \\n这种需求催生了  tool calling 的概念。您可以使用  tool calling 来请求与特定模式 \\n匹配的模型响应（ You can use tool calling to request model responses that \\nmatch a particular schema ）。 \\n❗  INFO\\nfunction calling 在  LangChian 中等价于  tool calling\\n\\xa0\\n💡'),\n",
       " Document(metadata={'source': '../data\\\\4. Tool calling.pdf', 'page': 4, 'start_index': 0, 'pk': 'b6bed485-946e-4e86-9eed-86faef133946', 'recursion_depth': 1, 'next_rag_thread_id': '', 'score': 2, 'reason': \"步骤1：问题核心需求是'tool calling'的定义\\n步骤2：知识详细解释了工具调用的概念，包括何时使用工具、如何判断相关性、以及具体执行方式\\n步骤3：知识完全覆盖了问题的所有要素，提供了完整的定义和使用场景说明\\n步骤4：符合完全有用标准(2分)\", 'remaining_query': ''}, page_content='Tool calling  \\n工具调用的一个关键原则是，模型根据输入的相关性决定何时使用工具。模型 \\n并不总是需要调用工具。例如，给定一个不相关的输入，模型不会调用该工 \\n具： \\n结果将会是一个  AIMessage，其中包含模型以自然语言做出的响应（例如 “ 你 \\n好！ ” ）。但是，如果我们传递与工具相关的输入，模型应该选择调用它： \\n与之前一样，输出  result 将是  AIMessage。但是，如果调用了该工具， \\nresult 将具有  tool_calls 属性。此属性包含执行该工具所需的所有内容，包 \\n括工具名称和输入参数： \\nFor more details on usage, see our how-to guides （这是有关  tool 的  how to \\nguides ） !\\nTool execution  \\ntool 包含了  Runnable 接口，这意味着它们可以被直接调用（例如， \\ntool.invoke(args) ，这点在  tools 的本地翻译  中也提到）。 \\nLangGraph 提供了预构建的组件（例如， ToolNode），这些组件通常会代表用 \\n户调用工具（就不用  user 自己调了）。 \\n❗  Further reading\\nSee our How to use chat models to call tools on tool calling.\\nSee the LangGraph documentation on using ToolNode.'),\n",
       " Document(metadata={'source': '../data\\\\4. Tool calling.pdf', 'page': 3, 'start_index': 0, 'pk': '57da6215-5f5e-4f92-a4b6-4ee61c4ea9ef', 'recursion_depth': 1, 'next_rag_thread_id': '9d8b53aa-f77c-47ce-b709-8f42ba8cc673', 'score': 1, 'reason': \"The provided knowledge gives some context about tool calling, specifically mentioning the .bind_tools() method and an example of binding a 'multiply' function as a tool. However, it does not provide a clear definition of what tool calling is.\", 'remaining_query': 'What is the definition of tool calling?'}, page_content='API Reference: tool\\n❗  Further reading\\nSee our conceptual guide on tools， tools 的本地翻译 ， how to \\ncreate tools 本地翻译  for more details.\\nSee our model integrations that support tool calling.\\nSee our how-to guide on tool calling.\\nTool binding  \\nMany model providers support tool calling.\\n❗  TIP\\nSee our model integration page for a list of providers that support tool \\ncalling.\\n要理解的核心概念是  LangChain 提供了一个标准化接口，用于将工具连接到模 \\n型。可以使用  .bind_tools() 方法指定模型可以调用哪些工具。 \\n作为一个具体的例子，我们以函数  multiply 为例，并将其作为工具绑定到支持 \\n工具调用的模型中。 \\nfrom langchain_core.tools import tool\\n@tool\\ndef multiply(a: int, b: int) -> int:\\n    \"\"\"Multiply a and b.\"\"\"\\n    return a * b\\n1\\n2\\n3\\n4\\n5\\n6\\nmodel_with_tools = model.bind_tools(tools_list)1A type of chat model API that accepts tool schemas, along with messages, as input and returns invocations of those tools as part of the output message. [4_p0]')]"
      ]
     },
     "execution_count": 20,
     "metadata": {},
     "output_type": "execute_result"
    }
   ],
   "source": [
    "docs1 = list(rag_with_judge.get_state_history(config={'configurable': {'thread_id': '00fa79f1-8748-4dc6-a1a5-4fc7a4abaf02'}}))[0].values['similar_chunks']\n",
    "docs1"
   ]
  },
  {
   "cell_type": "code",
   "execution_count": 23,
   "id": "ecceddfa",
   "metadata": {},
   "outputs": [
    {
     "data": {
      "text/plain": [
       "[Document(metadata={'pk': '06eef07c-219e-4072-9a51-74112372c0a2', 'source': '../data\\\\4. Tool calling.pdf', 'page': 0, 'start_index': 0, 'recursion_depth': 2, 'next_rag_thread_id': '', 'score': 2, 'reason': \"步骤1：问题核心是'tool calling'的定义\\n步骤2：知识详细解释了tool calling的概念，包括其工作原理和使用场景\\n步骤3：知识完整覆盖了问题的所有要素，提供了准确且完整的定义\\n步骤4：符合完全有用标准(2分)\", 'remaining_query': ''}, page_content='Tool calling  \\nA type of chat model API that accepts tool schemas, along with messages, as \\ninput and returns invocations of those tools as part of the output message.\\n❗  PREREQUISITES\\nTools\\nChat Models\\nOverview  \\n许多人工智能应用直接与人类互动。在这些情况下，模型以自然语言做出回应 \\n是合适的。 \\n但是如果我们希望模型能够  直接  与系统（例如数据库或  API ）交互，该怎么办 \\n呢？这些系统通常具有特定的输入模式；例如， APIs frequently have a \\nrequired payload structure。 \\n这种需求催生了  tool calling 的概念。您可以使用  tool calling 来请求与特定模式 \\n匹配的模型响应（ You can use tool calling to request model responses that \\nmatch a particular schema ）。 \\n❗  INFO\\nfunction calling 在  LangChian 中等价于  tool calling\\n\\xa0\\n💡'),\n",
       " Document(metadata={'pk': 'b6bed485-946e-4e86-9eed-86faef133946', 'source': '../data\\\\4. Tool calling.pdf', 'page': 4, 'start_index': 0, 'recursion_depth': 2, 'next_rag_thread_id': '', 'score': 2, 'reason': \"步骤1：问题核心需求是'tool calling'的定义\\n步骤2：知识详细解释了工具调用的概念，包括模型如何根据输入决定是否调用工具、调用时的输出结构（tool_calls属性）、以及相关的执行方式。\\n步骤3：知识完整覆盖了工具调用的定义及其关键特性\\n步骤4：符合完全有用标准(2分)\", 'remaining_query': ''}, page_content='Tool calling  \\n工具调用的一个关键原则是，模型根据输入的相关性决定何时使用工具。模型 \\n并不总是需要调用工具。例如，给定一个不相关的输入，模型不会调用该工 \\n具： \\n结果将会是一个  AIMessage，其中包含模型以自然语言做出的响应（例如 “ 你 \\n好！ ” ）。但是，如果我们传递与工具相关的输入，模型应该选择调用它： \\n与之前一样，输出  result 将是  AIMessage。但是，如果调用了该工具， \\nresult 将具有  tool_calls 属性。此属性包含执行该工具所需的所有内容，包 \\n括工具名称和输入参数： \\nFor more details on usage, see our how-to guides （这是有关  tool 的  how to \\nguides ） !\\nTool execution  \\ntool 包含了  Runnable 接口，这意味着它们可以被直接调用（例如， \\ntool.invoke(args) ，这点在  tools 的本地翻译  中也提到）。 \\nLangGraph 提供了预构建的组件（例如， ToolNode），这些组件通常会代表用 \\n户调用工具（就不用  user 自己调了）。 \\n❗  Further reading\\nSee our How to use chat models to call tools on tool calling.\\nSee the LangGraph documentation on using ToolNode.'),\n",
       " Document(metadata={'pk': '57da6215-5f5e-4f92-a4b6-4ee61c4ea9ef', 'source': '../data\\\\4. Tool calling.pdf', 'page': 3, 'start_index': 0, 'recursion_depth': 2, 'next_rag_thread_id': '67984ae9-d994-4fc8-b401-ffee4311927a', 'score': 1, 'reason': \"The provided knowledge gives examples of tool calling and mentions the existence of a standardized interface for connecting tools to models, but it does not provide a clear definition of 'tool calling'. The conceptual guide on tools is referenced but not directly quoted.\", 'remaining_query': 'What is the exact definition of tool calling mentioned in the conceptual guide on tools?'}, page_content='API Reference: tool\\n❗  Further reading\\nSee our conceptual guide on tools， tools 的本地翻译 ， how to \\ncreate tools 本地翻译  for more details.\\nSee our model integrations that support tool calling.\\nSee our how-to guide on tool calling.\\nTool binding  \\nMany model providers support tool calling.\\n❗  TIP\\nSee our model integration page for a list of providers that support tool \\ncalling.\\n要理解的核心概念是  LangChain 提供了一个标准化接口，用于将工具连接到模 \\n型。可以使用  .bind_tools() 方法指定模型可以调用哪些工具。 \\n作为一个具体的例子，我们以函数  multiply 为例，并将其作为工具绑定到支持 \\n工具调用的模型中。 \\nfrom langchain_core.tools import tool\\n@tool\\ndef multiply(a: int, b: int) -> int:\\n    \"\"\"Multiply a and b.\"\"\"\\n    return a * b\\n1\\n2\\n3\\n4\\n5\\n6\\nmodel_with_tools = model.bind_tools(tools_list)1A type of chat model API that accepts tool schemas, along with messages, as input and returns invocations of those tools as part of the output message. [4_p0]')]"
      ]
     },
     "execution_count": 23,
     "metadata": {},
     "output_type": "execute_result"
    }
   ],
   "source": [
    "docs2 = list(rag_with_judge.get_state_history(config={'configurable': {'thread_id': '9d8b53aa-f77c-47ce-b709-8f42ba8cc673'}}))[0].values['similar_chunks']\n",
    "docs2"
   ]
  },
  {
   "cell_type": "code",
   "execution_count": null,
   "id": "a7629c24",
   "metadata": {},
   "outputs": [],
   "source": []
  },
  {
   "cell_type": "code",
   "execution_count": null,
   "id": "0330388c",
   "metadata": {},
   "outputs": [],
   "source": []
  },
  {
   "cell_type": "markdown",
   "id": "8a7ffa36",
   "metadata": {},
   "source": [
    "*2025.06.02*\n",
    "\n",
    "测试 LLM as a judge 子图\n",
    "\n",
    "没什么问题"
   ]
  },
  {
   "cell_type": "code",
   "execution_count": 1,
   "id": "6ed0cfea",
   "metadata": {},
   "outputs": [],
   "source": [
    "import sys\n",
    "\n",
    "# 需要把当前项目的根目录加到 sys.path 中，才能找到 modules 下的 Index 模块\n",
    "sys.path.append(r'C:\\Users\\Lenovo\\Desktop\\RAG rebuild')"
   ]
  },
  {
   "cell_type": "code",
   "execution_count": 2,
   "id": "be6b451a",
   "metadata": {},
   "outputs": [],
   "source": [
    "from RAGwithJudge.llm_as_a_judge_node import get_rag_with_judge_workflow\n",
    "\n",
    "\n",
    "llm_as_a_judge_wf = get_rag_with_judge_workflow()"
   ]
  },
  {
   "cell_type": "code",
   "execution_count": 3,
   "id": "e5352ad3",
   "metadata": {},
   "outputs": [
    {
     "data": {
      "image/png": "[encoded data removed]",
      "text/plain": [
       "<IPython.core.display.Image object>"
      ]
     },
     "metadata": {},
     "output_type": "display_data"
    }
   ],
   "source": [
    "g = llm_as_a_judge_wf.compile()\n",
    "\n",
    "from IPython.display import Image, display\n",
    "\n",
    "display(Image(g.get_graph().draw_mermaid_png()))"
   ]
  },
  {
   "cell_type": "markdown",
   "id": "c05d4943",
   "metadata": {},
   "source": [
    "*2025.06.02*\n",
    "\n",
    "测试 Judge_node\n",
    "\n",
    "暂时没什么问题"
   ]
  },
  {
   "cell_type": "code",
   "execution_count": 1,
   "id": "22314d32",
   "metadata": {},
   "outputs": [],
   "source": [
    "import sys\n",
    "\n",
    "# 需要把当前项目的根目录加到 sys.path 中，才能找到 modules 下的 Index 模块\n",
    "sys.path.append(r'C:\\Users\\Lenovo\\Desktop\\RAG rebuild')"
   ]
  },
  {
   "cell_type": "code",
   "execution_count": 2,
   "id": "37fc7027",
   "metadata": {},
   "outputs": [],
   "source": [
    "from loguru import logger as log\n",
    "from pydantic import BaseModel, Field\n",
    "from typing import Literal\n",
    "\n",
    "from RAGwithJudge.state import JudgeState\n",
    "from RAGwithJudge.judge_prompt import get_judge_prompt\n",
    "\n",
    "from langchain_core.runnables import RunnableConfig"
   ]
  },
  {
   "cell_type": "code",
   "execution_count": 3,
   "id": "22e168b7",
   "metadata": {},
   "outputs": [
    {
     "name": "stdout",
     "output_type": "stream",
     "text": [
      "score=1 reasoning='→' remaining_question=''\n",
      "score=1 reasoning='→ 步骤1：问题' remaining_question=''\n",
      "score=1 reasoning=\"→ 步骤1：问题核心是'谁写了《\" remaining_question=''\n",
      "score=1 reasoning=\"→ 步骤1：问题核心是'谁写了《哈姆雷特》'\\n→ 步骤2\" remaining_question=''\n",
      "score=1 reasoning=\"→ 步骤1：问题核心是'谁写了《哈姆雷特》'\\n→ 步骤2：知识提到莎士比亚\" remaining_question=''\n",
      "score=1 reasoning=\"→ 步骤1：问题核心是'谁写了《哈姆雷特》'\\n→ 步骤2：知识提到莎士比亚是剧作家，但\" remaining_question=''\n",
      "score=1 reasoning=\"→ 步骤1：问题核心是'谁写了《哈姆雷特》'\\n→ 步骤2：知识提到莎士比亚是剧作家，但未明确说明他\" remaining_question=''\n",
      "score=1 reasoning=\"→ 步骤1：问题核心是'谁写了《哈姆雷特》'\\n→ 步骤2：知识提到莎士比亚是剧作家，但未明确说明他写了《哈姆\" remaining_question=''\n",
      "score=1 reasoning=\"→ 步骤1：问题核心是'谁写了《哈姆雷特》'\\n→ 步骤2：知识提到莎士比亚是剧作家，但未明确说明他写了《哈姆雷特》\\n→\" remaining_question=''\n",
      "score=1 reasoning=\"→ 步骤1：问题核心是'谁写了《哈姆雷特》'\\n→ 步骤2：知识提到莎士比亚是剧作家，但未明确说明他写了《哈姆雷特》\\n→ 步骤3：虽然\" remaining_question=''\n",
      "score=1 reasoning=\"→ 步骤1：问题核心是'谁写了《哈姆雷特》'\\n→ 步骤2：知识提到莎士比亚是剧作家，但未明确说明他写了《哈姆雷特》\\n→ 步骤3：虽然强烈暗示，但知识并未\" remaining_question=''\n",
      "score=1 reasoning=\"→ 步骤1：问题核心是'谁写了《哈姆雷特》'\\n→ 步骤2：知识提到莎士比亚是剧作家，但未明确说明他写了《哈姆雷特》\\n→ 步骤3：虽然强烈暗示，但知识并未直接确认莎士比亚\" remaining_question=''\n",
      "score=1 reasoning=\"→ 步骤1：问题核心是'谁写了《哈姆雷特》'\\n→ 步骤2：知识提到莎士比亚是剧作家，但未明确说明他写了《哈姆雷特》\\n→ 步骤3：虽然强烈暗示，但知识并未直接确认莎士比亚是《哈姆雷特\" remaining_question=''\n",
      "score=1 reasoning=\"→ 步骤1：问题核心是'谁写了《哈姆雷特》'\\n→ 步骤2：知识提到莎士比亚是剧作家，但未明确说明他写了《哈姆雷特》\\n→ 步骤3：虽然强烈暗示，但知识并未直接确认莎士比亚是《哈姆雷特》的作者\\n→\" remaining_question=''\n",
      "score=1 reasoning=\"→ 步骤1：问题核心是'谁写了《哈姆雷特》'\\n→ 步骤2：知识提到莎士比亚是剧作家，但未明确说明他写了《哈姆雷特》\\n→ 步骤3：虽然强烈暗示，但知识并未直接确认莎士比亚是《哈姆雷特》的作者\\n→ 步骤4：符合部分\" remaining_question=''\n",
      "score=1 reasoning=\"→ 步骤1：问题核心是'谁写了《哈姆雷特》'\\n→ 步骤2：知识提到莎士比亚是剧作家，但未明确说明他写了《哈姆雷特》\\n→ 步骤3：虽然强烈暗示，但知识并未直接确认莎士比亚是《哈姆雷特》的作者\\n→ 步骤4：符合部分有用标准(1分)\" remaining_question=''\n",
      "score=1 reasoning=\"→ 步骤1：问题核心是'谁写了《哈姆雷特》'\\n→ 步骤2：知识提到莎士比亚是剧作家，但未明确说明他写了《哈姆雷特》\\n→ 步骤3：虽然强烈暗示，但知识并未直接确认莎士比亚是《哈姆雷特》的作者\\n→ 步骤4：符合部分有用标准(1分)\" remaining_question='莎士比亚是否'\n",
      "score=1 reasoning=\"→ 步骤1：问题核心是'谁写了《哈姆雷特》'\\n→ 步骤2：知识提到莎士比亚是剧作家，但未明确说明他写了《哈姆雷特》\\n→ 步骤3：虽然强烈暗示，但知识并未直接确认莎士比亚是《哈姆雷特》的作者\\n→ 步骤4：符合部分有用标准(1分)\" remaining_question='莎士比亚是否写了《哈姆'\n",
      "score=1 reasoning=\"→ 步骤1：问题核心是'谁写了《哈姆雷特》'\\n→ 步骤2：知识提到莎士比亚是剧作家，但未明确说明他写了《哈姆雷特》\\n→ 步骤3：虽然强烈暗示，但知识并未直接确认莎士比亚是《哈姆雷特》的作者\\n→ 步骤4：符合部分有用标准(1分)\" remaining_question='莎士比亚是否写了《哈姆雷特》？'\n"
     ]
    }
   ],
   "source": [
    "from langchain_openai import ChatOpenAI\n",
    "import os\n",
    "from dotenv import load_dotenv\n",
    "\n",
    "from langchain_openai import ChatOpenAI\n",
    "\n",
    "\n",
    "load_dotenv()\n",
    "\n",
    "llm = ChatOpenAI(\n",
    "    api_key=os.getenv(\"BL_API_KEY\"),\n",
    "    base_url=os.getenv(\"BL_BASE_URL\"),\n",
    "    model='qwen-max-latest',\n",
    "    temperature=0.0\n",
    ")\n",
    "\n",
    "class JudgeInformation(BaseModel):\n",
    "    score: Literal[0, 1, 2] = Field(\n",
    "        description=\"评分：0=完全无用, 1=部分有用, 2=完全有用\"\n",
    "    )\n",
    "    reasoning: str = Field(description=\"推理过程\")\n",
    "    remaining_question: str = Field(\n",
    "        description=\"当 score=1（知识部分有用）时改写生成的问题，其他得分时返回空字符串\",\n",
    "        default=''\n",
    "    )\n",
    "\n",
    "query = '谁写了《哈姆雷特》？'\n",
    "similar_chunk = \"莎士比亚是英国著名剧作家\"\n",
    "prompt = [get_judge_prompt(query=query, context=similar_chunk)]\n",
    "\n",
    "llm = llm.with_structured_output(JudgeInformation)\n",
    "\n",
    "for chunk in llm.stream(prompt):\n",
    "    print(chunk)"
   ]
  },
  {
   "cell_type": "code",
   "execution_count": 4,
   "id": "10b96dca",
   "metadata": {},
   "outputs": [
    {
     "name": "stdout",
     "output_type": "stream",
     "text": [
      "# 角色\n",
      "你是一个AI信息分析专家，负责严格按以下规则评估知识片段对问题的帮助程度\n",
      "\n",
      "## 评估标准\n",
      "1. **完全有用(2分)**：知识能独立且完整地回答问题的所有部分\n",
      "2. **部分有用(1分)**：知识仅能回答问题的某些部分，但非全部\n",
      "3. **完全无用(0分)**：知识与问题无关或无法回答任何部分\n",
      "\n",
      "## 处理规则\n",
      "1. 执行思考链分析：必须按步骤思考\n",
      "   → 步骤1：解析问题核心需求\n",
      "   → 步骤2：提取知识关键信息\n",
      "   → 步骤3：比对知识覆盖范围\n",
      "   → 步骤4：确定评分等级\n",
      "2. 当评分为1（部分有用）时：\n",
      "   - 必须生成改写后的新问题\n",
      "   - 新问题需满足：\n",
      "     a. 仅聚焦原始问题中未被回答的部分\n",
      "     b. 保持原始问题意图\n",
      "     c. 使用原始问题中的关键实体\n",
      "     d. 消除所有代词指代\n",
      "     e. **不引入**知识中未出现的新信息\n",
      "     f. 尽量简洁具体\n",
      "3. 其他评分情况返回空字符串\n",
      "\n",
      "## 输出格式（严格JSON）\n",
      "{\n",
      "  \"score\": 整数, // 必须是0、1或2\n",
      "  \"reason\": \"字符串格式的思考过程\",\n",
      "  \"remaining_query\": \"字符串，当且仅当score=1时非空\"\n",
      "}\n",
      "\n",
      "## 参考示例\n",
      "示例1 (完全有用 - 2分)\n",
      "问题：\"克里斯蒂亚诺·罗纳尔多在曼联效力期间获得了哪些主要个人奖项？\"\n",
      "知识：\"2008年，效力于曼联的C罗获得了金球奖和欧洲金靴奖。\"\n",
      "思考：\n",
      "→ 步骤1：问题核心是\"曼联期间的主要个人奖项\"\n",
      "→ 步骤2：知识明确提到金球奖和欧洲金靴奖两个主要奖项\n",
      "→ 步骤3：知识完整覆盖问题所有要素\n",
      "→ 步骤4：符合完全有用标准(2分)\n",
      "输出：\n",
      "{\n",
      "  \"score\": 2,\n",
      "  \"reason\": \"知识完整提供了C罗在曼联期间获得的两项最高个人荣誉\",\n",
      "  \"remaining_query\": \"\"\n",
      "}\n",
      "\n",
      "示例2 (部分有用 - 1分)\n",
      "问题：\"《哈利波特》作者J.K.罗琳的母校是哪所大学？她在那学习了什么专业？\"\n",
      "知识：\"J.K.罗琳毕业于埃克塞特大学。\"\n",
      "思考：\n",
      "→ 步骤1：问题有两个子问题：大学名称和专业\n",
      "→ 步骤2：知识只回答了大学名称(埃克塞特)\n",
      "→ 步骤3：专业信息完全缺失\n",
      "→ 步骤4：符合部分有用标准(1分)\n",
      "输出：\n",
      "{\n",
      "  \"score\": 1,\n",
      "  \"reason\": \"知识回答了大学名称但未提供专业信息\",\n",
      "  \"remaining_query\": \"J.K.罗琳在埃克塞特大学学习的专业是什么？\"\n",
      "}\n",
      "\n",
      "示例3 (完全无用 - 0分)\n",
      "问题：\"特斯拉CEO埃隆·马斯克的第一任妻子是谁？\"\n",
      "知识：\"埃隆·马斯克是SpaceX的创始人和CEO。\"\n",
      "思考：\n",
      "→ 步骤1：问题核心是\"第一任妻子\"\n",
      "→ 步骤2：知识只描述职业身份\n",
      "→ 步骤3：无婚姻相关信息\n",
      "→ 步骤4：符合完全无用标准(0分)\n",
      "输出：\n",
      "{\n",
      "  \"score\": 0,\n",
      "  \"reason\": \"知识未包含任何与马斯克婚姻相关的信息\",\n",
      "  \"remaining_query\": \"\"\n",
      "}\n",
      "\n",
      "示例4 (边界案例)\n",
      "问题：\"《了不起的盖茨比》作者弗朗西斯·斯科特·菲茨杰拉德的出生和死亡年份分别是？\"\n",
      "知识：\"F·斯科特·菲茨杰拉德于1940年去世。\"\n",
      "思考：\n",
      "→ 步骤1：问题要求两个时间点：出生年和死亡年\n",
      "→ 步骤2：知识只提供了死亡年(1940)\n",
      "→ 步骤3：出生年信息缺失\n",
      "→ 步骤4：符合部分有用标准(1分)\n",
      "输出：\n",
      "{\n",
      "  \"score\": 1,\n",
      "  \"reason\": \"知识提供了死亡年份但未给出出生年份\",\n",
      "  \"remaining_query\": \"《了不起的盖茨比》作者弗朗西斯·斯科特·菲茨杰拉德的出生年份是？\"\n",
      "}\n",
      "\n",
      "示例5 (多跳推理)\n",
      "问题：\"莱昂纳多·迪卡普里奥获得奥斯卡奖的电影的导演出生在哪里？\"\n",
      "知识：\"莱昂纳多凭借《荒野猎人》获得2016年奥斯卡最佳男主角\"\n",
      "思考：\n",
      "→ 步骤1：问题需要两跳：1)获奖电影 2)该片导演的出生地\n",
      "→ 步骤2：知识只回答了第一跳（电影名称）\n",
      "→ 步骤3：导演出生地完全缺失\n",
      "→ 步骤4：部分有用(1分)，需改写剩余问题\n",
      "输出：\n",
      "{\n",
      "  \"score\": 1, \n",
      "  \"reason\": \"知识提供了获奖电影但未包含导演出生地信息\", \n",
      "  \"remaining_query\": \"《荒野猎人》的导演出生在哪里？\"\n",
      "}\n",
      "\n",
      "示例6 (实体歧义)\n",
      "问题：\"苹果公司最新CEO的母校是哪所大学？\"\n",
      "知识：\"蒂姆·库克在奥本大学获得工业工程学士学位\"\n",
      "思考：\n",
      "→ 步骤1：明确\"苹果公司\"指科技公司而非水果\n",
      "→ 步骤2：知识确认了当前CEO(库克)的教育背景\n",
      "→ 步骤3：完整回答了问题\n",
      "→ 步骤4：完全有用(2分)\n",
      "输出：\n",
      "{\n",
      "  \"score\": 2, \n",
      "  \"reason\": \"知识明确将'苹果公司'关联到蒂姆·库克并提供了母校信息\", \n",
      "  \"remaining_query\": \"\"\n",
      "}\n",
      "\n",
      "## 当前任务\n",
      "问题：谁写了《哈姆雷特》？\n",
      "知识：莎士比亚是英国著名剧作家\n",
      "现在开始逐步思考：\n",
      "\n"
     ]
    }
   ],
   "source": [
    "print(prompt[0].content)"
   ]
  },
  {
   "cell_type": "markdown",
   "id": "cb771be6",
   "metadata": {},
   "source": []
  },
  {
   "cell_type": "markdown",
   "id": "d1f71284",
   "metadata": {},
   "source": [
    "*2025.05.27*\n",
    "\n",
    "测试 Naive RAG\n",
    "\n",
    "在传递图的运行时配置时，参数名只能是 `config`，不然 LangGraph 无法解析对应的参数，会报出某个接受 config 的函数缺少一个位置参数的错误。这是因为你在调用图时，是将运行时配置传递到图的 `config` 形参中，自然其他的参数 LangGraph 是解析不了的\n",
    "\n",
    "其他的没什么了"
   ]
  },
  {
   "cell_type": "code",
   "execution_count": 1,
   "id": "47dbcdab",
   "metadata": {},
   "outputs": [],
   "source": [
    "import sys\n",
    "\n",
    "# 需要把当前项目的根目录加到 sys.path 中，才能找到 modules 下的 Index 模块\n",
    "sys.path.append(r'C:\\Users\\Lenovo\\Desktop\\RAG rebuild')"
   ]
  },
  {
   "cell_type": "code",
   "execution_count": 2,
   "id": "b3a96e2d",
   "metadata": {},
   "outputs": [
    {
     "name": "stderr",
     "output_type": "stream",
     "text": [
      "\u001b[32m2025-06-03 10:53:20.667\u001b[0m | \u001b[1mINFO    \u001b[0m | \u001b[36mmodules.Index\u001b[0m:\u001b[36mget_index_done\u001b[0m:\u001b[36m160\u001b[0m - \u001b[1mvs_test1 向量数据库已存在，成功加载到内存中\u001b[0m\n"
     ]
    }
   ],
   "source": [
    "import os\n",
    "from dotenv import load_dotenv\n",
    "from loguru import logger as log\n",
    "\n",
    "from modules.Index import Index\n",
    "from NaiveRAG.workflow import get_naive_rag_workflow\n",
    "\n",
    "from langchain_openai import ChatOpenAI, OpenAIEmbeddings\n",
    "from langgraph.checkpoint.memory import MemorySaver\n",
    "\n",
    "load_dotenv()\n",
    "\n",
    "# 1. 定义嵌入模型、聊天模型、向量数据库\n",
    "embed_model = OpenAIEmbeddings(\n",
    "    api_key=os.getenv(\"BL_API_KEY\"),\n",
    "    base_url=os.getenv(\"BL_BASE_URL\"),\n",
    "    model=\"text-embedding-v3\",\n",
    "    dimensions=1024,\n",
    "    check_embedding_ctx_length=False\n",
    ")\n",
    "\n",
    "llm = ChatOpenAI(\n",
    "    api_key=os.getenv(\"BL_API_KEY\"),\n",
    "    base_url=os.getenv(\"BL_BASE_URL\"),\n",
    "    model='qwen-max-latest',\n",
    "    temperature=0.0\n",
    ")\n",
    "\n",
    "vs_test1 = Index(\n",
    "    embed_model=embed_model,\n",
    "    data_path='../data',\n",
    "    file_type_wanted={'.pdf'},\n",
    "    vector_store_name='vs_test1'\n",
    ")\n",
    "vs_test1.get_index_done()\n",
    "vector_store = vs_test1.vector_store"
   ]
  },
  {
   "cell_type": "code",
   "execution_count": 3,
   "id": "51f5406f",
   "metadata": {},
   "outputs": [],
   "source": [
    "# 2. 定义图相关的配置，包括 为图配置记忆、编译后的图、图的运行时配置\n",
    "# 为图添加线程级持久化\n",
    "memory = MemorySaver()\n",
    "naive_rag_wf = get_naive_rag_workflow()\n",
    "naive_rag = naive_rag_wf.compile(checkpointer=memory)  # 编译图\n",
    "\n",
    "# 定义运行时配置\n",
    "run_config = {\n",
    "    'configurable': {\n",
    "        'vector_store': vector_store,\n",
    "        'top_k': 3,\n",
    "        'llm': llm,\n",
    "        'thread_id': '1'\n",
    "    }\n",
    "}"
   ]
  },
  {
   "cell_type": "code",
   "execution_count": 4,
   "id": "eb6dc5ec",
   "metadata": {},
   "outputs": [
    {
     "data": {
      "image/png": "[encoded data removed]",
      "text/plain": [
       "<IPython.core.display.Image object>"
      ]
     },
     "metadata": {},
     "output_type": "display_data"
    }
   ],
   "source": [
    "from IPython.display import Image, display\n",
    "\n",
    "display(Image(naive_rag.get_graph().draw_mermaid_png()))"
   ]
  },
  {
   "cell_type": "code",
   "execution_count": 6,
   "id": "3014275f",
   "metadata": {},
   "outputs": [
    {
     "name": "stderr",
     "output_type": "stream",
     "text": [
      "\u001b[32m2025-06-03 10:55:05.217\u001b[0m | \u001b[1mINFO    \u001b[0m | \u001b[36m__main__\u001b[0m:\u001b[36m<module>\u001b[0m:\u001b[36m2\u001b[0m - \u001b[1m用户输入问题：什么是 ToolCall\u001b[0m\n",
      "\u001b[32m2025-06-03 10:55:05.286\u001b[0m | \u001b[1mINFO    \u001b[0m | \u001b[36mNaiveRAG.nodes\u001b[0m:\u001b[36mretriever_node\u001b[0m:\u001b[36m29\u001b[0m - \u001b[1m---------- 进入检索模块 ----------\u001b[0m\n",
      "\u001b[32m2025-06-03 10:55:05.511\u001b[0m | \u001b[1mINFO    \u001b[0m | \u001b[36mNaiveRAG.nodes\u001b[0m:\u001b[36maugmented_node\u001b[0m:\u001b[36m57\u001b[0m - \u001b[1m---------- 进入增强模块 ----------\u001b[0m\n",
      "\u001b[32m2025-06-03 10:55:05.511\u001b[0m | \u001b[1mINFO    \u001b[0m | \u001b[36mNaiveRAG.nodes\u001b[0m:\u001b[36mgenerate_node\u001b[0m:\u001b[36m96\u001b[0m - \u001b[1m---------- 进入生成模块 ----------\u001b[0m\n"
     ]
    }
   ],
   "source": [
    "query = input('请输入你的问题：')\n",
    "log.info(f'用户输入问题：{query}')\n",
    "\n",
    "response = naive_rag.invoke(\n",
    "    input={'query': query},  # input 是传递给图的输入\n",
    "    config=run_config\n",
    ")"
   ]
  },
  {
   "cell_type": "code",
   "execution_count": 7,
   "id": "d39056b5",
   "metadata": {},
   "outputs": [
    {
     "data": {
      "text/plain": [
       "{'messages': [SystemMessage(content='\\n    你是一个基于检索增强生成（RAG）的智能助手，必须严格遵循以下增强工作流程：\\n\\n    1. **上下文解析规范**\\n    - 接收格式化上下文片段（示例：[[文件名_pX] 内容]）\\n    - 自动解析元数据格式：`文件名_pX`对应具体文档页码\\n    - 对每个片段执行二重有效性验证：\\n       - 内容与问题的相关性（0-10分制）\\n       - 信息完整性验证（是否包含必要技术细节）\\n\\n    2. **引用增强规则**\\n    - 有效引用必须包含文件标识（格式：[文件名_pX]）\\n    - 多来源引用需标注所有相关文件页码（例：[开题报告_p8][开题报告_p9]）\\n    - 当同一文件不同页内容相关时，使用范围标注（例：[开题报告_p8-10]）\\n\\n    3. **响应策略**\\n    - 无法定位有效文件引用时立即终止回答\\n    - 禁止使用模糊指代（如\"相关文档\"、\"某文件\"）\\n    - 引用错误率超过20%时自动触发回答终止机制\\n\\n    4. **输出规范**\\n    - 标准响应格式：`答案内容 [开题报告_p8][开题报告_p9]`\\n    - 无法回答时使用：\"对不起，根据提供的文件内容无法回答该问题\"\\n    ', additional_kwargs={}, response_metadata={}, id='7d0580f4-cca5-4eb5-a7ea-bd584f572458'),\n",
       "  HumanMessage(content=\"请仔细阅读、理解下面由<>包围的知识，并使用这些知识来回答用户的提问。\\n\\n    知识: <['[4_p0] Tool calling  \\\\nA type of chat model API that accepts tool schemas, along with messages, as \\\\ninput and returns invocations of those tools as part of the output message.\\\\n❗  PREREQUISITES\\\\nTools\\\\nChat Models\\\\nOverview  \\\\n许多人工智能应用直接与人类互动。在这些情况下，模型以自然语言做出回应 \\\\n是合适的。 \\\\n但是如果我们希望模型能够  直接  与系统（例如数据库或  API ）交互，该怎么办 \\\\n呢？这些系统通常具有特定的输入模式；例如， APIs frequently have a \\\\nrequired payload structure。 \\\\n这种需求催生了  tool calling 的概念。您可以使用  tool calling 来请求与特定模式 \\\\n匹配的模型响应（ You can use tool calling to request model responses that \\\\nmatch a particular schema ）。 \\\\n❗  INFO\\\\nfunction calling 在  LangChian 中等价于  tool calling\\\\n\\\\xa0\\\\n💡', '[4_p4] Tool calling  \\\\n工具调用的一个关键原则是，模型根据输入的相关性决定何时使用工具。模型 \\\\n并不总是需要调用工具。例如，给定一个不相关的输入，模型不会调用该工 \\\\n具： \\\\n结果将会是一个  AIMessage，其中包含模型以自然语言做出的响应（例如 “ 你 \\\\n好！ ” ）。但是，如果我们传递与工具相关的输入，模型应该选择调用它： \\\\n与之前一样，输出  result 将是  AIMessage。但是，如果调用了该工具， \\\\nresult 将具有  tool_calls 属性。此属性包含执行该工具所需的所有内容，包 \\\\n括工具名称和输入参数： \\\\nFor more details on usage, see our how-to guides （这是有关  tool 的  how to \\\\nguides ） !\\\\nTool execution  \\\\ntool 包含了  Runnable 接口，这意味着它们可以被直接调用（例如， \\\\ntool.invoke(args) ，这点在  tools 的本地翻译  中也提到）。 \\\\nLangGraph 提供了预构建的组件（例如， ToolNode），这些组件通常会代表用 \\\\n户调用工具（就不用  user 自己调了）。 \\\\n❗  Further reading\\\\nSee our How to use chat models to call tools on tool calling.\\\\nSee the LangGraph documentation on using ToolNode.', '[4_p1] 在  LangChain In the loop 系列  Blog 的第  4 篇  Plaining for Agents 中就提到 \\\\n了  function call （ tool calling ） 可以理解为  模式匹配 （原文：  With \\\\nfunction calling, you can provide JSON schemas for different functions \\\\nand have the LLM output object match one (or more) of those schemas. \\\\nFor more information on how to do this, see our guide here. ） \\\\n\\\\xa0\\\\n模式匹配  这个描述确实表达出了  tool calling 过程中实际的意思。 \\\\n在阅读  Tools、 How to create tools 后， LangChain 中的  tool 可以是  \\\\nfunction + schema ，这个  schema 包括  name 、 descripton 。 excepted \\\\nargs 。 \\\\n这个  schema ，这个模式，就是  你向  LLM 提供的  JSON schema （虽然不是 \\\\n你自己一个一个定义的。是  LangChian 在定义  tool 时替你包装好的）； \\\\nLLM 需要根据你输入的  prompt 匹配  对应的参数，之后将匹配得到参数返 \\\\n回给  tool ， tool 根据参数执行并将执行的结果返回给  LLM ， LLM 在经过处']> \\n    用户问题: 什么是 ToolCall\\n    答案: \\n    \", additional_kwargs={}, response_metadata={}, id='e9e860e4-21d7-4100-8072-8f1ce9280257'),\n",
       "  AIMessage(content='ToolCall 是一种聊天模型 API 的功能，它接受工具模式（tool schemas）和消息作为输入，并在输出消息中返回这些工具的调用。具体来说，当模型需要与特定系统（如数据库或 API）交互时，可以通过 ToolCall 请求与特定模式匹配的模型响应。这意味着，如果输入与某个工具相关，模型会选择调用该工具，并在输出中包含 `tool_calls` 属性，其中包含工具名称和输入参数等信息。[4_p0] \\n\\n此外，工具调用的一个关键原则是，模型根据输入的相关性决定是否使用工具。如果不相关的输入，模型不会调用工具，而是以自然语言进行响应。如果输入与工具相关，模型会选择调用工具，并通过 `tool.invoke(args)` 直接执行工具。[4_p4] \\n\\n在 LangChain 中，ToolCall 可被视为一种模式匹配过程，其中涉及到的 schema 包括 name、description 和 expected args，这些模式帮助 LLM 根据输入匹配相应的参数并执行工具。[4_p1]', additional_kwargs={'refusal': None}, response_metadata={'token_usage': {'completion_tokens': 224, 'prompt_tokens': 1186, 'total_tokens': 1410, 'completion_tokens_details': None, 'prompt_tokens_details': None}, 'model_name': 'qwen-max-latest', 'system_fingerprint': None, 'finish_reason': 'stop', 'logprobs': None}, id='run-3e687aec-3fab-4dbb-9c10-2d3b288b3d84-0', usage_metadata={'input_tokens': 1186, 'output_tokens': 224, 'total_tokens': 1410, 'input_token_details': {}, 'output_token_details': {}})],\n",
       " 'query': '什么是 ToolCall',\n",
       " 'similar_chunks': [Document(metadata={'page': 0, 'start_index': 0, 'pk': '06eef07c-219e-4072-9a51-74112372c0a2', 'source': '../data\\\\4. Tool calling.pdf'}, page_content='Tool calling  \\nA type of chat model API that accepts tool schemas, along with messages, as \\ninput and returns invocations of those tools as part of the output message.\\n❗  PREREQUISITES\\nTools\\nChat Models\\nOverview  \\n许多人工智能应用直接与人类互动。在这些情况下，模型以自然语言做出回应 \\n是合适的。 \\n但是如果我们希望模型能够  直接  与系统（例如数据库或  API ）交互，该怎么办 \\n呢？这些系统通常具有特定的输入模式；例如， APIs frequently have a \\nrequired payload structure。 \\n这种需求催生了  tool calling 的概念。您可以使用  tool calling 来请求与特定模式 \\n匹配的模型响应（ You can use tool calling to request model responses that \\nmatch a particular schema ）。 \\n❗  INFO\\nfunction calling 在  LangChian 中等价于  tool calling\\n\\xa0\\n💡'),\n",
       "  Document(metadata={'page': 4, 'start_index': 0, 'pk': 'b6bed485-946e-4e86-9eed-86faef133946', 'source': '../data\\\\4. Tool calling.pdf'}, page_content='Tool calling  \\n工具调用的一个关键原则是，模型根据输入的相关性决定何时使用工具。模型 \\n并不总是需要调用工具。例如，给定一个不相关的输入，模型不会调用该工 \\n具： \\n结果将会是一个  AIMessage，其中包含模型以自然语言做出的响应（例如 “ 你 \\n好！ ” ）。但是，如果我们传递与工具相关的输入，模型应该选择调用它： \\n与之前一样，输出  result 将是  AIMessage。但是，如果调用了该工具， \\nresult 将具有  tool_calls 属性。此属性包含执行该工具所需的所有内容，包 \\n括工具名称和输入参数： \\nFor more details on usage, see our how-to guides （这是有关  tool 的  how to \\nguides ） !\\nTool execution  \\ntool 包含了  Runnable 接口，这意味着它们可以被直接调用（例如， \\ntool.invoke(args) ，这点在  tools 的本地翻译  中也提到）。 \\nLangGraph 提供了预构建的组件（例如， ToolNode），这些组件通常会代表用 \\n户调用工具（就不用  user 自己调了）。 \\n❗  Further reading\\nSee our How to use chat models to call tools on tool calling.\\nSee the LangGraph documentation on using ToolNode.'),\n",
       "  Document(metadata={'page': 1, 'start_index': 0, 'pk': 'ec2cb135-e72a-4677-9d9a-036e52f31d01', 'source': '../data\\\\4. Tool calling.pdf'}, page_content='在  LangChain In the loop 系列  Blog 的第  4 篇  Plaining for Agents 中就提到 \\n了  function call （ tool calling ） 可以理解为  模式匹配 （原文：  With \\nfunction calling, you can provide JSON schemas for different functions \\nand have the LLM output object match one (or more) of those schemas. \\nFor more information on how to do this, see our guide here. ） \\n\\xa0\\n模式匹配  这个描述确实表达出了  tool calling 过程中实际的意思。 \\n在阅读  Tools、 How to create tools 后， LangChain 中的  tool 可以是  \\nfunction + schema ，这个  schema 包括  name 、 descripton 。 excepted \\nargs 。 \\n这个  schema ，这个模式，就是  你向  LLM 提供的  JSON schema （虽然不是 \\n你自己一个一个定义的。是  LangChian 在定义  tool 时替你包装好的）； \\nLLM 需要根据你输入的  prompt 匹配  对应的参数，之后将匹配得到参数返 \\n回给  tool ， tool 根据参数执行并将执行的结果返回给  LLM ， LLM 在经过处')],\n",
       " 'answer': 'ToolCall 是一种聊天模型 API 的功能，它接受工具模式（tool schemas）和消息作为输入，并在输出消息中返回这些工具的调用。具体来说，当模型需要与特定系统（如数据库或 API）交互时，可以通过 ToolCall 请求与特定模式匹配的模型响应。这意味着，如果输入与某个工具相关，模型会选择调用该工具，并在输出中包含 `tool_calls` 属性，其中包含工具名称和输入参数等信息。[4_p0] \\n\\n此外，工具调用的一个关键原则是，模型根据输入的相关性决定是否使用工具。如果不相关的输入，模型不会调用工具，而是以自然语言进行响应。如果输入与工具相关，模型会选择调用工具，并通过 `tool.invoke(args)` 直接执行工具。[4_p4] \\n\\n在 LangChain 中，ToolCall 可被视为一种模式匹配过程，其中涉及到的 schema 包括 name、description 和 expected args，这些模式帮助 LLM 根据输入匹配相应的参数并执行工具。[4_p1]'}"
      ]
     },
     "execution_count": 7,
     "metadata": {},
     "output_type": "execute_result"
    }
   ],
   "source": [
    "response"
   ]
  },
  {
   "cell_type": "code",
   "execution_count": 8,
   "id": "58ea57f4",
   "metadata": {},
   "outputs": [
    {
     "data": {
      "text/plain": [
       "langgraph.pregel.io.AddableValuesDict"
      ]
     },
     "execution_count": 8,
     "metadata": {},
     "output_type": "execute_result"
    }
   ],
   "source": [
    "type(response)"
   ]
  },
  {
   "cell_type": "code",
   "execution_count": 5,
   "id": "8bb69f84",
   "metadata": {},
   "outputs": [
    {
     "name": "stderr",
     "output_type": "stream",
     "text": [
      "\u001b[32m2025-05-27 10:17:13.081\u001b[0m | \u001b[1mINFO    \u001b[0m | \u001b[36m__main__\u001b[0m:\u001b[36m<module>\u001b[0m:\u001b[36m3\u001b[0m - \u001b[1m用户输入问题：什么是 tool calling\u001b[0m\n",
      "\u001b[32m2025-05-27 10:17:13.145\u001b[0m | \u001b[1mINFO    \u001b[0m | \u001b[36mNaiveRAG.nodes\u001b[0m:\u001b[36mretriever_node\u001b[0m:\u001b[36m29\u001b[0m - \u001b[1m---------- 进入检索模块 ----------\u001b[0m\n"
     ]
    },
    {
     "name": "stdout",
     "output_type": "stream",
     "text": [
      "---------- 进入检索模块 ----------\n"
     ]
    },
    {
     "name": "stderr",
     "output_type": "stream",
     "text": [
      "\u001b[32m2025-05-27 10:17:13.429\u001b[0m | \u001b[1mINFO    \u001b[0m | \u001b[36mNaiveRAG.nodes\u001b[0m:\u001b[36maugmented_node\u001b[0m:\u001b[36m57\u001b[0m - \u001b[1m---------- 进入增强模块 ----------\u001b[0m\n",
      "\u001b[32m2025-05-27 10:17:13.461\u001b[0m | \u001b[1mINFO    \u001b[0m | \u001b[36mNaiveRAG.nodes\u001b[0m:\u001b[36mgenerate_node\u001b[0m:\u001b[36m96\u001b[0m - \u001b[1m---------- 进入生成模块 ----------\u001b[0m\n"
     ]
    },
    {
     "name": "stdout",
     "output_type": "stream",
     "text": [
      "---------- 进入增强模块 ----------\n",
      "---------- 进入生成模块 ----------\n",
      "Tool calling 是一种聊天模型 API，它接受工具模式（tool schemas）和消息作为输入，并在输出消息中返回这些工具的调用。这个概念的出现是为了解决模型需要与特定系统（例如数据库或 API）直接交互的需求。这些系统通常有特定的输入模式，比如 API 通常需要特定的负载结构。通过 tool calling，可以请求模型生成符合特定模式的响应。简单来说，tool calling 使得模型能够根据输入的相关性决定何时以及如何调用外部工具或函数。这种方法在 LangChain 中也被称为 function calling。\n",
      "\n",
      "[4_p0][4_p3]"
     ]
    }
   ],
   "source": [
    "# 流式传入运行图的结果\n",
    "query = input('请输入你的问题：')\n",
    "log.info(f'用户输入问题：{query}')\n",
    "for message, metadata in naive_rag.stream(\n",
    "        input={'query': query},  # input 是传递给图的输入\n",
    "        stream_mode=\"messages\",\n",
    "        config=run_config\n",
    "):\n",
    "    if metadata[\"langgraph_node\"] == \"generate\":\n",
    "        print(message.content, end='', flush=True)"
   ]
  },
  {
   "cell_type": "markdown",
   "id": "8a55f8b2",
   "metadata": {},
   "source": [
    "*2025.05.26*\n",
    "\n",
    "测试 retriever 中的内容\n",
    "\n",
    "暂时没发现什么问题"
   ]
  },
  {
   "cell_type": "code",
   "execution_count": 1,
   "id": "fb75d28b",
   "metadata": {},
   "outputs": [],
   "source": [
    "# 定义嵌入模型\n",
    "\n",
    "import os\n",
    "from dotenv import load_dotenv\n",
    "\n",
    "from langchain_milvus import Milvus\n",
    "from langchain_openai import OpenAIEmbeddings\n",
    "\n",
    "load_dotenv()\n",
    "\n",
    "embed_model = OpenAIEmbeddings(\n",
    "    api_key=os.getenv(\"BL_API_KEY\"),\n",
    "    base_url=os.getenv(\"BL_BASE_URL\"),\n",
    "    model=\"text-embedding-v3\",\n",
    "    dimensions=1024,\n",
    "    check_embedding_ctx_length=False\n",
    ")"
   ]
  },
  {
   "cell_type": "code",
   "execution_count": 2,
   "id": "2376f128",
   "metadata": {},
   "outputs": [],
   "source": [
    "import sys\n",
    "\n",
    "# 需要把当前项目的根目录加到 sys.path 中，才能找到 modules 下的 Index 模块\n",
    "sys.path.append(r'C:\\Users\\Lenovo\\Desktop\\RAG rebuild')"
   ]
  },
  {
   "cell_type": "code",
   "execution_count": 3,
   "id": "bd996c39",
   "metadata": {},
   "outputs": [],
   "source": [
    "from modules.Index import Index\n",
    "\n",
    "# 初始化了一个 Index 实例\n",
    "vs_test1 = Index(\n",
    "    embed_model=embed_model,\n",
    "    data_path='../data',\n",
    "    file_type_wanted={'.pdf'},\n",
    "    vector_store_name='vs_test1'\n",
    ")"
   ]
  },
  {
   "cell_type": "code",
   "execution_count": 4,
   "id": "cafb991f",
   "metadata": {},
   "outputs": [
    {
     "name": "stderr",
     "output_type": "stream",
     "text": [
      "\u001b[32m2025-05-26 18:23:53.125\u001b[0m | \u001b[1mINFO    \u001b[0m | \u001b[36mmodules.Index\u001b[0m:\u001b[36mget_index_done\u001b[0m:\u001b[36m160\u001b[0m - \u001b[1mvs_test1 向量数据库已存在，成功加载到内存中\u001b[0m\n"
     ]
    }
   ],
   "source": [
    "vs_test1.get_index_done()"
   ]
  },
  {
   "cell_type": "code",
   "execution_count": null,
   "id": "0c46073e",
   "metadata": {},
   "outputs": [
    {
     "data": {
      "text/plain": [
       "[(Document(metadata={'start_index': 0, 'pk': '06eef07c-219e-4072-9a51-74112372c0a2', 'source': '../data\\\\4. Tool calling.pdf', 'page': 0}, page_content='Tool calling  \\nA type of chat model API that accepts tool schemas, along with messages, as \\ninput and returns invocations of those tools as part of the output message.\\n❗  PREREQUISITES\\nTools\\nChat Models\\nOverview  \\n许多人工智能应用直接与人类互动。在这些情况下，模型以自然语言做出回应 \\n是合适的。 \\n但是如果我们希望模型能够  直接  与系统（例如数据库或  API ）交互，该怎么办 \\n呢？这些系统通常具有特定的输入模式；例如， APIs frequently have a \\nrequired payload structure。 \\n这种需求催生了  tool calling 的概念。您可以使用  tool calling 来请求与特定模式 \\n匹配的模型响应（ You can use tool calling to request model responses that \\nmatch a particular schema ）。 \\n❗  INFO\\nfunction calling 在  LangChian 中等价于  tool calling\\n\\xa0\\n💡'),\n",
       "  0.43057388067245483),\n",
       " (Document(metadata={'start_index': 0, 'pk': 'b6bed485-946e-4e86-9eed-86faef133946', 'source': '../data\\\\4. Tool calling.pdf', 'page': 4}, page_content='Tool calling  \\n工具调用的一个关键原则是，模型根据输入的相关性决定何时使用工具。模型 \\n并不总是需要调用工具。例如，给定一个不相关的输入，模型不会调用该工 \\n具： \\n结果将会是一个  AIMessage，其中包含模型以自然语言做出的响应（例如 “ 你 \\n好！ ” ）。但是，如果我们传递与工具相关的输入，模型应该选择调用它： \\n与之前一样，输出  result 将是  AIMessage。但是，如果调用了该工具， \\nresult 将具有  tool_calls 属性。此属性包含执行该工具所需的所有内容，包 \\n括工具名称和输入参数： \\nFor more details on usage, see our how-to guides （这是有关  tool 的  how to \\nguides ） !\\nTool execution  \\ntool 包含了  Runnable 接口，这意味着它们可以被直接调用（例如， \\ntool.invoke(args) ，这点在  tools 的本地翻译  中也提到）。 \\nLangGraph 提供了预构建的组件（例如， ToolNode），这些组件通常会代表用 \\n户调用工具（就不用  user 自己调了）。 \\n❗  Further reading\\nSee our How to use chat models to call tools on tool calling.\\nSee the LangGraph documentation on using ToolNode.'),\n",
       "  0.478695809841156),\n",
       " (Document(metadata={'start_index': 0, 'pk': 'ec2cb135-e72a-4677-9d9a-036e52f31d01', 'source': '../data\\\\4. Tool calling.pdf', 'page': 1}, page_content='在  LangChain In the loop 系列  Blog 的第  4 篇  Plaining for Agents 中就提到 \\n了  function call （ tool calling ） 可以理解为  模式匹配 （原文：  With \\nfunction calling, you can provide JSON schemas for different functions \\nand have the LLM output object match one (or more) of those schemas. \\nFor more information on how to do this, see our guide here. ） \\n\\xa0\\n模式匹配  这个描述确实表达出了  tool calling 过程中实际的意思。 \\n在阅读  Tools、 How to create tools 后， LangChain 中的  tool 可以是  \\nfunction + schema ，这个  schema 包括  name 、 descripton 。 excepted \\nargs 。 \\n这个  schema ，这个模式，就是  你向  LLM 提供的  JSON schema （虽然不是 \\n你自己一个一个定义的。是  LangChian 在定义  tool 时替你包装好的）； \\nLLM 需要根据你输入的  prompt 匹配  对应的参数，之后将匹配得到参数返 \\n回给  tool ， tool 根据参数执行并将执行的结果返回给  LLM ， LLM 在经过处'),\n",
       "  0.5909385681152344),\n",
       " (Document(metadata={'start_index': 0, 'pk': '57da6215-5f5e-4f92-a4b6-4ee61c4ea9ef', 'source': '../data\\\\4. Tool calling.pdf', 'page': 3}, page_content='API Reference: tool\\n❗  Further reading\\nSee our conceptual guide on tools， tools 的本地翻译 ， how to \\ncreate tools 本地翻译  for more details.\\nSee our model integrations that support tool calling.\\nSee our how-to guide on tool calling.\\nTool binding  \\nMany model providers support tool calling.\\n❗  TIP\\nSee our model integration page for a list of providers that support tool \\ncalling.\\n要理解的核心概念是  LangChain 提供了一个标准化接口，用于将工具连接到模 \\n型。可以使用  .bind_tools() 方法指定模型可以调用哪些工具。 \\n作为一个具体的例子，我们以函数  multiply 为例，并将其作为工具绑定到支持 \\n工具调用的模型中。 \\nfrom langchain_core.tools import tool\\n@tool\\ndef multiply(a: int, b: int) -> int:\\n    \"\"\"Multiply a and b.\"\"\"\\n    return a * b\\n1\\n2\\n3\\n4\\n5\\n6\\nmodel_with_tools = model.bind_tools(tools_list)1'),\n",
       "  0.5931755304336548),\n",
       " (Document(metadata={'start_index': 651, 'pk': '76cc62d3-784b-4504-8e39-ddec0c7b8d78', 'source': '../data\\\\4. Tool calling.pdf', 'page': 2}, page_content='下面的伪代码说明了使用工具调用的推荐工作流程。创建的工具作为列表传递 \\n给  .bind_tools() 方法。该模型可以像往常一样被调用。如果进行了工具调 \\n用，模型的响应将包含工具调用参数。工具调用参数可以直接传递给工具。 \\nTool creation  \\nThe recommended way to create a tool is using the @tool decorator\\n# Tool creation\\ntools = [my_tool]\\n# Tool binding\\nmodel_with_tools = model.bind_tools(tools)\\n# Tool calling \\nresponse = model_with_tools.invoke(user_input)\\n1\\n2\\n3\\n4\\n5\\n6'),\n",
       "  0.6067702174186707),\n",
       " (Document(metadata={'start_index': 0, 'pk': '163210fb-b27f-4d54-8dcc-45c80253e849', 'source': '../data\\\\4. Tool calling.pdf', 'page': 2}, page_content=\"Key concepts  \\n1. Tool Creation：  Use the @tool decorator to create a tool. A tool is an \\nassociation between a function and its schema\\n2. Tool Binding： The tool needs to be connected to a model that supports \\ntool calling. This gives the model awareness of the tool and the \\nassociated input schema required by the tool （该工具需要连接到支持工 \\n具调用的模型。这使模型能够感知该工具以及该工具所需的相关输入模式） \\n3. Tool Calling： When appropriate, the model can decide to call a tool and \\nensure its response conforms to the tool's input schema （在适当的情况 \\n下，模型可以决定调用一个工具并确保其响应符合该工具的输入模式） \\n4. Tool Execution： The tool can be executed using the arguments \\nprovided by the model\\nRecommended usage  \\n下面的伪代码说明了使用工具调用的推荐工作流程。创建的工具作为列表传递\"),\n",
       "  0.6261216998100281),\n",
       " (Document(metadata={'start_index': 688, 'pk': '1c3289e1-3165-4ee4-a5d3-c039dcd69e61', 'source': '../data\\\\4. Tool calling.pdf', 'page': 5}, page_content=\"建  tool ，大部分场景下都不需要自己手动从  0 开始配置  tool's schema 。并 \\n且在  LangChian 提供的  3 种方法中，都有更改原始  tool‘s schema 中某一项 \\n属性（ name 等）值的方法。 \\n（ OpenAI 在  function call 中所需的  function_definction 和  LangChain 在  \\ntool calling 中所需要的  scheam 可以理解为一共东西） \\n之后， LLM 会根据  user 输入的  prompt ，自己决定是否要调用  tool 。如果 \\n需要调用  tool ，则会从  prompt 中  匹配  tool schema 中所需要的参数。 \\n之后就是将匹配到的参数传递给  tool ， tool 接受参数执行后将结果传递给  \\nLLM ， LLM 得到最后的输出返回  user\\n2. 在  tool creation 中，可以将多个  tool 组成一个列表。之后将这个工具列表 \\n绑定到  LLM ，作为  LLM 可调用的  tool 集合。 \\n3. LangChain 提供了一个标准化接口  .bind_tools() 来将  LLM 和其可以调用 \\n的工具相绑定。这样  LLM 就可以明确自己可以调用哪些工具。 \\n4. tool calling 的一个重要原则是： LLM 自己决定何时调用  tool\"),\n",
       "  0.6619718670845032),\n",
       " (Document(metadata={'start_index': 0, 'pk': '4bead7cd-96bf-4fcd-ba53-96279fc0ab98', 'source': '../data\\\\4. Tool calling.pdf', 'page': 6}, page_content='如果决定调用  tool ，则返回的  AIMessage 中将会有一个  tools_call 属 \\n性，该属性包含了执行一个  tool 所需的所有内容，包括  tool name 和  要输 \\n入的参数 \\n5. Best practices 中的内容对实践很有用 \\n实 现 一 个 可 以 调 用  tool 的  LLM Demn  \\nimport os\\nfrom dotenv import load_dotenv\\nfrom langchain_openai import ChatOpenAI\\nfrom langchain_core.tools import StructuredTool\\nfrom pydantic import BaseModel, Field\\n# 0. 加载  LLM\\nload_dotenv()\\nllm = ChatOpenAI(\\n    #api_key=os.getenv(\"HF_Qwen2.5_API_KEY\"),\\n    #base_url=os.getenv(\"HF_BASE_URL\"),\\n    #model=\"Qwen/Qwen2.5-72B-Instruct\",\\n    # 之前的  BUG 跟模型有关，换用  百炼平台的  API 来调用  LLM 就没\\n有问题了\\n    api_key=os.getenv(\"BL_API_KEY\"),\\n    base_url=os.getenv(\"BL_BASE_URL\"),\\n    model=\"qwen2.5-72b-instruct\",\\n    temperature=0.8,'),\n",
       "  0.7097604274749756),\n",
       " (Document(metadata={'start_index': 649, 'pk': '89f3a39c-50a3-431e-b3b1-c958f202e680', 'source': '../data\\\\4. Tool calling.pdf', 'page': 1}, page_content='回给  tool ， tool 根据参数执行并将执行的结果返回给  LLM ， LLM 在经过处 \\n理返回  user 。 OpenAI 描述的  function call 过程到这里就结束了。'),\n",
       "  0.7136971950531006),\n",
       " (Document(metadata={'start_index': 0, 'pk': 'b38d2f47-cd7b-4c90-b034-d3ff0a7e2f3b', 'source': '../data\\\\4. Tool calling.pdf', 'page': 5}, page_content='Best practices  \\nWhen designing tools to be used by a model, it is important to keep in mind \\nthat:\\nModels that have explicit tool-calling APIs will be better at tool calling \\nthan non-fine-tuned models.\\nModels will perform better if the tools have well-chosen names and \\ndescriptions.\\nSimple, narrowly scoped tools are easier for models to use than \\ncomplex tools.\\nAsking the model to select from a large list of tools poses challenges for \\nthe model.\\n总 结  \\n1. tool calling 的过程可以总结为  模式匹配 。 \\nLangChian 中的  tool 可以为  function + schema ，这个  schema 包括  \\nname 、 description 、 excepted args 。 \\n你需要向  LLM 提供的就是这个  schema 。与  OpenAI 需要自己完成  \\nfunction_definction 的定义不同， LangChain 提供了包装好的方法来便捷创'),\n",
       "  0.7262586951255798)]"
      ]
     },
     "execution_count": 6,
     "metadata": {},
     "output_type": "execute_result"
    }
   ],
   "source": [
    "from modules.retriever import get_similar_chunk_with_score\n",
    "\n",
    "get_similar_chunk_with_score(\n",
    "    query='什么是 Tool calling ？',\n",
    "    vector_store=vs_test1.vector_store,\n",
    "    top_k=10\n",
    ")\n",
    "\n",
    "# 这里的 score 是 distance 的别名，自然越小越好"
   ]
  },
  {
   "cell_type": "markdown",
   "id": "ca6f9ef9",
   "metadata": {},
   "source": [
    "*2025.05.26*\n",
    "\n",
    "测试 Index 模块中的代码\n",
    "\n",
    "好耶！暂时没发现什么问题"
   ]
  },
  {
   "cell_type": "code",
   "execution_count": 1,
   "id": "76649188",
   "metadata": {},
   "outputs": [],
   "source": [
    "# 定义嵌入模型\n",
    "\n",
    "import os\n",
    "from dotenv import load_dotenv\n",
    "\n",
    "from langchain_milvus import Milvus\n",
    "from langchain_openai import OpenAIEmbeddings\n",
    "\n",
    "load_dotenv()\n",
    "\n",
    "embed_model = OpenAIEmbeddings(\n",
    "    api_key=os.getenv(\"BL_API_KEY\"),\n",
    "    base_url=os.getenv(\"BL_BASE_URL\"),\n",
    "    model=\"text-embedding-v3\",\n",
    "    dimensions=1024,\n",
    "    check_embedding_ctx_length=False\n",
    ")"
   ]
  },
  {
   "cell_type": "code",
   "execution_count": 2,
   "id": "e69be438",
   "metadata": {},
   "outputs": [
    {
     "data": {
      "text/plain": [
       "(['4. Tool calling.pdf', '6. LCEL.pdf', 'Cognition_Engineering_zh.pdf'],\n",
       " ['4. Tool calling.pdf', '6. LCEL.pdf', 'Cognition_Engineering_zh.pdf'])"
      ]
     },
     "execution_count": 2,
     "metadata": {},
     "output_type": "execute_result"
    }
   ],
   "source": [
    "os.listdir('../data'), os.listdir(r'C:\\Users\\Lenovo\\Desktop\\RAG rebuild\\data')"
   ]
  },
  {
   "cell_type": "code",
   "execution_count": 3,
   "id": "a3493a5a",
   "metadata": {},
   "outputs": [
    {
     "data": {
      "text/plain": [
       "['d:\\\\NMK\\\\Anaconda\\\\envs\\\\llm\\\\python312.zip',\n",
       " 'd:\\\\NMK\\\\Anaconda\\\\envs\\\\llm\\\\DLLs',\n",
       " 'd:\\\\NMK\\\\Anaconda\\\\envs\\\\llm\\\\Lib',\n",
       " 'd:\\\\NMK\\\\Anaconda\\\\envs\\\\llm',\n",
       " '',\n",
       " 'd:\\\\NMK\\\\Anaconda\\\\envs\\\\llm\\\\Lib\\\\site-packages',\n",
       " 'd:\\\\NMK\\\\Anaconda\\\\envs\\\\llm\\\\Lib\\\\site-packages\\\\win32',\n",
       " 'd:\\\\NMK\\\\Anaconda\\\\envs\\\\llm\\\\Lib\\\\site-packages\\\\win32\\\\lib',\n",
       " 'd:\\\\NMK\\\\Anaconda\\\\envs\\\\llm\\\\Lib\\\\site-packages\\\\Pythonwin']"
      ]
     },
     "execution_count": 3,
     "metadata": {},
     "output_type": "execute_result"
    }
   ],
   "source": [
    "import sys\n",
    "\n",
    "sys.path"
   ]
  },
  {
   "cell_type": "code",
   "execution_count": 4,
   "id": "4c550f77",
   "metadata": {},
   "outputs": [],
   "source": [
    "# 需要把当前项目的根目录加到 sys.path 中，才能找到 modules 下的 Index 模块\n",
    "sys.path.append(r'C:\\Users\\Lenovo\\Desktop\\RAG rebuild')"
   ]
  },
  {
   "cell_type": "code",
   "execution_count": 5,
   "id": "a9a873bb",
   "metadata": {},
   "outputs": [],
   "source": [
    "from modules.Index import Index\n",
    "\n",
    "# 初始化了一个 Index 实例\n",
    "vs_test1 = Index(\n",
    "    embed_model=embed_model,\n",
    "    data_path='../data',\n",
    "    file_type_wanted={'.pdf'},\n",
    "    vector_store_name='vs_test1'\n",
    ")"
   ]
  },
  {
   "cell_type": "code",
   "execution_count": 6,
   "id": "6cb739e3",
   "metadata": {},
   "outputs": [
    {
     "name": "stderr",
     "output_type": "stream",
     "text": [
      "\u001b[32m2025-05-26 17:26:13.019\u001b[0m | \u001b[1mINFO    \u001b[0m | \u001b[36mmodules.Index\u001b[0m:\u001b[36mget_all_file_path\u001b[0m:\u001b[36m80\u001b[0m - \u001b[1m已获取 3 份文件，忽略 0 份文件\u001b[0m\n",
      "\u001b[32m2025-05-26 17:26:13.762\u001b[0m | \u001b[1mINFO    \u001b[0m | \u001b[36mmodules.Index\u001b[0m:\u001b[36mfile_to_documents\u001b[0m:\u001b[36m98\u001b[0m - \u001b[1m../data\\4. Tool calling.pdf 完成加载\u001b[0m\n",
      "\u001b[32m2025-05-26 17:26:13.765\u001b[0m | \u001b[1mINFO    \u001b[0m | \u001b[36mmodules.Index\u001b[0m:\u001b[36mfile_to_documents\u001b[0m:\u001b[36m98\u001b[0m - \u001b[1m../data\\Cognition_Engineering_zh.pdf 完成加载\u001b[0m\n",
      "\u001b[32m2025-05-26 17:26:13.765\u001b[0m | \u001b[1mINFO    \u001b[0m | \u001b[36mmodules.Index\u001b[0m:\u001b[36mfile_to_documents\u001b[0m:\u001b[36m98\u001b[0m - \u001b[1m../data\\6. LCEL.pdf 完成加载\u001b[0m\n",
      "\u001b[32m2025-05-26 17:26:20.470\u001b[0m | \u001b[1mINFO    \u001b[0m | \u001b[36mmodules.Index\u001b[0m:\u001b[36madd_new_files\u001b[0m:\u001b[36m229\u001b[0m - \u001b[1m../data\\4. Tool calling.pdf 被划分为了 16 份 chunk，已存入 vs_test1\u001b[0m\n",
      "\u001b[32m2025-05-26 17:26:21.080\u001b[0m | \u001b[1mINFO    \u001b[0m | \u001b[36mmodules.Index\u001b[0m:\u001b[36madd_new_files\u001b[0m:\u001b[36m229\u001b[0m - \u001b[1m../data\\6. LCEL.pdf 被划分为了 9 份 chunk，已存入 vs_test1\u001b[0m\n",
      "\u001b[32m2025-05-26 17:26:35.504\u001b[0m | \u001b[1mINFO    \u001b[0m | \u001b[36mmodules.Index\u001b[0m:\u001b[36madd_new_files\u001b[0m:\u001b[36m229\u001b[0m - \u001b[1m../data\\Cognition_Engineering_zh.pdf 被划分为了 266 份 chunk，已存入 vs_test1\u001b[0m\n"
     ]
    }
   ],
   "source": [
    "# 完成创建过程\n",
    "vs_test1.get_index_done(\n",
    "    chunk_size=700,\n",
    "    chunk_overlap=50\n",
    ")"
   ]
  },
  {
   "cell_type": "code",
   "execution_count": 30,
   "id": "c697a797",
   "metadata": {},
   "outputs": [],
   "source": [
    "a = vs_test1.vector_store.search_by_metadata(\n",
    "    expr='start_index == 0',\n",
    "    fields=['text', 'pk', 'source']\n",
    ")"
   ]
  },
  {
   "cell_type": "code",
   "execution_count": 31,
   "id": "f2330ad6",
   "metadata": {},
   "outputs": [
    {
     "data": {
      "text/plain": [
       "[Document(metadata={'pk': '01683776-91f3-4874-8351-660d32ebe16c', 'source': '../data\\\\6. LCEL.pdf', 'text': '将  函数  强制转化为  RunnableSequence  \\nLCEL 会自动将  函数  转化为  RUnnableSequence\\n将  字典  强制转化为  RunnableParallel  \\nLCEL 会自动将  字典  转化为  RunnableParallel\\n什 么 时 候 应 当 使 用  LCEL  \\n建议仅在简单的编排任务中使用  LCEL 。当应用程序需要复杂的状态管理、分 \\n支、循环或多个代理时，我们建议用户利用  LangGraph。 \\n下面是一些准则： \\n如果您要进行单个  LLM 调用，则不需要  LCEL ；而是直接调用底层  聊天模 \\n型 。 \\n如果您有一个简单的链（例如，提示  + llm + 解析器、简单的检索设置 \\n等），那么如果您正在利用  LCEL 的优势，则  LCEL 是一个合理的选择。 \\n如果您正在构建一个复杂的链（例如，具有分支、循环、多个代理等），请 \\n改用  LangGraph。 请记住，您始终可以在  LangGraph 中的各个节点中使 \\n用  LCEL。 \\n\\xa0\\ndef some_func(x):\\n    return x\\nchain = some_func | runnable1\\n# 等价于\\nchain = RunnableLambda(some_func) | runnable1\\n1\\n2\\n3\\n4\\n5\\n6\\n7\\nmapping = {\\n    \"key1\": runnable1,\\n    \"key2\": runnable2,\\n}\\nchain = mapping | runnable3\\n# 等价于'}, page_content='将  函数  强制转化为  RunnableSequence  \\nLCEL 会自动将  函数  转化为  RUnnableSequence\\n将  字典  强制转化为  RunnableParallel  \\nLCEL 会自动将  字典  转化为  RunnableParallel\\n什 么 时 候 应 当 使 用  LCEL  \\n建议仅在简单的编排任务中使用  LCEL 。当应用程序需要复杂的状态管理、分 \\n支、循环或多个代理时，我们建议用户利用  LangGraph。 \\n下面是一些准则： \\n如果您要进行单个  LLM 调用，则不需要  LCEL ；而是直接调用底层  聊天模 \\n型 。 \\n如果您有一个简单的链（例如，提示  + llm + 解析器、简单的检索设置 \\n等），那么如果您正在利用  LCEL 的优势，则  LCEL 是一个合理的选择。 \\n如果您正在构建一个复杂的链（例如，具有分支、循环、多个代理等），请 \\n改用  LangGraph。 请记住，您始终可以在  LangGraph 中的各个节点中使 \\n用  LCEL。 \\n\\xa0\\ndef some_func(x):\\n    return x\\nchain = some_func | runnable1\\n# 等价于\\nchain = RunnableLambda(some_func) | runnable1\\n1\\n2\\n3\\n4\\n5\\n6\\n7\\nmapping = {\\n    \"key1\": runnable1,\\n    \"key2\": runnable2,\\n}\\nchain = mapping | runnable3\\n# 等价于'),\n",
       " Document(metadata={'pk': '058138b0-7c94-43b4-a1c6-27a70315a96a', 'source': '../data\\\\Cognition_Engineering_zh.pdf', 'text': '7.ಪᆩᇆି\\nঌ (Zhuge et al., 2024)ࢠ(Zhang et al.,\\n2025b)bՎຓđMCTS-Judge (Wang et al., 2025f)ൈฐ\\nሙಒྟb\\nKim et al.(2025)ྟିb\\nܙ\\nቔੀӱ (Jimenez et al., 2024; Xie et al., 2024a)ཟ\\nb\\nཟ\\n•ॖौྟb\\n•మ৯b\\n7ಪᆩᇆି\\n\\u0ee1ૌ\\n႕ཙb\\n7.1ӱ 2.0ӱ\\nӱေ\\u0c70၂ᇕ\\nӱЧദbᆃ၂ሇэբളਔ၂\\u0acaྍ࿐॓iiӱđ\\u0df1\\nູ\\n็ᅞğ\\nটჷ 1ğದোಪᆩ\\u0e67ഝ\\u0efe\\u09d8ൗ\\n౼ದোಪᆩğ\\n•Ӂ\\u0efebರᆽđѽሚਔಪ\\nष\\u0d53a\\n\\u0e6c\\u0be5b\\n•b߶\\nऎቔູս\\u09d8đ\\nҳb\\n• భခህြᆩ്ิ౼bྏ\\nႅྟᆩ്ิ\\u09ffູཁྟ\\nb\\nটჷ 2ğAIಪᆩđAIᇏ\\nğ\\n•ླྀ\\u0e5dቔႨbଆ\\u0f98ൈđAI ༢\\n۷ࠇ֩\\niiোරႿ AlphaGoֻ37ӈ\\nႵིb\\n•གྷb֥\\n\\u0e77\\u09d8Ҧ\\u0a7bb\\n44'}, page_content='7.ಪᆩᇆି\\nঌ (Zhuge et al., 2024)ࢠ(Zhang et al.,\\n2025b)bՎຓđMCTS-Judge (Wang et al., 2025f)ൈฐ\\nሙಒྟb\\nKim et al.(2025)ྟିb\\nܙ\\nቔੀӱ (Jimenez et al., 2024; Xie et al., 2024a)ཟ\\nb\\nཟ\\n•ॖौྟb\\n•మ৯b\\n7ಪᆩᇆି\\n\\u0ee1ૌ\\n႕ཙb\\n7.1ӱ 2.0ӱ\\nӱေ\\u0c70၂ᇕ\\nӱЧദbᆃ၂ሇэբളਔ၂\\u0acaྍ࿐॓iiӱđ\\u0df1\\nູ\\n็ᅞğ\\nটჷ 1ğದোಪᆩ\\u0e67ഝ\\u0efe\\u09d8ൗ\\n౼ದোಪᆩğ\\n•Ӂ\\u0efebರᆽđѽሚਔಪ\\nष\\u0d53a\\n\\u0e6c\\u0be5b\\n•b߶\\nऎቔູս\\u09d8đ\\nҳb\\n• భခህြᆩ്ิ౼bྏ\\nႅྟᆩ്ิ\\u09ffູཁྟ\\nb\\nটჷ 2ğAIಪᆩđAIᇏ\\nğ\\n•ླྀ\\u0e5dቔႨbଆ\\u0f98ൈđAI ༢\\n۷ࠇ֩\\niiোරႿ AlphaGoֻ37ӈ\\nႵིb\\n•གྷb֥\\n\\u0e77\\u09d8Ҧ\\u0a7bb\\n44'),\n",
       " Document(metadata={'pk': '06eef07c-219e-4072-9a51-74112372c0a2', 'source': '../data\\\\4. Tool calling.pdf', 'text': 'Tool calling  \\nA type of chat model API that accepts tool schemas, along with messages, as \\ninput and returns invocations of those tools as part of the output message.\\n❗  PREREQUISITES\\nTools\\nChat Models\\nOverview  \\n许多人工智能应用直接与人类互动。在这些情况下，模型以自然语言做出回应 \\n是合适的。 \\n但是如果我们希望模型能够  直接  与系统（例如数据库或  API ）交互，该怎么办 \\n呢？这些系统通常具有特定的输入模式；例如， APIs frequently have a \\nrequired payload structure。 \\n这种需求催生了  tool calling 的概念。您可以使用  tool calling 来请求与特定模式 \\n匹配的模型响应（ You can use tool calling to request model responses that \\nmatch a particular schema ）。 \\n❗  INFO\\nfunction calling 在  LangChian 中等价于  tool calling\\n\\xa0\\n💡'}, page_content='Tool calling  \\nA type of chat model API that accepts tool schemas, along with messages, as \\ninput and returns invocations of those tools as part of the output message.\\n❗  PREREQUISITES\\nTools\\nChat Models\\nOverview  \\n许多人工智能应用直接与人类互动。在这些情况下，模型以自然语言做出回应 \\n是合适的。 \\n但是如果我们希望模型能够  直接  与系统（例如数据库或  API ）交互，该怎么办 \\n呢？这些系统通常具有特定的输入模式；例如， APIs frequently have a \\nrequired payload structure。 \\n这种需求催生了  tool calling 的概念。您可以使用  tool calling 来请求与特定模式 \\n匹配的模型响应（ You can use tool calling to request model responses that \\nmatch a particular schema ）。 \\n❗  INFO\\nfunction calling 在  LangChian 中等价于  tool calling\\n\\xa0\\n💡'),\n",
       " Document(metadata={'pk': '09b18a2e-9a9a-4f97-8765-87bcee7f9a1a', 'source': '../data\\\\Cognition_Engineering_zh.pdf', 'text': 'References\\n[425] Yu Zhao, Huifeng Yin, Bo Zeng, Hao Wang, Tianqi Shi, Chenyang Lyu, Longyue Wang, Weihua\\nLuo, and Kaifu Zhang. 2024.Marco-o1: Towards open reasoning models for open-ended solutions.\\n[426] Lianmin Zheng, Wei-Lin Chiang, Ying Sheng, Siyuan Zhuang, Zhanghao Wu, Yonghao Zhuang,\\nZi Lin, Zhuohan Li, Dacheng Li, Eric P. Xing, Hao Zhang, Joseph E. Gonzalez, and Ion Stoica.\\n2023a. Judging llm-as-a-judge with mt-bench and chatbot arena. In Advances in Neural Informa-\\ntion Processing Systems 36: Annual Conference on Neural Information Processing Systems 2023,\\nNeurIPS 2023, New Orleans, LA, USA, December 10 - 16, 2023 .'}, page_content='References\\n[425] Yu Zhao, Huifeng Yin, Bo Zeng, Hao Wang, Tianqi Shi, Chenyang Lyu, Longyue Wang, Weihua\\nLuo, and Kaifu Zhang. 2024.Marco-o1: Towards open reasoning models for open-ended solutions.\\n[426] Lianmin Zheng, Wei-Lin Chiang, Ying Sheng, Siyuan Zhuang, Zhanghao Wu, Yonghao Zhuang,\\nZi Lin, Zhuohan Li, Dacheng Li, Eric P. Xing, Hao Zhang, Joseph E. Gonzalez, and Ion Stoica.\\n2023a. Judging llm-as-a-judge with mt-bench and chatbot arena. In Advances in Neural Informa-\\ntion Processing Systems 36: Annual Conference on Neural Information Processing Systems 2023,\\nNeurIPS 2023, New Orleans, LA, USA, December 10 - 16, 2023 .'),\n",
       " Document(metadata={'pk': '0dc061ef-e2c0-401d-b88e-77f44645e3b3', 'source': '../data\\\\Cognition_Engineering_zh.pdf', 'text': '6.2 ս\\u0a92\\nཟ\\n•ॖဒᆣྟ\\n\\u0fde\\u0a00ඔऌb\\n•ࠩۚ۷࣮֩\\nି৯b\\n6.2 ս\\u0a92\\nҩ൫ൈঔᅚ ѩྛҐဢ ඎෆ෬\\u0a7dྩᆞ Ӊනົ৽ (නົ৽)\\n\\u0fde\\u0a00Ҧ\\u0a7bט߄࿐༝\\u0e77\\u09d8\\nAlphaCode\\n[176]\\n2022/02\\nMBR\\nEXEC\\n[292]\\n2022/04\\nCodeT\\n[24]\\n2022/07\\nPG-TD\\n[415]\\n2023/03\\nReflexion\\n[293]\\n2023/03\\nSelf\\nDebug\\n[37]\\n2023/04\\nCRITIC\\n[89]\\n2023/05\\nSelf\\nRepair\\n[241]\\n2023/07\\nSTOP\\n[403]\\n2023/10\\nAlphaCode2\\n[311]\\n2023/12\\nCRUXEval\\n[91]\\n2024/01\\nQ∗\\n[329]\\n2024/06\\nIHR\\n[265]\\n2024/04\\nOpenAI o1\\n[243]\\n2024/09\\nPLAN\\nSEARCH\\n[330]\\n2024/09\\nRethink\\nMCTS\\n[170]\\n2024/09\\nSRA\\nMCTS\\n[368]\\n2024/11\\nQwQ\\nPreview\\n[315]\\n2024/11\\no1-Coder\\n[419]\\n2024/11\\nSWE-Gym\\n[249]\\n2024/11\\nDeepSeek-R1\\n[60]\\n2025/01\\nKimi k1.5\\n[153]\\n2025/01\\nS1\\n[231]\\n2025/01\\nS∗\\n[165]\\n2025/02\\nSWE-RL\\n[348]\\n2025/02\\nQwQ\\n[316]\\n2025/03\\nToRL\\n[173]\\n2025/03\\nSWE\\nReasoner\\n[216]\\n2025/03'}, page_content='6.2 ս\\u0a92\\nཟ\\n•ॖဒᆣྟ\\n\\u0fde\\u0a00ඔऌb\\n•ࠩۚ۷࣮֩\\nି৯b\\n6.2 ս\\u0a92\\nҩ൫ൈঔᅚ ѩྛҐဢ ඎෆ෬\\u0a7dྩᆞ Ӊනົ৽ (නົ৽)\\n\\u0fde\\u0a00Ҧ\\u0a7bט߄࿐༝\\u0e77\\u09d8\\nAlphaCode\\n[176]\\n2022/02\\nMBR\\nEXEC\\n[292]\\n2022/04\\nCodeT\\n[24]\\n2022/07\\nPG-TD\\n[415]\\n2023/03\\nReflexion\\n[293]\\n2023/03\\nSelf\\nDebug\\n[37]\\n2023/04\\nCRITIC\\n[89]\\n2023/05\\nSelf\\nRepair\\n[241]\\n2023/07\\nSTOP\\n[403]\\n2023/10\\nAlphaCode2\\n[311]\\n2023/12\\nCRUXEval\\n[91]\\n2024/01\\nQ∗\\n[329]\\n2024/06\\nIHR\\n[265]\\n2024/04\\nOpenAI o1\\n[243]\\n2024/09\\nPLAN\\nSEARCH\\n[330]\\n2024/09\\nRethink\\nMCTS\\n[170]\\n2024/09\\nSRA\\nMCTS\\n[368]\\n2024/11\\nQwQ\\nPreview\\n[315]\\n2024/11\\no1-Coder\\n[419]\\n2024/11\\nSWE-Gym\\n[249]\\n2024/11\\nDeepSeek-R1\\n[60]\\n2025/01\\nKimi k1.5\\n[153]\\n2025/01\\nS1\\n[231]\\n2025/01\\nS∗\\n[165]\\n2025/02\\nSWE-RL\\n[348]\\n2025/02\\nQwQ\\n[316]\\n2025/03\\nToRL\\n[173]\\n2025/03\\nSWE\\nReasoner\\n[216]\\n2025/03'),\n",
       " Document(metadata={'pk': '12ab9f0f-2ed1-429f-8cc6-14f57caeb6e1', 'source': '../data\\\\Cognition_Engineering_zh.pdf', 'text': '6.6ఊ\\nනି৯ (DeepSeek-AI et al., 2025)bఃՑđགྷႵॿ\\nଽ\\nb\\nཟ\\n•ଆ\\u0f98ᇏđ\\u0d50ᇆିุᄝა\\nఃଆ\\u0f98ྛູb\\n•֥ࢫߌ֩\\nངb\\n6.6ఊ\\nҩ൫ൈঔᅚ ѩྛҐဢ ඎෆ෬\\u0a7dྩᆞ Ӊනົ৽ (නົ৽)\\n\\u0fde\\u0a00Ҧ\\u0a7bט߄࿐༝\\u0e77\\u09d8\\nSelfCheckGPT\\n[219]\\n2023/03\\nImprove\\nFactuality\\n[69]\\n2023/05\\nC-MCTS\\n[254]\\n2023/05\\nChain-of-\\nVerification\\n[63]\\n2023/09\\nDebateGPT\\n[304]\\n2023/09\\nPPO-MCTS\\n[186]\\n2023/09\\nMART\\n[87]\\n2023/11\\nCombat\\nAdversarial\\n[45]\\n2024/01\\nARGS\\n[150]\\n2024/02\\nMoTE\\n[198]\\n2024/05\\nMulti-expert\\nPrompting\\n[203]\\n2024/11\\nDeliberate\\nAlignment\\n[94]\\n2024/12\\nHaluSearch\\n[42]\\n2025/01\\nInference\\nGuard\\n[133]\\n2025/02\\nSTAIR\\n[418]\\n2025/02\\nSRG\\n[332]\\n2025/02\\nSafeChain\\n[135]\\n2025/02\\n\\u0e6d 17:ཌb\\n֤AIؓAI ν\\nಆऎႵᇗေၩၬ (Bengio, 2023; Park et al., 2024)थ\\n֥AIପུದ\\n׳( OpenAI, 2024)૫đᆃো༢\\na\\u0b34ၛ॥\\nݔު( Hendrycks et al., 2023)ฐษᄝնე\\u0ffdଆ\\u0f98ᇏđҩ൫ൈනົঔ'}, page_content='6.6ఊ\\nනି৯ (DeepSeek-AI et al., 2025)bఃՑđགྷႵॿ\\nଽ\\nb\\nཟ\\n•ଆ\\u0f98ᇏđ\\u0d50ᇆିุᄝა\\nఃଆ\\u0f98ྛູb\\n•֥ࢫߌ֩\\nངb\\n6.6ఊ\\nҩ൫ൈঔᅚ ѩྛҐဢ ඎෆ෬\\u0a7dྩᆞ Ӊනົ৽ (නົ৽)\\n\\u0fde\\u0a00Ҧ\\u0a7bט߄࿐༝\\u0e77\\u09d8\\nSelfCheckGPT\\n[219]\\n2023/03\\nImprove\\nFactuality\\n[69]\\n2023/05\\nC-MCTS\\n[254]\\n2023/05\\nChain-of-\\nVerification\\n[63]\\n2023/09\\nDebateGPT\\n[304]\\n2023/09\\nPPO-MCTS\\n[186]\\n2023/09\\nMART\\n[87]\\n2023/11\\nCombat\\nAdversarial\\n[45]\\n2024/01\\nARGS\\n[150]\\n2024/02\\nMoTE\\n[198]\\n2024/05\\nMulti-expert\\nPrompting\\n[203]\\n2024/11\\nDeliberate\\nAlignment\\n[94]\\n2024/12\\nHaluSearch\\n[42]\\n2025/01\\nInference\\nGuard\\n[133]\\n2025/02\\nSTAIR\\n[418]\\n2025/02\\nSRG\\n[332]\\n2025/02\\nSafeChain\\n[135]\\n2025/02\\n\\u0e6d 17:ཌb\\n֤AIؓAI ν\\nಆऎႵᇗေၩၬ (Bengio, 2023; Park et al., 2024)थ\\n֥AIପུದ\\n׳( OpenAI, 2024)૫đᆃো༢\\na\\u0b34ၛ॥\\nݔު( Hendrycks et al., 2023)ฐษᄝնე\\u0ffdଆ\\u0f98ᇏđҩ൫ൈනົঔ'),\n",
       " Document(metadata={'pk': '141c411b-fb49-494b-81a1-0078a7ab9c22', 'source': '../data\\\\Cognition_Engineering_zh.pdf', 'text': '4.1 ѩྛҐဢ\\nঔᅚིੱ\\nѩྛ\\nҐဢ (§4.1.3)\\nᆩҐဢ DSC [338]; Chen et al. [30]\\nิభ๔ᆸҦ\\u0a7b\\nAdaptive-Consistency [2]; ESC [174];\\nSpeculative Rejection [306];\\nRASC [326]; Self-Calibration [122]\\nҐဢඔਈაଆ\\u0f98\\nޙBrown et al. [20]; Wu et al. [354]\\n؇֥ࣚLightman et al. [181]; Sun et al. [307];\\nMAV [180]; SC-GenRM [296]\\nטBoN-Aware [48]\\nඎ\\nෆ෬ (§4.2.3)\\nඎ\\nمPG-TD [415]; ToolChain∗ [435]\\nඔषཧ AlphaLLM [318]; rStar-Math [96]\\n؇LiteSearch [327]; REBASE [354]\\nׄࢫFETCH [328]; ETS [113]\\n\\u0a7d\\nྩᆞ (§4.3.3)\\nঌ\\nChiang and Lee [47]; G-Eval [193];\\nBSM [277]; Varshney et al. [323];\\nIoE [169]; Self-Correction [350];\\nREFINER [255]; AutoMathCritique [356]\\nྩି৯ RISE [267]; SCoRe [156]\\nӉනົ৽ (§4.4.3)\\nิൕ CCoT [233]; CoD [371]; BreakChain [64]; SoT [12]\\nט'}, page_content='4.1 ѩྛҐဢ\\nঔᅚིੱ\\nѩྛ\\nҐဢ (§4.1.3)\\nᆩҐဢ DSC [338]; Chen et al. [30]\\nิభ๔ᆸҦ\\u0a7b\\nAdaptive-Consistency [2]; ESC [174];\\nSpeculative Rejection [306];\\nRASC [326]; Self-Calibration [122]\\nҐဢඔਈაଆ\\u0f98\\nޙBrown et al. [20]; Wu et al. [354]\\n؇֥ࣚLightman et al. [181]; Sun et al. [307];\\nMAV [180]; SC-GenRM [296]\\nטBoN-Aware [48]\\nඎ\\nෆ෬ (§4.2.3)\\nඎ\\nمPG-TD [415]; ToolChain∗ [435]\\nඔषཧ AlphaLLM [318]; rStar-Math [96]\\n؇LiteSearch [327]; REBASE [354]\\nׄࢫFETCH [328]; ETS [113]\\n\\u0a7d\\nྩᆞ (§4.3.3)\\nঌ\\nChiang and Lee [47]; G-Eval [193];\\nBSM [277]; Varshney et al. [323];\\nIoE [169]; Self-Correction [350];\\nREFINER [255]; AutoMathCritique [356]\\nྩି৯ RISE [267]; SCoRe [156]\\nӉනົ৽ (§4.4.3)\\nิൕ CCoT [233]; CoD [371]; BreakChain [64]; SoT [12]\\nט'),\n",
       " Document(metadata={'pk': '163210fb-b27f-4d54-8dcc-45c80253e849', 'source': '../data\\\\4. Tool calling.pdf', 'text': \"Key concepts  \\n1. Tool Creation：  Use the @tool decorator to create a tool. A tool is an \\nassociation between a function and its schema\\n2. Tool Binding： The tool needs to be connected to a model that supports \\ntool calling. This gives the model awareness of the tool and the \\nassociated input schema required by the tool （该工具需要连接到支持工 \\n具调用的模型。这使模型能够感知该工具以及该工具所需的相关输入模式） \\n3. Tool Calling： When appropriate, the model can decide to call a tool and \\nensure its response conforms to the tool's input schema （在适当的情况 \\n下，模型可以决定调用一个工具并确保其响应符合该工具的输入模式） \\n4. Tool Execution： The tool can be executed using the arguments \\nprovided by the model\\nRecommended usage  \\n下面的伪代码说明了使用工具调用的推荐工作流程。创建的工具作为列表传递\"}, page_content=\"Key concepts  \\n1. Tool Creation：  Use the @tool decorator to create a tool. A tool is an \\nassociation between a function and its schema\\n2. Tool Binding： The tool needs to be connected to a model that supports \\ntool calling. This gives the model awareness of the tool and the \\nassociated input schema required by the tool （该工具需要连接到支持工 \\n具调用的模型。这使模型能够感知该工具以及该工具所需的相关输入模式） \\n3. Tool Calling： When appropriate, the model can decide to call a tool and \\nensure its response conforms to the tool's input schema （在适当的情况 \\n下，模型可以决定调用一个工具并确保其响应符合该工具的输入模式） \\n4. Tool Execution： The tool can be executed using the arguments \\nprovided by the model\\nRecommended usage  \\n下面的伪代码说明了使用工具调用的推荐工作流程。创建的工具作为列表传递\"),\n",
       " Document(metadata={'pk': '1744667b-904a-46a6-81c6-5481f8a0b1cc', 'source': '../data\\\\Cognition_Engineering_zh.pdf', 'text': '8.2 \\u0aceหवઌඎෆ෬\\n֥RL\\u0e77\\u09d8ႄౣ\\nট Rolloutđбೂ vLLM (Kwon et al., 2023)ބSGLang (Zheng et al., 2023b).\\n•ྍ:ᆴଆ\\u0f98 (Critic\\nModel/Value Model)đҕॉଆ\\u0f98 (Reference Model)ඔb\\nෘ၂ུ KLБ (Return), Ⴊ൝ (Advantage)đᆃུᆴ\\n\\u0de5ാ (Loss)๙ӈ൞\\nDeepSpeed (Rasley et al., 2020)ބFSDP (Zhao et al., 2023c)b\\n֥RLЇও DeepSpeed-Chat, NeMo-Aligner (Shen et al., 2024), Open-\\nRLHF (Hu et al., 2024a)ބveRL (Sheng et al., 2024). ఃᇏ, OpenRLHFބveRLؓ\\n֥RLো\\nҦ\\u0a7bbбೂ OpenRLHFᅝః\\nሧჷቆbveRLః\\u0df0ᆞ\\nଆॶb\\n࿐༝\\u0fde\\u0a00ಯಖ૫ਢᇗն็ᅞbб\\nೂđYeo et al.(2025) ᄝӇ൫\\u0fde\\u0a00 32B֥GPUᆀᄝ\\u0fde\\u0a00\\nགྷ GPU໙ีđᆃ၂གྷའᄝӉ৽ൔනົ (Long CoT)ᇏႭູ\\u0e6cԛđၹ\\nࡏ\\n௧్ླ\\u0c70b\\n8.2 \\u0aceหवઌඎෆ෬\\nႿ MCTSս\\u0a92đູᄝնე\\u0ffdଆ\\u0f98ᇏႋ\\nႨ MCTSԤ (Hao et al., 2024a, 2023; Chen et al., 2024a; Feng et al., 2023)bෙಖᆃུ\\nଆMCTS\\n\\u0dceҦ\\u0a7bೂ༯b\\n\\u0a92ଆ\\u0f98ඨ\\u0fbdളӮ tokenଢѓଆ\\u0f98ဒᆣᆃུtokenࡆ'}, page_content='8.2 \\u0aceหवઌඎෆ෬\\n֥RL\\u0e77\\u09d8ႄౣ\\nট Rolloutđбೂ vLLM (Kwon et al., 2023)ބSGLang (Zheng et al., 2023b).\\n•ྍ:ᆴଆ\\u0f98 (Critic\\nModel/Value Model)đҕॉଆ\\u0f98 (Reference Model)ඔb\\nෘ၂ུ KLБ (Return), Ⴊ൝ (Advantage)đᆃུᆴ\\n\\u0de5ാ (Loss)๙ӈ൞\\nDeepSpeed (Rasley et al., 2020)ބFSDP (Zhao et al., 2023c)b\\n֥RLЇও DeepSpeed-Chat, NeMo-Aligner (Shen et al., 2024), Open-\\nRLHF (Hu et al., 2024a)ބveRL (Sheng et al., 2024). ఃᇏ, OpenRLHFބveRLؓ\\n֥RLো\\nҦ\\u0a7bbбೂ OpenRLHFᅝః\\nሧჷቆbveRLః\\u0df0ᆞ\\nଆॶb\\n࿐༝\\u0fde\\u0a00ಯಖ૫ਢᇗն็ᅞbб\\nೂđYeo et al.(2025) ᄝӇ൫\\u0fde\\u0a00 32B֥GPUᆀᄝ\\u0fde\\u0a00\\nགྷ GPU໙ีđᆃ၂གྷའᄝӉ৽ൔනົ (Long CoT)ᇏႭູ\\u0e6cԛđၹ\\nࡏ\\n௧్ླ\\u0c70b\\n8.2 \\u0aceหवઌඎෆ෬\\nႿ MCTSս\\u0a92đູᄝնე\\u0ffdଆ\\u0f98ᇏႋ\\nႨ MCTSԤ (Hao et al., 2024a, 2023; Chen et al., 2024a; Feng et al., 2023)bෙಖᆃུ\\nଆMCTS\\n\\u0dceҦ\\u0a7bೂ༯b\\n\\u0a92ଆ\\u0f98ඨ\\u0fbdളӮ tokenଢѓଆ\\u0f98ဒᆣᆃུtokenࡆ'),\n",
       " Document(metadata={'pk': '1c8e7fb6-6aef-4d25-a9e8-fb9e6eb4cce3', 'source': '../data\\\\Cognition_Engineering_zh.pdf', 'text': '9.ӱ\\n2025)ৣ KVҕඔၛ\\nဢྟb\\nѩྛԩ\\u09d8\\u0d50ѩ\\nᄖb Ding et al.(2025)ؿ\\nऌൌൈ GPUሧ\\nჷ০Ⴈb\\n9ӱ\\nӱb\\n9.1ቔ\\nക\\nb\\nßࢳRLࡏӱ\\u0d50Ⴈ veRLم\\nൔೂ༯:\\nË trainer/֩\\nË utils/ऎ\\nË workers/ᇕ workers֩ࡏ\\nŞ protocal.pyၬਔ veRL ᇏႨႿᄝ҂\\u0e5d workerb\\nßԤଆ\\u0f98\\u0d50ႨQwen2.5-1.5B,\\nQwen2.5-3BބQwen2.5-7B.֥Base٤طSFT ϱЧđၹູ Base\\n\\u0df0ૌ\\nᄝ RLีҦ\\u0a7bb\\nßࠢݣNuminaMath, DeepScaleR\\nބMATHଆ\\u0f98ປಆ\\u0eed\\nᄹӉb\\nßم֞GRPOӱᇏᇶေ\\u0d50Ⴈ GRPOb\\n9.2\\u05eeRL \\u0fde\\u0a00\\n\\u05eeQwen2.5-1.5B֥RL \\u0fde\\u0a00b\\n1 git clone git@github.com:GAIR-NLP/simple_tts.git simple_tts\\n2 cd simple_tts\\n3 # Create the conda environment\\n4 conda create -n verl python==3.10\\n5 conda activate verl\\n6 pip install -r requirements.txt\\n7 pip3 install vllm==0.7.3\\n8 pip3 install flash-attn --no-build-isolation\\n9 # launch training\\n10 bash examples/simple_tts.sh\\n48'}, page_content='9.ӱ\\n2025)ৣ KVҕඔၛ\\nဢྟb\\nѩྛԩ\\u09d8\\u0d50ѩ\\nᄖb Ding et al.(2025)ؿ\\nऌൌൈ GPUሧ\\nჷ০Ⴈb\\n9ӱ\\nӱb\\n9.1ቔ\\nക\\nb\\nßࢳRLࡏӱ\\u0d50Ⴈ veRLم\\nൔೂ༯:\\nË trainer/֩\\nË utils/ऎ\\nË workers/ᇕ workers֩ࡏ\\nŞ protocal.pyၬਔ veRL ᇏႨႿᄝ҂\\u0e5d workerb\\nßԤଆ\\u0f98\\u0d50ႨQwen2.5-1.5B,\\nQwen2.5-3BބQwen2.5-7B.֥Base٤طSFT ϱЧđၹູ Base\\n\\u0df0ૌ\\nᄝ RLีҦ\\u0a7bb\\nßࠢݣNuminaMath, DeepScaleR\\nބMATHଆ\\u0f98ປಆ\\u0eed\\nᄹӉb\\nßم֞GRPOӱᇏᇶေ\\u0d50Ⴈ GRPOb\\n9.2\\u05eeRL \\u0fde\\u0a00\\n\\u05eeQwen2.5-1.5B֥RL \\u0fde\\u0a00b\\n1 git clone git@github.com:GAIR-NLP/simple_tts.git simple_tts\\n2 cd simple_tts\\n3 # Create the conda environment\\n4 conda create -n verl python==3.10\\n5 conda activate verl\\n6 pip install -r requirements.txt\\n7 pip3 install vllm==0.7.3\\n8 pip3 install flash-attn --no-build-isolation\\n9 # launch training\\n10 bash examples/simple_tts.sh\\n48')]"
      ]
     },
     "execution_count": 31,
     "metadata": {},
     "output_type": "execute_result"
    }
   ],
   "source": [
    "a"
   ]
  },
  {
   "cell_type": "code",
   "execution_count": null,
   "id": "4053f749",
   "metadata": {},
   "outputs": [],
   "source": []
  }
 ],
 "metadata": {
  "kernelspec": {
   "display_name": "llm",
   "language": "python",
   "name": "python3"
  },
  "language_info": {
   "codemirror_mode": {
    "name": "ipython",
    "version": 3
   },
   "file_extension": ".py",
   "mimetype": "text/x-python",
   "name": "python",
   "nbconvert_exporter": "python",
   "pygments_lexer": "ipython3",
   "version": "3.12.8"
  }
 },
 "nbformat": 4,
 "nbformat_minor": 5
}
